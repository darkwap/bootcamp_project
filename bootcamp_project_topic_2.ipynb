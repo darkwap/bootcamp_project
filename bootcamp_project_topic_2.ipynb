{
 "cells": [
  {
   "cell_type": "markdown",
   "metadata": {},
   "source": [
    "#### 1. neccessary imports"
   ]
  },
  {
   "cell_type": "code",
   "execution_count": 1,
   "metadata": {},
   "outputs": [],
   "source": [
    "#basic import\n",
    "import numpy as np\n",
    "import pandas as pd\n",
    "import seaborn as sns\n",
    "from sklearn.linear_model import LogisticRegression\n",
    "from sklearn.tree import DecisionTreeClassifier\n",
    "from sklearn.ensemble import RandomForestClassifier\n",
    "from sklearn.pipeline import Pipeline\n",
    "from sklearn.model_selection import GridSearchCV\n",
    "from sklearn.preprocessing import StandardScaler\n",
    "from sklearn.decomposition import PCA\n",
    "from sklearn.metrics import roc_curve\n",
    "from sklearn.preprocessing import scale\n",
    "from sklearn.metrics import confusion_matrix\n",
    "from sklearn.model_selection import cross_val_predict\n",
    "from sklearn.model_selection import StratifiedKFold\n",
    "from sklearn.model_selection import cross_val_predict\n",
    "from sklearn.metrics import accuracy_score\n",
    "from sklearn.metrics import roc_auc_score\n",
    "from sklearn.metrics import precision_score\n",
    "from sklearn.metrics import recall_score\n",
    "from sklearn.metrics import f1_score\n",
    "import matplotlib.pyplot as plt\n",
    "%matplotlib inline"
   ]
  },
  {
   "cell_type": "markdown",
   "metadata": {},
   "source": [
    "#### 2. functions definitions"
   ]
  },
  {
   "cell_type": "code",
   "execution_count": 2,
   "metadata": {},
   "outputs": [],
   "source": [
    "#auxilary function for printing stats of data\n",
    "def print_stats(data):\n",
    "    numerical_columns = []\n",
    "    categorical_columns = []\n",
    "    for column in data:\n",
    "        x_total = data[column].shape[0]\n",
    "        x_missing = data[column].isnull().sum()\n",
    "        missing_percentage = 100*(x_missing/x_total)\n",
    "        if data.dtypes[column] == np.int64 or data.dtypes[column]==np.float64:\n",
    "            #print(f\"{column}\\t{missing_percentage:.2f}\\t{data[column].mean():.2f}\\t{data[column].median():.2f}\")\n",
    "            numerical_columns.append([column,missing_percentage,data[column].mean(),data[column].median(),data[column].skew()])\n",
    "        elif data.dtypes[column] == np.object:\n",
    "            #print(f\"{column}\\t{missing_percentage:.2f}\\t{data[column].mode()[0]}\")\n",
    "            categorical_columns.append([column,missing_percentage,data[column].mode()[0]])\n",
    "    print(pd.DataFrame(numerical_columns,columns=['NAME','PERCENTAGE_MISSING','MEAN','MEDIAN','SKEW']))\n",
    "    print(pd.DataFrame(categorical_columns,columns=['NAME','PERCENTAGE_MISSING','MODE']))\n",
    "    \n",
    "    \n",
    "#prints missing values in data\n",
    "def calc_missing_values(column):\n",
    "    x_total = column.shape[0]\n",
    "    x_missing = column.isnull().sum()\n",
    "    print('missing percentage: '+str((x_missing/x_total)*100))\n",
    "    \n",
    "    \n",
    "#Calculate AGE from datetime column 'DOB'\n",
    "def create_age_from_dob(data):\n",
    "    # All data is from 2015 so we took 'current date' 2015-12-30\n",
    "    data['AGE'] = data['DOB'].apply(lambda xval: int((pd.to_datetime('2015-12-30 00:00:00') - xval)/np.timedelta64(1, 'Y')))\n",
    "    #some DOB in data are from future so we need to fill those negative values with mean of column\n",
    "    data.loc[ X['AGE'] <= 0, 'AGE' ] = data.loc[X['AGE'] > 0 ]['AGE'].mean()\n",
    "    \n",
    "    \n",
    "#plot ROC_AUC curve\n",
    "def plot_roc_curve(fpr, tpr, label=None):\n",
    "    plt.plot(fpr, tpr, linewidth=2, label=label)\n",
    "    plt.plot([0, 1], [0, 1], 'k--')\n",
    "    plt.axis([-0.1, 1.1, 0.0, 1.1])\n",
    "    plt.xlabel('False Positive Rate', fontsize=16)\n",
    "    plt.ylabel('True Positive Rate', fontsize=16)\n",
    "    plt.hlines(1,-0.1,1.1,colors='r', linestyles='dashed')\n",
    "    plt.vlines(0,0.0,1.1,colors='r', linestyles='dashed')\n",
    "\n",
    "#plot feature importance for tree based model\n",
    "def plot_feature_importances(model, data,label):\n",
    "    n_features = data.shape[1]\n",
    "    plt.barh(range(n_features), model.feature_importances_, align='center')\n",
    "    plt.yticks(np.arange(n_features), X.columns)\n",
    "    plt.xlabel('Feature importance '+label)\n",
    "    plt.ylabel('Feature')\n",
    "    plt.ylim(-1, n_features)\n"
   ]
  },
  {
   "cell_type": "markdown",
   "metadata": {},
   "source": [
    "#### 3. load data"
   ]
  },
  {
   "cell_type": "code",
   "execution_count": 3,
   "metadata": {},
   "outputs": [],
   "source": [
    "#load data\n",
    "data = pd.read_csv('data/Train.csv',encoding='latin1',parse_dates=['DOB','Lead_Creation_Date'])"
   ]
  },
  {
   "cell_type": "code",
   "execution_count": 4,
   "metadata": {},
   "outputs": [],
   "source": [
    "#remove variable 'LoggedIn'\n",
    "data.drop(['LoggedIn'],axis=1,inplace=True)"
   ]
  },
  {
   "cell_type": "code",
   "execution_count": 5,
   "metadata": {},
   "outputs": [],
   "source": [
    "#remove column client 'ID' because it is only an identifier\n",
    "data.drop(['ID'],axis=1,inplace=True)"
   ]
  },
  {
   "cell_type": "code",
   "execution_count": 6,
   "metadata": {},
   "outputs": [],
   "source": [
    "#target variable\n",
    "y = data['Disbursed']\n",
    "# data variable\n",
    "X = data.drop(['Disbursed'],axis=1)"
   ]
  },
  {
   "cell_type": "markdown",
   "metadata": {},
   "source": [
    "#### 4. Features analysis"
   ]
  },
  {
   "cell_type": "markdown",
   "metadata": {},
   "source": [
    "#### let's take a look at some stats for all variables"
   ]
  },
  {
   "cell_type": "code",
   "execution_count": 7,
   "metadata": {},
   "outputs": [
    {
     "name": "stdout",
     "output_type": "stream",
     "text": [
      "                     NAME  PERCENTAGE_MISSING           MEAN     MEDIAN        SKEW\n",
      "0          Monthly_Income            0.000000   58849.974351   25000.00  167.560526\n",
      "1     Loan_Amount_Applied            0.081590  230250.699928  100000.00    5.641871\n",
      "2     Loan_Tenure_Applied            0.081590       2.131399       2.00    0.264624\n",
      "3            Existing_EMI            0.081590    3696.227824       0.00  211.769351\n",
      "4                    Var5            0.000000       4.961503       2.00    0.760606\n",
      "5   Loan_Amount_Submitted           39.775914  395010.590188  300000.00    2.104984\n",
      "6   Loan_Tenure_Submitted           39.775914       3.891369       4.00   -0.843323\n",
      "7           Interest_Rate           68.138359      19.197474      18.00    1.430301\n",
      "8          Processing_Fee           68.490002    5131.150839    4000.00    2.680109\n",
      "9      EMI_Loan_Submitted           68.138359   10999.528377    9392.97    2.754955\n",
      "10                   Var4            0.000000       2.949805       3.00    0.221128\n",
      "              NAME  PERCENTAGE_MISSING         MODE\n",
      "0           Gender            0.000000         Male\n",
      "1             City            1.152609        Delhi\n",
      "2    Employer_Name            0.081590            0\n",
      "3   Salary_Account           13.518731    HDFC Bank\n",
      "4  Mobile_Verified            0.000000            Y\n",
      "5             Var1            0.000000         HBXX\n",
      "6      Filled_Form            0.000000            N\n",
      "7      Device_Type            0.000000  Web-browser\n",
      "8             Var2            0.000000            B\n",
      "9           Source            0.000000         S122\n"
     ]
    }
   ],
   "source": [
    "pd.set_option('expand_frame_repr', False)\n",
    "print_stats(X)"
   ]
  },
  {
   "cell_type": "markdown",
   "metadata": {},
   "source": [
    "#### print out all data types"
   ]
  },
  {
   "cell_type": "code",
   "execution_count": 8,
   "metadata": {},
   "outputs": [
    {
     "data": {
      "text/plain": [
       "Gender                           object\n",
       "City                             object\n",
       "Monthly_Income                    int64\n",
       "DOB                      datetime64[ns]\n",
       "Lead_Creation_Date       datetime64[ns]\n",
       "Loan_Amount_Applied             float64\n",
       "Loan_Tenure_Applied             float64\n",
       "Existing_EMI                    float64\n",
       "Employer_Name                    object\n",
       "Salary_Account                   object\n",
       "Mobile_Verified                  object\n",
       "Var5                              int64\n",
       "Var1                             object\n",
       "Loan_Amount_Submitted           float64\n",
       "Loan_Tenure_Submitted           float64\n",
       "Interest_Rate                   float64\n",
       "Processing_Fee                  float64\n",
       "EMI_Loan_Submitted              float64\n",
       "Filled_Form                      object\n",
       "Device_Type                      object\n",
       "Var2                             object\n",
       "Source                           object\n",
       "Var4                              int64\n",
       "dtype: object"
      ]
     },
     "execution_count": 8,
     "metadata": {},
     "output_type": "execute_result"
    }
   ],
   "source": [
    "#variable types\n",
    "X.dtypes"
   ]
  },
  {
   "cell_type": "markdown",
   "metadata": {},
   "source": [
    "#### Gender - categorical variable"
   ]
  },
  {
   "cell_type": "code",
   "execution_count": 9,
   "metadata": {},
   "outputs": [
    {
     "data": {
      "text/plain": [
       "Male      49848\n",
       "Female    37172\n",
       "Name: Gender, dtype: int64"
      ]
     },
     "execution_count": 9,
     "metadata": {},
     "output_type": "execute_result"
    }
   ],
   "source": [
    "#Gender - categorical variable\n",
    "X['Gender'].value_counts()"
   ]
  },
  {
   "cell_type": "code",
   "execution_count": 10,
   "metadata": {},
   "outputs": [],
   "source": [
    "#encode variable\n",
    "X['Gender'] = X['Gender'].replace({\"Male\":1, \"Female\":0})"
   ]
  },
  {
   "cell_type": "markdown",
   "metadata": {},
   "source": [
    "#### City - categorical variable"
   ]
  },
  {
   "cell_type": "code",
   "execution_count": 11,
   "metadata": {},
   "outputs": [
    {
     "data": {
      "text/plain": [
       "Delhi            12527\n",
       "Bengaluru        10824\n",
       "Mumbai           10795\n",
       "Hyderabad         7272\n",
       "Chennai           6916\n",
       "                 ...  \n",
       "Bageshwar            1\n",
       "Muktsar              1\n",
       "Kabri Anglong        1\n",
       "Tonk                 1\n",
       "Madhepura            1\n",
       "Name: City, Length: 697, dtype: int64"
      ]
     },
     "execution_count": 11,
     "metadata": {},
     "output_type": "execute_result"
    }
   ],
   "source": [
    "#City - categorical variable\n",
    "X['City'].value_counts()"
   ]
  },
  {
   "cell_type": "code",
   "execution_count": 12,
   "metadata": {},
   "outputs": [
    {
     "name": "stdout",
     "output_type": "stream",
     "text": [
      "missing percentage: 1.1526085957251206\n"
     ]
    }
   ],
   "source": [
    "#Missing Data\n",
    "calc_missing_values(X['City'])"
   ]
  },
  {
   "cell_type": "code",
   "execution_count": 13,
   "metadata": {},
   "outputs": [
    {
     "data": {
      "text/plain": [
       "count     86017\n",
       "unique      697\n",
       "top       Delhi\n",
       "freq      12527\n",
       "Name: City, dtype: object"
      ]
     },
     "execution_count": 13,
     "metadata": {},
     "output_type": "execute_result"
    }
   ],
   "source": [
    "X['City'].describe()"
   ]
  },
  {
   "cell_type": "markdown",
   "metadata": {},
   "source": [
    "#### We have a lot of unique values in that variable so I took into consideration only 10 most frequent and encode it from 10 to 1.  Missing values replaces with 0."
   ]
  },
  {
   "cell_type": "code",
   "execution_count": 14,
   "metadata": {},
   "outputs": [],
   "source": [
    "city_list = X['City'].value_counts()[:10].index.tolist()\n",
    "city_dict = dict(zip(city_list, reversed(range(10))))\n",
    "X['City'] = X['City'].map(city_dict).fillna(int(0)).astype(int).astype(str)"
   ]
  },
  {
   "cell_type": "markdown",
   "metadata": {},
   "source": [
    "#### Monthly_Income - numerical variable"
   ]
  },
  {
   "cell_type": "code",
   "execution_count": 15,
   "metadata": {},
   "outputs": [
    {
     "data": {
      "text/plain": [
       "25000    5823\n",
       "20000    4523\n",
       "15000    4246\n",
       "30000    3216\n",
       "50000    2392\n",
       "         ... \n",
       "21612       1\n",
       "58490       1\n",
       "15521       1\n",
       "33974       1\n",
       "36978       1\n",
       "Name: Monthly_Income, Length: 5825, dtype: int64"
      ]
     },
     "execution_count": 15,
     "metadata": {},
     "output_type": "execute_result"
    }
   ],
   "source": [
    "#Monthly_Income - numerical variable\n",
    "X['Monthly_Income'].value_counts()"
   ]
  },
  {
   "cell_type": "code",
   "execution_count": 16,
   "metadata": {},
   "outputs": [
    {
     "name": "stdout",
     "output_type": "stream",
     "text": [
      "missing percentage: 0.0\n"
     ]
    }
   ],
   "source": [
    "calc_missing_values(X['Monthly_Income'])"
   ]
  },
  {
   "cell_type": "code",
   "execution_count": 17,
   "metadata": {},
   "outputs": [
    {
     "data": {
      "text/plain": [
       "count    8.702000e+04\n",
       "mean     5.884997e+04\n",
       "std      2.177511e+06\n",
       "min      0.000000e+00\n",
       "25%      1.650000e+04\n",
       "50%      2.500000e+04\n",
       "75%      4.000000e+04\n",
       "max      4.445544e+08\n",
       "Name: Monthly_Income, dtype: float64"
      ]
     },
     "execution_count": 17,
     "metadata": {},
     "output_type": "execute_result"
    }
   ],
   "source": [
    "X['Monthly_Income'].describe()"
   ]
  },
  {
   "cell_type": "code",
   "execution_count": 18,
   "metadata": {},
   "outputs": [
    {
     "data": {
      "text/plain": [
       "167.56052617705805"
      ]
     },
     "execution_count": 18,
     "metadata": {},
     "output_type": "execute_result"
    }
   ],
   "source": [
    "X['Monthly_Income'].skew()"
   ]
  },
  {
   "cell_type": "code",
   "execution_count": 19,
   "metadata": {},
   "outputs": [
    {
     "data": {
      "image/png": "[encoded data removed]",
      "text/plain": [
       "<Figure size 720x432 with 1 Axes>"
      ]
     },
     "metadata": {
      "needs_background": "light"
     },
     "output_type": "display_data"
    }
   ],
   "source": [
    "#variable distribution\n",
    "import seaborn as sns\n",
    "from scipy.stats import norm\n",
    "plt.figure(figsize=(10,6))\n",
    "sns.distplot(X['Monthly_Income'],kde=True,hist=True)\n",
    "plt.yscale('log')\n",
    "plt.show()"
   ]
  },
  {
   "cell_type": "code",
   "execution_count": 20,
   "metadata": {},
   "outputs": [],
   "source": [
    "#Skewnees Processing\n",
    "#We fixing skwewness by applying log1p function\n",
    "X['Monthly_Income'] = np.log1p(X['Monthly_Income'])"
   ]
  },
  {
   "cell_type": "code",
   "execution_count": 21,
   "metadata": {},
   "outputs": [
    {
     "data": {
      "image/png": "[encoded data removed]",
      "text/plain": [
       "<Figure size 432x288 with 1 Axes>"
      ]
     },
     "metadata": {
      "needs_background": "light"
     },
     "output_type": "display_data"
    }
   ],
   "source": [
    "#variable distribution after skewness fixing\n",
    "plt.figure(figsize=(6,4))\n",
    "sns.distplot(X['Monthly_Income'])\n",
    "plt.show()"
   ]
  },
  {
   "cell_type": "markdown",
   "metadata": {},
   "source": [
    "#### DOB - date time variable"
   ]
  },
  {
   "cell_type": "markdown",
   "metadata": {},
   "source": [
    "#### this column is date time type so we need to transform it properly. I have deciced to convert DOB variable to AGE of user\n"
   ]
  },
  {
   "cell_type": "code",
   "execution_count": 22,
   "metadata": {},
   "outputs": [],
   "source": [
    "#Create new Column 'AGE'\n",
    "create_age_from_dob(X)\n",
    "    "
   ]
  },
  {
   "cell_type": "code",
   "execution_count": 23,
   "metadata": {},
   "outputs": [
    {
     "data": {
      "text/plain": [
       "count    87020.000000\n",
       "mean        29.789688\n",
       "std          5.154943\n",
       "min         18.000000\n",
       "25%         26.000000\n",
       "50%         29.000000\n",
       "75%         33.000000\n",
       "max         45.000000\n",
       "Name: AGE, dtype: float64"
      ]
     },
     "execution_count": 23,
     "metadata": {},
     "output_type": "execute_result"
    }
   ],
   "source": [
    "X['AGE'].describe()"
   ]
  },
  {
   "cell_type": "code",
   "execution_count": 24,
   "metadata": {},
   "outputs": [
    {
     "data": {
      "text/plain": [
       "0.7274690305792898"
      ]
     },
     "execution_count": 24,
     "metadata": {},
     "output_type": "execute_result"
    }
   ],
   "source": [
    "X['AGE'].skew()"
   ]
  },
  {
   "cell_type": "code",
   "execution_count": 25,
   "metadata": {},
   "outputs": [
    {
     "data": {
      "image/png": "[encoded data removed]",
      "text/plain": [
       "<Figure size 432x288 with 1 Axes>"
      ]
     },
     "metadata": {
      "needs_background": "light"
     },
     "output_type": "display_data"
    }
   ],
   "source": [
    "import seaborn as sns\n",
    "plt.figure(figsize=(6,4))\n",
    "sns.distplot(X['AGE'])\n",
    "plt.show()"
   ]
  },
  {
   "cell_type": "markdown",
   "metadata": {},
   "source": [
    "#### Lead_Creation_Date - date time variable"
   ]
  },
  {
   "cell_type": "code",
   "execution_count": 26,
   "metadata": {},
   "outputs": [
    {
     "data": {
      "text/plain": [
       "2015-07-03    2315\n",
       "2015-07-23    1994\n",
       "2015-07-30    1297\n",
       "2015-07-27    1292\n",
       "2015-07-31    1268\n",
       "              ... \n",
       "2015-05-24     502\n",
       "2015-05-31     498\n",
       "2015-07-12     475\n",
       "2015-05-10     459\n",
       "2015-06-14     373\n",
       "Name: Lead_Creation_Date, Length: 92, dtype: int64"
      ]
     },
     "execution_count": 26,
     "metadata": {},
     "output_type": "execute_result"
    }
   ],
   "source": [
    "#Lead_Creation_Date variable\n",
    "X['Lead_Creation_Date'].value_counts()"
   ]
  },
  {
   "cell_type": "code",
   "execution_count": 27,
   "metadata": {},
   "outputs": [
    {
     "name": "stdout",
     "output_type": "stream",
     "text": [
      "missing percentage: 0.0\n"
     ]
    }
   ],
   "source": [
    "calc_missing_values(X['Lead_Creation_Date'])"
   ]
  },
  {
   "cell_type": "markdown",
   "metadata": {},
   "source": [
    "#### this column we converted into two columns, month and day because year is constant (2015)"
   ]
  },
  {
   "cell_type": "code",
   "execution_count": 28,
   "metadata": {},
   "outputs": [],
   "source": [
    "X['LEAD_CREATION_MONTH'] = X['Lead_Creation_Date'].dt.month\n",
    "X['LEAD_CREATION_DAY'] = X['Lead_Creation_Date'].dt.day"
   ]
  },
  {
   "cell_type": "markdown",
   "metadata": {},
   "source": [
    "#### Loan_Amount_Applied - numerical variable"
   ]
  },
  {
   "cell_type": "code",
   "execution_count": 29,
   "metadata": {},
   "outputs": [
    {
     "data": {
      "text/plain": [
       "0.0          28853\n",
       "100000.0     14311\n",
       "200000.0     13058\n",
       "300000.0      9995\n",
       "500000.0      9762\n",
       "             ...  \n",
       "560000.0         1\n",
       "475000.0         1\n",
       "460000.0         1\n",
       "1405000.0        1\n",
       "204000.0         1\n",
       "Name: Loan_Amount_Applied, Length: 277, dtype: int64"
      ]
     },
     "execution_count": 29,
     "metadata": {},
     "output_type": "execute_result"
    }
   ],
   "source": [
    "#Loan_Amount_Applied - numerical value\n",
    "X['Loan_Amount_Applied'].value_counts()"
   ]
  },
  {
   "cell_type": "code",
   "execution_count": 30,
   "metadata": {},
   "outputs": [
    {
     "name": "stdout",
     "output_type": "stream",
     "text": [
      "missing percentage: 0.08159043897954493\n"
     ]
    }
   ],
   "source": [
    "#missing values\n",
    "calc_missing_values(X['Loan_Amount_Applied'])"
   ]
  },
  {
   "cell_type": "code",
   "execution_count": 31,
   "metadata": {},
   "outputs": [
    {
     "data": {
      "text/plain": [
       "count    8.694900e+04\n",
       "mean     2.302507e+05\n",
       "std      3.542068e+05\n",
       "min      0.000000e+00\n",
       "25%      0.000000e+00\n",
       "50%      1.000000e+05\n",
       "75%      3.000000e+05\n",
       "max      1.000000e+07\n",
       "Name: Loan_Amount_Applied, dtype: float64"
      ]
     },
     "execution_count": 31,
     "metadata": {},
     "output_type": "execute_result"
    }
   ],
   "source": [
    "X['Loan_Amount_Applied'].describe()"
   ]
  },
  {
   "cell_type": "code",
   "execution_count": 32,
   "metadata": {},
   "outputs": [
    {
     "data": {
      "text/plain": [
       "5.641871279754185"
      ]
     },
     "execution_count": 32,
     "metadata": {},
     "output_type": "execute_result"
    }
   ],
   "source": [
    "X['Loan_Amount_Applied'].skew()"
   ]
  },
  {
   "cell_type": "code",
   "execution_count": 33,
   "metadata": {},
   "outputs": [
    {
     "data": {
      "image/png": "[encoded data removed]",
      "text/plain": [
       "<Figure size 432x288 with 1 Axes>"
      ]
     },
     "metadata": {
      "needs_background": "light"
     },
     "output_type": "display_data"
    }
   ],
   "source": [
    "import seaborn as sns\n",
    "plt.figure(figsize=(6,4))\n",
    "sns.distplot(X['Loan_Amount_Applied'])\n",
    "plt.show()"
   ]
  },
  {
   "cell_type": "code",
   "execution_count": 34,
   "metadata": {},
   "outputs": [],
   "source": [
    "#Process Missing Values\n",
    "X['Loan_Amount_Applied'] = X['Loan_Amount_Applied'].fillna((X['Loan_Amount_Applied'].median()))"
   ]
  },
  {
   "cell_type": "code",
   "execution_count": 35,
   "metadata": {},
   "outputs": [],
   "source": [
    "#Processing skewnees\n",
    "X['Loan_Amount_Applied'] = np.sqrt(X['Loan_Amount_Applied'])"
   ]
  },
  {
   "cell_type": "code",
   "execution_count": 36,
   "metadata": {},
   "outputs": [
    {
     "data": {
      "text/plain": [
       "0.7884018641170545"
      ]
     },
     "execution_count": 36,
     "metadata": {},
     "output_type": "execute_result"
    }
   ],
   "source": [
    "X['Loan_Amount_Applied'].skew()"
   ]
  },
  {
   "cell_type": "code",
   "execution_count": 37,
   "metadata": {},
   "outputs": [
    {
     "data": {
      "image/png": "[encoded data removed]",
      "text/plain": [
       "<Figure size 432x288 with 1 Axes>"
      ]
     },
     "metadata": {
      "needs_background": "light"
     },
     "output_type": "display_data"
    }
   ],
   "source": [
    "#variable distribution\n",
    "import seaborn as sns\n",
    "plt.figure(figsize=(6,4))\n",
    "sns.distplot(X['Loan_Amount_Applied'])\n",
    "#plt.yscale('log')\n",
    "plt.show()"
   ]
  },
  {
   "cell_type": "markdown",
   "metadata": {},
   "source": [
    "#### Loan_Tenure_Applied - numerical value"
   ]
  },
  {
   "cell_type": "code",
   "execution_count": 38,
   "metadata": {},
   "outputs": [
    {
     "data": {
      "text/plain": [
       "0.0     33844\n",
       "5.0     19083\n",
       "3.0     13080\n",
       "2.0      9463\n",
       "4.0      6620\n",
       "1.0      4812\n",
       "10.0       40\n",
       "7.0         3\n",
       "6.0         2\n",
       "9.0         1\n",
       "8.0         1\n",
       "Name: Loan_Tenure_Applied, dtype: int64"
      ]
     },
     "execution_count": 38,
     "metadata": {},
     "output_type": "execute_result"
    }
   ],
   "source": [
    "#Loan_Tenure_Applied - numerical value\n",
    "X['Loan_Tenure_Applied'].value_counts()"
   ]
  },
  {
   "cell_type": "code",
   "execution_count": 39,
   "metadata": {},
   "outputs": [
    {
     "name": "stdout",
     "output_type": "stream",
     "text": [
      "missing percentage: 0.08159043897954493\n"
     ]
    }
   ],
   "source": [
    "calc_missing_values(X['Loan_Tenure_Applied'])"
   ]
  },
  {
   "cell_type": "code",
   "execution_count": 40,
   "metadata": {},
   "outputs": [
    {
     "data": {
      "text/plain": [
       "count    86949.000000\n",
       "mean         2.131399\n",
       "std          2.014193\n",
       "min          0.000000\n",
       "25%          0.000000\n",
       "50%          2.000000\n",
       "75%          4.000000\n",
       "max         10.000000\n",
       "Name: Loan_Tenure_Applied, dtype: float64"
      ]
     },
     "execution_count": 40,
     "metadata": {},
     "output_type": "execute_result"
    }
   ],
   "source": [
    "X['Loan_Tenure_Applied'].describe()"
   ]
  },
  {
   "cell_type": "code",
   "execution_count": 41,
   "metadata": {},
   "outputs": [
    {
     "data": {
      "text/plain": [
       "0.26462404804244716"
      ]
     },
     "execution_count": 41,
     "metadata": {},
     "output_type": "execute_result"
    }
   ],
   "source": [
    "X['Loan_Tenure_Applied'].skew()"
   ]
  },
  {
   "cell_type": "code",
   "execution_count": 42,
   "metadata": {},
   "outputs": [
    {
     "data": {
      "image/png": "[encoded data removed]",
      "text/plain": [
       "<Figure size 432x288 with 1 Axes>"
      ]
     },
     "metadata": {
      "needs_background": "light"
     },
     "output_type": "display_data"
    }
   ],
   "source": [
    "#variable distribution\n",
    "import seaborn as sns\n",
    "plt.figure(figsize=(6,4))\n",
    "sns.distplot(np.log1p(X['Loan_Tenure_Applied']))\n",
    "plt.yscale('log')\n",
    "plt.show()"
   ]
  },
  {
   "cell_type": "code",
   "execution_count": 43,
   "metadata": {},
   "outputs": [],
   "source": [
    "#Processing Missing Values\n",
    "#We fill missing values with rounded median\n",
    "X['Loan_Tenure_Applied'] = X['Loan_Tenure_Applied'].fillna((np.ceil(X['Loan_Tenure_Applied'].median())))"
   ]
  },
  {
   "cell_type": "markdown",
   "metadata": {},
   "source": [
    "#### Existing_EMI - numerical variable"
   ]
  },
  {
   "cell_type": "code",
   "execution_count": 44,
   "metadata": {},
   "outputs": [
    {
     "data": {
      "text/plain": [
       "0.0        58238\n",
       "5000.0      2695\n",
       "10000.0     1737\n",
       "3000.0      1581\n",
       "4000.0      1226\n",
       "           ...  \n",
       "11036.0        1\n",
       "1703.0         1\n",
       "2335.0         1\n",
       "2936.0         1\n",
       "1543.0         1\n",
       "Name: Existing_EMI, Length: 3753, dtype: int64"
      ]
     },
     "execution_count": 44,
     "metadata": {},
     "output_type": "execute_result"
    }
   ],
   "source": [
    "#Existing_EMI variable\n",
    "X['Existing_EMI'].value_counts()"
   ]
  },
  {
   "cell_type": "code",
   "execution_count": 45,
   "metadata": {},
   "outputs": [
    {
     "name": "stdout",
     "output_type": "stream",
     "text": [
      "missing percentage: 0.08159043897954493\n"
     ]
    }
   ],
   "source": [
    "#Missing values\n",
    "calc_missing_values(X['Existing_EMI'])"
   ]
  },
  {
   "cell_type": "code",
   "execution_count": 46,
   "metadata": {},
   "outputs": [
    {
     "data": {
      "text/plain": [
       "count    8.694900e+04\n",
       "mean     3.696228e+03\n",
       "std      3.981021e+04\n",
       "min      0.000000e+00\n",
       "25%      0.000000e+00\n",
       "50%      0.000000e+00\n",
       "75%      3.500000e+03\n",
       "max      1.000000e+07\n",
       "Name: Existing_EMI, dtype: float64"
      ]
     },
     "execution_count": 46,
     "metadata": {},
     "output_type": "execute_result"
    }
   ],
   "source": [
    "X['Existing_EMI'].describe()"
   ]
  },
  {
   "cell_type": "code",
   "execution_count": 47,
   "metadata": {},
   "outputs": [
    {
     "data": {
      "text/plain": [
       "211.7693511145207"
      ]
     },
     "execution_count": 47,
     "metadata": {},
     "output_type": "execute_result"
    }
   ],
   "source": [
    "X['Existing_EMI'].skew()"
   ]
  },
  {
   "cell_type": "code",
   "execution_count": 48,
   "metadata": {},
   "outputs": [
    {
     "data": {
      "image/png": "[encoded data removed]",
      "text/plain": [
       "<Figure size 432x288 with 1 Axes>"
      ]
     },
     "metadata": {
      "needs_background": "light"
     },
     "output_type": "display_data"
    }
   ],
   "source": [
    "#variable distribution\n",
    "import seaborn as sns\n",
    "plt.figure(figsize=(6,4))\n",
    "sns.distplot(X['Existing_EMI'])\n",
    "plt.yscale('log')\n",
    "plt.show()"
   ]
  },
  {
   "cell_type": "code",
   "execution_count": 49,
   "metadata": {},
   "outputs": [],
   "source": [
    "#Processing missing values\n",
    "X['Existing_EMI'] = X['Existing_EMI'].fillna((X['Existing_EMI'].median()))"
   ]
  },
  {
   "cell_type": "code",
   "execution_count": 50,
   "metadata": {},
   "outputs": [],
   "source": [
    "#Processing skewness\n",
    "X['Existing_EMI'] = np.sqrt(X['Existing_EMI'])"
   ]
  },
  {
   "cell_type": "code",
   "execution_count": 51,
   "metadata": {},
   "outputs": [
    {
     "data": {
      "image/png": "[encoded data removed]",
      "text/plain": [
       "<Figure size 432x288 with 1 Axes>"
      ]
     },
     "metadata": {
      "needs_background": "light"
     },
     "output_type": "display_data"
    }
   ],
   "source": [
    "#variable distribution\n",
    "import seaborn as sns\n",
    "plt.figure(figsize=(6,4))\n",
    "sns.distplot(X['Existing_EMI'])\n",
    "plt.yscale('log')\n",
    "plt.show()"
   ]
  },
  {
   "cell_type": "markdown",
   "metadata": {},
   "source": [
    "#### Employer_Name - categorical variable"
   ]
  },
  {
   "cell_type": "code",
   "execution_count": 52,
   "metadata": {},
   "outputs": [
    {
     "data": {
      "text/plain": [
       "0                                                 4914\n",
       "TATA CONSULTANCY SERVICES LTD (TCS)                550\n",
       "COGNIZANT TECHNOLOGY SOLUTIONS INDIA PVT LTD       404\n",
       "ACCENTURE SERVICES PVT LTD                         324\n",
       "GOOGLE                                             301\n",
       "                                                  ... \n",
       "YOKOGAWA IA TECHNOLOGIES INDIA PRIVATE LIMITED       1\n",
       "NETREE E-SERVICES PVT. LTD.                          1\n",
       "SUNIL JAWALE                                         1\n",
       "PEERLESS HOTELS LTD                                  1\n",
       "LENDI ENGINEERING COLLEGE                            1\n",
       "Name: Employer_Name, Length: 43567, dtype: int64"
      ]
     },
     "execution_count": 52,
     "metadata": {},
     "output_type": "execute_result"
    }
   ],
   "source": [
    "#Employer_Name - categorical variable\n",
    "X['Employer_Name'].value_counts()"
   ]
  },
  {
   "cell_type": "code",
   "execution_count": 53,
   "metadata": {},
   "outputs": [
    {
     "name": "stdout",
     "output_type": "stream",
     "text": [
      "missing percentage: 0.08159043897954493\n"
     ]
    }
   ],
   "source": [
    "#missing values\n",
    "calc_missing_values(X['Employer_Name'])"
   ]
  },
  {
   "cell_type": "code",
   "execution_count": 54,
   "metadata": {},
   "outputs": [
    {
     "data": {
      "text/plain": [
       "count     86949\n",
       "unique    43567\n",
       "top           0\n",
       "freq       4914\n",
       "Name: Employer_Name, dtype: object"
      ]
     },
     "execution_count": 54,
     "metadata": {},
     "output_type": "execute_result"
    }
   ],
   "source": [
    "X['Employer_Name'].describe()"
   ]
  },
  {
   "cell_type": "markdown",
   "metadata": {},
   "source": [
    "#### Employer_Name contains 43567 unique values so we should reduce it. Sorted by most frequent and select only first 10, encode it from 10 to 1. As we can see most frequent value is '0' so we just ignore it and use next 10. Missing values and rest of values fill with 0"
   ]
  },
  {
   "cell_type": "code",
   "execution_count": 55,
   "metadata": {},
   "outputs": [],
   "source": [
    "employer_list = X['Employer_Name'].value_counts()[:11].index.tolist()\n",
    "employer_dict = dict(zip(employer_list[1:], reversed(range(11))))\n",
    "X['Employer_Name'] = X['Employer_Name'].map(employer_dict).fillna(int(0)).astype(int).astype(str)"
   ]
  },
  {
   "cell_type": "markdown",
   "metadata": {},
   "source": [
    "#### Salary_Account - categorical variable"
   ]
  },
  {
   "cell_type": "code",
   "execution_count": 56,
   "metadata": {},
   "outputs": [
    {
     "data": {
      "text/plain": [
       "HDFC Bank                                          17695\n",
       "ICICI Bank                                         13636\n",
       "State Bank of India                                11843\n",
       "Axis Bank                                           8783\n",
       "Citibank                                            2376\n",
       "Kotak Bank                                          2067\n",
       "IDBI Bank                                           1550\n",
       "Punjab National Bank                                1201\n",
       "Bank of India                                       1170\n",
       "Bank of Baroda                                      1126\n",
       "Standard Chartered Bank                              995\n",
       "Canara Bank                                          990\n",
       "Union Bank of India                                  951\n",
       "Yes Bank                                             779\n",
       "ING Vysya                                            678\n",
       "Corporation bank                                     649\n",
       "Indian Overseas Bank                                 612\n",
       "State Bank of Hyderabad                              597\n",
       "Indian Bank                                          555\n",
       "Oriental Bank of Commerce                            524\n",
       "IndusInd Bank                                        503\n",
       "Andhra Bank                                          485\n",
       "Central Bank of India                                445\n",
       "Syndicate Bank                                       415\n",
       "Bank of Maharasthra                                  406\n",
       "State Bank of Bikaner & Jaipur                       331\n",
       "HSBC                                                 328\n",
       "Karur Vysya Bank                                     326\n",
       "State Bank of Mysore                                 255\n",
       "Federal Bank                                         253\n",
       "Vijaya Bank                                          252\n",
       "Allahabad Bank                                       238\n",
       "UCO Bank                                             237\n",
       "State Bank of Travancore                             227\n",
       "Karnataka Bank                                       200\n",
       "Saraswat Bank                                        195\n",
       "United Bank of India                                 183\n",
       "Dena Bank                                            182\n",
       "State Bank of Patiala                                177\n",
       "South Indian Bank                                    160\n",
       "Deutsche Bank                                        125\n",
       "Abhyuday Co-op Bank Ltd                              108\n",
       "The Ratnakar Bank Ltd                                 83\n",
       "Tamil Nadu Mercantile Bank                            71\n",
       "Punjab & Sind bank                                    66\n",
       "J&K Bank                                              59\n",
       "Lakshmi Vilas bank                                    50\n",
       "Dhanalakshmi Bank Ltd                                 42\n",
       "State Bank of Indore                                  18\n",
       "Catholic Syrian Bank                                  14\n",
       "India Bulls                                           11\n",
       "B N P Paribas                                          8\n",
       "GIC Housing Finance Ltd                                8\n",
       "Firstrand Bank Limited                                 7\n",
       "Bank of Rajasthan                                      5\n",
       "Kerala Gramin Bank                                     4\n",
       "Industrial And Commercial Bank Of China Limited        2\n",
       "Name: Salary_Account, dtype: int64"
      ]
     },
     "execution_count": 56,
     "metadata": {},
     "output_type": "execute_result"
    }
   ],
   "source": [
    "#Salary_Account - numerical variable\n",
    "X['Salary_Account'].value_counts()"
   ]
  },
  {
   "cell_type": "code",
   "execution_count": 57,
   "metadata": {},
   "outputs": [
    {
     "name": "stdout",
     "output_type": "stream",
     "text": [
      "missing percentage: 13.518731326131924\n"
     ]
    }
   ],
   "source": [
    "#missing values\n",
    "calc_missing_values(X['Salary_Account'])"
   ]
  },
  {
   "cell_type": "code",
   "execution_count": 58,
   "metadata": {},
   "outputs": [
    {
     "data": {
      "text/plain": [
       "count         75256\n",
       "unique           57\n",
       "top       HDFC Bank\n",
       "freq          17695\n",
       "Name: Salary_Account, dtype: object"
      ]
     },
     "execution_count": 58,
     "metadata": {},
     "output_type": "execute_result"
    }
   ],
   "source": [
    "X['Salary_Account'].describe()"
   ]
  },
  {
   "cell_type": "markdown",
   "metadata": {},
   "source": [
    "#### Salary_Account contains 57 unique values so we should reduce it. Sorted by most frequent and select only first 10, encode it from 10 to 1. Missing values fill with 0."
   ]
  },
  {
   "cell_type": "code",
   "execution_count": 59,
   "metadata": {},
   "outputs": [],
   "source": [
    "salary_list = X['Salary_Account'].value_counts()[:10].index.tolist()\n",
    "salary_dict = dict(zip(salary_list, reversed(range(10))))\n",
    "X['Salary_Account'] = X['Salary_Account'].map(salary_dict).fillna(int(0)).astype(int).astype(str)"
   ]
  },
  {
   "cell_type": "markdown",
   "metadata": {},
   "source": [
    "#### Mobile_Verified - categorical variable"
   ]
  },
  {
   "cell_type": "code",
   "execution_count": 60,
   "metadata": {
    "scrolled": true
   },
   "outputs": [
    {
     "data": {
      "text/plain": [
       "Y    56481\n",
       "N    30539\n",
       "Name: Mobile_Verified, dtype: int64"
      ]
     },
     "execution_count": 60,
     "metadata": {},
     "output_type": "execute_result"
    }
   ],
   "source": [
    "#Mobile_Verified - categorical variable\n",
    "X['Mobile_Verified'].value_counts()"
   ]
  },
  {
   "cell_type": "code",
   "execution_count": 61,
   "metadata": {},
   "outputs": [
    {
     "name": "stdout",
     "output_type": "stream",
     "text": [
      "missing percentage: 0.0\n"
     ]
    }
   ],
   "source": [
    "#Missing values\n",
    "calc_missing_values(X['Mobile_Verified'])"
   ]
  },
  {
   "cell_type": "code",
   "execution_count": 62,
   "metadata": {},
   "outputs": [
    {
     "data": {
      "text/plain": [
       "count     87020\n",
       "unique        2\n",
       "top           Y\n",
       "freq      56481\n",
       "Name: Mobile_Verified, dtype: object"
      ]
     },
     "execution_count": 62,
     "metadata": {},
     "output_type": "execute_result"
    }
   ],
   "source": [
    "X['Mobile_Verified'].describe()"
   ]
  },
  {
   "cell_type": "markdown",
   "metadata": {},
   "source": [
    "#### mobile_verified encode into binary form"
   ]
  },
  {
   "cell_type": "code",
   "execution_count": 63,
   "metadata": {},
   "outputs": [],
   "source": [
    "#Mobile_Verfied encode Y -> 1, N ->\n",
    "X['Mobile_Verified'] = X['Mobile_Verified'].replace({\"Y\":1, \"N\":0})"
   ]
  },
  {
   "cell_type": "markdown",
   "metadata": {},
   "source": [
    "#### Var5 - numerical variable"
   ]
  },
  {
   "cell_type": "code",
   "execution_count": 64,
   "metadata": {},
   "outputs": [
    {
     "data": {
      "text/plain": [
       "0     29087\n",
       "1     12236\n",
       "3      6759\n",
       "11     5204\n",
       "2      4485\n",
       "14     3662\n",
       "15     3509\n",
       "12     2989\n",
       "13     2622\n",
       "8      2515\n",
       "10     2427\n",
       "9      2281\n",
       "16     2097\n",
       "4      1815\n",
       "17     1691\n",
       "7      1489\n",
       "6       983\n",
       "5       975\n",
       "18      194\n",
       "Name: Var5, dtype: int64"
      ]
     },
     "execution_count": 64,
     "metadata": {},
     "output_type": "execute_result"
    }
   ],
   "source": [
    "#Var5 - numerical variable\n",
    "X['Var5'].value_counts()"
   ]
  },
  {
   "cell_type": "code",
   "execution_count": 65,
   "metadata": {},
   "outputs": [
    {
     "name": "stdout",
     "output_type": "stream",
     "text": [
      "missing percentage: 0.0\n"
     ]
    }
   ],
   "source": [
    "#Missing values\n",
    "calc_missing_values(X['Var5'])"
   ]
  },
  {
   "cell_type": "code",
   "execution_count": 66,
   "metadata": {},
   "outputs": [
    {
     "data": {
      "text/plain": [
       "count    87020.000000\n",
       "mean         4.961503\n",
       "std          5.670385\n",
       "min          0.000000\n",
       "25%          0.000000\n",
       "50%          2.000000\n",
       "75%         11.000000\n",
       "max         18.000000\n",
       "Name: Var5, dtype: float64"
      ]
     },
     "execution_count": 66,
     "metadata": {},
     "output_type": "execute_result"
    }
   ],
   "source": [
    "X['Var5'].describe()"
   ]
  },
  {
   "cell_type": "code",
   "execution_count": 67,
   "metadata": {},
   "outputs": [
    {
     "data": {
      "text/plain": [
       "0.7606063211426869"
      ]
     },
     "execution_count": 67,
     "metadata": {},
     "output_type": "execute_result"
    }
   ],
   "source": [
    "X['Var5'].skew()"
   ]
  },
  {
   "cell_type": "code",
   "execution_count": 68,
   "metadata": {},
   "outputs": [
    {
     "data": {
      "image/png": "[encoded data removed]",
      "text/plain": [
       "<Figure size 432x288 with 1 Axes>"
      ]
     },
     "metadata": {
      "needs_background": "light"
     },
     "output_type": "display_data"
    }
   ],
   "source": [
    "#rozklad zmiennych\n",
    "import seaborn as sns\n",
    "sns.distplot(X['Var5'])\n",
    "plt.show()"
   ]
  },
  {
   "cell_type": "markdown",
   "metadata": {},
   "source": [
    "#### Var1 - categorical variable"
   ]
  },
  {
   "cell_type": "code",
   "execution_count": 69,
   "metadata": {},
   "outputs": [
    {
     "data": {
      "text/plain": [
       "HBXX    59294\n",
       "HBXC     9010\n",
       "HBXB     4479\n",
       "HAXA     2909\n",
       "HBXA     2123\n",
       "HAXB     2011\n",
       "HBXD     1964\n",
       "HAXC     1536\n",
       "HBXH      970\n",
       "HCXF      722\n",
       "HAYT      508\n",
       "HAVC      384\n",
       "HAXM      268\n",
       "HCXD      237\n",
       "HCYS      217\n",
       "HVYS      186\n",
       "HAZD      109\n",
       "HCXG       78\n",
       "HAXF       15\n",
       "Name: Var1, dtype: int64"
      ]
     },
     "execution_count": 69,
     "metadata": {},
     "output_type": "execute_result"
    }
   ],
   "source": [
    "#Var1 categorical multiple values\n",
    "X['Var1'].value_counts()"
   ]
  },
  {
   "cell_type": "code",
   "execution_count": 70,
   "metadata": {},
   "outputs": [
    {
     "name": "stdout",
     "output_type": "stream",
     "text": [
      "missing percentage: 0.0\n"
     ]
    }
   ],
   "source": [
    "#Missing values\n",
    "calc_missing_values(X['Var1'])"
   ]
  },
  {
   "cell_type": "code",
   "execution_count": 71,
   "metadata": {},
   "outputs": [
    {
     "data": {
      "text/plain": [
       "count     87020\n",
       "unique       19\n",
       "top        HBXX\n",
       "freq      59294\n",
       "Name: Var1, dtype: object"
      ]
     },
     "execution_count": 71,
     "metadata": {},
     "output_type": "execute_result"
    }
   ],
   "source": [
    "X['Var1'].describe()"
   ]
  },
  {
   "cell_type": "code",
   "execution_count": 72,
   "metadata": {},
   "outputs": [
    {
     "data": {
      "text/plain": [
       "(array([5.9294e+04, 2.1230e+03, 2.6800e+02, 2.0110e+03, 9.0100e+03,\n",
       "        1.9640e+03, 9.7000e+02, 2.9090e+03, 4.4790e+03, 5.0800e+02,\n",
       "        2.3700e+02, 1.8600e+02, 3.8400e+02, 7.8000e+01, 1.0900e+02,\n",
       "        2.1700e+02, 7.2200e+02, 1.5360e+03, 1.5000e+01]),\n",
       " array([ 0.        ,  0.94736842,  1.89473684,  2.84210526,  3.78947368,\n",
       "         4.73684211,  5.68421053,  6.63157895,  7.57894737,  8.52631579,\n",
       "         9.47368421, 10.42105263, 11.36842105, 12.31578947, 13.26315789,\n",
       "        14.21052632, 15.15789474, 16.10526316, 17.05263158, 18.        ]),\n",
       " <a list of 19 Patch objects>)"
      ]
     },
     "execution_count": 72,
     "metadata": {},
     "output_type": "execute_result"
    },
    {
     "data": {
      "image/png": "[encoded data removed]",
      "text/plain": [
       "<Figure size 432x432 with 1 Axes>"
      ]
     },
     "metadata": {
      "needs_background": "light"
     },
     "output_type": "display_data"
    }
   ],
   "source": [
    "#variable distribution\n",
    "plt.figure(figsize=(6,6))\n",
    "plt.hist(X['Var1'],bins=19)"
   ]
  },
  {
   "cell_type": "markdown",
   "metadata": {},
   "source": [
    "#### Loan_Amount_Submitted - numerical variable"
   ]
  },
  {
   "cell_type": "code",
   "execution_count": 73,
   "metadata": {},
   "outputs": [
    {
     "data": {
      "text/plain": [
       "100000.0     6884\n",
       "200000.0     6583\n",
       "300000.0     5385\n",
       "500000.0     4849\n",
       "1000000.0    1644\n",
       "             ... \n",
       "2470000.0       1\n",
       "1660000.0       1\n",
       "1890000.0       1\n",
       "1990000.0       1\n",
       "1900000.0       1\n",
       "Name: Loan_Amount_Submitted, Length: 203, dtype: int64"
      ]
     },
     "execution_count": 73,
     "metadata": {},
     "output_type": "execute_result"
    }
   ],
   "source": [
    "#Loan_Amount_Submitted - numerical variable\n",
    "X['Loan_Amount_Submitted'].value_counts()"
   ]
  },
  {
   "cell_type": "code",
   "execution_count": 74,
   "metadata": {},
   "outputs": [
    {
     "name": "stdout",
     "output_type": "stream",
     "text": [
      "missing percentage: 39.775913583084346\n"
     ]
    }
   ],
   "source": [
    "#Missing values\n",
    "calc_missing_values(X['Loan_Amount_Submitted'])"
   ]
  },
  {
   "cell_type": "code",
   "execution_count": 75,
   "metadata": {},
   "outputs": [
    {
     "data": {
      "text/plain": [
       "count    5.240700e+04\n",
       "mean     3.950106e+05\n",
       "std      3.082481e+05\n",
       "min      5.000000e+04\n",
       "25%      2.000000e+05\n",
       "50%      3.000000e+05\n",
       "75%      5.000000e+05\n",
       "max      3.000000e+06\n",
       "Name: Loan_Amount_Submitted, dtype: float64"
      ]
     },
     "execution_count": 75,
     "metadata": {},
     "output_type": "execute_result"
    }
   ],
   "source": [
    "X['Loan_Amount_Submitted'].describe()"
   ]
  },
  {
   "cell_type": "code",
   "execution_count": 76,
   "metadata": {},
   "outputs": [
    {
     "data": {
      "text/plain": [
       "2.104983545111099"
      ]
     },
     "execution_count": 76,
     "metadata": {},
     "output_type": "execute_result"
    }
   ],
   "source": [
    "X['Loan_Amount_Submitted'].skew()"
   ]
  },
  {
   "cell_type": "code",
   "execution_count": 77,
   "metadata": {},
   "outputs": [
    {
     "data": {
      "image/png": "[encoded data removed]",
      "text/plain": [
       "<Figure size 720x432 with 1 Axes>"
      ]
     },
     "metadata": {
      "needs_background": "light"
     },
     "output_type": "display_data"
    }
   ],
   "source": [
    "#variable distribution\n",
    "import seaborn as sns\n",
    "plt.figure(figsize=(10,6))\n",
    "sns.distplot(X['Loan_Amount_Submitted'])\n",
    "plt.show()"
   ]
  },
  {
   "cell_type": "code",
   "execution_count": 78,
   "metadata": {},
   "outputs": [],
   "source": [
    "#Processing NAN\n",
    "X['Loan_Amount_Submitted'] = X['Loan_Amount_Submitted'].fillna(X['Loan_Amount_Submitted'].mean())"
   ]
  },
  {
   "cell_type": "code",
   "execution_count": 79,
   "metadata": {},
   "outputs": [],
   "source": [
    "#Processing Skewnees\n",
    "X['Loan_Amount_Submitted'] = np.sqrt(X['Loan_Amount_Submitted'])"
   ]
  },
  {
   "cell_type": "code",
   "execution_count": 80,
   "metadata": {},
   "outputs": [
    {
     "data": {
      "image/png": "[encoded data removed]",
      "text/plain": [
       "<Figure size 432x288 with 1 Axes>"
      ]
     },
     "metadata": {
      "needs_background": "light"
     },
     "output_type": "display_data"
    }
   ],
   "source": [
    "#variable distribution\n",
    "import seaborn as sns\n",
    "plt.figure(figsize=(6,4))\n",
    "sns.distplot(X['Loan_Amount_Submitted'])\n",
    "plt.yscale('log')\n",
    "plt.show()"
   ]
  },
  {
   "cell_type": "markdown",
   "metadata": {},
   "source": [
    "#### Loan_Tenure_Submitted - numerical variable"
   ]
  },
  {
   "cell_type": "code",
   "execution_count": 81,
   "metadata": {},
   "outputs": [
    {
     "data": {
      "text/plain": [
       "5.0    20765\n",
       "4.0    15135\n",
       "3.0     8858\n",
       "2.0     5332\n",
       "1.0     2314\n",
       "6.0        3\n",
       "Name: Loan_Tenure_Submitted, dtype: int64"
      ]
     },
     "execution_count": 81,
     "metadata": {},
     "output_type": "execute_result"
    }
   ],
   "source": [
    "#Loan_Tenure_Submitted - numerical variable\n",
    "X['Loan_Tenure_Submitted'].value_counts()"
   ]
  },
  {
   "cell_type": "code",
   "execution_count": 82,
   "metadata": {},
   "outputs": [
    {
     "name": "stdout",
     "output_type": "stream",
     "text": [
      "missing percentage: 39.775913583084346\n"
     ]
    }
   ],
   "source": [
    "#Missing values\n",
    "calc_missing_values(X['Loan_Tenure_Submitted'])"
   ]
  },
  {
   "cell_type": "code",
   "execution_count": 83,
   "metadata": {},
   "outputs": [
    {
     "data": {
      "text/plain": [
       "count    52407.000000\n",
       "mean         3.891369\n",
       "std          1.165359\n",
       "min          1.000000\n",
       "25%          3.000000\n",
       "50%          4.000000\n",
       "75%          5.000000\n",
       "max          6.000000\n",
       "Name: Loan_Tenure_Submitted, dtype: float64"
      ]
     },
     "execution_count": 83,
     "metadata": {},
     "output_type": "execute_result"
    }
   ],
   "source": [
    "X['Loan_Tenure_Submitted'].describe()"
   ]
  },
  {
   "cell_type": "code",
   "execution_count": 84,
   "metadata": {},
   "outputs": [
    {
     "data": {
      "text/plain": [
       "-0.8433232334453925"
      ]
     },
     "execution_count": 84,
     "metadata": {},
     "output_type": "execute_result"
    }
   ],
   "source": [
    "X['Loan_Tenure_Submitted'].skew()"
   ]
  },
  {
   "cell_type": "code",
   "execution_count": 85,
   "metadata": {},
   "outputs": [
    {
     "data": {
      "image/png": "[encoded data removed]",
      "text/plain": [
       "<Figure size 432x288 with 1 Axes>"
      ]
     },
     "metadata": {
      "needs_background": "light"
     },
     "output_type": "display_data"
    }
   ],
   "source": [
    "#variable distribution\n",
    "import seaborn as sns\n",
    "plt.figure(figsize=(6,4))\n",
    "sns.distplot(X['Loan_Tenure_Submitted'])\n",
    "plt.yscale('log')\n",
    "plt.show()"
   ]
  },
  {
   "cell_type": "code",
   "execution_count": 86,
   "metadata": {},
   "outputs": [],
   "source": [
    "#Processing NAN\n",
    "X['Loan_Tenure_Submitted'] = X['Loan_Tenure_Submitted'].fillna((np.ceil(X['Loan_Tenure_Submitted'].median())))"
   ]
  },
  {
   "cell_type": "markdown",
   "metadata": {},
   "source": [
    "#### Intrest_Rate - numerical variable"
   ]
  },
  {
   "cell_type": "code",
   "execution_count": 87,
   "metadata": {},
   "outputs": [
    {
     "data": {
      "text/plain": [
       "20.00    4707\n",
       "14.85    2016\n",
       "13.99    1699\n",
       "31.50    1696\n",
       "15.25    1553\n",
       "         ... \n",
       "14.55       2\n",
       "20.50       2\n",
       "15.60       1\n",
       "14.29       1\n",
       "15.15       1\n",
       "Name: Interest_Rate, Length: 73, dtype: int64"
      ]
     },
     "execution_count": 87,
     "metadata": {},
     "output_type": "execute_result"
    }
   ],
   "source": [
    "#Intrest_Rate - numerical variable\n",
    "X['Interest_Rate'].value_counts()"
   ]
  },
  {
   "cell_type": "code",
   "execution_count": 88,
   "metadata": {},
   "outputs": [
    {
     "name": "stdout",
     "output_type": "stream",
     "text": [
      "missing percentage: 68.13835899793152\n"
     ]
    }
   ],
   "source": [
    "#Missing values\n",
    "calc_missing_values(X['Interest_Rate'])"
   ]
  },
  {
   "cell_type": "code",
   "execution_count": 89,
   "metadata": {},
   "outputs": [
    {
     "data": {
      "text/plain": [
       "count    27726.000000\n",
       "mean        19.197474\n",
       "std          5.834213\n",
       "min         11.990000\n",
       "25%         15.250000\n",
       "50%         18.000000\n",
       "75%         20.000000\n",
       "max         37.000000\n",
       "Name: Interest_Rate, dtype: float64"
      ]
     },
     "execution_count": 89,
     "metadata": {},
     "output_type": "execute_result"
    }
   ],
   "source": [
    "X['Interest_Rate'].describe()"
   ]
  },
  {
   "cell_type": "code",
   "execution_count": 90,
   "metadata": {},
   "outputs": [
    {
     "data": {
      "text/plain": [
       "1.4303011883579213"
      ]
     },
     "execution_count": 90,
     "metadata": {},
     "output_type": "execute_result"
    }
   ],
   "source": [
    "X['Interest_Rate'].skew()"
   ]
  },
  {
   "cell_type": "code",
   "execution_count": 91,
   "metadata": {},
   "outputs": [
    {
     "data": {
      "image/png": "[encoded data removed]",
      "text/plain": [
       "<Figure size 432x288 with 1 Axes>"
      ]
     },
     "metadata": {
      "needs_background": "light"
     },
     "output_type": "display_data"
    }
   ],
   "source": [
    "#variable distribution\n",
    "import seaborn as sns\n",
    "plt.figure(figsize=(6,4))\n",
    "sns.distplot(X['Interest_Rate'])\n",
    "plt.yscale('log')\n",
    "plt.show()"
   ]
  },
  {
   "cell_type": "code",
   "execution_count": 92,
   "metadata": {},
   "outputs": [],
   "source": [
    "#Processing NAN\n",
    "X['Interest_Rate'] = X['Interest_Rate'].fillna((X['Interest_Rate'].mean()))"
   ]
  },
  {
   "cell_type": "markdown",
   "metadata": {},
   "source": [
    "#### Processing_Fee - numerical variable"
   ]
  },
  {
   "cell_type": "code",
   "execution_count": 93,
   "metadata": {},
   "outputs": [
    {
     "data": {
      "text/plain": [
       "2000.0     3074\n",
       "1000.0     2067\n",
       "4000.0     2006\n",
       "3000.0     1286\n",
       "6000.0     1183\n",
       "           ... \n",
       "13464.0       1\n",
       "3969.0        1\n",
       "7326.0        1\n",
       "5920.0        1\n",
       "9120.0        1\n",
       "Name: Processing_Fee, Length: 571, dtype: int64"
      ]
     },
     "execution_count": 93,
     "metadata": {},
     "output_type": "execute_result"
    }
   ],
   "source": [
    "#Processing_Fee - numerical variable\n",
    "X['Processing_Fee'].value_counts()"
   ]
  },
  {
   "cell_type": "code",
   "execution_count": 94,
   "metadata": {},
   "outputs": [
    {
     "name": "stdout",
     "output_type": "stream",
     "text": [
      "missing percentage: 68.49000229832222\n"
     ]
    }
   ],
   "source": [
    "#Missing values\n",
    "calc_missing_values(X['Processing_Fee'])"
   ]
  },
  {
   "cell_type": "code",
   "execution_count": 95,
   "metadata": {},
   "outputs": [
    {
     "data": {
      "text/plain": [
       "count    27420.000000\n",
       "mean      5131.150839\n",
       "std       4725.837644\n",
       "min        200.000000\n",
       "25%       2000.000000\n",
       "50%       4000.000000\n",
       "75%       6250.000000\n",
       "max      50000.000000\n",
       "Name: Processing_Fee, dtype: float64"
      ]
     },
     "execution_count": 95,
     "metadata": {},
     "output_type": "execute_result"
    }
   ],
   "source": [
    "X['Processing_Fee'].describe()"
   ]
  },
  {
   "cell_type": "code",
   "execution_count": 96,
   "metadata": {},
   "outputs": [
    {
     "data": {
      "text/plain": [
       "2.6801088555079806"
      ]
     },
     "execution_count": 96,
     "metadata": {},
     "output_type": "execute_result"
    }
   ],
   "source": [
    "X['Processing_Fee'].skew()"
   ]
  },
  {
   "cell_type": "code",
   "execution_count": 97,
   "metadata": {},
   "outputs": [
    {
     "data": {
      "image/png": "[encoded data removed]",
      "text/plain": [
       "<Figure size 432x288 with 1 Axes>"
      ]
     },
     "metadata": {
      "needs_background": "light"
     },
     "output_type": "display_data"
    }
   ],
   "source": [
    "#variable distribution\n",
    "import seaborn as sns\n",
    "plt.figure(figsize=(6,4))\n",
    "sns.distplot(X['Processing_Fee'])\n",
    "plt.yscale('log')\n",
    "plt.show()"
   ]
  },
  {
   "cell_type": "code",
   "execution_count": 98,
   "metadata": {},
   "outputs": [],
   "source": [
    "#Processing NAN\n",
    "X['Processing_Fee'] = X['Processing_Fee'].fillna((X['Processing_Fee'].mean()))"
   ]
  },
  {
   "cell_type": "code",
   "execution_count": 99,
   "metadata": {},
   "outputs": [],
   "source": [
    "#Processing skewnees\n",
    "X['Processing_Fee'] = np.log1p(X['Processing_Fee'])"
   ]
  },
  {
   "cell_type": "code",
   "execution_count": 100,
   "metadata": {},
   "outputs": [
    {
     "name": "stderr",
     "output_type": "stream",
     "text": [
      "C:\\Users\\darek\\Anaconda3\\lib\\site-packages\\seaborn\\distributions.py:369: UserWarning: Default bandwidth for data is 0; skipping density estimation.\n",
      "  warnings.warn(msg, UserWarning)\n"
     ]
    },
    {
     "data": {
      "image/png": "[encoded data removed]",
      "text/plain": [
       "<Figure size 432x288 with 1 Axes>"
      ]
     },
     "metadata": {
      "needs_background": "light"
     },
     "output_type": "display_data"
    }
   ],
   "source": [
    "#variable distribution afte\n",
    "import seaborn as sns\n",
    "plt.figure(figsize=(6,4))\n",
    "sns.distplot(X['Processing_Fee'])\n",
    "plt.yscale('log')\n",
    "plt.show()"
   ]
  },
  {
   "cell_type": "markdown",
   "metadata": {},
   "source": [
    "#### EMI_Loan_Submitted - numerical variable"
   ]
  },
  {
   "cell_type": "code",
   "execution_count": 101,
   "metadata": {},
   "outputs": [
    {
     "data": {
      "text/plain": [
       "3716.36     288\n",
       "7948.17     252\n",
       "5089.58     240\n",
       "5298.78     229\n",
       "8742.98     218\n",
       "           ... \n",
       "12558.05      1\n",
       "4530.63       1\n",
       "46168.22      1\n",
       "1674.50       1\n",
       "11463.79      1\n",
       "Name: EMI_Loan_Submitted, Length: 4530, dtype: int64"
      ]
     },
     "execution_count": 101,
     "metadata": {},
     "output_type": "execute_result"
    }
   ],
   "source": [
    "#EMI_Loan_Submitted - numerical variable\n",
    "X['EMI_Loan_Submitted'].value_counts()"
   ]
  },
  {
   "cell_type": "code",
   "execution_count": 102,
   "metadata": {},
   "outputs": [
    {
     "name": "stdout",
     "output_type": "stream",
     "text": [
      "missing percentage: 68.13835899793152\n"
     ]
    }
   ],
   "source": [
    "#Missing values\n",
    "calc_missing_values(X['EMI_Loan_Submitted'])"
   ]
  },
  {
   "cell_type": "code",
   "execution_count": 103,
   "metadata": {},
   "outputs": [
    {
     "data": {
      "text/plain": [
       "count     27726.000000\n",
       "mean      10999.528377\n",
       "std        7512.323050\n",
       "min        1176.410000\n",
       "25%        6491.600000\n",
       "50%        9392.970000\n",
       "75%       12919.040000\n",
       "max      144748.280000\n",
       "Name: EMI_Loan_Submitted, dtype: float64"
      ]
     },
     "execution_count": 103,
     "metadata": {},
     "output_type": "execute_result"
    }
   ],
   "source": [
    "X['EMI_Loan_Submitted'].describe()"
   ]
  },
  {
   "cell_type": "code",
   "execution_count": 104,
   "metadata": {},
   "outputs": [
    {
     "data": {
      "text/plain": [
       "2.7549554106213368"
      ]
     },
     "execution_count": 104,
     "metadata": {},
     "output_type": "execute_result"
    }
   ],
   "source": [
    "X['EMI_Loan_Submitted'].skew()"
   ]
  },
  {
   "cell_type": "code",
   "execution_count": 105,
   "metadata": {},
   "outputs": [
    {
     "data": {
      "image/png": "[encoded data removed]",
      "text/plain": [
       "<Figure size 432x288 with 1 Axes>"
      ]
     },
     "metadata": {
      "needs_background": "light"
     },
     "output_type": "display_data"
    }
   ],
   "source": [
    "#variable distribution\n",
    "import seaborn as sns\n",
    "plt.figure(figsize=(6,4))\n",
    "sns.distplot(X['EMI_Loan_Submitted'])\n",
    "plt.show()"
   ]
  },
  {
   "cell_type": "code",
   "execution_count": 106,
   "metadata": {},
   "outputs": [],
   "source": [
    "#Processing NAN\n",
    "X['EMI_Loan_Submitted'] = X['EMI_Loan_Submitted'].fillna((X['EMI_Loan_Submitted'].median()))"
   ]
  },
  {
   "cell_type": "code",
   "execution_count": 107,
   "metadata": {},
   "outputs": [],
   "source": [
    "#Processing skeewness\n",
    "X['EMI_Loan_Submitted'] = np.log1p(X['EMI_Loan_Submitted'])"
   ]
  },
  {
   "cell_type": "code",
   "execution_count": 108,
   "metadata": {},
   "outputs": [
    {
     "name": "stderr",
     "output_type": "stream",
     "text": [
      "C:\\Users\\darek\\Anaconda3\\lib\\site-packages\\seaborn\\distributions.py:369: UserWarning: Default bandwidth for data is 0; skipping density estimation.\n",
      "  warnings.warn(msg, UserWarning)\n"
     ]
    },
    {
     "data": {
      "image/png": "[encoded data removed]",
      "text/plain": [
       "<Figure size 432x288 with 1 Axes>"
      ]
     },
     "metadata": {
      "needs_background": "light"
     },
     "output_type": "display_data"
    }
   ],
   "source": [
    "#variable distribution\n",
    "import seaborn as sns\n",
    "plt.figure(figsize=(6,4))\n",
    "sns.distplot(X['EMI_Loan_Submitted'])\n",
    "plt.yscale('log')\n",
    "plt.show()"
   ]
  },
  {
   "cell_type": "markdown",
   "metadata": {},
   "source": [
    "#### Filled_Form - categorical variable"
   ]
  },
  {
   "cell_type": "code",
   "execution_count": 109,
   "metadata": {},
   "outputs": [
    {
     "data": {
      "text/plain": [
       "N    67530\n",
       "Y    19490\n",
       "Name: Filled_Form, dtype: int64"
      ]
     },
     "execution_count": 109,
     "metadata": {},
     "output_type": "execute_result"
    }
   ],
   "source": [
    "#Filled_Form - categorical variable\n",
    "X['Filled_Form'].value_counts()"
   ]
  },
  {
   "cell_type": "code",
   "execution_count": 110,
   "metadata": {},
   "outputs": [
    {
     "name": "stdout",
     "output_type": "stream",
     "text": [
      "missing percentage: 0.0\n"
     ]
    }
   ],
   "source": [
    "#Missing values\n",
    "calc_missing_values(X['Filled_Form'])"
   ]
  },
  {
   "cell_type": "code",
   "execution_count": 111,
   "metadata": {},
   "outputs": [
    {
     "data": {
      "text/plain": [
       "count     87020\n",
       "unique        2\n",
       "top           N\n",
       "freq      67530\n",
       "Name: Filled_Form, dtype: object"
      ]
     },
     "execution_count": 111,
     "metadata": {},
     "output_type": "execute_result"
    }
   ],
   "source": [
    "X['Filled_Form'].describe()"
   ]
  },
  {
   "cell_type": "code",
   "execution_count": 112,
   "metadata": {},
   "outputs": [],
   "source": [
    "#Filled_Form encode to Y - > 1, N->0\n",
    "X['Filled_Form'] = X['Filled_Form'].replace({\"Y\":1, \"N\":0})"
   ]
  },
  {
   "cell_type": "markdown",
   "metadata": {},
   "source": [
    "#### Device_Type - categorical variable"
   ]
  },
  {
   "cell_type": "code",
   "execution_count": 113,
   "metadata": {},
   "outputs": [
    {
     "data": {
      "text/plain": [
       "Web-browser    64316\n",
       "Mobile         22704\n",
       "Name: Device_Type, dtype: int64"
      ]
     },
     "execution_count": 113,
     "metadata": {},
     "output_type": "execute_result"
    }
   ],
   "source": [
    "#Device_Type - categorical variable\n",
    "X['Device_Type'].value_counts()"
   ]
  },
  {
   "cell_type": "code",
   "execution_count": 114,
   "metadata": {},
   "outputs": [
    {
     "name": "stdout",
     "output_type": "stream",
     "text": [
      "missing percentage: 0.0\n"
     ]
    }
   ],
   "source": [
    "#Missing values\n",
    "calc_missing_values(X['Device_Type'])"
   ]
  },
  {
   "cell_type": "code",
   "execution_count": 115,
   "metadata": {},
   "outputs": [
    {
     "data": {
      "text/plain": [
       "count           87020\n",
       "unique              2\n",
       "top       Web-browser\n",
       "freq            64316\n",
       "Name: Device_Type, dtype: object"
      ]
     },
     "execution_count": 115,
     "metadata": {},
     "output_type": "execute_result"
    }
   ],
   "source": [
    "X['Device_Type'].describe()"
   ]
  },
  {
   "cell_type": "code",
   "execution_count": 116,
   "metadata": {},
   "outputs": [],
   "source": [
    "#Device type encode Web-browser -> 1, Mobile -> 0\n",
    "X['Device_Type'] = X['Device_Type'].replace({\"Web-browser\":1, \"Mobile\":0})"
   ]
  },
  {
   "cell_type": "markdown",
   "metadata": {},
   "source": [
    "#### Var2 - categorical multiple level variable"
   ]
  },
  {
   "cell_type": "code",
   "execution_count": 117,
   "metadata": {},
   "outputs": [
    {
     "data": {
      "text/plain": [
       "B    37280\n",
       "G    33032\n",
       "C    14210\n",
       "E     1315\n",
       "D      634\n",
       "F      544\n",
       "A        5\n",
       "Name: Var2, dtype: int64"
      ]
     },
     "execution_count": 117,
     "metadata": {},
     "output_type": "execute_result"
    }
   ],
   "source": [
    "#Var2 - categorical multiple level\n",
    "X['Var2'].value_counts()"
   ]
  },
  {
   "cell_type": "code",
   "execution_count": 118,
   "metadata": {},
   "outputs": [
    {
     "name": "stdout",
     "output_type": "stream",
     "text": [
      "missing percentage: 0.0\n"
     ]
    }
   ],
   "source": [
    "#missing values\n",
    "calc_missing_values(X['Var2'])"
   ]
  },
  {
   "cell_type": "code",
   "execution_count": 119,
   "metadata": {},
   "outputs": [
    {
     "data": {
      "text/plain": [
       "count     87020\n",
       "unique        7\n",
       "top           B\n",
       "freq      37280\n",
       "Name: Var2, dtype: object"
      ]
     },
     "execution_count": 119,
     "metadata": {},
     "output_type": "execute_result"
    }
   ],
   "source": [
    "X['Var2'].describe()"
   ]
  },
  {
   "cell_type": "code",
   "execution_count": 120,
   "metadata": {},
   "outputs": [
    {
     "data": {
      "text/plain": [
       "(array([3.3032e+04, 3.7280e+04, 1.4210e+04, 1.3150e+03, 5.4400e+02,\n",
       "        6.3400e+02, 5.0000e+00]),\n",
       " array([0.        , 0.85714286, 1.71428571, 2.57142857, 3.42857143,\n",
       "        4.28571429, 5.14285714, 6.        ]),\n",
       " <a list of 7 Patch objects>)"
      ]
     },
     "execution_count": 120,
     "metadata": {},
     "output_type": "execute_result"
    },
    {
     "data": {
      "image/png": "[encoded data removed]",
      "text/plain": [
       "<Figure size 432x288 with 1 Axes>"
      ]
     },
     "metadata": {
      "needs_background": "light"
     },
     "output_type": "display_data"
    }
   ],
   "source": [
    "#variable distribution\n",
    "plt.figure(figsize=(6,4))\n",
    "plt.hist(X['Var2'],bins=7)"
   ]
  },
  {
   "cell_type": "markdown",
   "metadata": {},
   "source": [
    "#### Source - categorical variable"
   ]
  },
  {
   "cell_type": "code",
   "execution_count": 121,
   "metadata": {},
   "outputs": [
    {
     "data": {
      "text/plain": [
       "S122    38567\n",
       "S133    29885\n",
       "S159     5599\n",
       "S143     4332\n",
       "S127     1931\n",
       "S137     1724\n",
       "S134     1301\n",
       "S161      769\n",
       "S151      720\n",
       "S157      650\n",
       "S153      494\n",
       "S156      308\n",
       "S144      299\n",
       "S158      208\n",
       "S123       73\n",
       "S141       57\n",
       "S162       36\n",
       "S124       24\n",
       "S160       11\n",
       "S150       10\n",
       "S155        4\n",
       "S139        3\n",
       "S136        3\n",
       "S129        3\n",
       "S138        3\n",
       "S135        2\n",
       "S125        1\n",
       "S130        1\n",
       "S154        1\n",
       "S140        1\n",
       "Name: Source, dtype: int64"
      ]
     },
     "execution_count": 121,
     "metadata": {},
     "output_type": "execute_result"
    }
   ],
   "source": [
    "#Source categorical multiple level variable\n",
    "X['Source'].value_counts()"
   ]
  },
  {
   "cell_type": "code",
   "execution_count": 122,
   "metadata": {},
   "outputs": [
    {
     "name": "stdout",
     "output_type": "stream",
     "text": [
      "missing percentage: 0.0\n"
     ]
    }
   ],
   "source": [
    "#Missing values\n",
    "calc_missing_values(X['Source'])"
   ]
  },
  {
   "cell_type": "code",
   "execution_count": 123,
   "metadata": {},
   "outputs": [
    {
     "data": {
      "text/plain": [
       "count     87020\n",
       "unique       30\n",
       "top        S122\n",
       "freq      38567\n",
       "Name: Source, dtype: object"
      ]
     },
     "execution_count": 123,
     "metadata": {},
     "output_type": "execute_result"
    }
   ],
   "source": [
    "X['Source'].describe()"
   ]
  },
  {
   "cell_type": "code",
   "execution_count": 124,
   "metadata": {},
   "outputs": [
    {
     "data": {
      "text/plain": [
       "(array([3.8567e+04, 4.3320e+03, 1.3010e+03, 2.9885e+04, 5.5990e+03,\n",
       "        7.2000e+02, 1.7240e+03, 1.9310e+03, 2.9900e+02, 7.3000e+01,\n",
       "        3.0800e+02, 4.9400e+02, 2.4000e+01, 7.6900e+02, 3.0000e+00,\n",
       "        1.0000e+00, 6.5000e+02, 3.0000e+00, 3.6000e+01, 5.7000e+01,\n",
       "        2.0800e+02, 1.0000e+00, 3.0000e+00, 3.0000e+00, 1.0000e+00,\n",
       "        4.0000e+00, 1.1000e+01, 1.0000e+01, 2.0000e+00, 1.0000e+00]),\n",
       " array([ 0.        ,  0.96666667,  1.93333333,  2.9       ,  3.86666667,\n",
       "         4.83333333,  5.8       ,  6.76666667,  7.73333333,  8.7       ,\n",
       "         9.66666667, 10.63333333, 11.6       , 12.56666667, 13.53333333,\n",
       "        14.5       , 15.46666667, 16.43333333, 17.4       , 18.36666667,\n",
       "        19.33333333, 20.3       , 21.26666667, 22.23333333, 23.2       ,\n",
       "        24.16666667, 25.13333333, 26.1       , 27.06666667, 28.03333333,\n",
       "        29.        ]),\n",
       " <a list of 30 Patch objects>)"
      ]
     },
     "execution_count": 124,
     "metadata": {},
     "output_type": "execute_result"
    },
    {
     "data": {
      "image/png": "[encoded data removed]",
      "text/plain": [
       "<Figure size 1440x432 with 1 Axes>"
      ]
     },
     "metadata": {
      "needs_background": "light"
     },
     "output_type": "display_data"
    }
   ],
   "source": [
    "#variable distribution\n",
    "plt.figure(figsize=(20,6))\n",
    "plt.hist(X['Source'],bins=30)"
   ]
  },
  {
   "cell_type": "markdown",
   "metadata": {},
   "source": [
    "#### Var4 - categorical variable"
   ]
  },
  {
   "cell_type": "code",
   "execution_count": 125,
   "metadata": {},
   "outputs": [],
   "source": [
    "#Var4 categorical multiple level, so we need to change int64 to string for later one-hot-encoding\n",
    "X['Var4'] = X['Var4'].apply(str)"
   ]
  },
  {
   "cell_type": "code",
   "execution_count": 126,
   "metadata": {},
   "outputs": [
    {
     "data": {
      "text/plain": [
       "3    25260\n",
       "1    23906\n",
       "5    20266\n",
       "4     6577\n",
       "2     5931\n",
       "0     2546\n",
       "7     2302\n",
       "6      232\n",
       "Name: Var4, dtype: int64"
      ]
     },
     "execution_count": 126,
     "metadata": {},
     "output_type": "execute_result"
    }
   ],
   "source": [
    "X['Var4'].value_counts()"
   ]
  },
  {
   "cell_type": "code",
   "execution_count": 127,
   "metadata": {},
   "outputs": [
    {
     "name": "stdout",
     "output_type": "stream",
     "text": [
      "missing percentage: 0.0\n"
     ]
    }
   ],
   "source": [
    "#Missing values\n",
    "calc_missing_values(X['Var4'])"
   ]
  },
  {
   "cell_type": "code",
   "execution_count": 128,
   "metadata": {},
   "outputs": [
    {
     "data": {
      "text/plain": [
       "count     87020\n",
       "unique        8\n",
       "top           3\n",
       "freq      25260\n",
       "Name: Var4, dtype: object"
      ]
     },
     "execution_count": 128,
     "metadata": {},
     "output_type": "execute_result"
    }
   ],
   "source": [
    "X['Var4'].describe()"
   ]
  },
  {
   "cell_type": "code",
   "execution_count": 129,
   "metadata": {},
   "outputs": [
    {
     "data": {
      "text/plain": [
       "(array([23906., 25260., 20266.,  6577.,  5931.,  2302.,   232.,  2546.]),\n",
       " array([0.   , 0.875, 1.75 , 2.625, 3.5  , 4.375, 5.25 , 6.125, 7.   ]),\n",
       " <a list of 8 Patch objects>)"
      ]
     },
     "execution_count": 129,
     "metadata": {},
     "output_type": "execute_result"
    },
    {
     "data": {
      "image/png": "[encoded data removed]",
      "text/plain": [
       "<Figure size 432x288 with 1 Axes>"
      ]
     },
     "metadata": {
      "needs_background": "light"
     },
     "output_type": "display_data"
    }
   ],
   "source": [
    "#variable distribution\n",
    "plt.figure(figsize=(6,4))\n",
    "plt.hist(X['Var4'],bins=8)\n",
    "#plt.yscale('log')\n",
    "#plt.xscale('log')"
   ]
  },
  {
   "cell_type": "markdown",
   "metadata": {},
   "source": [
    "#### target variable - loan disbursed"
   ]
  },
  {
   "cell_type": "markdown",
   "metadata": {},
   "source": [
    "#### Now we are doing analysis of output variable"
   ]
  },
  {
   "cell_type": "code",
   "execution_count": 130,
   "metadata": {},
   "outputs": [
    {
     "data": {
      "text/plain": [
       "0    85747\n",
       "1     1273\n",
       "Name: Disbursed, dtype: int64"
      ]
     },
     "execution_count": 130,
     "metadata": {},
     "output_type": "execute_result"
    }
   ],
   "source": [
    "#target variable statistics\n",
    "y.value_counts()"
   ]
  },
  {
   "cell_type": "code",
   "execution_count": 131,
   "metadata": {},
   "outputs": [
    {
     "data": {
      "text/plain": [
       "(array([85747.,     0.,     0.,     0.,     0.,     0.,     0.,     0.,\n",
       "            0.,  1273.]),\n",
       " array([0. , 0.1, 0.2, 0.3, 0.4, 0.5, 0.6, 0.7, 0.8, 0.9, 1. ]),\n",
       " <a list of 10 Patch objects>)"
      ]
     },
     "execution_count": 131,
     "metadata": {},
     "output_type": "execute_result"
    },
    {
     "data": {
      "image/png": "[encoded data removed]",
      "text/plain": [
       "<Figure size 432x288 with 1 Axes>"
      ]
     },
     "metadata": {
      "needs_background": "light"
     },
     "output_type": "display_data"
    }
   ],
   "source": [
    "#target variable distribution\n",
    "plt.hist(y)"
   ]
  },
  {
   "cell_type": "markdown",
   "metadata": {},
   "source": [
    "#### as we can see variable distribution is highly unbalanced. We have some methods for dealing with unbalanced class. For example oversampling or weighted loss function. Proper metric for benchmarking will be analyzing of Receiver Operation Characteristic (ROC) - ROC curve and ROC AUC - area under the curve."
   ]
  },
  {
   "cell_type": "markdown",
   "metadata": {},
   "source": [
    "#### We use all data without DOB and Lead_Creation_Date. We need to encode our data using one-hot-encoding technique."
   ]
  },
  {
   "cell_type": "code",
   "execution_count": 132,
   "metadata": {},
   "outputs": [],
   "source": [
    "#final data for analysis\n",
    "X = pd.get_dummies(X.drop([\"DOB\", \"Lead_Creation_Date\"], axis=1))"
   ]
  },
  {
   "cell_type": "code",
   "execution_count": 133,
   "metadata": {},
   "outputs": [
    {
     "data": {
      "text/html": [
       "<div>\n",
       "<style scoped>\n",
       "    .dataframe tbody tr th:only-of-type {\n",
       "        vertical-align: middle;\n",
       "    }\n",
       "\n",
       "    .dataframe tbody tr th {\n",
       "        vertical-align: top;\n",
       "    }\n",
       "\n",
       "    .dataframe thead th {\n",
       "        text-align: right;\n",
       "    }\n",
       "</style>\n",
       "<table border=\"1\" class=\"dataframe\">\n",
       "  <thead>\n",
       "    <tr style=\"text-align: right;\">\n",
       "      <th></th>\n",
       "      <th>Gender</th>\n",
       "      <th>Monthly_Income</th>\n",
       "      <th>Loan_Amount_Applied</th>\n",
       "      <th>Loan_Tenure_Applied</th>\n",
       "      <th>Existing_EMI</th>\n",
       "      <th>Mobile_Verified</th>\n",
       "      <th>Var5</th>\n",
       "      <th>Loan_Amount_Submitted</th>\n",
       "      <th>Loan_Tenure_Submitted</th>\n",
       "      <th>Interest_Rate</th>\n",
       "      <th>...</th>\n",
       "      <th>Source_S161</th>\n",
       "      <th>Source_S162</th>\n",
       "      <th>Var4_0</th>\n",
       "      <th>Var4_1</th>\n",
       "      <th>Var4_2</th>\n",
       "      <th>Var4_3</th>\n",
       "      <th>Var4_4</th>\n",
       "      <th>Var4_5</th>\n",
       "      <th>Var4_6</th>\n",
       "      <th>Var4_7</th>\n",
       "    </tr>\n",
       "  </thead>\n",
       "  <tbody>\n",
       "    <tr>\n",
       "      <th>0</th>\n",
       "      <td>0</td>\n",
       "      <td>9.903538</td>\n",
       "      <td>547.722558</td>\n",
       "      <td>5.0</td>\n",
       "      <td>0.000000</td>\n",
       "      <td>0</td>\n",
       "      <td>0</td>\n",
       "      <td>628.498680</td>\n",
       "      <td>4.0</td>\n",
       "      <td>19.197474</td>\n",
       "      <td>...</td>\n",
       "      <td>0</td>\n",
       "      <td>0</td>\n",
       "      <td>0</td>\n",
       "      <td>1</td>\n",
       "      <td>0</td>\n",
       "      <td>0</td>\n",
       "      <td>0</td>\n",
       "      <td>0</td>\n",
       "      <td>0</td>\n",
       "      <td>0</td>\n",
       "    </tr>\n",
       "    <tr>\n",
       "      <th>1</th>\n",
       "      <td>1</td>\n",
       "      <td>10.463132</td>\n",
       "      <td>447.213595</td>\n",
       "      <td>2.0</td>\n",
       "      <td>0.000000</td>\n",
       "      <td>1</td>\n",
       "      <td>13</td>\n",
       "      <td>447.213595</td>\n",
       "      <td>2.0</td>\n",
       "      <td>13.250000</td>\n",
       "      <td>...</td>\n",
       "      <td>0</td>\n",
       "      <td>0</td>\n",
       "      <td>0</td>\n",
       "      <td>0</td>\n",
       "      <td>0</td>\n",
       "      <td>1</td>\n",
       "      <td>0</td>\n",
       "      <td>0</td>\n",
       "      <td>0</td>\n",
       "      <td>0</td>\n",
       "    </tr>\n",
       "    <tr>\n",
       "      <th>2</th>\n",
       "      <td>1</td>\n",
       "      <td>10.021315</td>\n",
       "      <td>774.596669</td>\n",
       "      <td>4.0</td>\n",
       "      <td>0.000000</td>\n",
       "      <td>1</td>\n",
       "      <td>0</td>\n",
       "      <td>670.820393</td>\n",
       "      <td>4.0</td>\n",
       "      <td>19.197474</td>\n",
       "      <td>...</td>\n",
       "      <td>0</td>\n",
       "      <td>0</td>\n",
       "      <td>0</td>\n",
       "      <td>1</td>\n",
       "      <td>0</td>\n",
       "      <td>0</td>\n",
       "      <td>0</td>\n",
       "      <td>0</td>\n",
       "      <td>0</td>\n",
       "      <td>0</td>\n",
       "    </tr>\n",
       "    <tr>\n",
       "      <th>3</th>\n",
       "      <td>1</td>\n",
       "      <td>10.463132</td>\n",
       "      <td>1000.000000</td>\n",
       "      <td>5.0</td>\n",
       "      <td>0.000000</td>\n",
       "      <td>1</td>\n",
       "      <td>10</td>\n",
       "      <td>959.166305</td>\n",
       "      <td>5.0</td>\n",
       "      <td>19.197474</td>\n",
       "      <td>...</td>\n",
       "      <td>0</td>\n",
       "      <td>0</td>\n",
       "      <td>0</td>\n",
       "      <td>0</td>\n",
       "      <td>0</td>\n",
       "      <td>1</td>\n",
       "      <td>0</td>\n",
       "      <td>0</td>\n",
       "      <td>0</td>\n",
       "      <td>0</td>\n",
       "    </tr>\n",
       "    <tr>\n",
       "      <th>4</th>\n",
       "      <td>1</td>\n",
       "      <td>11.512935</td>\n",
       "      <td>707.106781</td>\n",
       "      <td>2.0</td>\n",
       "      <td>158.113883</td>\n",
       "      <td>1</td>\n",
       "      <td>17</td>\n",
       "      <td>707.106781</td>\n",
       "      <td>2.0</td>\n",
       "      <td>19.197474</td>\n",
       "      <td>...</td>\n",
       "      <td>0</td>\n",
       "      <td>0</td>\n",
       "      <td>0</td>\n",
       "      <td>0</td>\n",
       "      <td>0</td>\n",
       "      <td>1</td>\n",
       "      <td>0</td>\n",
       "      <td>0</td>\n",
       "      <td>0</td>\n",
       "      <td>0</td>\n",
       "    </tr>\n",
       "  </tbody>\n",
       "</table>\n",
       "<p>5 rows × 112 columns</p>\n",
       "</div>"
      ],
      "text/plain": [
       "   Gender  Monthly_Income  Loan_Amount_Applied  Loan_Tenure_Applied  Existing_EMI  Mobile_Verified  Var5  Loan_Amount_Submitted  Loan_Tenure_Submitted  Interest_Rate  ...  Source_S161  Source_S162  Var4_0  Var4_1  Var4_2  Var4_3  Var4_4  Var4_5  Var4_6  Var4_7\n",
       "0       0        9.903538           547.722558                  5.0      0.000000                0     0             628.498680                    4.0      19.197474  ...            0            0       0       1       0       0       0       0       0       0\n",
       "1       1       10.463132           447.213595                  2.0      0.000000                1    13             447.213595                    2.0      13.250000  ...            0            0       0       0       0       1       0       0       0       0\n",
       "2       1       10.021315           774.596669                  4.0      0.000000                1     0             670.820393                    4.0      19.197474  ...            0            0       0       1       0       0       0       0       0       0\n",
       "3       1       10.463132          1000.000000                  5.0      0.000000                1    10             959.166305                    5.0      19.197474  ...            0            0       0       0       0       1       0       0       0       0\n",
       "4       1       11.512935           707.106781                  2.0    158.113883                1    17             707.106781                    2.0      19.197474  ...            0            0       0       0       0       1       0       0       0       0\n",
       "\n",
       "[5 rows x 112 columns]"
      ]
     },
     "execution_count": 133,
     "metadata": {},
     "output_type": "execute_result"
    }
   ],
   "source": [
    "X.head()"
   ]
  },
  {
   "cell_type": "code",
   "execution_count": 134,
   "metadata": {},
   "outputs": [
    {
     "data": {
      "text/plain": [
       "(87020, 112)"
      ]
     },
     "execution_count": 134,
     "metadata": {},
     "output_type": "execute_result"
    }
   ],
   "source": [
    "X.shape"
   ]
  },
  {
   "cell_type": "markdown",
   "metadata": {},
   "source": [
    "#### Now we are trying to set some base level of our work, we use classifier without any optimizations:\n",
    "- logistic regression\n",
    "- decission tree\n",
    "- random forrest \n",
    "\n",
    "#### output variable y is higly unbalaced so I have decided to use weighted loss function for better learning."
   ]
  },
  {
   "cell_type": "code",
   "execution_count": 135,
   "metadata": {},
   "outputs": [],
   "source": [
    "seed = 123\n",
    "kfold = StratifiedKFold(n_splits=5, shuffle=True, random_state=seed)"
   ]
  },
  {
   "cell_type": "code",
   "execution_count": 136,
   "metadata": {},
   "outputs": [],
   "source": [
    "from sklearn.model_selection import train_test_split\n",
    "X_train, X_test, y_train, y_test = train_test_split(X, y, test_size=0.33, random_state=seed)\n",
    "best_classifier = []"
   ]
  },
  {
   "cell_type": "code",
   "execution_count": 137,
   "metadata": {},
   "outputs": [
    {
     "name": "stdout",
     "output_type": "stream",
     "text": [
      "Fitting 5 folds for each of 1 candidates, totalling 5 fits\n"
     ]
    },
    {
     "name": "stderr",
     "output_type": "stream",
     "text": [
      "[Parallel(n_jobs=-1)]: Using backend LokyBackend with 16 concurrent workers.\n",
      "[Parallel(n_jobs=-1)]: Done   2 out of   5 | elapsed:    4.5s remaining:    6.8s\n",
      "[Parallel(n_jobs=-1)]: Done   5 out of   5 | elapsed:    5.2s finished\n"
     ]
    },
    {
     "name": "stdout",
     "output_type": "stream",
     "text": [
      " roc_auc_score: 0.8315870946516606\n",
      " accuracy_score: 0.7502176411185012\n",
      " precision_score: 0.04508030773383723\n",
      " recall_score: 0.7731481481481481\n",
      " f1_score: 0.0851932151511287\n",
      "Fitting 5 folds for each of 1 candidates, totalling 5 fits\n"
     ]
    },
    {
     "name": "stderr",
     "output_type": "stream",
     "text": [
      "[Parallel(n_jobs=-1)]: Using backend LokyBackend with 16 concurrent workers.\n",
      "[Parallel(n_jobs=-1)]: Done   2 out of   5 | elapsed:    1.9s remaining:    2.9s\n",
      "[Parallel(n_jobs=-1)]: Done   5 out of   5 | elapsed:    2.0s finished\n"
     ]
    },
    {
     "name": "stdout",
     "output_type": "stream",
     "text": [
      " roc_auc_score: 0.5248084968475636\n",
      " accuracy_score: 0.970957969147195\n",
      " precision_score: 0.0611353711790393\n",
      " recall_score: 0.06481481481481481\n",
      " f1_score: 0.06292134831460673\n",
      "Fitting 5 folds for each of 1 candidates, totalling 5 fits\n"
     ]
    },
    {
     "name": "stderr",
     "output_type": "stream",
     "text": [
      "[Parallel(n_jobs=-1)]: Using backend LokyBackend with 16 concurrent workers.\n",
      "[Parallel(n_jobs=-1)]: Done   2 out of   5 | elapsed:    5.1s remaining:    7.7s\n",
      "[Parallel(n_jobs=-1)]: Done   5 out of   5 | elapsed:    5.4s finished\n",
      "[Parallel(n_jobs=-1)]: Using backend ThreadingBackend with 16 concurrent workers.\n",
      "[Parallel(n_jobs=-1)]: Done  18 tasks      | elapsed:    0.2s\n",
      "[Parallel(n_jobs=-1)]: Done 100 out of 100 | elapsed:    1.1s finished\n",
      "[Parallel(n_jobs=16)]: Using backend ThreadingBackend with 16 concurrent workers.\n",
      "[Parallel(n_jobs=16)]: Done  18 tasks      | elapsed:    0.0s\n",
      "[Parallel(n_jobs=16)]: Done 100 out of 100 | elapsed:    0.0s finished\n"
     ]
    },
    {
     "name": "stdout",
     "output_type": "stream",
     "text": [
      " roc_auc_score: 0.7793213832092654\n",
      " accuracy_score: 0.9849218233102344\n",
      " precision_score: 0.3333333333333333\n",
      " recall_score: 0.0023148148148148147\n",
      " f1_score: 0.004597701149425287\n"
     ]
    },
    {
     "name": "stderr",
     "output_type": "stream",
     "text": [
      "[Parallel(n_jobs=16)]: Using backend ThreadingBackend with 16 concurrent workers.\n",
      "[Parallel(n_jobs=16)]: Done  18 tasks      | elapsed:    0.0s\n",
      "[Parallel(n_jobs=16)]: Done 100 out of 100 | elapsed:    0.0s finished\n"
     ]
    }
   ],
   "source": [
    "pipelines = [\n",
    "  \n",
    "#Logistic regression\n",
    "    Pipeline([\n",
    "    (\"scaler\", StandardScaler()),\n",
    "    (\"model\", LogisticRegression(max_iter=1000,class_weight='balanced'))\n",
    "    ]),\n",
    " \n",
    "#Decission Tree\n",
    "    Pipeline([\n",
    "    (\"scaler\", StandardScaler()),\n",
    "    (\"model\", DecisionTreeClassifier(random_state=seed,class_weight='balanced'))\n",
    "    ]),\n",
    "    \n",
    "#Random Forrest\n",
    "    Pipeline([\n",
    "    (\"scaler\", StandardScaler()),\n",
    "    (\"model\", RandomForestClassifier(verbose=True,n_jobs=-1,random_state=seed,class_weight='balanced'))\n",
    "    ])\n",
    "    ]\n",
    "\n",
    "for model in pipelines:\n",
    "    gs = GridSearchCV(model, param_grid={}, cv = kfold,n_jobs=-1, verbose=5,scoring=\"roc_auc\",return_train_score=True)\n",
    "    gs.fit(X_train, y_train)\n",
    "    y_pred = gs.predict(X_test)\n",
    "    print(\" roc_auc_score: {}\".format(roc_auc_score(y_test, gs.best_estimator_.predict_proba(X_test).T[1] )))\n",
    "    print(\" accuracy_score: {}\".format(accuracy_score(y_test, y_pred)))\n",
    "    print(\" precision_score: {}\".format(precision_score(y_test, y_pred)))\n",
    "    print(\" recall_score: {}\".format(recall_score(y_test, y_pred)))\n",
    "    print(\" f1_score: {}\".format(f1_score(y_test, y_pred)))\n",
    "    best_classifier.append(gs)"
   ]
  },
  {
   "cell_type": "markdown",
   "metadata": {},
   "source": [
    "#### for better classifier comparison we draw ROC curve."
   ]
  },
  {
   "cell_type": "code",
   "execution_count": 138,
   "metadata": {},
   "outputs": [
    {
     "name": "stderr",
     "output_type": "stream",
     "text": [
      "[Parallel(n_jobs=16)]: Using backend ThreadingBackend with 16 concurrent workers.\n",
      "[Parallel(n_jobs=16)]: Done  18 tasks      | elapsed:    0.0s\n",
      "[Parallel(n_jobs=16)]: Done 100 out of 100 | elapsed:    0.0s finished\n"
     ]
    }
   ],
   "source": [
    "y_scores_model_0 = best_classifier[0].predict_proba(X_test).T[1]\n",
    "y_scores_model_1 = best_classifier[1].predict_proba(X_test).T[1]\n",
    "y_scores_model_2 = best_classifier[2].predict_proba(X_test).T[1]"
   ]
  },
  {
   "cell_type": "code",
   "execution_count": 139,
   "metadata": {},
   "outputs": [
    {
     "data": {
      "image/png": "[encoded data removed]",
      "text/plain": [
       "<Figure size 360x360 with 1 Axes>"
      ]
     },
     "metadata": {
      "needs_background": "light"
     },
     "output_type": "display_data"
    }
   ],
   "source": [
    "fpr_clf_0, tpr_clf_0, thresholds_clf_0 = roc_curve(y_test, y_scores_model_0)\n",
    "fpr_clf_1, tpr_clf_1, thresholds_clf_1 = roc_curve(y_test, y_scores_model_1)\n",
    "fpr_clf_2, tpr_clf_2, thresholds_clf_2 = roc_curve(y_test, y_scores_model_2)\n",
    "plt.figure(figsize=(5,5))\n",
    "plot_roc_curve(fpr_clf_0, tpr_clf_0, \"LR\")\n",
    "plot_roc_curve(fpr_clf_1, tpr_clf_1, \"DT\")\n",
    "plot_roc_curve(fpr_clf_2, tpr_clf_2, \"RF\")\n",
    "plt.legend(loc=\"lower right\", fontsize=16)\n",
    "plt.show()"
   ]
  },
  {
   "cell_type": "markdown",
   "metadata": {},
   "source": [
    "#### Logistic regression perform better than decission tree and random forrest.  Confusion matrix for random forrest classifier:"
   ]
  },
  {
   "cell_type": "code",
   "execution_count": 140,
   "metadata": {},
   "outputs": [
    {
     "data": {
      "text/plain": [
       "<matplotlib.axes._subplots.AxesSubplot at 0x2ccd45ebfc8>"
      ]
     },
     "execution_count": 140,
     "metadata": {},
     "output_type": "execute_result"
    },
    {
     "data": {
      "image/png": "[encoded data removed]",
      "text/plain": [
       "<Figure size 360x360 with 2 Axes>"
      ]
     },
     "metadata": {
      "needs_background": "light"
     },
     "output_type": "display_data"
    }
   ],
   "source": [
    "#confusion matrix for our model\n",
    "#random forrest\n",
    "y_pred = best_classifier[1].predict(X_test)\n",
    "plt.figure(figsize = (5,5))\n",
    "cm = confusion_matrix(y_test, y_pred)\n",
    "sns.heatmap(cm, annot=True, fmt='d', annot_kws={\"size\": 14})"
   ]
  },
  {
   "cell_type": "code",
   "execution_count": 141,
   "metadata": {},
   "outputs": [
    {
     "data": {
      "text/plain": [
       "{'true nagative': 27855,\n",
       " 'false positive': 430,\n",
       " 'false negative': 404,\n",
       " 'true positive': 28}"
      ]
     },
     "execution_count": 141,
     "metadata": {},
     "output_type": "execute_result"
    }
   ],
   "source": [
    "(tn, fp, fn, tp) = confusion_matrix(y_test, y_pred).ravel()\n",
    "matrix_0 = dict(zip((\"true nagative\", \"false positive\", \"false negative\", \"true positive\"),[tn, fp, fn, tp]))\n",
    "matrix_0"
   ]
  },
  {
   "cell_type": "markdown",
   "metadata": {},
   "source": [
    "#### as we can see for test set which is subset of train set, our classifier doesnt perform very well, a lots of false positive and false positives are present."
   ]
  },
  {
   "cell_type": "markdown",
   "metadata": {},
   "source": [
    "#### Decision tree or random forrest is capable to show which features is most important during tree construction:"
   ]
  },
  {
   "cell_type": "code",
   "execution_count": 142,
   "metadata": {},
   "outputs": [
    {
     "data": {
      "image/png": "[encoded data removed]",
      "text/plain": [
       "<Figure size 1440x1440 with 1 Axes>"
      ]
     },
     "metadata": {
      "needs_background": "light"
     },
     "output_type": "display_data"
    }
   ],
   "source": [
    "plt.figure(figsize=(20, 20))\n",
    "plot_feature_importances(best_classifier[1].best_estimator_.steps[1][1], X,'Decission Tree')\n",
    "plt.show()"
   ]
  },
  {
   "cell_type": "markdown",
   "metadata": {},
   "source": [
    "#### Most important feature using in tree is Monthly income, it looks ok. If you earn more it is more likly to get loan.  \n",
    "##### We also can use PCA transformation for seeing level of explained variance"
   ]
  },
  {
   "cell_type": "code",
   "execution_count": 143,
   "metadata": {},
   "outputs": [
    {
     "data": {
      "image/png": "[encoded data removed]",
      "text/plain": [
       "<Figure size 720x720 with 1 Axes>"
      ]
     },
     "metadata": {
      "needs_background": "light"
     },
     "output_type": "display_data"
    }
   ],
   "source": [
    "#### pca for all features\n",
    "pca = PCA()\n",
    "pca.fit(scale(X))\n",
    "plt.figure(figsize=(10,10))\n",
    "plt.bar(range(1,1+pca.n_components_),pca.explained_variance_ratio_)\n",
    "plt.show()"
   ]
  },
  {
   "cell_type": "code",
   "execution_count": 144,
   "metadata": {},
   "outputs": [
    {
     "data": {
      "image/png": "[encoded data removed]",
      "text/plain": [
       "<Figure size 720x720 with 1 Axes>"
      ]
     },
     "metadata": {
      "needs_background": "light"
     },
     "output_type": "display_data"
    },
    {
     "name": "stdout",
     "output_type": "stream",
     "text": [
      "explained variance for 50% of features: 0.6876799169527421\n"
     ]
    }
   ],
   "source": [
    "#variable explained for 50% of features\n",
    "pca = PCA(int(X.shape[1]/2))\n",
    "pca.fit(scale(X))\n",
    "plt.figure(figsize=(10,10))\n",
    "plt.bar(range(1,1+pca.n_components_),pca.explained_variance_ratio_)\n",
    "plt.show()\n",
    "print('explained variance for 50% of features: '+format(pca.explained_variance_ratio_.sum()))"
   ]
  },
  {
   "cell_type": "markdown",
   "metadata": {},
   "source": [
    "#### We have decided to use all features without pca reduction. \n",
    "#### Classifier with default hyperparameters is not a good idea.  Sklearn gives us a lot of optimization methods. One of them is brute force using parameters list."
   ]
  },
  {
   "cell_type": "code",
   "execution_count": 145,
   "metadata": {},
   "outputs": [
    {
     "name": "stdout",
     "output_type": "stream",
     "text": [
      "Fitting 5 folds for each of 6 candidates, totalling 30 fits\n"
     ]
    },
    {
     "name": "stderr",
     "output_type": "stream",
     "text": [
      "[Parallel(n_jobs=-1)]: Using backend LokyBackend with 16 concurrent workers.\n",
      "[Parallel(n_jobs=-1)]: Done   6 out of  30 | elapsed:    3.5s remaining:   14.5s\n",
      "[Parallel(n_jobs=-1)]: Done  13 out of  30 | elapsed:    6.5s remaining:    8.6s\n",
      "[Parallel(n_jobs=-1)]: Done  20 out of  30 | elapsed:   11.9s remaining:    5.9s\n",
      "[Parallel(n_jobs=-1)]: Done  27 out of  30 | elapsed:   15.7s remaining:    1.7s\n",
      "[Parallel(n_jobs=-1)]: Done  30 out of  30 | elapsed:   16.5s finished\n"
     ]
    },
    {
     "name": "stdout",
     "output_type": "stream",
     "text": [
      " roc_auc_score: 0.8314356107477461\n",
      " precision_score: 0.04471599301732241\n",
      " recall_score: 0.7708333333333334\n",
      " f1_score: 0.08452849346363751\n",
      "Fitting 5 folds for each of 60 candidates, totalling 300 fits\n"
     ]
    },
    {
     "name": "stderr",
     "output_type": "stream",
     "text": [
      "[Parallel(n_jobs=-1)]: Using backend LokyBackend with 16 concurrent workers.\n",
      "[Parallel(n_jobs=-1)]: Done  40 tasks      | elapsed:    4.2s\n",
      "[Parallel(n_jobs=-1)]: Done 130 tasks      | elapsed:   12.4s\n",
      "[Parallel(n_jobs=-1)]: Done 256 tasks      | elapsed:   25.4s\n",
      "[Parallel(n_jobs=-1)]: Done 300 out of 300 | elapsed:   29.6s finished\n"
     ]
    },
    {
     "name": "stdout",
     "output_type": "stream",
     "text": [
      " roc_auc_score: 0.791511704607206\n",
      " precision_score: 0.03304272013949433\n",
      " recall_score: 0.8773148148148148\n",
      " f1_score: 0.06368677533187699\n",
      "Fitting 5 folds for each of 240 candidates, totalling 1200 fits\n"
     ]
    },
    {
     "name": "stderr",
     "output_type": "stream",
     "text": [
      "[Parallel(n_jobs=-1)]: Using backend LokyBackend with 16 concurrent workers.\n",
      "[Parallel(n_jobs=-1)]: Done  40 tasks      | elapsed:   15.8s\n",
      "[Parallel(n_jobs=-1)]: Done 130 tasks      | elapsed:   48.0s\n",
      "[Parallel(n_jobs=-1)]: Done 256 tasks      | elapsed:  1.4min\n",
      "[Parallel(n_jobs=-1)]: Done 418 tasks      | elapsed:  2.6min\n",
      "[Parallel(n_jobs=-1)]: Done 616 tasks      | elapsed:  4.0min\n",
      "[Parallel(n_jobs=-1)]: Done 850 tasks      | elapsed:  6.4min\n",
      "[Parallel(n_jobs=-1)]: Done 1120 tasks      | elapsed:  9.1min\n",
      "[Parallel(n_jobs=-1)]: Done 1200 out of 1200 | elapsed:  9.7min finished\n",
      "[Parallel(n_jobs=-1)]: Using backend ThreadingBackend with 16 concurrent workers.\n",
      "[Parallel(n_jobs=-1)]: Done  18 tasks      | elapsed:    0.2s\n",
      "[Parallel(n_jobs=-1)]: Done 100 out of 100 | elapsed:    0.8s finished\n",
      "[Parallel(n_jobs=16)]: Using backend ThreadingBackend with 16 concurrent workers.\n",
      "[Parallel(n_jobs=16)]: Done  18 tasks      | elapsed:    0.0s\n",
      "[Parallel(n_jobs=16)]: Done 100 out of 100 | elapsed:    0.0s finished\n",
      "[Parallel(n_jobs=16)]: Using backend ThreadingBackend with 16 concurrent workers.\n"
     ]
    },
    {
     "name": "stdout",
     "output_type": "stream",
     "text": [
      " roc_auc_score: 0.8448880524947787\n",
      " precision_score: 0.0644208037825059\n",
      " recall_score: 0.5046296296296297\n",
      " f1_score: 0.11425576519916142\n"
     ]
    },
    {
     "name": "stderr",
     "output_type": "stream",
     "text": [
      "[Parallel(n_jobs=16)]: Done  18 tasks      | elapsed:    0.0s\n",
      "[Parallel(n_jobs=16)]: Done 100 out of 100 | elapsed:    0.0s finished\n"
     ]
    }
   ],
   "source": [
    "#pipeline with all classifiers\n",
    "\n",
    "pipelines = [\n",
    "    \n",
    "#Logistic Regression\n",
    "    Pipeline([\n",
    "    (\"scaler\", StandardScaler()),\n",
    "    (\"model\", LogisticRegression(max_iter=1000,class_weight='balanced'))\n",
    "    ]),\n",
    "    \n",
    "#Decission Tree\n",
    "    Pipeline([\n",
    "    (\"scaler\", StandardScaler()),\n",
    "    (\"model\", DecisionTreeClassifier(random_state=seed,class_weight='balanced'))\n",
    "]),\n",
    "    \n",
    "#Random Forrest\n",
    "    Pipeline([\n",
    "    (\"scaler\", StandardScaler()),\n",
    "    (\"model\", RandomForestClassifier(verbose=True,n_jobs=-1,random_state=seed,class_weight='balanced'))\n",
    "])\n",
    "    ]\n",
    "\n",
    "#parameters grid for classifiers\n",
    "\n",
    "param_grids = [\n",
    " \n",
    "       { \n",
    "        'model__C': [0.001,0.01,0.1,1,10,100],\n",
    "       },    \n",
    "    \n",
    "       { \n",
    "        'model__min_samples_leaf': [2, 5, 10, 30],\n",
    "        'model__min_samples_split': [2, 4, 10],\n",
    "        'model__max_depth': [3, 5, 10, 20, 30],\n",
    "        'model__max_features': ['sqrt']\n",
    "       },\n",
    "\n",
    "        { \n",
    "        'model__n_estimators' : [ 50, 100],\n",
    "        'model__min_samples_leaf': [2, 5, 10, 30, 50],\n",
    "        'model__min_samples_split': [2, 4, 10],\n",
    "        'model__max_depth': [5, 10, 20, 50],\n",
    "        'model__max_features': ['sqrt','log2']\n",
    "        }\n",
    "    ]\n",
    "\n",
    "\n",
    "for model, grid in zip(pipelines, param_grids):\n",
    "    gs = GridSearchCV(model, grid, cv = kfold,n_jobs=-1, verbose=5,scoring=\"roc_auc\",return_train_score=True)\n",
    "    gs.fit(X_train, y_train)\n",
    "    y_pred = gs.predict(X_test)\n",
    "    print(\" roc_auc_score: {}\".format(roc_auc_score(y_test, gs.best_estimator_.predict_proba(X_test).T[1] )))\n",
    "    print(\" precision_score: {}\".format(precision_score(y_test, y_pred)))\n",
    "    print(\" recall_score: {}\".format(recall_score(y_test, y_pred)))\n",
    "    print(\" f1_score: {}\".format(f1_score(y_test, y_pred)))\n",
    "    best_classifier.append(gs)"
   ]
  },
  {
   "cell_type": "code",
   "execution_count": 146,
   "metadata": {},
   "outputs": [
    {
     "name": "stderr",
     "output_type": "stream",
     "text": [
      "[Parallel(n_jobs=16)]: Using backend ThreadingBackend with 16 concurrent workers.\n",
      "[Parallel(n_jobs=16)]: Done  18 tasks      | elapsed:    0.0s\n",
      "[Parallel(n_jobs=16)]: Done 100 out of 100 | elapsed:    0.0s finished\n"
     ]
    },
    {
     "data": {
      "text/plain": [
       "<matplotlib.axes._subplots.AxesSubplot at 0x2cccfad9088>"
      ]
     },
     "execution_count": 146,
     "metadata": {},
     "output_type": "execute_result"
    },
    {
     "data": {
      "image/png": "[encoded data removed]",
      "text/plain": [
       "<Figure size 360x360 with 2 Axes>"
      ]
     },
     "metadata": {
      "needs_background": "light"
     },
     "output_type": "display_data"
    }
   ],
   "source": [
    "#confusion matrix for our model\n",
    "#random forrest\n",
    "y_pred = best_classifier[5].predict(X_test)\n",
    "plt.figure(figsize = (5,5))\n",
    "cm = confusion_matrix(y_test, y_pred)\n",
    "sns.heatmap(cm, annot=True, fmt='d', annot_kws={\"size\": 14})"
   ]
  },
  {
   "cell_type": "code",
   "execution_count": 147,
   "metadata": {},
   "outputs": [
    {
     "data": {
      "text/plain": [
       "{'true nagative': 25119,\n",
       " 'false positive': 3166,\n",
       " 'false negative': 214,\n",
       " 'true positive': 218}"
      ]
     },
     "execution_count": 147,
     "metadata": {},
     "output_type": "execute_result"
    }
   ],
   "source": [
    "(tn, fp, fn, tp) = confusion_matrix(y_test, y_pred).ravel()\n",
    "matrix_0 = dict(zip((\"true nagative\", \"false positive\", \"false negative\", \"true positive\"),[tn, fp, fn, tp]))\n",
    "matrix_0"
   ]
  },
  {
   "cell_type": "markdown",
   "metadata": {},
   "source": [
    "#### all models ROC characteristics comparison"
   ]
  },
  {
   "cell_type": "code",
   "execution_count": 148,
   "metadata": {},
   "outputs": [
    {
     "name": "stderr",
     "output_type": "stream",
     "text": [
      "[Parallel(n_jobs=16)]: Using backend ThreadingBackend with 16 concurrent workers.\n",
      "[Parallel(n_jobs=16)]: Done  18 tasks      | elapsed:    0.0s\n",
      "[Parallel(n_jobs=16)]: Done 100 out of 100 | elapsed:    0.0s finished\n",
      "[Parallel(n_jobs=16)]: Using backend ThreadingBackend with 16 concurrent workers.\n",
      "[Parallel(n_jobs=16)]: Done  18 tasks      | elapsed:    0.0s\n",
      "[Parallel(n_jobs=16)]: Done 100 out of 100 | elapsed:    0.0s finished\n",
      "[Parallel(n_jobs=16)]: Using backend ThreadingBackend with 16 concurrent workers.\n",
      "[Parallel(n_jobs=16)]: Done  18 tasks      | elapsed:    0.0s\n",
      "[Parallel(n_jobs=16)]: Done 100 out of 100 | elapsed:    0.0s finished\n",
      "[Parallel(n_jobs=16)]: Using backend ThreadingBackend with 16 concurrent workers.\n",
      "[Parallel(n_jobs=16)]: Done  18 tasks      | elapsed:    0.0s\n",
      "[Parallel(n_jobs=16)]: Done 100 out of 100 | elapsed:    0.0s finished\n"
     ]
    }
   ],
   "source": [
    "#predict probability for all classifiers\n",
    "y_pred_0 = best_classifier[0].best_estimator_.predict(X_test)\n",
    "y_scores_0 = best_classifier[0].best_estimator_.predict_proba(X_test).T[1]\n",
    "y_pred_1 = best_classifier[1].best_estimator_.predict(X_test)\n",
    "y_scores_1 = best_classifier[1].best_estimator_.predict_proba(X_test).T[1]\n",
    "y_pred_2 = best_classifier[2].best_estimator_.predict(X_test)\n",
    "y_scores_2 = best_classifier[2].best_estimator_.predict_proba(X_test).T[1]\n",
    "y_pred_3 = best_classifier[3].best_estimator_.predict(X_test)\n",
    "y_scores_3 = best_classifier[3].best_estimator_.predict_proba(X_test).T[1]\n",
    "y_pred_4 = best_classifier[4].best_estimator_.predict(X_test)\n",
    "y_scores_4 = best_classifier[4].best_estimator_.predict_proba(X_test).T[1]\n",
    "y_pred_5 = best_classifier[5].best_estimator_.predict(X_test)\n",
    "y_scores_5 = best_classifier[5].best_estimator_.predict_proba(X_test).T[1]"
   ]
  },
  {
   "cell_type": "code",
   "execution_count": 149,
   "metadata": {},
   "outputs": [
    {
     "data": {
      "image/png": "[encoded data removed]",
      "text/plain": [
       "<Figure size 720x720 with 1 Axes>"
      ]
     },
     "metadata": {
      "needs_background": "light"
     },
     "output_type": "display_data"
    }
   ],
   "source": [
    "#generate and print roc curve for all classifiers\n",
    "fpr_clf_0, tpr_clf_0, thresholds_clf_0 = roc_curve(y_test, y_scores_0)\n",
    "fpr_clf_1, tpr_clf_1, thresholds_clf_1 = roc_curve(y_test, y_scores_1)\n",
    "fpr_clf_2, tpr_clf_2, thresholds_clf_2 = roc_curve(y_test, y_scores_2)\n",
    "fpr_clf_3, tpr_clf_3, thresholds_clf_3 = roc_curve(y_test, y_scores_3)\n",
    "fpr_clf_4, tpr_clf_4, thresholds_clf_4 = roc_curve(y_test, y_scores_4)\n",
    "fpr_clf_5, tpr_clf_5, thresholds_clf_5 = roc_curve(y_test, y_scores_5)\n",
    "plt.figure(figsize=(10,10))\n",
    "plot_roc_curve(fpr_clf_0, tpr_clf_0, \"LR basic\")\n",
    "plot_roc_curve(fpr_clf_1, tpr_clf_1, \"DT basic.\")\n",
    "plot_roc_curve(fpr_clf_2, tpr_clf_2, \"RF basic\")\n",
    "plot_roc_curve(fpr_clf_3, tpr_clf_3, \"LR optimized\")\n",
    "plot_roc_curve(fpr_clf_4, tpr_clf_4, \"DT optimized\")\n",
    "plot_roc_curve(fpr_clf_5, tpr_clf_5, \"RF optimized\")\n",
    "plt.legend(loc=\"lower right\", fontsize=16)\n",
    "plt.show()"
   ]
  },
  {
   "cell_type": "code",
   "execution_count": 150,
   "metadata": {},
   "outputs": [
    {
     "name": "stdout",
     "output_type": "stream",
     "text": [
      "LR basic\n",
      "precision_score: 0.04508030773383723\n",
      "recall_score: 0.7731481481481481\n",
      "f1_score: 0.0851932151511287\n",
      "accuracy_score: 0.7502176411185012\n",
      "auc_score: 0.8315870946516606\n",
      "DT basic\n",
      "precision_score: 0.0611353711790393\n",
      "recall_score: 0.06481481481481481\n",
      "f1_score: 0.06292134831460673\n",
      "accuracy_score: 0.970957969147195\n",
      "auc_score: 0.5248084968475636\n",
      "RF basic\n",
      "precision_score: 0.3333333333333333\n"
     ]
    },
    {
     "name": "stderr",
     "output_type": "stream",
     "text": [
      "[Parallel(n_jobs=16)]: Using backend ThreadingBackend with 16 concurrent workers.\n",
      "[Parallel(n_jobs=16)]: Done  18 tasks      | elapsed:    0.0s\n",
      "[Parallel(n_jobs=16)]: Done 100 out of 100 | elapsed:    0.0s finished\n",
      "[Parallel(n_jobs=16)]: Using backend ThreadingBackend with 16 concurrent workers.\n",
      "[Parallel(n_jobs=16)]: Done  18 tasks      | elapsed:    0.0s\n",
      "[Parallel(n_jobs=16)]: Done 100 out of 100 | elapsed:    0.0s finished\n"
     ]
    },
    {
     "name": "stdout",
     "output_type": "stream",
     "text": [
      "recall_score: 0.0023148148148148147\n",
      "f1_score: 0.004597701149425287\n"
     ]
    },
    {
     "name": "stderr",
     "output_type": "stream",
     "text": [
      "[Parallel(n_jobs=16)]: Using backend ThreadingBackend with 16 concurrent workers.\n",
      "[Parallel(n_jobs=16)]: Done  18 tasks      | elapsed:    0.0s\n",
      "[Parallel(n_jobs=16)]: Done 100 out of 100 | elapsed:    0.0s finished\n",
      "[Parallel(n_jobs=16)]: Using backend ThreadingBackend with 16 concurrent workers.\n",
      "[Parallel(n_jobs=16)]: Done  18 tasks      | elapsed:    0.0s\n",
      "[Parallel(n_jobs=16)]: Done 100 out of 100 | elapsed:    0.0s finished\n",
      "[Parallel(n_jobs=16)]: Using backend ThreadingBackend with 16 concurrent workers.\n",
      "[Parallel(n_jobs=16)]: Done  18 tasks      | elapsed:    0.0s\n",
      "[Parallel(n_jobs=16)]: Done 100 out of 100 | elapsed:    0.0s finished\n"
     ]
    },
    {
     "name": "stdout",
     "output_type": "stream",
     "text": [
      "accuracy_score: 0.9849218233102344\n",
      "auc_score: 0.7793213832092654\n"
     ]
    },
    {
     "name": "stderr",
     "output_type": "stream",
     "text": [
      "[Parallel(n_jobs=16)]: Using backend ThreadingBackend with 16 concurrent workers.\n",
      "[Parallel(n_jobs=16)]: Done  18 tasks      | elapsed:    0.0s\n",
      "[Parallel(n_jobs=16)]: Done 100 out of 100 | elapsed:    0.0s finished\n",
      "[Parallel(n_jobs=16)]: Using backend ThreadingBackend with 16 concurrent workers.\n",
      "[Parallel(n_jobs=16)]: Done  18 tasks      | elapsed:    0.0s\n",
      "[Parallel(n_jobs=16)]: Done 100 out of 100 | elapsed:    0.0s finished\n",
      "[Parallel(n_jobs=16)]: Using backend ThreadingBackend with 16 concurrent workers.\n",
      "[Parallel(n_jobs=16)]: Done  18 tasks      | elapsed:    0.0s\n",
      "[Parallel(n_jobs=16)]: Done 100 out of 100 | elapsed:    0.0s finished\n",
      "[Parallel(n_jobs=16)]: Using backend ThreadingBackend with 16 concurrent workers.\n",
      "[Parallel(n_jobs=16)]: Done  18 tasks      | elapsed:    0.0s\n",
      "[Parallel(n_jobs=16)]: Done 100 out of 100 | elapsed:    0.0s finished\n",
      "[Parallel(n_jobs=16)]: Using backend ThreadingBackend with 16 concurrent workers.\n",
      "[Parallel(n_jobs=16)]: Done  18 tasks      | elapsed:    0.0s\n",
      "[Parallel(n_jobs=16)]: Done 100 out of 100 | elapsed:    0.0s finished\n"
     ]
    },
    {
     "name": "stdout",
     "output_type": "stream",
     "text": [
      "LR optimized\n",
      "precision_score: 0.04471599301732241\n",
      "recall_score: 0.7708333333333334\n",
      "f1_score: 0.08452849346363751\n",
      "accuracy_score: 0.7488247379600933\n",
      "auc_score: 0.8314356107477461\n",
      "DT optimized\n",
      "precision_score: 0.03304272013949433\n",
      "recall_score: 0.8773148148148148\n",
      "f1_score: 0.06368677533187699\n",
      "accuracy_score: 0.6119371800675558\n",
      "auc_score: 0.791511704607206\n",
      "RF optimized\n"
     ]
    },
    {
     "name": "stderr",
     "output_type": "stream",
     "text": [
      "[Parallel(n_jobs=16)]: Using backend ThreadingBackend with 16 concurrent workers.\n",
      "[Parallel(n_jobs=16)]: Done  18 tasks      | elapsed:    0.0s\n",
      "[Parallel(n_jobs=16)]: Done 100 out of 100 | elapsed:    0.0s finished\n",
      "[Parallel(n_jobs=16)]: Using backend ThreadingBackend with 16 concurrent workers.\n",
      "[Parallel(n_jobs=16)]: Done  18 tasks      | elapsed:    0.0s\n",
      "[Parallel(n_jobs=16)]: Done 100 out of 100 | elapsed:    0.0s finished\n"
     ]
    },
    {
     "name": "stdout",
     "output_type": "stream",
     "text": [
      "precision_score: 0.0644208037825059\n",
      "recall_score: 0.5046296296296297\n"
     ]
    },
    {
     "name": "stderr",
     "output_type": "stream",
     "text": [
      "[Parallel(n_jobs=16)]: Using backend ThreadingBackend with 16 concurrent workers.\n",
      "[Parallel(n_jobs=16)]: Done  18 tasks      | elapsed:    0.0s\n",
      "[Parallel(n_jobs=16)]: Done 100 out of 100 | elapsed:    0.0s finished\n"
     ]
    },
    {
     "name": "stdout",
     "output_type": "stream",
     "text": [
      "f1_score: 0.11425576519916142\n",
      "accuracy_score: 0.8822996831145314\n"
     ]
    },
    {
     "name": "stderr",
     "output_type": "stream",
     "text": [
      "[Parallel(n_jobs=16)]: Using backend ThreadingBackend with 16 concurrent workers.\n",
      "[Parallel(n_jobs=16)]: Done  18 tasks      | elapsed:    0.0s\n",
      "[Parallel(n_jobs=16)]: Done 100 out of 100 | elapsed:    0.0s finished\n",
      "[Parallel(n_jobs=16)]: Using backend ThreadingBackend with 16 concurrent workers.\n",
      "[Parallel(n_jobs=16)]: Done  18 tasks      | elapsed:    0.0s\n",
      "[Parallel(n_jobs=16)]: Done 100 out of 100 | elapsed:    0.0s finished\n"
     ]
    },
    {
     "name": "stdout",
     "output_type": "stream",
     "text": [
      "auc_score: 0.8448880524947787\n"
     ]
    },
    {
     "name": "stderr",
     "output_type": "stream",
     "text": [
      "[Parallel(n_jobs=16)]: Using backend ThreadingBackend with 16 concurrent workers.\n",
      "[Parallel(n_jobs=16)]: Done  18 tasks      | elapsed:    0.0s\n",
      "[Parallel(n_jobs=16)]: Done 100 out of 100 | elapsed:    0.0s finished\n",
      "[Parallel(n_jobs=16)]: Using backend ThreadingBackend with 16 concurrent workers.\n",
      "[Parallel(n_jobs=16)]: Done  18 tasks      | elapsed:    0.0s\n",
      "[Parallel(n_jobs=16)]: Done 100 out of 100 | elapsed:    0.0s finished\n",
      "[Parallel(n_jobs=16)]: Using backend ThreadingBackend with 16 concurrent workers.\n",
      "[Parallel(n_jobs=16)]: Done  18 tasks      | elapsed:    0.0s\n",
      "[Parallel(n_jobs=16)]: Done 100 out of 100 | elapsed:    0.0s finished\n",
      "[Parallel(n_jobs=16)]: Using backend ThreadingBackend with 16 concurrent workers.\n",
      "[Parallel(n_jobs=16)]: Done  18 tasks      | elapsed:    0.0s\n",
      "[Parallel(n_jobs=16)]: Done 100 out of 100 | elapsed:    0.0s finished\n",
      "[Parallel(n_jobs=16)]: Using backend ThreadingBackend with 16 concurrent workers.\n",
      "[Parallel(n_jobs=16)]: Done  18 tasks      | elapsed:    0.0s\n",
      "[Parallel(n_jobs=16)]: Done 100 out of 100 | elapsed:    0.0s finished\n"
     ]
    }
   ],
   "source": [
    "models = []\n",
    "models.append(('LR basic', best_classifier[0].best_estimator_))\n",
    "models.append(('DT basic', best_classifier[1].best_estimator_))\n",
    "models.append(('RF basic', best_classifier[2].best_estimator_))\n",
    "models.append(('LR optimized', best_classifier[3].best_estimator_))\n",
    "models.append(('DT optimized', best_classifier[4].best_estimator_))\n",
    "models.append(('RF optimized', best_classifier[5].best_estimator_))\n",
    "\n",
    "\n",
    "all_precision_score = []\n",
    "all_recall_score = []\n",
    "all_f1_score = []\n",
    "all_accuracy_score = []\n",
    "all_roc_auc_score = []\n",
    "for name, model in models:\n",
    "    print(name)\n",
    "    print(\"precision_score: {}\".format(precision_score(y_test, model.predict(X_test))))\n",
    "    print(\"recall_score: {}\".format( recall_score(y_test, model.predict(X_test)) ))\n",
    "    print(\"f1_score: {}\".format( f1_score(y_test, model.predict(X_test)) ))\n",
    "    print(\"accuracy_score: {}\".format( accuracy_score(y_test, model.predict(X_test)) ))\n",
    "    print(\"auc_score: {}\".format( roc_auc_score(y_test, model.predict_proba(X_test).T[1]) ))\n",
    "    all_precision_score.append(precision_score(y_test, model.predict(X_test)))\n",
    "    all_recall_score.append(recall_score(y_test, model.predict(X_test)))\n",
    "    all_f1_score.append( f1_score(y_test, model.predict(X_test)))\n",
    "    all_accuracy_score.append(accuracy_score(y_test, model.predict(X_test)))\n",
    "    all_roc_auc_score.append(roc_auc_score(y_test, model.predict_proba(X_test).T[1]))"
   ]
  },
  {
   "cell_type": "code",
   "execution_count": 151,
   "metadata": {},
   "outputs": [
    {
     "data": {
      "text/html": [
       "<div>\n",
       "<style scoped>\n",
       "    .dataframe tbody tr th:only-of-type {\n",
       "        vertical-align: middle;\n",
       "    }\n",
       "\n",
       "    .dataframe tbody tr th {\n",
       "        vertical-align: top;\n",
       "    }\n",
       "\n",
       "    .dataframe thead th {\n",
       "        text-align: right;\n",
       "    }\n",
       "</style>\n",
       "<table border=\"1\" class=\"dataframe\">\n",
       "  <thead>\n",
       "    <tr style=\"text-align: right;\">\n",
       "      <th></th>\n",
       "      <th>Method</th>\n",
       "      <th>precision_score</th>\n",
       "      <th>recall_score</th>\n",
       "      <th>f1_score</th>\n",
       "      <th>accuracy_score</th>\n",
       "      <th>roc_auc_score</th>\n",
       "    </tr>\n",
       "  </thead>\n",
       "  <tbody>\n",
       "    <tr>\n",
       "      <th>0</th>\n",
       "      <td>LR basic</td>\n",
       "      <td>0.045080</td>\n",
       "      <td>0.773148</td>\n",
       "      <td>0.085193</td>\n",
       "      <td>0.750218</td>\n",
       "      <td>0.831587</td>\n",
       "    </tr>\n",
       "    <tr>\n",
       "      <th>1</th>\n",
       "      <td>DT basic</td>\n",
       "      <td>0.061135</td>\n",
       "      <td>0.064815</td>\n",
       "      <td>0.062921</td>\n",
       "      <td>0.970958</td>\n",
       "      <td>0.524808</td>\n",
       "    </tr>\n",
       "    <tr>\n",
       "      <th>2</th>\n",
       "      <td>RF basic</td>\n",
       "      <td>0.333333</td>\n",
       "      <td>0.002315</td>\n",
       "      <td>0.004598</td>\n",
       "      <td>0.984922</td>\n",
       "      <td>0.779321</td>\n",
       "    </tr>\n",
       "    <tr>\n",
       "      <th>3</th>\n",
       "      <td>LR optimized</td>\n",
       "      <td>0.044716</td>\n",
       "      <td>0.770833</td>\n",
       "      <td>0.084528</td>\n",
       "      <td>0.748825</td>\n",
       "      <td>0.831436</td>\n",
       "    </tr>\n",
       "    <tr>\n",
       "      <th>4</th>\n",
       "      <td>DT optimized</td>\n",
       "      <td>0.033043</td>\n",
       "      <td>0.877315</td>\n",
       "      <td>0.063687</td>\n",
       "      <td>0.611937</td>\n",
       "      <td>0.791512</td>\n",
       "    </tr>\n",
       "    <tr>\n",
       "      <th>5</th>\n",
       "      <td>RF optimized</td>\n",
       "      <td>0.064421</td>\n",
       "      <td>0.504630</td>\n",
       "      <td>0.114256</td>\n",
       "      <td>0.882300</td>\n",
       "      <td>0.844888</td>\n",
       "    </tr>\n",
       "  </tbody>\n",
       "</table>\n",
       "</div>"
      ],
      "text/plain": [
       "         Method  precision_score  recall_score  f1_score  accuracy_score  roc_auc_score\n",
       "0      LR basic         0.045080      0.773148  0.085193        0.750218       0.831587\n",
       "1      DT basic         0.061135      0.064815  0.062921        0.970958       0.524808\n",
       "2      RF basic         0.333333      0.002315  0.004598        0.984922       0.779321\n",
       "3  LR optimized         0.044716      0.770833  0.084528        0.748825       0.831436\n",
       "4  DT optimized         0.033043      0.877315  0.063687        0.611937       0.791512\n",
       "5  RF optimized         0.064421      0.504630  0.114256        0.882300       0.844888"
      ]
     },
     "execution_count": 151,
     "metadata": {},
     "output_type": "execute_result"
    }
   ],
   "source": [
    "d = {'precision_score': all_precision_score, \n",
    "     'recall_score': all_recall_score, \n",
    "     'f1_score': all_f1_score,\n",
    "     'accuracy_score' : all_accuracy_score,\n",
    "     'roc_auc_score' : all_roc_auc_score\n",
    "    }\n",
    "df = pd.DataFrame(data=d)\n",
    "df.insert(loc=0, column='Method', value=['LR basic', 'DT basic', 'RF basic', 'LR optimized', 'DT optimized', 'RF optimized'])\n",
    "df"
   ]
  },
  {
   "cell_type": "markdown",
   "metadata": {},
   "source": [
    "### summary"
   ]
  },
  {
   "cell_type": "markdown",
   "metadata": {},
   "source": [
    "#### Simple Logistic regression model performs very well in comparaison to an optimized Random Forrest classifier.  Overall performace for not seeing data is about: 0.84 (ROC_AUC), but when we test our model with unseeing test subset there is a lot of false positive and false negative values. Maybe missing a lot of missing values for some variable decreses performance.  "
   ]
  },
  {
   "cell_type": "code",
   "execution_count": null,
   "metadata": {},
   "outputs": [],
   "source": []
  }
 ],
 "metadata": {
  "kernelspec": {
   "display_name": "Python 3",
   "language": "python",
   "name": "python3"
  },
  "language_info": {
   "codemirror_mode": {
    "name": "ipython",
    "version": 3
   },
   "file_extension": ".py",
   "mimetype": "text/x-python",
   "name": "python",
   "nbconvert_exporter": "python",
   "pygments_lexer": "ipython3",
   "version": "3.7.7"
  }
 },
 "nbformat": 4,
 "nbformat_minor": 4
}
