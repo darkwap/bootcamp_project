{
 "cells": [
  {
   "cell_type": "code",
   "execution_count": 1,
   "metadata": {},
   "outputs": [],
   "source": [
    "import numpy as np\n",
    "import pandas as pd\n"
   ]
  },
  {
   "cell_type": "code",
   "execution_count": 2,
   "metadata": {},
   "outputs": [],
   "source": [
    "data = pd.read_csv('data/Train.csv',encoding='latin1',parse_dates=['DOB','Lead_Creation_Date'])"
   ]
  },
  {
   "cell_type": "code",
   "execution_count": 3,
   "metadata": {},
   "outputs": [],
   "source": [
    "#usuwamy kolumne LoggedIn\n",
    "data.drop(['LoggedIn'],axis=1,inplace=True)"
   ]
  },
  {
   "cell_type": "code",
   "execution_count": 4,
   "metadata": {},
   "outputs": [],
   "source": [
    "#kolumna ID to identyfikator klienta i usuwamy ja od razu\n",
    "data.drop(['ID'],axis=1,inplace=True)"
   ]
  },
  {
   "cell_type": "code",
   "execution_count": 5,
   "metadata": {},
   "outputs": [
    {
     "data": {
      "text/html": [
       "<div>\n",
       "<style scoped>\n",
       "    .dataframe tbody tr th:only-of-type {\n",
       "        vertical-align: middle;\n",
       "    }\n",
       "\n",
       "    .dataframe tbody tr th {\n",
       "        vertical-align: top;\n",
       "    }\n",
       "\n",
       "    .dataframe thead th {\n",
       "        text-align: right;\n",
       "    }\n",
       "</style>\n",
       "<table border=\"1\" class=\"dataframe\">\n",
       "  <thead>\n",
       "    <tr style=\"text-align: right;\">\n",
       "      <th></th>\n",
       "      <th>Gender</th>\n",
       "      <th>City</th>\n",
       "      <th>Monthly_Income</th>\n",
       "      <th>DOB</th>\n",
       "      <th>Lead_Creation_Date</th>\n",
       "      <th>Loan_Amount_Applied</th>\n",
       "      <th>Loan_Tenure_Applied</th>\n",
       "      <th>Existing_EMI</th>\n",
       "      <th>Employer_Name</th>\n",
       "      <th>Salary_Account</th>\n",
       "      <th>...</th>\n",
       "      <th>Loan_Tenure_Submitted</th>\n",
       "      <th>Interest_Rate</th>\n",
       "      <th>Processing_Fee</th>\n",
       "      <th>EMI_Loan_Submitted</th>\n",
       "      <th>Filled_Form</th>\n",
       "      <th>Device_Type</th>\n",
       "      <th>Var2</th>\n",
       "      <th>Source</th>\n",
       "      <th>Var4</th>\n",
       "      <th>Disbursed</th>\n",
       "    </tr>\n",
       "  </thead>\n",
       "  <tbody>\n",
       "    <tr>\n",
       "      <th>0</th>\n",
       "      <td>Female</td>\n",
       "      <td>Delhi</td>\n",
       "      <td>20000</td>\n",
       "      <td>1978-05-23</td>\n",
       "      <td>2015-05-15</td>\n",
       "      <td>300000.0</td>\n",
       "      <td>5.0</td>\n",
       "      <td>0.0</td>\n",
       "      <td>CYBOSOL</td>\n",
       "      <td>HDFC Bank</td>\n",
       "      <td>...</td>\n",
       "      <td>NaN</td>\n",
       "      <td>NaN</td>\n",
       "      <td>NaN</td>\n",
       "      <td>NaN</td>\n",
       "      <td>N</td>\n",
       "      <td>Web-browser</td>\n",
       "      <td>G</td>\n",
       "      <td>S122</td>\n",
       "      <td>1</td>\n",
       "      <td>0</td>\n",
       "    </tr>\n",
       "    <tr>\n",
       "      <th>1</th>\n",
       "      <td>Male</td>\n",
       "      <td>Mumbai</td>\n",
       "      <td>35000</td>\n",
       "      <td>1985-10-07</td>\n",
       "      <td>2015-05-04</td>\n",
       "      <td>200000.0</td>\n",
       "      <td>2.0</td>\n",
       "      <td>0.0</td>\n",
       "      <td>TATA CONSULTANCY SERVICES LTD (TCS)</td>\n",
       "      <td>ICICI Bank</td>\n",
       "      <td>...</td>\n",
       "      <td>2.0</td>\n",
       "      <td>13.25</td>\n",
       "      <td>NaN</td>\n",
       "      <td>6762.90</td>\n",
       "      <td>N</td>\n",
       "      <td>Web-browser</td>\n",
       "      <td>G</td>\n",
       "      <td>S122</td>\n",
       "      <td>3</td>\n",
       "      <td>0</td>\n",
       "    </tr>\n",
       "    <tr>\n",
       "      <th>2</th>\n",
       "      <td>Male</td>\n",
       "      <td>Panchkula</td>\n",
       "      <td>22500</td>\n",
       "      <td>1981-10-10</td>\n",
       "      <td>2015-05-19</td>\n",
       "      <td>600000.0</td>\n",
       "      <td>4.0</td>\n",
       "      <td>0.0</td>\n",
       "      <td>ALCHEMIST HOSPITALS LTD</td>\n",
       "      <td>State Bank of India</td>\n",
       "      <td>...</td>\n",
       "      <td>4.0</td>\n",
       "      <td>NaN</td>\n",
       "      <td>NaN</td>\n",
       "      <td>NaN</td>\n",
       "      <td>N</td>\n",
       "      <td>Web-browser</td>\n",
       "      <td>B</td>\n",
       "      <td>S143</td>\n",
       "      <td>1</td>\n",
       "      <td>0</td>\n",
       "    </tr>\n",
       "    <tr>\n",
       "      <th>3</th>\n",
       "      <td>Male</td>\n",
       "      <td>Saharsa</td>\n",
       "      <td>35000</td>\n",
       "      <td>1987-11-30</td>\n",
       "      <td>2015-05-09</td>\n",
       "      <td>1000000.0</td>\n",
       "      <td>5.0</td>\n",
       "      <td>0.0</td>\n",
       "      <td>BIHAR GOVERNMENT</td>\n",
       "      <td>State Bank of India</td>\n",
       "      <td>...</td>\n",
       "      <td>5.0</td>\n",
       "      <td>NaN</td>\n",
       "      <td>NaN</td>\n",
       "      <td>NaN</td>\n",
       "      <td>N</td>\n",
       "      <td>Web-browser</td>\n",
       "      <td>B</td>\n",
       "      <td>S143</td>\n",
       "      <td>3</td>\n",
       "      <td>0</td>\n",
       "    </tr>\n",
       "    <tr>\n",
       "      <th>4</th>\n",
       "      <td>Male</td>\n",
       "      <td>Bengaluru</td>\n",
       "      <td>100000</td>\n",
       "      <td>1984-02-17</td>\n",
       "      <td>2015-05-20</td>\n",
       "      <td>500000.0</td>\n",
       "      <td>2.0</td>\n",
       "      <td>25000.0</td>\n",
       "      <td>GLOBAL EDGE SOFTWARE</td>\n",
       "      <td>HDFC Bank</td>\n",
       "      <td>...</td>\n",
       "      <td>2.0</td>\n",
       "      <td>NaN</td>\n",
       "      <td>NaN</td>\n",
       "      <td>NaN</td>\n",
       "      <td>N</td>\n",
       "      <td>Web-browser</td>\n",
       "      <td>B</td>\n",
       "      <td>S134</td>\n",
       "      <td>3</td>\n",
       "      <td>0</td>\n",
       "    </tr>\n",
       "    <tr>\n",
       "      <th>...</th>\n",
       "      <td>...</td>\n",
       "      <td>...</td>\n",
       "      <td>...</td>\n",
       "      <td>...</td>\n",
       "      <td>...</td>\n",
       "      <td>...</td>\n",
       "      <td>...</td>\n",
       "      <td>...</td>\n",
       "      <td>...</td>\n",
       "      <td>...</td>\n",
       "      <td>...</td>\n",
       "      <td>...</td>\n",
       "      <td>...</td>\n",
       "      <td>...</td>\n",
       "      <td>...</td>\n",
       "      <td>...</td>\n",
       "      <td>...</td>\n",
       "      <td>...</td>\n",
       "      <td>...</td>\n",
       "      <td>...</td>\n",
       "      <td>...</td>\n",
       "    </tr>\n",
       "    <tr>\n",
       "      <th>87015</th>\n",
       "      <td>Female</td>\n",
       "      <td>Ajmer</td>\n",
       "      <td>71901</td>\n",
       "      <td>2069-11-27</td>\n",
       "      <td>2015-07-31</td>\n",
       "      <td>1000000.0</td>\n",
       "      <td>5.0</td>\n",
       "      <td>14500.0</td>\n",
       "      <td>MAYO COLLEGE</td>\n",
       "      <td>ICICI Bank</td>\n",
       "      <td>...</td>\n",
       "      <td>NaN</td>\n",
       "      <td>NaN</td>\n",
       "      <td>NaN</td>\n",
       "      <td>NaN</td>\n",
       "      <td>N</td>\n",
       "      <td>Web-browser</td>\n",
       "      <td>G</td>\n",
       "      <td>S122</td>\n",
       "      <td>3</td>\n",
       "      <td>0</td>\n",
       "    </tr>\n",
       "    <tr>\n",
       "      <th>87016</th>\n",
       "      <td>Female</td>\n",
       "      <td>Kochi</td>\n",
       "      <td>16000</td>\n",
       "      <td>1990-12-01</td>\n",
       "      <td>2015-07-31</td>\n",
       "      <td>0.0</td>\n",
       "      <td>0.0</td>\n",
       "      <td>0.0</td>\n",
       "      <td>KERALA COMMUNICATORS CABLE LTD</td>\n",
       "      <td>Federal Bank</td>\n",
       "      <td>...</td>\n",
       "      <td>4.0</td>\n",
       "      <td>35.50</td>\n",
       "      <td>4800.0</td>\n",
       "      <td>9425.76</td>\n",
       "      <td>Y</td>\n",
       "      <td>Mobile</td>\n",
       "      <td>G</td>\n",
       "      <td>S122</td>\n",
       "      <td>5</td>\n",
       "      <td>0</td>\n",
       "    </tr>\n",
       "    <tr>\n",
       "      <th>87017</th>\n",
       "      <td>Male</td>\n",
       "      <td>Bengaluru</td>\n",
       "      <td>118000</td>\n",
       "      <td>1972-01-28</td>\n",
       "      <td>2015-07-31</td>\n",
       "      <td>0.0</td>\n",
       "      <td>0.0</td>\n",
       "      <td>0.0</td>\n",
       "      <td>BANGALORE INSTITUTE OF TECHNOLOGY</td>\n",
       "      <td>Syndicate Bank</td>\n",
       "      <td>...</td>\n",
       "      <td>4.0</td>\n",
       "      <td>NaN</td>\n",
       "      <td>NaN</td>\n",
       "      <td>NaN</td>\n",
       "      <td>N</td>\n",
       "      <td>Mobile</td>\n",
       "      <td>G</td>\n",
       "      <td>S122</td>\n",
       "      <td>3</td>\n",
       "      <td>0</td>\n",
       "    </tr>\n",
       "    <tr>\n",
       "      <th>87018</th>\n",
       "      <td>Male</td>\n",
       "      <td>Bengaluru</td>\n",
       "      <td>98930</td>\n",
       "      <td>1977-04-27</td>\n",
       "      <td>2015-07-31</td>\n",
       "      <td>800000.0</td>\n",
       "      <td>5.0</td>\n",
       "      <td>13660.0</td>\n",
       "      <td>FIRSTSOURCE SOLUTION LTD</td>\n",
       "      <td>ICICI Bank</td>\n",
       "      <td>...</td>\n",
       "      <td>5.0</td>\n",
       "      <td>NaN</td>\n",
       "      <td>NaN</td>\n",
       "      <td>NaN</td>\n",
       "      <td>N</td>\n",
       "      <td>Web-browser</td>\n",
       "      <td>G</td>\n",
       "      <td>S122</td>\n",
       "      <td>3</td>\n",
       "      <td>0</td>\n",
       "    </tr>\n",
       "    <tr>\n",
       "      <th>87019</th>\n",
       "      <td>Male</td>\n",
       "      <td>Mumbai</td>\n",
       "      <td>42300</td>\n",
       "      <td>1988-10-31</td>\n",
       "      <td>2015-07-31</td>\n",
       "      <td>0.0</td>\n",
       "      <td>0.0</td>\n",
       "      <td>0.0</td>\n",
       "      <td>GOVERNMENT OF INDIA</td>\n",
       "      <td>NaN</td>\n",
       "      <td>...</td>\n",
       "      <td>4.0</td>\n",
       "      <td>13.99</td>\n",
       "      <td>3450.0</td>\n",
       "      <td>18851.81</td>\n",
       "      <td>N</td>\n",
       "      <td>Web-browser</td>\n",
       "      <td>G</td>\n",
       "      <td>S122</td>\n",
       "      <td>4</td>\n",
       "      <td>0</td>\n",
       "    </tr>\n",
       "  </tbody>\n",
       "</table>\n",
       "<p>87020 rows × 24 columns</p>\n",
       "</div>"
      ],
      "text/plain": [
       "       Gender       City  Monthly_Income        DOB Lead_Creation_Date  \\\n",
       "0      Female      Delhi           20000 1978-05-23         2015-05-15   \n",
       "1        Male     Mumbai           35000 1985-10-07         2015-05-04   \n",
       "2        Male  Panchkula           22500 1981-10-10         2015-05-19   \n",
       "3        Male    Saharsa           35000 1987-11-30         2015-05-09   \n",
       "4        Male  Bengaluru          100000 1984-02-17         2015-05-20   \n",
       "...       ...        ...             ...        ...                ...   \n",
       "87015  Female      Ajmer           71901 2069-11-27         2015-07-31   \n",
       "87016  Female      Kochi           16000 1990-12-01         2015-07-31   \n",
       "87017    Male  Bengaluru          118000 1972-01-28         2015-07-31   \n",
       "87018    Male  Bengaluru           98930 1977-04-27         2015-07-31   \n",
       "87019    Male     Mumbai           42300 1988-10-31         2015-07-31   \n",
       "\n",
       "       Loan_Amount_Applied  Loan_Tenure_Applied  Existing_EMI  \\\n",
       "0                 300000.0                  5.0           0.0   \n",
       "1                 200000.0                  2.0           0.0   \n",
       "2                 600000.0                  4.0           0.0   \n",
       "3                1000000.0                  5.0           0.0   \n",
       "4                 500000.0                  2.0       25000.0   \n",
       "...                    ...                  ...           ...   \n",
       "87015            1000000.0                  5.0       14500.0   \n",
       "87016                  0.0                  0.0           0.0   \n",
       "87017                  0.0                  0.0           0.0   \n",
       "87018             800000.0                  5.0       13660.0   \n",
       "87019                  0.0                  0.0           0.0   \n",
       "\n",
       "                             Employer_Name       Salary_Account  ...  \\\n",
       "0                                  CYBOSOL            HDFC Bank  ...   \n",
       "1      TATA CONSULTANCY SERVICES LTD (TCS)           ICICI Bank  ...   \n",
       "2                  ALCHEMIST HOSPITALS LTD  State Bank of India  ...   \n",
       "3                         BIHAR GOVERNMENT  State Bank of India  ...   \n",
       "4                     GLOBAL EDGE SOFTWARE            HDFC Bank  ...   \n",
       "...                                    ...                  ...  ...   \n",
       "87015                         MAYO COLLEGE           ICICI Bank  ...   \n",
       "87016       KERALA COMMUNICATORS CABLE LTD         Federal Bank  ...   \n",
       "87017    BANGALORE INSTITUTE OF TECHNOLOGY       Syndicate Bank  ...   \n",
       "87018             FIRSTSOURCE SOLUTION LTD           ICICI Bank  ...   \n",
       "87019                  GOVERNMENT OF INDIA                  NaN  ...   \n",
       "\n",
       "      Loan_Tenure_Submitted  Interest_Rate Processing_Fee  EMI_Loan_Submitted  \\\n",
       "0                       NaN            NaN            NaN                 NaN   \n",
       "1                       2.0          13.25            NaN             6762.90   \n",
       "2                       4.0            NaN            NaN                 NaN   \n",
       "3                       5.0            NaN            NaN                 NaN   \n",
       "4                       2.0            NaN            NaN                 NaN   \n",
       "...                     ...            ...            ...                 ...   \n",
       "87015                   NaN            NaN            NaN                 NaN   \n",
       "87016                   4.0          35.50         4800.0             9425.76   \n",
       "87017                   4.0            NaN            NaN                 NaN   \n",
       "87018                   5.0            NaN            NaN                 NaN   \n",
       "87019                   4.0          13.99         3450.0            18851.81   \n",
       "\n",
       "       Filled_Form  Device_Type  Var2  Source Var4 Disbursed  \n",
       "0                N  Web-browser     G    S122    1         0  \n",
       "1                N  Web-browser     G    S122    3         0  \n",
       "2                N  Web-browser     B    S143    1         0  \n",
       "3                N  Web-browser     B    S143    3         0  \n",
       "4                N  Web-browser     B    S134    3         0  \n",
       "...            ...          ...   ...     ...  ...       ...  \n",
       "87015            N  Web-browser     G    S122    3         0  \n",
       "87016            Y       Mobile     G    S122    5         0  \n",
       "87017            N       Mobile     G    S122    3         0  \n",
       "87018            N  Web-browser     G    S122    3         0  \n",
       "87019            N  Web-browser     G    S122    4         0  \n",
       "\n",
       "[87020 rows x 24 columns]"
      ]
     },
     "execution_count": 5,
     "metadata": {},
     "output_type": "execute_result"
    }
   ],
   "source": [
    "data"
   ]
  },
  {
   "cell_type": "code",
   "execution_count": 6,
   "metadata": {},
   "outputs": [],
   "source": [
    "y = data['Disbursed']\n",
    "X = data.drop(['Disbursed'],axis=1)"
   ]
  },
  {
   "cell_type": "markdown",
   "metadata": {},
   "source": [
    "## Analiza danych"
   ]
  },
  {
   "cell_type": "code",
   "execution_count": 7,
   "metadata": {},
   "outputs": [],
   "source": [
    "def calc_missing_values(column):\n",
    "    #liczba brakujacych danych\n",
    "    x_total = column.shape[0]\n",
    "    x_missing = column.isnull().sum()\n",
    "    print('missing percentage: '+str((x_missing/x_total)*100))"
   ]
  },
  {
   "cell_type": "code",
   "execution_count": 8,
   "metadata": {},
   "outputs": [
    {
     "data": {
      "text/plain": [
       "Gender                           object\n",
       "City                             object\n",
       "Monthly_Income                    int64\n",
       "DOB                      datetime64[ns]\n",
       "Lead_Creation_Date       datetime64[ns]\n",
       "Loan_Amount_Applied             float64\n",
       "Loan_Tenure_Applied             float64\n",
       "Existing_EMI                    float64\n",
       "Employer_Name                    object\n",
       "Salary_Account                   object\n",
       "Mobile_Verified                  object\n",
       "Var5                              int64\n",
       "Var1                             object\n",
       "Loan_Amount_Submitted           float64\n",
       "Loan_Tenure_Submitted           float64\n",
       "Interest_Rate                   float64\n",
       "Processing_Fee                  float64\n",
       "EMI_Loan_Submitted              float64\n",
       "Filled_Form                      object\n",
       "Device_Type                      object\n",
       "Var2                             object\n",
       "Source                           object\n",
       "Var4                              int64\n",
       "dtype: object"
      ]
     },
     "execution_count": 8,
     "metadata": {},
     "output_type": "execute_result"
    }
   ],
   "source": [
    "#typy zmiennych\n",
    "X.dtypes"
   ]
  },
  {
   "cell_type": "code",
   "execution_count": 9,
   "metadata": {},
   "outputs": [
    {
     "data": {
      "text/plain": [
       "Gender                   False\n",
       "City                      True\n",
       "Monthly_Income           False\n",
       "DOB                      False\n",
       "Lead_Creation_Date       False\n",
       "Loan_Amount_Applied       True\n",
       "Loan_Tenure_Applied       True\n",
       "Existing_EMI              True\n",
       "Employer_Name             True\n",
       "Salary_Account            True\n",
       "Mobile_Verified          False\n",
       "Var5                     False\n",
       "Var1                     False\n",
       "Loan_Amount_Submitted     True\n",
       "Loan_Tenure_Submitted     True\n",
       "Interest_Rate             True\n",
       "Processing_Fee            True\n",
       "EMI_Loan_Submitted        True\n",
       "Filled_Form              False\n",
       "Device_Type              False\n",
       "Var2                     False\n",
       "Source                   False\n",
       "Var4                     False\n",
       "dtype: bool"
      ]
     },
     "execution_count": 9,
     "metadata": {},
     "output_type": "execute_result"
    }
   ],
   "source": [
    "#sprawdzenie ktore kolumny zawieraja NaN-y\n",
    "X.isna().any()"
   ]
  },
  {
   "cell_type": "code",
   "execution_count": 10,
   "metadata": {},
   "outputs": [
    {
     "data": {
      "text/plain": [
       "Gender                       0\n",
       "City                      1003\n",
       "Monthly_Income               0\n",
       "DOB                          0\n",
       "Lead_Creation_Date           0\n",
       "Loan_Amount_Applied         71\n",
       "Loan_Tenure_Applied         71\n",
       "Existing_EMI                71\n",
       "Employer_Name               71\n",
       "Salary_Account           11764\n",
       "Mobile_Verified              0\n",
       "Var5                         0\n",
       "Var1                         0\n",
       "Loan_Amount_Submitted    34613\n",
       "Loan_Tenure_Submitted    34613\n",
       "Interest_Rate            59294\n",
       "Processing_Fee           59600\n",
       "EMI_Loan_Submitted       59294\n",
       "Filled_Form                  0\n",
       "Device_Type                  0\n",
       "Var2                         0\n",
       "Source                       0\n",
       "Var4                         0\n",
       "dtype: int64"
      ]
     },
     "execution_count": 10,
     "metadata": {},
     "output_type": "execute_result"
    }
   ],
   "source": [
    "#sprawdzenie ile Nan-ow w kolumnach\n",
    "X.isna().sum()\n"
   ]
  },
  {
   "cell_type": "code",
   "execution_count": 11,
   "metadata": {},
   "outputs": [
    {
     "data": {
      "text/plain": [
       "Male      49848\n",
       "Female    37172\n",
       "Name: Gender, dtype: int64"
      ]
     },
     "execution_count": 11,
     "metadata": {},
     "output_type": "execute_result"
    }
   ],
   "source": [
    "#kolumna Gender - zmienna kategoryczna\n",
    "X['Gender'].value_counts()"
   ]
  },
  {
   "cell_type": "code",
   "execution_count": 12,
   "metadata": {},
   "outputs": [
    {
     "data": {
      "text/plain": [
       "(array([37172.,     0.,     0.,     0.,     0.,     0.,     0.,     0.,\n",
       "            0., 49848.]),\n",
       " array([0. , 0.1, 0.2, 0.3, 0.4, 0.5, 0.6, 0.7, 0.8, 0.9, 1. ]),\n",
       " <a list of 10 Patch objects>)"
      ]
     },
     "execution_count": 12,
     "metadata": {},
     "output_type": "execute_result"
    },
    {
     "data": {
      "image/png": "[encoded data removed]",
      "text/plain": [
       "<Figure size 432x288 with 1 Axes>"
      ]
     },
     "metadata": {
      "needs_background": "light"
     },
     "output_type": "display_data"
    }
   ],
   "source": [
    "#rozklad zmiennych\n",
    "import matplotlib.pyplot as plt\n",
    "%matplotlib inline\n",
    "plt.hist(X['Gender'],bins=10)"
   ]
  },
  {
   "cell_type": "code",
   "execution_count": 13,
   "metadata": {},
   "outputs": [],
   "source": [
    "#modyfikacje zmiennej\n",
    "#Mobile_Verfied encodujemy na 1 - y 0 - n \n",
    "X['Gender'] = X['Gender'].replace({\"Male\":1, \"Female\":0})"
   ]
  },
  {
   "cell_type": "code",
   "execution_count": 14,
   "metadata": {},
   "outputs": [
    {
     "data": {
      "text/plain": [
       "Delhi          12527\n",
       "Bengaluru      10824\n",
       "Mumbai         10795\n",
       "Hyderabad       7272\n",
       "Chennai         6916\n",
       "               ...  \n",
       "Madhepura          1\n",
       "Dantewada          1\n",
       "Malabar            1\n",
       "Kargil             1\n",
       "Chinnamiram        1\n",
       "Name: City, Length: 697, dtype: int64"
      ]
     },
     "execution_count": 14,
     "metadata": {},
     "output_type": "execute_result"
    }
   ],
   "source": [
    "#zmienna City - kategoryczna\n",
    "X['City'].value_counts()"
   ]
  },
  {
   "cell_type": "code",
   "execution_count": 15,
   "metadata": {},
   "outputs": [
    {
     "name": "stdout",
     "output_type": "stream",
     "text": [
      "missing percentage: 1.1526085957251206\n"
     ]
    }
   ],
   "source": [
    "#liczba brakujacych danych\n",
    "calc_missing_values(X['City'])"
   ]
  },
  {
   "cell_type": "code",
   "execution_count": 16,
   "metadata": {},
   "outputs": [
    {
     "data": {
      "text/plain": [
       "count     86017\n",
       "unique      697\n",
       "top       Delhi\n",
       "freq      12527\n",
       "Name: City, dtype: object"
      ]
     },
     "execution_count": 16,
     "metadata": {},
     "output_type": "execute_result"
    }
   ],
   "source": [
    "X['City'].describe()"
   ]
  },
  {
   "cell_type": "code",
   "execution_count": 17,
   "metadata": {},
   "outputs": [],
   "source": [
    "#brakujace wartosci mozna uzupelnic most frequent\n",
    "#rozklad zmiennych\n",
    "#plt.hist(X[X['City'] == 'Baksa'],bins=10)"
   ]
  },
  {
   "cell_type": "code",
   "execution_count": 18,
   "metadata": {},
   "outputs": [],
   "source": [
    "#PROCESSING NAN\n",
    "#wypełniamy najczęstszym miastem\n",
    "X['City'] = X['City'].fillna(X['City'].mode()[0])\n"
   ]
  },
  {
   "cell_type": "code",
   "execution_count": 19,
   "metadata": {},
   "outputs": [
    {
     "data": {
      "text/plain": [
       "25000    5823\n",
       "20000    4523\n",
       "15000    4246\n",
       "30000    3216\n",
       "50000    2392\n",
       "         ... \n",
       "21612       1\n",
       "58490       1\n",
       "15521       1\n",
       "33974       1\n",
       "36978       1\n",
       "Name: Monthly_Income, Length: 5825, dtype: int64"
      ]
     },
     "execution_count": 19,
     "metadata": {},
     "output_type": "execute_result"
    }
   ],
   "source": [
    "#kolumna Monthly income - zmienna numeryczna\n",
    "X['Monthly_Income'].value_counts()"
   ]
  },
  {
   "cell_type": "code",
   "execution_count": 20,
   "metadata": {},
   "outputs": [
    {
     "name": "stdout",
     "output_type": "stream",
     "text": [
      "missing percentage: 0.0\n"
     ]
    }
   ],
   "source": [
    "calc_missing_values(X['Monthly_Income'])"
   ]
  },
  {
   "cell_type": "code",
   "execution_count": 21,
   "metadata": {},
   "outputs": [
    {
     "data": {
      "text/plain": [
       "count    8.702000e+04\n",
       "mean     5.884997e+04\n",
       "std      2.177511e+06\n",
       "min      0.000000e+00\n",
       "25%      1.650000e+04\n",
       "50%      2.500000e+04\n",
       "75%      4.000000e+04\n",
       "max      4.445544e+08\n",
       "Name: Monthly_Income, dtype: float64"
      ]
     },
     "execution_count": 21,
     "metadata": {},
     "output_type": "execute_result"
    }
   ],
   "source": [
    "#statystyki dla zmiennej \n",
    "X['Monthly_Income'].describe()"
   ]
  },
  {
   "cell_type": "code",
   "execution_count": 22,
   "metadata": {},
   "outputs": [
    {
     "data": {
      "text/plain": [
       "167.56052617705805"
      ]
     },
     "execution_count": 22,
     "metadata": {},
     "output_type": "execute_result"
    }
   ],
   "source": [
    "X['Monthly_Income'].skew()"
   ]
  },
  {
   "cell_type": "code",
   "execution_count": 23,
   "metadata": {},
   "outputs": [
    {
     "data": {
      "image/png": "[encoded data removed]",
      "text/plain": [
       "<Figure size 720x720 with 1 Axes>"
      ]
     },
     "metadata": {
      "needs_background": "light"
     },
     "output_type": "display_data"
    }
   ],
   "source": [
    "#rozklad zmiennych\n",
    "plt.figure(figsize=(10,10))\n",
    "plt.hist(X['Monthly_Income'],bins=100)\n",
    "plt.yscale('log')\n",
    "#plt.xscale('log')"
   ]
  },
  {
   "cell_type": "code",
   "execution_count": 24,
   "metadata": {},
   "outputs": [
    {
     "data": {
      "image/png": "[encoded data removed]",
      "text/plain": [
       "<Figure size 432x288 with 1 Axes>"
      ]
     },
     "metadata": {
      "needs_background": "light"
     },
     "output_type": "display_data"
    }
   ],
   "source": [
    "#rozklad zmiennych\n",
    "import seaborn as sns\n",
    "sns.distplot(X['Monthly_Income'])\n",
    "plt.yscale('log')\n",
    "plt.show()"
   ]
  },
  {
   "cell_type": "code",
   "execution_count": 25,
   "metadata": {},
   "outputs": [
    {
     "data": {
      "text/plain": [
       "<matplotlib.axes._subplots.AxesSubplot at 0x1eede177b48>"
      ]
     },
     "execution_count": 25,
     "metadata": {},
     "output_type": "execute_result"
    },
    {
     "data": {
      "image/png": "[encoded data removed]",
      "text/plain": [
       "<Figure size 432x288 with 1 Axes>"
      ]
     },
     "metadata": {
      "needs_background": "light"
     },
     "output_type": "display_data"
    }
   ],
   "source": [
    "#boxplot outliers\n",
    "import seaborn as sns\n",
    "sns.boxplot(x=X['Monthly_Income'])"
   ]
  },
  {
   "cell_type": "code",
   "execution_count": 26,
   "metadata": {},
   "outputs": [],
   "source": [
    "#rozklad zmiennych po konwersji log()\n",
    "#aby zrobic konwersje trzeba wartosc 0.0 zamienic na bardzo male 0.000001\n",
    "#rozklad zmiennych\n",
    "#x_tmp = x\n",
    "#x_tmp.loc[x_tmp['Monthly_Income'] == 0] = 0.000001\n",
    "#plt.figure(figsize=(10,10))\n",
    "#plt.hist(np.log(x_tmp['Monthly_Income']),bins=100)\n",
    "#plt.yscale('log')\n",
    "#plt.xscale('log')"
   ]
  },
  {
   "cell_type": "code",
   "execution_count": 27,
   "metadata": {},
   "outputs": [
    {
     "data": {
      "image/png": "[encoded data removed]",
      "text/plain": [
       "<Figure size 432x288 with 1 Axes>"
      ]
     },
     "metadata": {
      "needs_background": "light"
     },
     "output_type": "display_data"
    }
   ],
   "source": [
    "#rozklad zmiennych\n",
    "import seaborn as sns\n",
    "#sns.distplot(np.log(x_tmp['Monthly_Income']))\n",
    "plt.yscale('log')\n",
    "plt.show()"
   ]
  },
  {
   "cell_type": "code",
   "execution_count": 28,
   "metadata": {},
   "outputs": [
    {
     "data": {
      "text/plain": [
       "1980-11-11    306\n",
       "1970-01-02    226\n",
       "1970-01-01    148\n",
       "1990-01-01    131\n",
       "1980-01-01    111\n",
       "             ... \n",
       "1994-12-09      1\n",
       "2050-05-20      1\n",
       "2068-08-25      1\n",
       "2060-11-30      1\n",
       "2062-06-24      1\n",
       "Name: DOB, Length: 11345, dtype: int64"
      ]
     },
     "execution_count": 28,
     "metadata": {},
     "output_type": "execute_result"
    }
   ],
   "source": [
    "#zmienna DOB - data\n",
    "X['DOB'].value_counts()"
   ]
  },
  {
   "cell_type": "code",
   "execution_count": 29,
   "metadata": {},
   "outputs": [
    {
     "name": "stdout",
     "output_type": "stream",
     "text": [
      "missing percentage: 0.0\n"
     ]
    }
   ],
   "source": [
    "#brakujace wartosci\n",
    "calc_missing_values(X['DOB'])"
   ]
  },
  {
   "cell_type": "code",
   "execution_count": 30,
   "metadata": {},
   "outputs": [
    {
     "data": {
      "text/plain": [
       "0       1978-05-23\n",
       "1       1985-10-07\n",
       "2       1981-10-10\n",
       "3       1987-11-30\n",
       "4       1984-02-17\n",
       "           ...    \n",
       "87015   2069-11-27\n",
       "87016   1990-12-01\n",
       "87017   1972-01-28\n",
       "87018   1977-04-27\n",
       "87019   1988-10-31\n",
       "Name: DOB, Length: 87020, dtype: datetime64[ns]"
      ]
     },
     "execution_count": 30,
     "metadata": {},
     "output_type": "execute_result"
    }
   ],
   "source": [
    "X['DOB']"
   ]
  },
  {
   "cell_type": "code",
   "execution_count": 31,
   "metadata": {},
   "outputs": [
    {
     "data": {
      "text/html": [
       "<div>\n",
       "<style scoped>\n",
       "    .dataframe tbody tr th:only-of-type {\n",
       "        vertical-align: middle;\n",
       "    }\n",
       "\n",
       "    .dataframe tbody tr th {\n",
       "        vertical-align: top;\n",
       "    }\n",
       "\n",
       "    .dataframe thead th {\n",
       "        text-align: right;\n",
       "    }\n",
       "</style>\n",
       "<table border=\"1\" class=\"dataframe\">\n",
       "  <thead>\n",
       "    <tr style=\"text-align: right;\">\n",
       "      <th></th>\n",
       "      <th>Gender</th>\n",
       "      <th>City</th>\n",
       "      <th>Monthly_Income</th>\n",
       "      <th>DOB</th>\n",
       "      <th>Lead_Creation_Date</th>\n",
       "      <th>Loan_Amount_Applied</th>\n",
       "      <th>Loan_Tenure_Applied</th>\n",
       "      <th>Existing_EMI</th>\n",
       "      <th>Employer_Name</th>\n",
       "      <th>Salary_Account</th>\n",
       "      <th>...</th>\n",
       "      <th>Loan_Amount_Submitted</th>\n",
       "      <th>Loan_Tenure_Submitted</th>\n",
       "      <th>Interest_Rate</th>\n",
       "      <th>Processing_Fee</th>\n",
       "      <th>EMI_Loan_Submitted</th>\n",
       "      <th>Filled_Form</th>\n",
       "      <th>Device_Type</th>\n",
       "      <th>Var2</th>\n",
       "      <th>Source</th>\n",
       "      <th>Var4</th>\n",
       "    </tr>\n",
       "  </thead>\n",
       "  <tbody>\n",
       "    <tr>\n",
       "      <th>34</th>\n",
       "      <td>1</td>\n",
       "      <td>Mumbai</td>\n",
       "      <td>56000</td>\n",
       "      <td>2064-05-28</td>\n",
       "      <td>2015-05-01</td>\n",
       "      <td>500000.0</td>\n",
       "      <td>5.0</td>\n",
       "      <td>14500.0</td>\n",
       "      <td>TEJCONTROL SYSTEMS PVT LTD</td>\n",
       "      <td>HDFC Bank</td>\n",
       "      <td>...</td>\n",
       "      <td>500000.0</td>\n",
       "      <td>5.0</td>\n",
       "      <td>NaN</td>\n",
       "      <td>NaN</td>\n",
       "      <td>NaN</td>\n",
       "      <td>N</td>\n",
       "      <td>Web-browser</td>\n",
       "      <td>E</td>\n",
       "      <td>S133</td>\n",
       "      <td>3</td>\n",
       "    </tr>\n",
       "    <tr>\n",
       "      <th>58</th>\n",
       "      <td>1</td>\n",
       "      <td>Mumbai</td>\n",
       "      <td>45000</td>\n",
       "      <td>2050-05-20</td>\n",
       "      <td>2015-05-01</td>\n",
       "      <td>0.0</td>\n",
       "      <td>0.0</td>\n",
       "      <td>0.0</td>\n",
       "      <td>XHZ</td>\n",
       "      <td>ICICI Bank</td>\n",
       "      <td>...</td>\n",
       "      <td>940000.0</td>\n",
       "      <td>5.0</td>\n",
       "      <td>NaN</td>\n",
       "      <td>NaN</td>\n",
       "      <td>NaN</td>\n",
       "      <td>N</td>\n",
       "      <td>Web-browser</td>\n",
       "      <td>B</td>\n",
       "      <td>S133</td>\n",
       "      <td>2</td>\n",
       "    </tr>\n",
       "    <tr>\n",
       "      <th>89</th>\n",
       "      <td>1</td>\n",
       "      <td>Vijayawada</td>\n",
       "      <td>600000</td>\n",
       "      <td>2068-04-01</td>\n",
       "      <td>2015-05-01</td>\n",
       "      <td>1000000.0</td>\n",
       "      <td>5.0</td>\n",
       "      <td>15000.0</td>\n",
       "      <td>GOPALA KRISHNA</td>\n",
       "      <td>State Bank of India</td>\n",
       "      <td>...</td>\n",
       "      <td>1000000.0</td>\n",
       "      <td>5.0</td>\n",
       "      <td>NaN</td>\n",
       "      <td>NaN</td>\n",
       "      <td>NaN</td>\n",
       "      <td>N</td>\n",
       "      <td>Web-browser</td>\n",
       "      <td>B</td>\n",
       "      <td>S133</td>\n",
       "      <td>3</td>\n",
       "    </tr>\n",
       "    <tr>\n",
       "      <th>92</th>\n",
       "      <td>0</td>\n",
       "      <td>Dibrugarh</td>\n",
       "      <td>151500</td>\n",
       "      <td>2059-10-21</td>\n",
       "      <td>2015-05-01</td>\n",
       "      <td>2000000.0</td>\n",
       "      <td>5.0</td>\n",
       "      <td>37500.0</td>\n",
       "      <td>B.C.DAS</td>\n",
       "      <td>Allahabad Bank</td>\n",
       "      <td>...</td>\n",
       "      <td>NaN</td>\n",
       "      <td>NaN</td>\n",
       "      <td>NaN</td>\n",
       "      <td>NaN</td>\n",
       "      <td>NaN</td>\n",
       "      <td>N</td>\n",
       "      <td>Web-browser</td>\n",
       "      <td>B</td>\n",
       "      <td>S133</td>\n",
       "      <td>3</td>\n",
       "    </tr>\n",
       "    <tr>\n",
       "      <th>125</th>\n",
       "      <td>1</td>\n",
       "      <td>Hyderabad</td>\n",
       "      <td>60000</td>\n",
       "      <td>2066-03-04</td>\n",
       "      <td>2015-05-01</td>\n",
       "      <td>300000.0</td>\n",
       "      <td>3.0</td>\n",
       "      <td>17000.0</td>\n",
       "      <td>AIRINDIA</td>\n",
       "      <td>Vijaya Bank</td>\n",
       "      <td>...</td>\n",
       "      <td>300000.0</td>\n",
       "      <td>3.0</td>\n",
       "      <td>14.85</td>\n",
       "      <td>6000.0</td>\n",
       "      <td>10377.58</td>\n",
       "      <td>Y</td>\n",
       "      <td>Web-browser</td>\n",
       "      <td>B</td>\n",
       "      <td>S122</td>\n",
       "      <td>5</td>\n",
       "    </tr>\n",
       "    <tr>\n",
       "      <th>...</th>\n",
       "      <td>...</td>\n",
       "      <td>...</td>\n",
       "      <td>...</td>\n",
       "      <td>...</td>\n",
       "      <td>...</td>\n",
       "      <td>...</td>\n",
       "      <td>...</td>\n",
       "      <td>...</td>\n",
       "      <td>...</td>\n",
       "      <td>...</td>\n",
       "      <td>...</td>\n",
       "      <td>...</td>\n",
       "      <td>...</td>\n",
       "      <td>...</td>\n",
       "      <td>...</td>\n",
       "      <td>...</td>\n",
       "      <td>...</td>\n",
       "      <td>...</td>\n",
       "      <td>...</td>\n",
       "      <td>...</td>\n",
       "      <td>...</td>\n",
       "    </tr>\n",
       "    <tr>\n",
       "      <th>86998</th>\n",
       "      <td>1</td>\n",
       "      <td>Ahmedabad</td>\n",
       "      <td>45000</td>\n",
       "      <td>2056-08-31</td>\n",
       "      <td>2015-07-31</td>\n",
       "      <td>0.0</td>\n",
       "      <td>0.0</td>\n",
       "      <td>0.0</td>\n",
       "      <td>BHARAT SANCHAR NIGAM LTD (BSNL)</td>\n",
       "      <td>Corporation bank</td>\n",
       "      <td>...</td>\n",
       "      <td>810000.0</td>\n",
       "      <td>4.0</td>\n",
       "      <td>14.85</td>\n",
       "      <td>16200.0</td>\n",
       "      <td>22481.36</td>\n",
       "      <td>Y</td>\n",
       "      <td>Mobile</td>\n",
       "      <td>G</td>\n",
       "      <td>S122</td>\n",
       "      <td>5</td>\n",
       "    </tr>\n",
       "    <tr>\n",
       "      <th>87000</th>\n",
       "      <td>0</td>\n",
       "      <td>Palwal</td>\n",
       "      <td>51524</td>\n",
       "      <td>2062-11-01</td>\n",
       "      <td>2015-07-31</td>\n",
       "      <td>300000.0</td>\n",
       "      <td>5.0</td>\n",
       "      <td>23648.0</td>\n",
       "      <td>DHBVN</td>\n",
       "      <td>HDFC Bank</td>\n",
       "      <td>...</td>\n",
       "      <td>NaN</td>\n",
       "      <td>NaN</td>\n",
       "      <td>NaN</td>\n",
       "      <td>NaN</td>\n",
       "      <td>NaN</td>\n",
       "      <td>N</td>\n",
       "      <td>Web-browser</td>\n",
       "      <td>G</td>\n",
       "      <td>S122</td>\n",
       "      <td>1</td>\n",
       "    </tr>\n",
       "    <tr>\n",
       "      <th>87003</th>\n",
       "      <td>1</td>\n",
       "      <td>Rajkot</td>\n",
       "      <td>40000</td>\n",
       "      <td>2060-01-01</td>\n",
       "      <td>2015-07-31</td>\n",
       "      <td>700000.0</td>\n",
       "      <td>0.0</td>\n",
       "      <td>8450.0</td>\n",
       "      <td>KJO</td>\n",
       "      <td>Bank of India</td>\n",
       "      <td>...</td>\n",
       "      <td>570000.0</td>\n",
       "      <td>4.0</td>\n",
       "      <td>NaN</td>\n",
       "      <td>NaN</td>\n",
       "      <td>NaN</td>\n",
       "      <td>N</td>\n",
       "      <td>Web-browser</td>\n",
       "      <td>G</td>\n",
       "      <td>S122</td>\n",
       "      <td>3</td>\n",
       "    </tr>\n",
       "    <tr>\n",
       "      <th>87005</th>\n",
       "      <td>1</td>\n",
       "      <td>Nellore</td>\n",
       "      <td>116000</td>\n",
       "      <td>2069-02-21</td>\n",
       "      <td>2015-07-31</td>\n",
       "      <td>1000000.0</td>\n",
       "      <td>5.0</td>\n",
       "      <td>0.0</td>\n",
       "      <td>APTRANSCO</td>\n",
       "      <td>Axis Bank</td>\n",
       "      <td>...</td>\n",
       "      <td>1000000.0</td>\n",
       "      <td>5.0</td>\n",
       "      <td>15.75</td>\n",
       "      <td>15000.0</td>\n",
       "      <td>36278.14</td>\n",
       "      <td>N</td>\n",
       "      <td>Web-browser</td>\n",
       "      <td>G</td>\n",
       "      <td>S122</td>\n",
       "      <td>3</td>\n",
       "    </tr>\n",
       "    <tr>\n",
       "      <th>87015</th>\n",
       "      <td>0</td>\n",
       "      <td>Ajmer</td>\n",
       "      <td>71901</td>\n",
       "      <td>2069-11-27</td>\n",
       "      <td>2015-07-31</td>\n",
       "      <td>1000000.0</td>\n",
       "      <td>5.0</td>\n",
       "      <td>14500.0</td>\n",
       "      <td>MAYO COLLEGE</td>\n",
       "      <td>ICICI Bank</td>\n",
       "      <td>...</td>\n",
       "      <td>NaN</td>\n",
       "      <td>NaN</td>\n",
       "      <td>NaN</td>\n",
       "      <td>NaN</td>\n",
       "      <td>NaN</td>\n",
       "      <td>N</td>\n",
       "      <td>Web-browser</td>\n",
       "      <td>G</td>\n",
       "      <td>S122</td>\n",
       "      <td>3</td>\n",
       "    </tr>\n",
       "  </tbody>\n",
       "</table>\n",
       "<p>4433 rows × 23 columns</p>\n",
       "</div>"
      ],
      "text/plain": [
       "       Gender        City  Monthly_Income        DOB Lead_Creation_Date  \\\n",
       "34          1      Mumbai           56000 2064-05-28         2015-05-01   \n",
       "58          1      Mumbai           45000 2050-05-20         2015-05-01   \n",
       "89          1  Vijayawada          600000 2068-04-01         2015-05-01   \n",
       "92          0   Dibrugarh          151500 2059-10-21         2015-05-01   \n",
       "125         1   Hyderabad           60000 2066-03-04         2015-05-01   \n",
       "...       ...         ...             ...        ...                ...   \n",
       "86998       1   Ahmedabad           45000 2056-08-31         2015-07-31   \n",
       "87000       0      Palwal           51524 2062-11-01         2015-07-31   \n",
       "87003       1      Rajkot           40000 2060-01-01         2015-07-31   \n",
       "87005       1     Nellore          116000 2069-02-21         2015-07-31   \n",
       "87015       0       Ajmer           71901 2069-11-27         2015-07-31   \n",
       "\n",
       "       Loan_Amount_Applied  Loan_Tenure_Applied  Existing_EMI  \\\n",
       "34                500000.0                  5.0       14500.0   \n",
       "58                     0.0                  0.0           0.0   \n",
       "89               1000000.0                  5.0       15000.0   \n",
       "92               2000000.0                  5.0       37500.0   \n",
       "125               300000.0                  3.0       17000.0   \n",
       "...                    ...                  ...           ...   \n",
       "86998                  0.0                  0.0           0.0   \n",
       "87000             300000.0                  5.0       23648.0   \n",
       "87003             700000.0                  0.0        8450.0   \n",
       "87005            1000000.0                  5.0           0.0   \n",
       "87015            1000000.0                  5.0       14500.0   \n",
       "\n",
       "                         Employer_Name       Salary_Account  ...  \\\n",
       "34          TEJCONTROL SYSTEMS PVT LTD            HDFC Bank  ...   \n",
       "58                                 XHZ           ICICI Bank  ...   \n",
       "89                      GOPALA KRISHNA  State Bank of India  ...   \n",
       "92                             B.C.DAS       Allahabad Bank  ...   \n",
       "125                           AIRINDIA          Vijaya Bank  ...   \n",
       "...                                ...                  ...  ...   \n",
       "86998  BHARAT SANCHAR NIGAM LTD (BSNL)     Corporation bank  ...   \n",
       "87000                            DHBVN            HDFC Bank  ...   \n",
       "87003                              KJO        Bank of India  ...   \n",
       "87005                        APTRANSCO            Axis Bank  ...   \n",
       "87015                     MAYO COLLEGE           ICICI Bank  ...   \n",
       "\n",
       "      Loan_Amount_Submitted  Loan_Tenure_Submitted Interest_Rate  \\\n",
       "34                 500000.0                    5.0           NaN   \n",
       "58                 940000.0                    5.0           NaN   \n",
       "89                1000000.0                    5.0           NaN   \n",
       "92                      NaN                    NaN           NaN   \n",
       "125                300000.0                    3.0         14.85   \n",
       "...                     ...                    ...           ...   \n",
       "86998              810000.0                    4.0         14.85   \n",
       "87000                   NaN                    NaN           NaN   \n",
       "87003              570000.0                    4.0           NaN   \n",
       "87005             1000000.0                    5.0         15.75   \n",
       "87015                   NaN                    NaN           NaN   \n",
       "\n",
       "       Processing_Fee  EMI_Loan_Submitted  Filled_Form  Device_Type  Var2  \\\n",
       "34                NaN                 NaN            N  Web-browser     E   \n",
       "58                NaN                 NaN            N  Web-browser     B   \n",
       "89                NaN                 NaN            N  Web-browser     B   \n",
       "92                NaN                 NaN            N  Web-browser     B   \n",
       "125            6000.0            10377.58            Y  Web-browser     B   \n",
       "...               ...                 ...          ...          ...   ...   \n",
       "86998         16200.0            22481.36            Y       Mobile     G   \n",
       "87000             NaN                 NaN            N  Web-browser     G   \n",
       "87003             NaN                 NaN            N  Web-browser     G   \n",
       "87005         15000.0            36278.14            N  Web-browser     G   \n",
       "87015             NaN                 NaN            N  Web-browser     G   \n",
       "\n",
       "      Source Var4  \n",
       "34      S133    3  \n",
       "58      S133    2  \n",
       "89      S133    3  \n",
       "92      S133    3  \n",
       "125     S122    5  \n",
       "...      ...  ...  \n",
       "86998   S122    5  \n",
       "87000   S122    1  \n",
       "87003   S122    3  \n",
       "87005   S122    3  \n",
       "87015   S122    3  \n",
       "\n",
       "[4433 rows x 23 columns]"
      ]
     },
     "execution_count": 31,
     "metadata": {},
     "output_type": "execute_result"
    }
   ],
   "source": [
    "X.loc[X['DOB'] > pd.to_datetime('2015-01-01 00:00:00') ]"
   ]
  },
  {
   "cell_type": "code",
   "execution_count": 32,
   "metadata": {},
   "outputs": [],
   "source": [
    "#tworzymy nowa kolumne wiek 'AGE'\n",
    "def create_age_from_dob(data):\n",
    "    #z DOB robimy sobie Wiek aplikujacego o kredyt przyjmiemy rok 2015 jako rok bazowy\n",
    "    data['AGE'] = data['DOB'].apply(lambda xval: int((pd.to_datetime('2015-12-30 00:00:00') - xval)/np.timedelta64(1, 'Y')))\n",
    "    #dane z ujemnym wiekiem uzypelniamy wartoscia srednia z danych ktore sa prawidłow wypelnione czyli DOB < 2015\n",
    "    data.loc[ X['AGE'] <= 0, 'AGE' ] = data.loc[X['AGE'] > 0 ]['AGE'].mean()\n",
    "    "
   ]
  },
  {
   "cell_type": "code",
   "execution_count": 33,
   "metadata": {},
   "outputs": [],
   "source": [
    "create_age_from_dob(X)"
   ]
  },
  {
   "cell_type": "code",
   "execution_count": 34,
   "metadata": {},
   "outputs": [
    {
     "data": {
      "text/plain": [
       "count    87020.000000\n",
       "mean        29.789688\n",
       "std          5.154943\n",
       "min         18.000000\n",
       "25%         26.000000\n",
       "50%         29.000000\n",
       "75%         33.000000\n",
       "max         45.000000\n",
       "Name: AGE, dtype: float64"
      ]
     },
     "execution_count": 34,
     "metadata": {},
     "output_type": "execute_result"
    }
   ],
   "source": [
    "X['AGE'].describe()"
   ]
  },
  {
   "cell_type": "code",
   "execution_count": 35,
   "metadata": {},
   "outputs": [
    {
     "data": {
      "text/plain": [
       "0.7274690305792898"
      ]
     },
     "execution_count": 35,
     "metadata": {},
     "output_type": "execute_result"
    }
   ],
   "source": [
    "X['AGE'].skew()"
   ]
  },
  {
   "cell_type": "code",
   "execution_count": 36,
   "metadata": {},
   "outputs": [
    {
     "data": {
      "text/plain": [
       "(array([ 123.,  211.,    0.,  482.,    0.,  971.,    0., 1946.,    0.,\n",
       "        3410.,    0., 4541., 6216.,    0., 6646.,    0., 7118.,    0.,\n",
       "        6766.,    0., 6443., 4433., 5947.,    0., 5103., 4563.,    0.,\n",
       "        3933.,    0., 3126.,    0., 3353.,    0., 2130.,    0., 1809.,\n",
       "           0., 1455., 1241.,    0., 1151.,    0.,  910.,    0.,  773.,\n",
       "           0.,  705.,    0.,  571.,  944.]),\n",
       " array([18.  , 18.54, 19.08, 19.62, 20.16, 20.7 , 21.24, 21.78, 22.32,\n",
       "        22.86, 23.4 , 23.94, 24.48, 25.02, 25.56, 26.1 , 26.64, 27.18,\n",
       "        27.72, 28.26, 28.8 , 29.34, 29.88, 30.42, 30.96, 31.5 , 32.04,\n",
       "        32.58, 33.12, 33.66, 34.2 , 34.74, 35.28, 35.82, 36.36, 36.9 ,\n",
       "        37.44, 37.98, 38.52, 39.06, 39.6 , 40.14, 40.68, 41.22, 41.76,\n",
       "        42.3 , 42.84, 43.38, 43.92, 44.46, 45.  ]),\n",
       " <a list of 50 Patch objects>)"
      ]
     },
     "execution_count": 36,
     "metadata": {},
     "output_type": "execute_result"
    },
    {
     "data": {
      "image/png": "[encoded data removed]",
      "text/plain": [
       "<Figure size 720x720 with 1 Axes>"
      ]
     },
     "metadata": {
      "needs_background": "light"
     },
     "output_type": "display_data"
    }
   ],
   "source": [
    "#rozklad zmiennych\n",
    "plt.figure(figsize=(10,10))\n",
    "plt.hist(X['AGE'],bins=50)\n",
    "#plt.yscale('log')\n",
    "#plt.xscale('log')"
   ]
  },
  {
   "cell_type": "code",
   "execution_count": 37,
   "metadata": {},
   "outputs": [
    {
     "data": {
      "text/plain": [
       "2015-07-03    2315\n",
       "2015-07-23    1994\n",
       "2015-07-30    1297\n",
       "2015-07-27    1292\n",
       "2015-07-31    1268\n",
       "              ... \n",
       "2015-05-24     502\n",
       "2015-05-31     498\n",
       "2015-07-12     475\n",
       "2015-05-10     459\n",
       "2015-06-14     373\n",
       "Name: Lead_Creation_Date, Length: 92, dtype: int64"
      ]
     },
     "execution_count": 37,
     "metadata": {},
     "output_type": "execute_result"
    }
   ],
   "source": [
    "#zmienna Lead Creation Date\n",
    "X['Lead_Creation_Date'].value_counts()"
   ]
  },
  {
   "cell_type": "code",
   "execution_count": 38,
   "metadata": {},
   "outputs": [
    {
     "name": "stdout",
     "output_type": "stream",
     "text": [
      "missing percentage: 0.0\n"
     ]
    }
   ],
   "source": [
    "#brakujace wartosci\n",
    "calc_missing_values(X['Lead_Creation_Date'])"
   ]
  },
  {
   "cell_type": "code",
   "execution_count": 39,
   "metadata": {},
   "outputs": [
    {
     "data": {
      "text/plain": [
       "<Figure size 720x720 with 0 Axes>"
      ]
     },
     "execution_count": 39,
     "metadata": {},
     "output_type": "execute_result"
    },
    {
     "data": {
      "text/plain": [
       "<Figure size 720x720 with 0 Axes>"
      ]
     },
     "metadata": {},
     "output_type": "display_data"
    }
   ],
   "source": [
    "#daty trzeba przerobic\n",
    "#rozklad zmiennych\n",
    "plt.figure(figsize=(10,10))\n",
    "#plt.plot(X['Lead_Creation_Date'].year)\n",
    "#plt.yscale('log')\n",
    "#plt.xscale('log')"
   ]
  },
  {
   "cell_type": "code",
   "execution_count": 40,
   "metadata": {},
   "outputs": [
    {
     "data": {
      "text/plain": [
       "0.0          28853\n",
       "100000.0     14311\n",
       "200000.0     13058\n",
       "300000.0      9995\n",
       "500000.0      9762\n",
       "             ...  \n",
       "560000.0         1\n",
       "475000.0         1\n",
       "460000.0         1\n",
       "1405000.0        1\n",
       "204000.0         1\n",
       "Name: Loan_Amount_Applied, Length: 277, dtype: int64"
      ]
     },
     "execution_count": 40,
     "metadata": {},
     "output_type": "execute_result"
    }
   ],
   "source": [
    "# zmienna Loan_Amount_Applied numeryczna\n",
    "X['Loan_Amount_Applied'].value_counts()"
   ]
  },
  {
   "cell_type": "code",
   "execution_count": 41,
   "metadata": {},
   "outputs": [
    {
     "name": "stdout",
     "output_type": "stream",
     "text": [
      "missing percentage: 0.08159043897954493\n"
     ]
    }
   ],
   "source": [
    "#brakujace wartości\n",
    "calc_missing_values(X['Loan_Amount_Applied'])"
   ]
  },
  {
   "cell_type": "code",
   "execution_count": 42,
   "metadata": {},
   "outputs": [
    {
     "data": {
      "text/plain": [
       "count    8.694900e+04\n",
       "mean     2.302507e+05\n",
       "std      3.542068e+05\n",
       "min      0.000000e+00\n",
       "25%      0.000000e+00\n",
       "50%      1.000000e+05\n",
       "75%      3.000000e+05\n",
       "max      1.000000e+07\n",
       "Name: Loan_Amount_Applied, dtype: float64"
      ]
     },
     "execution_count": 42,
     "metadata": {},
     "output_type": "execute_result"
    }
   ],
   "source": [
    "#statystyki dla zmiennej \n",
    "X['Loan_Amount_Applied'].describe()"
   ]
  },
  {
   "cell_type": "code",
   "execution_count": 43,
   "metadata": {},
   "outputs": [
    {
     "data": {
      "text/plain": [
       "5.641871279754185"
      ]
     },
     "execution_count": 43,
     "metadata": {},
     "output_type": "execute_result"
    }
   ],
   "source": [
    "X['Loan_Amount_Applied'].skew()"
   ]
  },
  {
   "cell_type": "code",
   "execution_count": 44,
   "metadata": {},
   "outputs": [
    {
     "name": "stderr",
     "output_type": "stream",
     "text": [
      "C:\\Users\\darek\\Anaconda3\\lib\\site-packages\\numpy\\lib\\histograms.py:839: RuntimeWarning: invalid value encountered in greater_equal\n",
      "  keep = (tmp_a >= first_edge)\n",
      "C:\\Users\\darek\\Anaconda3\\lib\\site-packages\\numpy\\lib\\histograms.py:840: RuntimeWarning: invalid value encountered in less_equal\n",
      "  keep &= (tmp_a <= last_edge)\n"
     ]
    },
    {
     "data": {
      "image/png": "[encoded data removed]",
      "text/plain": [
       "<Figure size 720x720 with 1 Axes>"
      ]
     },
     "metadata": {
      "needs_background": "light"
     },
     "output_type": "display_data"
    }
   ],
   "source": [
    "#rozklad zmiennych\n",
    "plt.figure(figsize=(10,10))\n",
    "plt.hist(np.log(X['Loan_Amount_Applied']+0.001),bins=100)\n",
    "plt.yscale('log')\n",
    "#plt.xscale('log')"
   ]
  },
  {
   "cell_type": "code",
   "execution_count": 45,
   "metadata": {},
   "outputs": [],
   "source": [
    "#PROCESSING NAN\n",
    "#brakujace wartosci uzupelniamy wartoscia srednia zaokraglonoa w gore\n",
    "X['Loan_Amount_Applied'] = X['Loan_Amount_Applied'].fillna((X['Loan_Amount_Applied'].mean()))"
   ]
  },
  {
   "cell_type": "code",
   "execution_count": 46,
   "metadata": {},
   "outputs": [
    {
     "data": {
      "image/png": "[encoded data removed]",
      "text/plain": [
       "<Figure size 432x288 with 1 Axes>"
      ]
     },
     "metadata": {
      "needs_background": "light"
     },
     "output_type": "display_data"
    }
   ],
   "source": [
    "#rozklad zmiennych\n",
    "import seaborn as sns\n",
    "sns.distplot(X['Loan_Amount_Applied'])\n",
    "plt.yscale('log')\n",
    "plt.show()"
   ]
  },
  {
   "cell_type": "code",
   "execution_count": null,
   "metadata": {},
   "outputs": [],
   "source": []
  },
  {
   "cell_type": "code",
   "execution_count": 47,
   "metadata": {},
   "outputs": [
    {
     "data": {
      "text/plain": [
       "0.0     33844\n",
       "5.0     19083\n",
       "3.0     13080\n",
       "2.0      9463\n",
       "4.0      6620\n",
       "1.0      4812\n",
       "10.0       40\n",
       "7.0         3\n",
       "6.0         2\n",
       "9.0         1\n",
       "8.0         1\n",
       "Name: Loan_Tenure_Applied, dtype: int64"
      ]
     },
     "execution_count": 47,
     "metadata": {},
     "output_type": "execute_result"
    }
   ],
   "source": [
    "# zmienna Loan_Amount_Applied numeryczna\n",
    "X['Loan_Tenure_Applied'].value_counts()"
   ]
  },
  {
   "cell_type": "code",
   "execution_count": 48,
   "metadata": {},
   "outputs": [
    {
     "name": "stdout",
     "output_type": "stream",
     "text": [
      "missing percentage: 0.08159043897954493\n"
     ]
    }
   ],
   "source": [
    "#brakujace wartości\n",
    "calc_missing_values(X['Loan_Tenure_Applied'])"
   ]
  },
  {
   "cell_type": "code",
   "execution_count": 49,
   "metadata": {},
   "outputs": [
    {
     "data": {
      "text/plain": [
       "count    86949.000000\n",
       "mean         2.131399\n",
       "std          2.014193\n",
       "min          0.000000\n",
       "25%          0.000000\n",
       "50%          2.000000\n",
       "75%          4.000000\n",
       "max         10.000000\n",
       "Name: Loan_Tenure_Applied, dtype: float64"
      ]
     },
     "execution_count": 49,
     "metadata": {},
     "output_type": "execute_result"
    }
   ],
   "source": [
    "#statystyki dla zmiennej \n",
    "X['Loan_Tenure_Applied'].describe()"
   ]
  },
  {
   "cell_type": "code",
   "execution_count": 50,
   "metadata": {},
   "outputs": [
    {
     "data": {
      "text/plain": [
       "0.26462404804244716"
      ]
     },
     "execution_count": 50,
     "metadata": {},
     "output_type": "execute_result"
    }
   ],
   "source": [
    "X['Loan_Tenure_Applied'].skew()"
   ]
  },
  {
   "cell_type": "code",
   "execution_count": 51,
   "metadata": {},
   "outputs": [
    {
     "name": "stderr",
     "output_type": "stream",
     "text": [
      "C:\\Users\\darek\\Anaconda3\\lib\\site-packages\\numpy\\lib\\histograms.py:839: RuntimeWarning: invalid value encountered in greater_equal\n",
      "  keep = (tmp_a >= first_edge)\n",
      "C:\\Users\\darek\\Anaconda3\\lib\\site-packages\\numpy\\lib\\histograms.py:840: RuntimeWarning: invalid value encountered in less_equal\n",
      "  keep &= (tmp_a <= last_edge)\n"
     ]
    },
    {
     "data": {
      "text/plain": [
       "(array([3.3844e+04, 0.0000e+00, 0.0000e+00, 0.0000e+00, 0.0000e+00,\n",
       "        0.0000e+00, 0.0000e+00, 0.0000e+00, 0.0000e+00, 0.0000e+00,\n",
       "        4.8120e+03, 0.0000e+00, 0.0000e+00, 0.0000e+00, 0.0000e+00,\n",
       "        0.0000e+00, 0.0000e+00, 0.0000e+00, 0.0000e+00, 0.0000e+00,\n",
       "        9.4630e+03, 0.0000e+00, 0.0000e+00, 0.0000e+00, 0.0000e+00,\n",
       "        0.0000e+00, 0.0000e+00, 0.0000e+00, 0.0000e+00, 0.0000e+00,\n",
       "        1.3080e+04, 0.0000e+00, 0.0000e+00, 0.0000e+00, 0.0000e+00,\n",
       "        0.0000e+00, 0.0000e+00, 0.0000e+00, 0.0000e+00, 0.0000e+00,\n",
       "        6.6200e+03, 0.0000e+00, 0.0000e+00, 0.0000e+00, 0.0000e+00,\n",
       "        0.0000e+00, 0.0000e+00, 0.0000e+00, 0.0000e+00, 0.0000e+00,\n",
       "        1.9083e+04, 0.0000e+00, 0.0000e+00, 0.0000e+00, 0.0000e+00,\n",
       "        0.0000e+00, 0.0000e+00, 0.0000e+00, 0.0000e+00, 0.0000e+00,\n",
       "        2.0000e+00, 0.0000e+00, 0.0000e+00, 0.0000e+00, 0.0000e+00,\n",
       "        0.0000e+00, 0.0000e+00, 0.0000e+00, 0.0000e+00, 0.0000e+00,\n",
       "        3.0000e+00, 0.0000e+00, 0.0000e+00, 0.0000e+00, 0.0000e+00,\n",
       "        0.0000e+00, 0.0000e+00, 0.0000e+00, 0.0000e+00, 0.0000e+00,\n",
       "        1.0000e+00, 0.0000e+00, 0.0000e+00, 0.0000e+00, 0.0000e+00,\n",
       "        0.0000e+00, 0.0000e+00, 0.0000e+00, 0.0000e+00, 0.0000e+00,\n",
       "        1.0000e+00, 0.0000e+00, 0.0000e+00, 0.0000e+00, 0.0000e+00,\n",
       "        0.0000e+00, 0.0000e+00, 0.0000e+00, 0.0000e+00, 4.0000e+01]),\n",
       " array([ 0. ,  0.1,  0.2,  0.3,  0.4,  0.5,  0.6,  0.7,  0.8,  0.9,  1. ,\n",
       "         1.1,  1.2,  1.3,  1.4,  1.5,  1.6,  1.7,  1.8,  1.9,  2. ,  2.1,\n",
       "         2.2,  2.3,  2.4,  2.5,  2.6,  2.7,  2.8,  2.9,  3. ,  3.1,  3.2,\n",
       "         3.3,  3.4,  3.5,  3.6,  3.7,  3.8,  3.9,  4. ,  4.1,  4.2,  4.3,\n",
       "         4.4,  4.5,  4.6,  4.7,  4.8,  4.9,  5. ,  5.1,  5.2,  5.3,  5.4,\n",
       "         5.5,  5.6,  5.7,  5.8,  5.9,  6. ,  6.1,  6.2,  6.3,  6.4,  6.5,\n",
       "         6.6,  6.7,  6.8,  6.9,  7. ,  7.1,  7.2,  7.3,  7.4,  7.5,  7.6,\n",
       "         7.7,  7.8,  7.9,  8. ,  8.1,  8.2,  8.3,  8.4,  8.5,  8.6,  8.7,\n",
       "         8.8,  8.9,  9. ,  9.1,  9.2,  9.3,  9.4,  9.5,  9.6,  9.7,  9.8,\n",
       "         9.9, 10. ]),\n",
       " <a list of 100 Patch objects>)"
      ]
     },
     "execution_count": 51,
     "metadata": {},
     "output_type": "execute_result"
    },
    {
     "data": {
      "image/png": "[encoded data removed]",
      "text/plain": [
       "<Figure size 720x720 with 1 Axes>"
      ]
     },
     "metadata": {
      "needs_background": "light"
     },
     "output_type": "display_data"
    }
   ],
   "source": [
    "#rozklad zmiennych\n",
    "plt.figure(figsize=(10,10))\n",
    "plt.hist(X['Loan_Tenure_Applied'],bins=100)\n",
    "#plt.yscale('log')\n",
    "#plt.xscale('log')"
   ]
  },
  {
   "cell_type": "code",
   "execution_count": 52,
   "metadata": {},
   "outputs": [
    {
     "data": {
      "image/png": "[encoded data removed]",
      "text/plain": [
       "<Figure size 432x288 with 1 Axes>"
      ]
     },
     "metadata": {
      "needs_background": "light"
     },
     "output_type": "display_data"
    }
   ],
   "source": [
    "#rozklad zmiennych\n",
    "import seaborn as sns\n",
    "sns.distplot(X['Loan_Tenure_Applied'])\n",
    "plt.yscale('log')\n",
    "plt.show()"
   ]
  },
  {
   "cell_type": "code",
   "execution_count": 53,
   "metadata": {},
   "outputs": [],
   "source": [
    "#PROCESSING NAN\n",
    "#brakujace wartosci uzupelniamy wartoscia srednia zaokraglonoa w gore\n",
    "X['Loan_Tenure_Applied'] = X['Loan_Tenure_Applied'].fillna((np.ceil(X['Loan_Tenure_Applied'].mean())))"
   ]
  },
  {
   "cell_type": "code",
   "execution_count": 54,
   "metadata": {},
   "outputs": [
    {
     "data": {
      "text/plain": [
       "0.0        58238\n",
       "5000.0      2695\n",
       "10000.0     1737\n",
       "3000.0      1581\n",
       "4000.0      1226\n",
       "           ...  \n",
       "11036.0        1\n",
       "1703.0         1\n",
       "2335.0         1\n",
       "2936.0         1\n",
       "1543.0         1\n",
       "Name: Existing_EMI, Length: 3753, dtype: int64"
      ]
     },
     "execution_count": 54,
     "metadata": {},
     "output_type": "execute_result"
    }
   ],
   "source": [
    "#zmienna Existing_EMI\n",
    "X['Existing_EMI'].value_counts()"
   ]
  },
  {
   "cell_type": "code",
   "execution_count": 55,
   "metadata": {},
   "outputs": [
    {
     "name": "stdout",
     "output_type": "stream",
     "text": [
      "missing percentage: 0.08159043897954493\n"
     ]
    }
   ],
   "source": [
    "#brakujace wartości\n",
    "calc_missing_values(X['Existing_EMI'])"
   ]
  },
  {
   "cell_type": "code",
   "execution_count": 56,
   "metadata": {},
   "outputs": [
    {
     "data": {
      "text/plain": [
       "count    8.694900e+04\n",
       "mean     3.696228e+03\n",
       "std      3.981021e+04\n",
       "min      0.000000e+00\n",
       "25%      0.000000e+00\n",
       "50%      0.000000e+00\n",
       "75%      3.500000e+03\n",
       "max      1.000000e+07\n",
       "Name: Existing_EMI, dtype: float64"
      ]
     },
     "execution_count": 56,
     "metadata": {},
     "output_type": "execute_result"
    }
   ],
   "source": [
    "#statystyki dla zmiennej \n",
    "X['Existing_EMI'].describe()"
   ]
  },
  {
   "cell_type": "code",
   "execution_count": 57,
   "metadata": {},
   "outputs": [
    {
     "data": {
      "text/plain": [
       "211.7693511145207"
      ]
     },
     "execution_count": 57,
     "metadata": {},
     "output_type": "execute_result"
    }
   ],
   "source": [
    "X['Existing_EMI'].skew()"
   ]
  },
  {
   "cell_type": "code",
   "execution_count": 58,
   "metadata": {},
   "outputs": [
    {
     "name": "stderr",
     "output_type": "stream",
     "text": [
      "C:\\Users\\darek\\Anaconda3\\lib\\site-packages\\numpy\\lib\\histograms.py:839: RuntimeWarning: invalid value encountered in greater_equal\n",
      "  keep = (tmp_a >= first_edge)\n",
      "C:\\Users\\darek\\Anaconda3\\lib\\site-packages\\numpy\\lib\\histograms.py:840: RuntimeWarning: invalid value encountered in less_equal\n",
      "  keep &= (tmp_a <= last_edge)\n"
     ]
    },
    {
     "data": {
      "image/png": "[encoded data removed]",
      "text/plain": [
       "<Figure size 720x720 with 1 Axes>"
      ]
     },
     "metadata": {
      "needs_background": "light"
     },
     "output_type": "display_data"
    }
   ],
   "source": [
    "#rozklad zmiennych\n",
    "plt.figure(figsize=(10,10))\n",
    "plt.hist(X['Existing_EMI'],bins=100)\n",
    "plt.yscale('log')\n",
    "#plt.xscale('log')"
   ]
  },
  {
   "cell_type": "code",
   "execution_count": 59,
   "metadata": {},
   "outputs": [
    {
     "data": {
      "image/png": "[encoded data removed]",
      "text/plain": [
       "<Figure size 432x288 with 1 Axes>"
      ]
     },
     "metadata": {
      "needs_background": "light"
     },
     "output_type": "display_data"
    }
   ],
   "source": [
    "#rozklad zmiennych\n",
    "import seaborn as sns\n",
    "sns.distplot(X['Existing_EMI'])\n",
    "plt.yscale('log')\n",
    "plt.show()"
   ]
  },
  {
   "cell_type": "code",
   "execution_count": 60,
   "metadata": {},
   "outputs": [],
   "source": [
    "#PROCESSING NAN\n",
    "#brakujace wartosci uzupelniamy wartoscia srednia zaokraglonoa w gore\n",
    "X['Existing_EMI'] = X['Existing_EMI'].fillna((X['Existing_EMI'].mean()))"
   ]
  },
  {
   "cell_type": "code",
   "execution_count": 61,
   "metadata": {},
   "outputs": [
    {
     "data": {
      "text/plain": [
       "0                                               4914\n",
       "TATA CONSULTANCY SERVICES LTD (TCS)              550\n",
       "COGNIZANT TECHNOLOGY SOLUTIONS INDIA PVT LTD     404\n",
       "ACCENTURE SERVICES PVT LTD                       324\n",
       "GOOGLE                                           301\n",
       "                                                ... \n",
       "SENECA GLOBAL IT SERVICES PVT LTD                  1\n",
       "K V S                                              1\n",
       "GAURAV PACHAURI                                    1\n",
       "SMITHA TECHNICAL TRAINING INSTITUTE                1\n",
       "INFOLINE SYSTEMS PVT LTD                           1\n",
       "Name: Employer_Name, Length: 43567, dtype: int64"
      ]
     },
     "execution_count": 61,
     "metadata": {},
     "output_type": "execute_result"
    }
   ],
   "source": [
    "#zmienna Employer_Name\n",
    "X['Employer_Name'].value_counts()"
   ]
  },
  {
   "cell_type": "code",
   "execution_count": 62,
   "metadata": {},
   "outputs": [
    {
     "name": "stdout",
     "output_type": "stream",
     "text": [
      "missing percentage: 0.08159043897954493\n"
     ]
    }
   ],
   "source": [
    "#brakujace wartości\n",
    "calc_missing_values(X['Employer_Name'])"
   ]
  },
  {
   "cell_type": "code",
   "execution_count": 63,
   "metadata": {},
   "outputs": [
    {
     "data": {
      "text/plain": [
       "count     86949\n",
       "unique    43567\n",
       "top           0\n",
       "freq       4914\n",
       "Name: Employer_Name, dtype: object"
      ]
     },
     "execution_count": 63,
     "metadata": {},
     "output_type": "execute_result"
    }
   ],
   "source": [
    "#statystyki dla zmiennej \n",
    "X['Employer_Name'].describe()"
   ]
  },
  {
   "cell_type": "code",
   "execution_count": 64,
   "metadata": {},
   "outputs": [],
   "source": [
    "#poniewaz w danych istnieja nany\n",
    "#X['Employer_Name'] = X['Employer_Name'].fillna('na')\n",
    "#poniewaz nan i nieokreslonych jest <0.82% to mozemy wypelnic most frequent"
   ]
  },
  {
   "cell_type": "code",
   "execution_count": 65,
   "metadata": {},
   "outputs": [
    {
     "data": {
      "text/plain": [
       "<Figure size 720x720 with 0 Axes>"
      ]
     },
     "execution_count": 65,
     "metadata": {},
     "output_type": "execute_result"
    },
    {
     "data": {
      "text/plain": [
       "<Figure size 720x720 with 0 Axes>"
      ]
     },
     "metadata": {},
     "output_type": "display_data"
    }
   ],
   "source": [
    "#rozklad zmiennych\n",
    "plt.figure(figsize=(10,10))\n",
    "#plt.hist(X['Employer_Name'],bins=43568)\n",
    "#plt.yscale('log')\n",
    "#plt.xscale('log')"
   ]
  },
  {
   "cell_type": "code",
   "execution_count": 66,
   "metadata": {},
   "outputs": [],
   "source": [
    "#zmienna 'Employer_Name' zamieniamy na 1 gdy obecny 0 gdy nan, 1 ma zatrudnienie 0 - brak zatrudnienia\n",
    "def prepare_employer_name(data):\n",
    "    data['Employer_Name'] = np.where(data['Employer_Name'].isnull(), 0, 1)"
   ]
  },
  {
   "cell_type": "code",
   "execution_count": 67,
   "metadata": {},
   "outputs": [
    {
     "data": {
      "text/plain": [
       "Gender                            int64\n",
       "City                             object\n",
       "Monthly_Income                    int64\n",
       "DOB                      datetime64[ns]\n",
       "Lead_Creation_Date       datetime64[ns]\n",
       "Loan_Amount_Applied             float64\n",
       "Loan_Tenure_Applied             float64\n",
       "Existing_EMI                    float64\n",
       "Employer_Name                     int32\n",
       "Salary_Account                   object\n",
       "Mobile_Verified                  object\n",
       "Var5                              int64\n",
       "Var1                             object\n",
       "Loan_Amount_Submitted           float64\n",
       "Loan_Tenure_Submitted           float64\n",
       "Interest_Rate                   float64\n",
       "Processing_Fee                  float64\n",
       "EMI_Loan_Submitted              float64\n",
       "Filled_Form                      object\n",
       "Device_Type                      object\n",
       "Var2                             object\n",
       "Source                           object\n",
       "Var4                              int64\n",
       "AGE                             float64\n",
       "dtype: object"
      ]
     },
     "execution_count": 67,
     "metadata": {},
     "output_type": "execute_result"
    }
   ],
   "source": [
    "prepare_employer_name(X)\n",
    "X.dtypes"
   ]
  },
  {
   "cell_type": "code",
   "execution_count": 68,
   "metadata": {},
   "outputs": [
    {
     "data": {
      "text/plain": [
       "HDFC Bank                                          17695\n",
       "ICICI Bank                                         13636\n",
       "State Bank of India                                11843\n",
       "Axis Bank                                           8783\n",
       "Citibank                                            2376\n",
       "Kotak Bank                                          2067\n",
       "IDBI Bank                                           1550\n",
       "Punjab National Bank                                1201\n",
       "Bank of India                                       1170\n",
       "Bank of Baroda                                      1126\n",
       "Standard Chartered Bank                              995\n",
       "Canara Bank                                          990\n",
       "Union Bank of India                                  951\n",
       "Yes Bank                                             779\n",
       "ING Vysya                                            678\n",
       "Corporation bank                                     649\n",
       "Indian Overseas Bank                                 612\n",
       "State Bank of Hyderabad                              597\n",
       "Indian Bank                                          555\n",
       "Oriental Bank of Commerce                            524\n",
       "IndusInd Bank                                        503\n",
       "Andhra Bank                                          485\n",
       "Central Bank of India                                445\n",
       "Syndicate Bank                                       415\n",
       "Bank of Maharasthra                                  406\n",
       "State Bank of Bikaner & Jaipur                       331\n",
       "HSBC                                                 328\n",
       "Karur Vysya Bank                                     326\n",
       "State Bank of Mysore                                 255\n",
       "Federal Bank                                         253\n",
       "Vijaya Bank                                          252\n",
       "Allahabad Bank                                       238\n",
       "UCO Bank                                             237\n",
       "State Bank of Travancore                             227\n",
       "Karnataka Bank                                       200\n",
       "Saraswat Bank                                        195\n",
       "United Bank of India                                 183\n",
       "Dena Bank                                            182\n",
       "State Bank of Patiala                                177\n",
       "South Indian Bank                                    160\n",
       "Deutsche Bank                                        125\n",
       "Abhyuday Co-op Bank Ltd                              108\n",
       "The Ratnakar Bank Ltd                                 83\n",
       "Tamil Nadu Mercantile Bank                            71\n",
       "Punjab & Sind bank                                    66\n",
       "J&K Bank                                              59\n",
       "Lakshmi Vilas bank                                    50\n",
       "Dhanalakshmi Bank Ltd                                 42\n",
       "State Bank of Indore                                  18\n",
       "Catholic Syrian Bank                                  14\n",
       "India Bulls                                           11\n",
       "B N P Paribas                                          8\n",
       "GIC Housing Finance Ltd                                8\n",
       "Firstrand Bank Limited                                 7\n",
       "Bank of Rajasthan                                      5\n",
       "Kerala Gramin Bank                                     4\n",
       "Industrial And Commercial Bank Of China Limited        2\n",
       "Name: Salary_Account, dtype: int64"
      ]
     },
     "execution_count": 68,
     "metadata": {},
     "output_type": "execute_result"
    }
   ],
   "source": [
    "#zmienna Employer_Name\n",
    "X['Salary_Account'].value_counts()"
   ]
  },
  {
   "cell_type": "code",
   "execution_count": 69,
   "metadata": {},
   "outputs": [
    {
     "name": "stdout",
     "output_type": "stream",
     "text": [
      "missing percentage: 13.518731326131924\n"
     ]
    }
   ],
   "source": [
    "#brakujace wartości\n",
    "calc_missing_values(X['Salary_Account'])"
   ]
  },
  {
   "cell_type": "code",
   "execution_count": 70,
   "metadata": {},
   "outputs": [
    {
     "data": {
      "text/plain": [
       "count         75256\n",
       "unique           57\n",
       "top       HDFC Bank\n",
       "freq          17695\n",
       "Name: Salary_Account, dtype: object"
      ]
     },
     "execution_count": 70,
     "metadata": {},
     "output_type": "execute_result"
    }
   ],
   "source": [
    "#statystyki dla zmiennej \n",
    "X['Salary_Account'].describe()"
   ]
  },
  {
   "cell_type": "code",
   "execution_count": 71,
   "metadata": {},
   "outputs": [],
   "source": [
    "#poniewaz w danych istnieja nany\n",
    "X['Salary_Account'] = X['Salary_Account'].fillna('na')"
   ]
  },
  {
   "cell_type": "code",
   "execution_count": 72,
   "metadata": {},
   "outputs": [
    {
     "data": {
      "text/plain": [
       "([0,\n",
       "  1,\n",
       "  2,\n",
       "  3,\n",
       "  4,\n",
       "  5,\n",
       "  6,\n",
       "  7,\n",
       "  8,\n",
       "  9,\n",
       "  10,\n",
       "  11,\n",
       "  12,\n",
       "  13,\n",
       "  14,\n",
       "  15,\n",
       "  16,\n",
       "  17,\n",
       "  18,\n",
       "  19,\n",
       "  20,\n",
       "  21,\n",
       "  22,\n",
       "  23,\n",
       "  24,\n",
       "  25,\n",
       "  26,\n",
       "  27,\n",
       "  28,\n",
       "  29,\n",
       "  30,\n",
       "  31,\n",
       "  32,\n",
       "  33,\n",
       "  34,\n",
       "  35,\n",
       "  36,\n",
       "  37,\n",
       "  38,\n",
       "  39,\n",
       "  40,\n",
       "  41,\n",
       "  42,\n",
       "  43,\n",
       "  44,\n",
       "  45,\n",
       "  46,\n",
       "  47,\n",
       "  48,\n",
       "  49,\n",
       "  50,\n",
       "  51,\n",
       "  52,\n",
       "  53,\n",
       "  54,\n",
       "  55,\n",
       "  56,\n",
       "  57],\n",
       " <a list of 58 Text xticklabel objects>)"
      ]
     },
     "execution_count": 72,
     "metadata": {},
     "output_type": "execute_result"
    },
    {
     "data": {
      "image/png": "[encoded data removed]",
      "text/plain": [
       "<Figure size 1440x720 with 1 Axes>"
      ]
     },
     "metadata": {
      "needs_background": "light"
     },
     "output_type": "display_data"
    }
   ],
   "source": [
    "#rozklad zmiennych\n",
    "plt.figure(figsize=(20,10))\n",
    "plt.hist(X['Salary_Account'],bins=57)\n",
    "plt.xticks(rotation='vertical')\n",
    "#plt.yscale('log')\n",
    "#plt.xscale('log')"
   ]
  },
  {
   "cell_type": "code",
   "execution_count": null,
   "metadata": {},
   "outputs": [],
   "source": []
  },
  {
   "cell_type": "code",
   "execution_count": 73,
   "metadata": {
    "scrolled": true
   },
   "outputs": [
    {
     "data": {
      "text/plain": [
       "Y    56481\n",
       "N    30539\n",
       "Name: Mobile_Verified, dtype: int64"
      ]
     },
     "execution_count": 73,
     "metadata": {},
     "output_type": "execute_result"
    }
   ],
   "source": [
    "#zmienna Employer_Name\n",
    "X['Mobile_Verified'].value_counts()"
   ]
  },
  {
   "cell_type": "code",
   "execution_count": 74,
   "metadata": {},
   "outputs": [
    {
     "name": "stdout",
     "output_type": "stream",
     "text": [
      "missing percentage: 0.0\n"
     ]
    }
   ],
   "source": [
    "#brakujace wartości\n",
    "calc_missing_values(X['Mobile_Verified'])"
   ]
  },
  {
   "cell_type": "code",
   "execution_count": 75,
   "metadata": {},
   "outputs": [
    {
     "data": {
      "text/plain": [
       "count     87020\n",
       "unique        2\n",
       "top           Y\n",
       "freq      56481\n",
       "Name: Mobile_Verified, dtype: object"
      ]
     },
     "execution_count": 75,
     "metadata": {},
     "output_type": "execute_result"
    }
   ],
   "source": [
    "#statystyki dla zmiennej \n",
    "X['Mobile_Verified'].describe()"
   ]
  },
  {
   "cell_type": "code",
   "execution_count": 76,
   "metadata": {},
   "outputs": [
    {
     "data": {
      "text/plain": [
       "(array([30539.,     0.,     0.,     0.,     0.,     0.,     0.,     0.,\n",
       "            0., 56481.]),\n",
       " array([0. , 0.1, 0.2, 0.3, 0.4, 0.5, 0.6, 0.7, 0.8, 0.9, 1. ]),\n",
       " <a list of 10 Patch objects>)"
      ]
     },
     "execution_count": 76,
     "metadata": {},
     "output_type": "execute_result"
    },
    {
     "data": {
      "image/png": "[encoded data removed]",
      "text/plain": [
       "<Figure size 720x720 with 1 Axes>"
      ]
     },
     "metadata": {
      "needs_background": "light"
     },
     "output_type": "display_data"
    }
   ],
   "source": [
    "#rozklad zmiennych\n",
    "plt.figure(figsize=(10,10))\n",
    "plt.hist(X['Mobile_Verified'],bins=10)\n",
    "#plt.yscale('log')\n",
    "#plt.xscale('log')"
   ]
  },
  {
   "cell_type": "code",
   "execution_count": 77,
   "metadata": {},
   "outputs": [],
   "source": [
    "#Mobile_Verfied encodujemy na 1 - y 0 - n \n",
    "X['Mobile_Verified'] = X['Mobile_Verified'].replace({\"Y\":1, \"N\":0})"
   ]
  },
  {
   "cell_type": "code",
   "execution_count": 78,
   "metadata": {},
   "outputs": [
    {
     "data": {
      "text/plain": [
       "0     29087\n",
       "1     12236\n",
       "3      6759\n",
       "11     5204\n",
       "2      4485\n",
       "14     3662\n",
       "15     3509\n",
       "12     2989\n",
       "13     2622\n",
       "8      2515\n",
       "10     2427\n",
       "9      2281\n",
       "16     2097\n",
       "4      1815\n",
       "17     1691\n",
       "7      1489\n",
       "6       983\n",
       "5       975\n",
       "18      194\n",
       "Name: Var5, dtype: int64"
      ]
     },
     "execution_count": 78,
     "metadata": {},
     "output_type": "execute_result"
    }
   ],
   "source": [
    "#zmienna Var5 ciagla numerczna\n",
    "X['Var5'].value_counts()"
   ]
  },
  {
   "cell_type": "code",
   "execution_count": 79,
   "metadata": {},
   "outputs": [
    {
     "name": "stdout",
     "output_type": "stream",
     "text": [
      "missing percentage: 0.0\n"
     ]
    }
   ],
   "source": [
    "#brakujace wartości\n",
    "calc_missing_values(X['Var5'])"
   ]
  },
  {
   "cell_type": "code",
   "execution_count": 80,
   "metadata": {},
   "outputs": [
    {
     "data": {
      "text/plain": [
       "count    87020.000000\n",
       "mean         4.961503\n",
       "std          5.670385\n",
       "min          0.000000\n",
       "25%          0.000000\n",
       "50%          2.000000\n",
       "75%         11.000000\n",
       "max         18.000000\n",
       "Name: Var5, dtype: float64"
      ]
     },
     "execution_count": 80,
     "metadata": {},
     "output_type": "execute_result"
    }
   ],
   "source": [
    "#statystyki dla zmiennej \n",
    "X['Var5'].describe()"
   ]
  },
  {
   "cell_type": "code",
   "execution_count": 81,
   "metadata": {},
   "outputs": [
    {
     "data": {
      "text/plain": [
       "0.7606063211426869"
      ]
     },
     "execution_count": 81,
     "metadata": {},
     "output_type": "execute_result"
    }
   ],
   "source": [
    "X['Var5'].skew()"
   ]
  },
  {
   "cell_type": "code",
   "execution_count": 82,
   "metadata": {},
   "outputs": [
    {
     "data": {
      "text/plain": [
       "(array([29087., 12236.,  4485.,  6759.,  1815.,   975.,   983.,  1489.,\n",
       "         2515.,     0.,  2281.,  2427.,  5204.,  2989.,  2622.,  3662.,\n",
       "         3509.,  2097.,  1691.,   194.]),\n",
       " array([ 0. ,  0.9,  1.8,  2.7,  3.6,  4.5,  5.4,  6.3,  7.2,  8.1,  9. ,\n",
       "         9.9, 10.8, 11.7, 12.6, 13.5, 14.4, 15.3, 16.2, 17.1, 18. ]),\n",
       " <a list of 20 Patch objects>)"
      ]
     },
     "execution_count": 82,
     "metadata": {},
     "output_type": "execute_result"
    },
    {
     "data": {
      "image/png": "[encoded data removed]",
      "text/plain": [
       "<Figure size 720x720 with 1 Axes>"
      ]
     },
     "metadata": {
      "needs_background": "light"
     },
     "output_type": "display_data"
    }
   ],
   "source": [
    "#rozklad zmiennych\n",
    "plt.figure(figsize=(10,10))\n",
    "plt.hist(X['Var5'],bins=20)\n",
    "#plt.yscale('log')\n",
    "#plt.xscale('log')"
   ]
  },
  {
   "cell_type": "code",
   "execution_count": 83,
   "metadata": {},
   "outputs": [
    {
     "data": {
      "image/png": "[encoded data removed]",
      "text/plain": [
       "<Figure size 432x288 with 1 Axes>"
      ]
     },
     "metadata": {
      "needs_background": "light"
     },
     "output_type": "display_data"
    }
   ],
   "source": [
    "#rozklad zmiennych\n",
    "import seaborn as sns\n",
    "sns.distplot(X['Var5'])\n",
    "#plt.yscale('log')\n",
    "plt.show()"
   ]
  },
  {
   "cell_type": "code",
   "execution_count": null,
   "metadata": {},
   "outputs": [],
   "source": []
  },
  {
   "cell_type": "code",
   "execution_count": 84,
   "metadata": {},
   "outputs": [
    {
     "data": {
      "text/plain": [
       "HBXX    59294\n",
       "HBXC     9010\n",
       "HBXB     4479\n",
       "HAXA     2909\n",
       "HBXA     2123\n",
       "HAXB     2011\n",
       "HBXD     1964\n",
       "HAXC     1536\n",
       "HBXH      970\n",
       "HCXF      722\n",
       "HAYT      508\n",
       "HAVC      384\n",
       "HAXM      268\n",
       "HCXD      237\n",
       "HCYS      217\n",
       "HVYS      186\n",
       "HAZD      109\n",
       "HCXG       78\n",
       "HAXF       15\n",
       "Name: Var1, dtype: int64"
      ]
     },
     "execution_count": 84,
     "metadata": {},
     "output_type": "execute_result"
    }
   ],
   "source": [
    "#zmienna Var1 categorical multiple values\n",
    "X['Var1'].value_counts()"
   ]
  },
  {
   "cell_type": "code",
   "execution_count": 85,
   "metadata": {},
   "outputs": [
    {
     "name": "stdout",
     "output_type": "stream",
     "text": [
      "missing percentage: 0.0\n"
     ]
    }
   ],
   "source": [
    "#brakujace wartości\n",
    "calc_missing_values(X['Var1'])"
   ]
  },
  {
   "cell_type": "code",
   "execution_count": 86,
   "metadata": {},
   "outputs": [
    {
     "data": {
      "text/plain": [
       "count     87020\n",
       "unique       19\n",
       "top        HBXX\n",
       "freq      59294\n",
       "Name: Var1, dtype: object"
      ]
     },
     "execution_count": 86,
     "metadata": {},
     "output_type": "execute_result"
    }
   ],
   "source": [
    "#statystyki dla zmiennej \n",
    "X['Var1'].describe()"
   ]
  },
  {
   "cell_type": "code",
   "execution_count": 87,
   "metadata": {},
   "outputs": [
    {
     "data": {
      "text/plain": [
       "(array([61417.,  2279., 10974.,  3879.,  4479.,   745.,   570.,   187.,\n",
       "          939.,  1551.]),\n",
       " array([ 0. ,  1.8,  3.6,  5.4,  7.2,  9. , 10.8, 12.6, 14.4, 16.2, 18. ]),\n",
       " <a list of 10 Patch objects>)"
      ]
     },
     "execution_count": 87,
     "metadata": {},
     "output_type": "execute_result"
    },
    {
     "data": {
      "image/png": "[encoded data removed]",
      "text/plain": [
       "<Figure size 720x720 with 1 Axes>"
      ]
     },
     "metadata": {
      "needs_background": "light"
     },
     "output_type": "display_data"
    }
   ],
   "source": [
    "#rozklad zmiennych\n",
    "plt.figure(figsize=(10,10))\n",
    "plt.hist(X['Var1'],bins=10)\n",
    "#plt.yscale('log')\n",
    "#plt.xscale('log')"
   ]
  },
  {
   "cell_type": "code",
   "execution_count": 88,
   "metadata": {},
   "outputs": [
    {
     "data": {
      "text/plain": [
       "100000.0     6884\n",
       "200000.0     6583\n",
       "300000.0     5385\n",
       "500000.0     4849\n",
       "1000000.0    1644\n",
       "             ... \n",
       "2470000.0       1\n",
       "1660000.0       1\n",
       "1890000.0       1\n",
       "1990000.0       1\n",
       "1900000.0       1\n",
       "Name: Loan_Amount_Submitted, Length: 203, dtype: int64"
      ]
     },
     "execution_count": 88,
     "metadata": {},
     "output_type": "execute_result"
    }
   ],
   "source": [
    "#zmienna Loan_Amount_Submitted\n",
    "X['Loan_Amount_Submitted'].value_counts()"
   ]
  },
  {
   "cell_type": "code",
   "execution_count": 89,
   "metadata": {},
   "outputs": [
    {
     "name": "stdout",
     "output_type": "stream",
     "text": [
      "missing percentage: 39.775913583084346\n"
     ]
    }
   ],
   "source": [
    "#brakujace wartości\n",
    "calc_missing_values(X['Loan_Amount_Submitted'])"
   ]
  },
  {
   "cell_type": "code",
   "execution_count": 90,
   "metadata": {},
   "outputs": [
    {
     "data": {
      "text/plain": [
       "count    5.240700e+04\n",
       "mean     3.950106e+05\n",
       "std      3.082481e+05\n",
       "min      5.000000e+04\n",
       "25%      2.000000e+05\n",
       "50%      3.000000e+05\n",
       "75%      5.000000e+05\n",
       "max      3.000000e+06\n",
       "Name: Loan_Amount_Submitted, dtype: float64"
      ]
     },
     "execution_count": 90,
     "metadata": {},
     "output_type": "execute_result"
    }
   ],
   "source": [
    "#statystyki dla zmiennej \n",
    "X['Loan_Amount_Submitted'].describe()"
   ]
  },
  {
   "cell_type": "code",
   "execution_count": 91,
   "metadata": {},
   "outputs": [
    {
     "data": {
      "text/plain": [
       "2.104983545111099"
      ]
     },
     "execution_count": 91,
     "metadata": {},
     "output_type": "execute_result"
    }
   ],
   "source": [
    "X['Loan_Amount_Submitted'].skew()"
   ]
  },
  {
   "cell_type": "code",
   "execution_count": 92,
   "metadata": {},
   "outputs": [
    {
     "name": "stderr",
     "output_type": "stream",
     "text": [
      "C:\\Users\\darek\\Anaconda3\\lib\\site-packages\\numpy\\lib\\histograms.py:839: RuntimeWarning: invalid value encountered in greater_equal\n",
      "  keep = (tmp_a >= first_edge)\n",
      "C:\\Users\\darek\\Anaconda3\\lib\\site-packages\\numpy\\lib\\histograms.py:840: RuntimeWarning: invalid value encountered in less_equal\n",
      "  keep &= (tmp_a <= last_edge)\n"
     ]
    },
    {
     "data": {
      "text/plain": [
       "(array([8.013e+03, 1.728e+03, 8.448e+03, 2.382e+03, 8.926e+03, 4.353e+03,\n",
       "        2.718e+03, 6.246e+03, 1.206e+03, 9.280e+02, 8.530e+02, 9.060e+02,\n",
       "        6.700e+02, 4.850e+02, 4.150e+02, 2.510e+02, 1.815e+03, 1.450e+02,\n",
       "        1.160e+02, 5.630e+02, 9.700e+01, 5.100e+01, 8.600e+01, 5.100e+01,\n",
       "        6.850e+02, 1.000e+01, 1.900e+01, 1.300e+01, 9.000e+00, 5.500e+01,\n",
       "        4.000e+00, 6.000e+00, 6.000e+00, 7.200e+01, 3.000e+00, 1.000e+00,\n",
       "        0.000e+00, 3.000e+00, 5.000e+00, 3.000e+00, 2.000e+00, 4.900e+01,\n",
       "        1.000e+00, 1.000e+00, 0.000e+00, 0.000e+00, 0.000e+00, 1.000e+00,\n",
       "        0.000e+00, 7.000e+00]),\n",
       " array([  50000.,  109000.,  168000.,  227000.,  286000.,  345000.,\n",
       "         404000.,  463000.,  522000.,  581000.,  640000.,  699000.,\n",
       "         758000.,  817000.,  876000.,  935000.,  994000., 1053000.,\n",
       "        1112000., 1171000., 1230000., 1289000., 1348000., 1407000.,\n",
       "        1466000., 1525000., 1584000., 1643000., 1702000., 1761000.,\n",
       "        1820000., 1879000., 1938000., 1997000., 2056000., 2115000.,\n",
       "        2174000., 2233000., 2292000., 2351000., 2410000., 2469000.,\n",
       "        2528000., 2587000., 2646000., 2705000., 2764000., 2823000.,\n",
       "        2882000., 2941000., 3000000.]),\n",
       " <a list of 50 Patch objects>)"
      ]
     },
     "execution_count": 92,
     "metadata": {},
     "output_type": "execute_result"
    },
    {
     "data": {
      "image/png": "[encoded data removed]",
      "text/plain": [
       "<Figure size 720x720 with 1 Axes>"
      ]
     },
     "metadata": {
      "needs_background": "light"
     },
     "output_type": "display_data"
    }
   ],
   "source": [
    "#rozklad zmiennych\n",
    "plt.figure(figsize=(10,10))\n",
    "plt.hist(X['Loan_Amount_Submitted'],bins=50)\n",
    "#plt.yscale('log')\n",
    "#plt.xscale('log')"
   ]
  },
  {
   "cell_type": "code",
   "execution_count": 93,
   "metadata": {},
   "outputs": [],
   "source": [
    "#PROCESSING NAN\n",
    "X['Loan_Amount_Submitted'] = X['Loan_Amount_Submitted'].fillna(X['Loan_Amount_Submitted'].mean())"
   ]
  },
  {
   "cell_type": "code",
   "execution_count": 94,
   "metadata": {},
   "outputs": [
    {
     "data": {
      "text/plain": [
       "5.0    20765\n",
       "4.0    15135\n",
       "3.0     8858\n",
       "2.0     5332\n",
       "1.0     2314\n",
       "6.0        3\n",
       "Name: Loan_Tenure_Submitted, dtype: int64"
      ]
     },
     "execution_count": 94,
     "metadata": {},
     "output_type": "execute_result"
    }
   ],
   "source": [
    "#zmienna Loan_Tenure_Submitted\n",
    "X['Loan_Tenure_Submitted'].value_counts()"
   ]
  },
  {
   "cell_type": "code",
   "execution_count": 95,
   "metadata": {},
   "outputs": [
    {
     "name": "stdout",
     "output_type": "stream",
     "text": [
      "missing percentage: 39.775913583084346\n"
     ]
    }
   ],
   "source": [
    "#brakujace wartości\n",
    "calc_missing_values(X['Loan_Tenure_Submitted'])"
   ]
  },
  {
   "cell_type": "code",
   "execution_count": 96,
   "metadata": {},
   "outputs": [
    {
     "data": {
      "text/plain": [
       "count    52407.000000\n",
       "mean         3.891369\n",
       "std          1.165359\n",
       "min          1.000000\n",
       "25%          3.000000\n",
       "50%          4.000000\n",
       "75%          5.000000\n",
       "max          6.000000\n",
       "Name: Loan_Tenure_Submitted, dtype: float64"
      ]
     },
     "execution_count": 96,
     "metadata": {},
     "output_type": "execute_result"
    }
   ],
   "source": [
    "#statystyki dla zmiennej \n",
    "X['Loan_Tenure_Submitted'].describe()"
   ]
  },
  {
   "cell_type": "code",
   "execution_count": 97,
   "metadata": {},
   "outputs": [
    {
     "data": {
      "text/plain": [
       "-0.8433232334453925"
      ]
     },
     "execution_count": 97,
     "metadata": {},
     "output_type": "execute_result"
    }
   ],
   "source": [
    "X['Loan_Tenure_Submitted'].skew()"
   ]
  },
  {
   "cell_type": "code",
   "execution_count": 98,
   "metadata": {},
   "outputs": [
    {
     "data": {
      "text/plain": [
       "(array([2.3140e+03, 0.0000e+00, 0.0000e+00, 0.0000e+00, 0.0000e+00,\n",
       "        0.0000e+00, 0.0000e+00, 0.0000e+00, 0.0000e+00, 0.0000e+00,\n",
       "        5.3320e+03, 0.0000e+00, 0.0000e+00, 0.0000e+00, 0.0000e+00,\n",
       "        0.0000e+00, 0.0000e+00, 0.0000e+00, 0.0000e+00, 0.0000e+00,\n",
       "        8.8580e+03, 0.0000e+00, 0.0000e+00, 0.0000e+00, 0.0000e+00,\n",
       "        0.0000e+00, 0.0000e+00, 0.0000e+00, 0.0000e+00, 0.0000e+00,\n",
       "        1.5135e+04, 0.0000e+00, 0.0000e+00, 0.0000e+00, 0.0000e+00,\n",
       "        0.0000e+00, 0.0000e+00, 0.0000e+00, 0.0000e+00, 0.0000e+00,\n",
       "        2.0765e+04, 0.0000e+00, 0.0000e+00, 0.0000e+00, 0.0000e+00,\n",
       "        0.0000e+00, 0.0000e+00, 0.0000e+00, 0.0000e+00, 3.0000e+00]),\n",
       " array([1. , 1.1, 1.2, 1.3, 1.4, 1.5, 1.6, 1.7, 1.8, 1.9, 2. , 2.1, 2.2,\n",
       "        2.3, 2.4, 2.5, 2.6, 2.7, 2.8, 2.9, 3. , 3.1, 3.2, 3.3, 3.4, 3.5,\n",
       "        3.6, 3.7, 3.8, 3.9, 4. , 4.1, 4.2, 4.3, 4.4, 4.5, 4.6, 4.7, 4.8,\n",
       "        4.9, 5. , 5.1, 5.2, 5.3, 5.4, 5.5, 5.6, 5.7, 5.8, 5.9, 6. ]),\n",
       " <a list of 50 Patch objects>)"
      ]
     },
     "execution_count": 98,
     "metadata": {},
     "output_type": "execute_result"
    },
    {
     "data": {
      "image/png": "[encoded data removed]",
      "text/plain": [
       "<Figure size 720x720 with 1 Axes>"
      ]
     },
     "metadata": {
      "needs_background": "light"
     },
     "output_type": "display_data"
    }
   ],
   "source": [
    "#rozklad zmiennych\n",
    "plt.figure(figsize=(10,10))\n",
    "plt.hist(X['Loan_Tenure_Submitted'],bins=50)\n",
    "#plt.yscale('log')\n",
    "#plt.xscale('log')"
   ]
  },
  {
   "cell_type": "code",
   "execution_count": 99,
   "metadata": {},
   "outputs": [],
   "source": [
    "#PROCESSING NAN\n",
    "#brakujace wartosci uzupelniamy wartoscia srednia zaokraglonoa w gore\n",
    "X['Loan_Tenure_Submitted'] = X['Loan_Tenure_Submitted'].fillna((np.ceil(X['Loan_Tenure_Submitted'].mean())))"
   ]
  },
  {
   "cell_type": "code",
   "execution_count": 100,
   "metadata": {},
   "outputs": [
    {
     "data": {
      "text/plain": [
       "20.00    4707\n",
       "14.85    2016\n",
       "13.99    1699\n",
       "31.50    1696\n",
       "15.25    1553\n",
       "         ... \n",
       "14.55       2\n",
       "20.50       2\n",
       "15.60       1\n",
       "14.29       1\n",
       "15.15       1\n",
       "Name: Interest_Rate, Length: 73, dtype: int64"
      ]
     },
     "execution_count": 100,
     "metadata": {},
     "output_type": "execute_result"
    }
   ],
   "source": [
    "#zmienna Intrest_Rate\n",
    "X['Interest_Rate'].value_counts()"
   ]
  },
  {
   "cell_type": "code",
   "execution_count": 101,
   "metadata": {},
   "outputs": [
    {
     "name": "stdout",
     "output_type": "stream",
     "text": [
      "missing percentage: 68.13835899793152\n"
     ]
    }
   ],
   "source": [
    "#brakujace wartości\n",
    "calc_missing_values(X['Interest_Rate'])"
   ]
  },
  {
   "cell_type": "code",
   "execution_count": 102,
   "metadata": {},
   "outputs": [
    {
     "data": {
      "text/plain": [
       "count    27726.000000\n",
       "mean        19.197474\n",
       "std          5.834213\n",
       "min         11.990000\n",
       "25%         15.250000\n",
       "50%         18.000000\n",
       "75%         20.000000\n",
       "max         37.000000\n",
       "Name: Interest_Rate, dtype: float64"
      ]
     },
     "execution_count": 102,
     "metadata": {},
     "output_type": "execute_result"
    }
   ],
   "source": [
    "#statystyki dla zmiennej \n",
    "X['Interest_Rate'].describe()"
   ]
  },
  {
   "cell_type": "code",
   "execution_count": 103,
   "metadata": {},
   "outputs": [
    {
     "data": {
      "text/plain": [
       "1.4303011883579213"
      ]
     },
     "execution_count": 103,
     "metadata": {},
     "output_type": "execute_result"
    }
   ],
   "source": [
    "X['Interest_Rate'].skew()"
   ]
  },
  {
   "cell_type": "code",
   "execution_count": 104,
   "metadata": {},
   "outputs": [
    {
     "data": {
      "text/plain": [
       "(array([9.000e+01, 1.910e+02, 1.022e+03, 2.475e+03, 5.650e+02, 2.381e+03,\n",
       "        1.808e+03, 1.868e+03, 7.940e+02, 1.633e+03, 4.160e+02, 4.300e+02,\n",
       "        3.092e+03, 3.150e+02, 6.430e+02, 1.860e+02, 4.707e+03, 2.000e+00,\n",
       "        0.000e+00, 2.100e+01, 6.600e+01, 0.000e+00, 1.500e+01, 8.400e+01,\n",
       "        6.490e+02, 1.100e+01, 0.000e+00, 6.500e+01, 0.000e+00, 1.600e+01,\n",
       "        1.970e+02, 2.600e+01, 6.000e+00, 9.500e+02, 4.600e+01, 2.600e+01,\n",
       "        0.000e+00, 1.300e+01, 5.600e+01, 1.696e+03, 0.000e+00, 2.120e+02,\n",
       "        1.580e+02, 0.000e+00, 0.000e+00, 0.000e+00, 0.000e+00, 4.930e+02,\n",
       "        0.000e+00, 3.020e+02]),\n",
       " array([11.99  , 12.4902, 12.9904, 13.4906, 13.9908, 14.491 , 14.9912,\n",
       "        15.4914, 15.9916, 16.4918, 16.992 , 17.4922, 17.9924, 18.4926,\n",
       "        18.9928, 19.493 , 19.9932, 20.4934, 20.9936, 21.4938, 21.994 ,\n",
       "        22.4942, 22.9944, 23.4946, 23.9948, 24.495 , 24.9952, 25.4954,\n",
       "        25.9956, 26.4958, 26.996 , 27.4962, 27.9964, 28.4966, 28.9968,\n",
       "        29.497 , 29.9972, 30.4974, 30.9976, 31.4978, 31.998 , 32.4982,\n",
       "        32.9984, 33.4986, 33.9988, 34.499 , 34.9992, 35.4994, 35.9996,\n",
       "        36.4998, 37.    ]),\n",
       " <a list of 50 Patch objects>)"
      ]
     },
     "execution_count": 104,
     "metadata": {},
     "output_type": "execute_result"
    },
    {
     "data": {
      "image/png": "[encoded data removed]",
      "text/plain": [
       "<Figure size 720x720 with 1 Axes>"
      ]
     },
     "metadata": {
      "needs_background": "light"
     },
     "output_type": "display_data"
    }
   ],
   "source": [
    "#rozklad zmiennych\n",
    "plt.figure(figsize=(10,10))\n",
    "plt.hist(X['Interest_Rate'],bins=50)\n",
    "#plt.yscale('log')\n",
    "#plt.xscale('log')"
   ]
  },
  {
   "cell_type": "code",
   "execution_count": 105,
   "metadata": {},
   "outputs": [],
   "source": [
    "#PROCESSING NAN\n",
    "#brakujace wartosci uzupelniamy wartoscia srednia\n",
    "X['Interest_Rate'] = X['Interest_Rate'].fillna((X['Loan_Tenure_Submitted'].mean()))"
   ]
  },
  {
   "cell_type": "code",
   "execution_count": 106,
   "metadata": {},
   "outputs": [
    {
     "data": {
      "text/plain": [
       "2000.0     3074\n",
       "1000.0     2067\n",
       "4000.0     2006\n",
       "3000.0     1286\n",
       "6000.0     1183\n",
       "           ... \n",
       "13464.0       1\n",
       "3969.0        1\n",
       "7326.0        1\n",
       "5920.0        1\n",
       "9120.0        1\n",
       "Name: Processing_Fee, Length: 571, dtype: int64"
      ]
     },
     "execution_count": 106,
     "metadata": {},
     "output_type": "execute_result"
    }
   ],
   "source": [
    "#zmienna Processing_Fee\n",
    "X['Processing_Fee'].value_counts()"
   ]
  },
  {
   "cell_type": "code",
   "execution_count": 107,
   "metadata": {},
   "outputs": [
    {
     "name": "stdout",
     "output_type": "stream",
     "text": [
      "missing percentage: 68.49000229832222\n"
     ]
    }
   ],
   "source": [
    "#brakujace wartości\n",
    "calc_missing_values(X['Processing_Fee'])"
   ]
  },
  {
   "cell_type": "code",
   "execution_count": 108,
   "metadata": {},
   "outputs": [
    {
     "data": {
      "text/plain": [
       "count    27420.000000\n",
       "mean      5131.150839\n",
       "std       4725.837644\n",
       "min        200.000000\n",
       "25%       2000.000000\n",
       "50%       4000.000000\n",
       "75%       6250.000000\n",
       "max      50000.000000\n",
       "Name: Processing_Fee, dtype: float64"
      ]
     },
     "execution_count": 108,
     "metadata": {},
     "output_type": "execute_result"
    }
   ],
   "source": [
    "#statystyki dla zmiennej \n",
    "X['Processing_Fee'].describe()"
   ]
  },
  {
   "cell_type": "code",
   "execution_count": 109,
   "metadata": {},
   "outputs": [
    {
     "data": {
      "text/plain": [
       "2.6801088555079806"
      ]
     },
     "execution_count": 109,
     "metadata": {},
     "output_type": "execute_result"
    }
   ],
   "source": [
    "X['Processing_Fee'].skew()"
   ]
  },
  {
   "cell_type": "code",
   "execution_count": 110,
   "metadata": {},
   "outputs": [
    {
     "data": {
      "text/plain": [
       "(array([2.723e+03, 5.148e+03, 3.687e+03, 4.293e+03, 2.563e+03, 2.021e+03,\n",
       "        1.164e+03, 1.163e+03, 5.950e+02, 1.501e+03, 3.060e+02, 3.920e+02,\n",
       "        3.320e+02, 2.060e+02, 2.530e+02, 9.200e+01, 1.220e+02, 1.080e+02,\n",
       "        1.010e+02, 2.250e+02, 5.100e+01, 2.800e+01, 1.400e+01, 6.500e+01,\n",
       "        1.800e+01, 1.300e+01, 5.000e+00, 1.300e+01, 5.000e+00, 1.510e+02,\n",
       "        0.000e+00, 1.000e+00, 2.000e+00, 7.000e+00, 1.000e+00, 2.400e+01,\n",
       "        0.000e+00, 7.000e+00, 1.000e+00, 1.500e+01, 0.000e+00, 0.000e+00,\n",
       "        0.000e+00, 0.000e+00, 0.000e+00, 1.000e+00, 0.000e+00, 0.000e+00,\n",
       "        0.000e+00, 3.000e+00]),\n",
       " array([  200.,  1196.,  2192.,  3188.,  4184.,  5180.,  6176.,  7172.,\n",
       "         8168.,  9164., 10160., 11156., 12152., 13148., 14144., 15140.,\n",
       "        16136., 17132., 18128., 19124., 20120., 21116., 22112., 23108.,\n",
       "        24104., 25100., 26096., 27092., 28088., 29084., 30080., 31076.,\n",
       "        32072., 33068., 34064., 35060., 36056., 37052., 38048., 39044.,\n",
       "        40040., 41036., 42032., 43028., 44024., 45020., 46016., 47012.,\n",
       "        48008., 49004., 50000.]),\n",
       " <a list of 50 Patch objects>)"
      ]
     },
     "execution_count": 110,
     "metadata": {},
     "output_type": "execute_result"
    },
    {
     "data": {
      "image/png": "[encoded data removed]",
      "text/plain": [
       "<Figure size 720x720 with 1 Axes>"
      ]
     },
     "metadata": {
      "needs_background": "light"
     },
     "output_type": "display_data"
    }
   ],
   "source": [
    "#rozklad zmiennych\n",
    "plt.figure(figsize=(10,10))\n",
    "plt.hist(X['Processing_Fee'],bins=50)\n",
    "#plt.yscale('log')\n",
    "#plt.xscale('log')"
   ]
  },
  {
   "cell_type": "code",
   "execution_count": 111,
   "metadata": {},
   "outputs": [],
   "source": [
    "#PROCESSING NAN\n",
    "#brakujace wartosci uzupelniamy wartoscia srednia\n",
    "X['Processing_Fee'] = X['Processing_Fee'].fillna((X['Processing_Fee'].mean()))"
   ]
  },
  {
   "cell_type": "code",
   "execution_count": 112,
   "metadata": {},
   "outputs": [
    {
     "data": {
      "text/plain": [
       "3716.36     288\n",
       "7948.17     252\n",
       "5089.58     240\n",
       "5298.78     229\n",
       "8742.98     218\n",
       "           ... \n",
       "12558.05      1\n",
       "4530.63       1\n",
       "46168.22      1\n",
       "1674.50       1\n",
       "11463.79      1\n",
       "Name: EMI_Loan_Submitted, Length: 4530, dtype: int64"
      ]
     },
     "execution_count": 112,
     "metadata": {},
     "output_type": "execute_result"
    }
   ],
   "source": [
    "#zmienna EMI_Loan_Submitted\n",
    "X['EMI_Loan_Submitted'].value_counts()"
   ]
  },
  {
   "cell_type": "code",
   "execution_count": 113,
   "metadata": {},
   "outputs": [
    {
     "name": "stdout",
     "output_type": "stream",
     "text": [
      "missing percentage: 68.13835899793152\n"
     ]
    }
   ],
   "source": [
    "#brakujace wartości\n",
    "calc_missing_values(X['EMI_Loan_Submitted'])"
   ]
  },
  {
   "cell_type": "code",
   "execution_count": 114,
   "metadata": {},
   "outputs": [
    {
     "data": {
      "text/html": [
       "<div>\n",
       "<style scoped>\n",
       "    .dataframe tbody tr th:only-of-type {\n",
       "        vertical-align: middle;\n",
       "    }\n",
       "\n",
       "    .dataframe tbody tr th {\n",
       "        vertical-align: top;\n",
       "    }\n",
       "\n",
       "    .dataframe thead th {\n",
       "        text-align: right;\n",
       "    }\n",
       "</style>\n",
       "<table border=\"1\" class=\"dataframe\">\n",
       "  <thead>\n",
       "    <tr style=\"text-align: right;\">\n",
       "      <th></th>\n",
       "      <th>Gender</th>\n",
       "      <th>City</th>\n",
       "      <th>Monthly_Income</th>\n",
       "      <th>DOB</th>\n",
       "      <th>Lead_Creation_Date</th>\n",
       "      <th>Loan_Amount_Applied</th>\n",
       "      <th>Loan_Tenure_Applied</th>\n",
       "      <th>Existing_EMI</th>\n",
       "      <th>Employer_Name</th>\n",
       "      <th>Salary_Account</th>\n",
       "      <th>...</th>\n",
       "      <th>Loan_Tenure_Submitted</th>\n",
       "      <th>Interest_Rate</th>\n",
       "      <th>Processing_Fee</th>\n",
       "      <th>EMI_Loan_Submitted</th>\n",
       "      <th>Filled_Form</th>\n",
       "      <th>Device_Type</th>\n",
       "      <th>Var2</th>\n",
       "      <th>Source</th>\n",
       "      <th>Var4</th>\n",
       "      <th>AGE</th>\n",
       "    </tr>\n",
       "  </thead>\n",
       "  <tbody>\n",
       "    <tr>\n",
       "      <th>0</th>\n",
       "      <td>0</td>\n",
       "      <td>Delhi</td>\n",
       "      <td>20000</td>\n",
       "      <td>1978-05-23</td>\n",
       "      <td>2015-05-15</td>\n",
       "      <td>300000.0</td>\n",
       "      <td>5.0</td>\n",
       "      <td>0.0</td>\n",
       "      <td>1</td>\n",
       "      <td>HDFC Bank</td>\n",
       "      <td>...</td>\n",
       "      <td>4.0</td>\n",
       "      <td>3.934578</td>\n",
       "      <td>5131.150839</td>\n",
       "      <td>NaN</td>\n",
       "      <td>N</td>\n",
       "      <td>Web-browser</td>\n",
       "      <td>G</td>\n",
       "      <td>S122</td>\n",
       "      <td>1</td>\n",
       "      <td>37.000000</td>\n",
       "    </tr>\n",
       "    <tr>\n",
       "      <th>2</th>\n",
       "      <td>1</td>\n",
       "      <td>Panchkula</td>\n",
       "      <td>22500</td>\n",
       "      <td>1981-10-10</td>\n",
       "      <td>2015-05-19</td>\n",
       "      <td>600000.0</td>\n",
       "      <td>4.0</td>\n",
       "      <td>0.0</td>\n",
       "      <td>1</td>\n",
       "      <td>State Bank of India</td>\n",
       "      <td>...</td>\n",
       "      <td>4.0</td>\n",
       "      <td>3.934578</td>\n",
       "      <td>5131.150839</td>\n",
       "      <td>NaN</td>\n",
       "      <td>N</td>\n",
       "      <td>Web-browser</td>\n",
       "      <td>B</td>\n",
       "      <td>S143</td>\n",
       "      <td>1</td>\n",
       "      <td>34.000000</td>\n",
       "    </tr>\n",
       "    <tr>\n",
       "      <th>3</th>\n",
       "      <td>1</td>\n",
       "      <td>Saharsa</td>\n",
       "      <td>35000</td>\n",
       "      <td>1987-11-30</td>\n",
       "      <td>2015-05-09</td>\n",
       "      <td>1000000.0</td>\n",
       "      <td>5.0</td>\n",
       "      <td>0.0</td>\n",
       "      <td>1</td>\n",
       "      <td>State Bank of India</td>\n",
       "      <td>...</td>\n",
       "      <td>5.0</td>\n",
       "      <td>3.934578</td>\n",
       "      <td>5131.150839</td>\n",
       "      <td>NaN</td>\n",
       "      <td>N</td>\n",
       "      <td>Web-browser</td>\n",
       "      <td>B</td>\n",
       "      <td>S143</td>\n",
       "      <td>3</td>\n",
       "      <td>28.000000</td>\n",
       "    </tr>\n",
       "    <tr>\n",
       "      <th>4</th>\n",
       "      <td>1</td>\n",
       "      <td>Bengaluru</td>\n",
       "      <td>100000</td>\n",
       "      <td>1984-02-17</td>\n",
       "      <td>2015-05-20</td>\n",
       "      <td>500000.0</td>\n",
       "      <td>2.0</td>\n",
       "      <td>25000.0</td>\n",
       "      <td>1</td>\n",
       "      <td>HDFC Bank</td>\n",
       "      <td>...</td>\n",
       "      <td>2.0</td>\n",
       "      <td>3.934578</td>\n",
       "      <td>5131.150839</td>\n",
       "      <td>NaN</td>\n",
       "      <td>N</td>\n",
       "      <td>Web-browser</td>\n",
       "      <td>B</td>\n",
       "      <td>S134</td>\n",
       "      <td>3</td>\n",
       "      <td>31.000000</td>\n",
       "    </tr>\n",
       "    <tr>\n",
       "      <th>6</th>\n",
       "      <td>0</td>\n",
       "      <td>Sindhudurg</td>\n",
       "      <td>70000</td>\n",
       "      <td>1987-10-23</td>\n",
       "      <td>2015-05-01</td>\n",
       "      <td>6.0</td>\n",
       "      <td>5.0</td>\n",
       "      <td>0.0</td>\n",
       "      <td>1</td>\n",
       "      <td>Yes Bank</td>\n",
       "      <td>...</td>\n",
       "      <td>4.0</td>\n",
       "      <td>3.934578</td>\n",
       "      <td>5131.150839</td>\n",
       "      <td>NaN</td>\n",
       "      <td>N</td>\n",
       "      <td>Web-browser</td>\n",
       "      <td>B</td>\n",
       "      <td>S133</td>\n",
       "      <td>1</td>\n",
       "      <td>28.000000</td>\n",
       "    </tr>\n",
       "    <tr>\n",
       "      <th>...</th>\n",
       "      <td>...</td>\n",
       "      <td>...</td>\n",
       "      <td>...</td>\n",
       "      <td>...</td>\n",
       "      <td>...</td>\n",
       "      <td>...</td>\n",
       "      <td>...</td>\n",
       "      <td>...</td>\n",
       "      <td>...</td>\n",
       "      <td>...</td>\n",
       "      <td>...</td>\n",
       "      <td>...</td>\n",
       "      <td>...</td>\n",
       "      <td>...</td>\n",
       "      <td>...</td>\n",
       "      <td>...</td>\n",
       "      <td>...</td>\n",
       "      <td>...</td>\n",
       "      <td>...</td>\n",
       "      <td>...</td>\n",
       "      <td>...</td>\n",
       "    </tr>\n",
       "    <tr>\n",
       "      <th>87013</th>\n",
       "      <td>1</td>\n",
       "      <td>Secunderabad</td>\n",
       "      <td>24000</td>\n",
       "      <td>1990-01-01</td>\n",
       "      <td>2015-07-31</td>\n",
       "      <td>300000.0</td>\n",
       "      <td>3.0</td>\n",
       "      <td>0.0</td>\n",
       "      <td>1</td>\n",
       "      <td>State Bank of India</td>\n",
       "      <td>...</td>\n",
       "      <td>3.0</td>\n",
       "      <td>3.934578</td>\n",
       "      <td>5131.150839</td>\n",
       "      <td>NaN</td>\n",
       "      <td>N</td>\n",
       "      <td>Web-browser</td>\n",
       "      <td>G</td>\n",
       "      <td>S122</td>\n",
       "      <td>3</td>\n",
       "      <td>25.000000</td>\n",
       "    </tr>\n",
       "    <tr>\n",
       "      <th>87014</th>\n",
       "      <td>0</td>\n",
       "      <td>Pune</td>\n",
       "      <td>49000</td>\n",
       "      <td>1982-05-31</td>\n",
       "      <td>2015-07-31</td>\n",
       "      <td>400000.0</td>\n",
       "      <td>5.0</td>\n",
       "      <td>0.0</td>\n",
       "      <td>1</td>\n",
       "      <td>ICICI Bank</td>\n",
       "      <td>...</td>\n",
       "      <td>4.0</td>\n",
       "      <td>3.934578</td>\n",
       "      <td>5131.150839</td>\n",
       "      <td>NaN</td>\n",
       "      <td>N</td>\n",
       "      <td>Web-browser</td>\n",
       "      <td>G</td>\n",
       "      <td>S122</td>\n",
       "      <td>3</td>\n",
       "      <td>33.000000</td>\n",
       "    </tr>\n",
       "    <tr>\n",
       "      <th>87015</th>\n",
       "      <td>0</td>\n",
       "      <td>Ajmer</td>\n",
       "      <td>71901</td>\n",
       "      <td>2069-11-27</td>\n",
       "      <td>2015-07-31</td>\n",
       "      <td>1000000.0</td>\n",
       "      <td>5.0</td>\n",
       "      <td>14500.0</td>\n",
       "      <td>1</td>\n",
       "      <td>ICICI Bank</td>\n",
       "      <td>...</td>\n",
       "      <td>4.0</td>\n",
       "      <td>3.934578</td>\n",
       "      <td>5131.150839</td>\n",
       "      <td>NaN</td>\n",
       "      <td>N</td>\n",
       "      <td>Web-browser</td>\n",
       "      <td>G</td>\n",
       "      <td>S122</td>\n",
       "      <td>3</td>\n",
       "      <td>29.789688</td>\n",
       "    </tr>\n",
       "    <tr>\n",
       "      <th>87017</th>\n",
       "      <td>1</td>\n",
       "      <td>Bengaluru</td>\n",
       "      <td>118000</td>\n",
       "      <td>1972-01-28</td>\n",
       "      <td>2015-07-31</td>\n",
       "      <td>0.0</td>\n",
       "      <td>0.0</td>\n",
       "      <td>0.0</td>\n",
       "      <td>1</td>\n",
       "      <td>Syndicate Bank</td>\n",
       "      <td>...</td>\n",
       "      <td>4.0</td>\n",
       "      <td>3.934578</td>\n",
       "      <td>5131.150839</td>\n",
       "      <td>NaN</td>\n",
       "      <td>N</td>\n",
       "      <td>Mobile</td>\n",
       "      <td>G</td>\n",
       "      <td>S122</td>\n",
       "      <td>3</td>\n",
       "      <td>43.000000</td>\n",
       "    </tr>\n",
       "    <tr>\n",
       "      <th>87018</th>\n",
       "      <td>1</td>\n",
       "      <td>Bengaluru</td>\n",
       "      <td>98930</td>\n",
       "      <td>1977-04-27</td>\n",
       "      <td>2015-07-31</td>\n",
       "      <td>800000.0</td>\n",
       "      <td>5.0</td>\n",
       "      <td>13660.0</td>\n",
       "      <td>1</td>\n",
       "      <td>ICICI Bank</td>\n",
       "      <td>...</td>\n",
       "      <td>5.0</td>\n",
       "      <td>3.934578</td>\n",
       "      <td>5131.150839</td>\n",
       "      <td>NaN</td>\n",
       "      <td>N</td>\n",
       "      <td>Web-browser</td>\n",
       "      <td>G</td>\n",
       "      <td>S122</td>\n",
       "      <td>3</td>\n",
       "      <td>38.000000</td>\n",
       "    </tr>\n",
       "  </tbody>\n",
       "</table>\n",
       "<p>59294 rows × 24 columns</p>\n",
       "</div>"
      ],
      "text/plain": [
       "       Gender          City  Monthly_Income        DOB Lead_Creation_Date  \\\n",
       "0           0         Delhi           20000 1978-05-23         2015-05-15   \n",
       "2           1     Panchkula           22500 1981-10-10         2015-05-19   \n",
       "3           1       Saharsa           35000 1987-11-30         2015-05-09   \n",
       "4           1     Bengaluru          100000 1984-02-17         2015-05-20   \n",
       "6           0    Sindhudurg           70000 1987-10-23         2015-05-01   \n",
       "...       ...           ...             ...        ...                ...   \n",
       "87013       1  Secunderabad           24000 1990-01-01         2015-07-31   \n",
       "87014       0          Pune           49000 1982-05-31         2015-07-31   \n",
       "87015       0         Ajmer           71901 2069-11-27         2015-07-31   \n",
       "87017       1     Bengaluru          118000 1972-01-28         2015-07-31   \n",
       "87018       1     Bengaluru           98930 1977-04-27         2015-07-31   \n",
       "\n",
       "       Loan_Amount_Applied  Loan_Tenure_Applied  Existing_EMI  Employer_Name  \\\n",
       "0                 300000.0                  5.0           0.0              1   \n",
       "2                 600000.0                  4.0           0.0              1   \n",
       "3                1000000.0                  5.0           0.0              1   \n",
       "4                 500000.0                  2.0       25000.0              1   \n",
       "6                      6.0                  5.0           0.0              1   \n",
       "...                    ...                  ...           ...            ...   \n",
       "87013             300000.0                  3.0           0.0              1   \n",
       "87014             400000.0                  5.0           0.0              1   \n",
       "87015            1000000.0                  5.0       14500.0              1   \n",
       "87017                  0.0                  0.0           0.0              1   \n",
       "87018             800000.0                  5.0       13660.0              1   \n",
       "\n",
       "            Salary_Account  ...  Loan_Tenure_Submitted  Interest_Rate  \\\n",
       "0                HDFC Bank  ...                    4.0       3.934578   \n",
       "2      State Bank of India  ...                    4.0       3.934578   \n",
       "3      State Bank of India  ...                    5.0       3.934578   \n",
       "4                HDFC Bank  ...                    2.0       3.934578   \n",
       "6                 Yes Bank  ...                    4.0       3.934578   \n",
       "...                    ...  ...                    ...            ...   \n",
       "87013  State Bank of India  ...                    3.0       3.934578   \n",
       "87014           ICICI Bank  ...                    4.0       3.934578   \n",
       "87015           ICICI Bank  ...                    4.0       3.934578   \n",
       "87017       Syndicate Bank  ...                    4.0       3.934578   \n",
       "87018           ICICI Bank  ...                    5.0       3.934578   \n",
       "\n",
       "      Processing_Fee  EMI_Loan_Submitted  Filled_Form  Device_Type  Var2  \\\n",
       "0        5131.150839                 NaN            N  Web-browser     G   \n",
       "2        5131.150839                 NaN            N  Web-browser     B   \n",
       "3        5131.150839                 NaN            N  Web-browser     B   \n",
       "4        5131.150839                 NaN            N  Web-browser     B   \n",
       "6        5131.150839                 NaN            N  Web-browser     B   \n",
       "...              ...                 ...          ...          ...   ...   \n",
       "87013    5131.150839                 NaN            N  Web-browser     G   \n",
       "87014    5131.150839                 NaN            N  Web-browser     G   \n",
       "87015    5131.150839                 NaN            N  Web-browser     G   \n",
       "87017    5131.150839                 NaN            N       Mobile     G   \n",
       "87018    5131.150839                 NaN            N  Web-browser     G   \n",
       "\n",
       "       Source Var4        AGE  \n",
       "0        S122    1  37.000000  \n",
       "2        S143    1  34.000000  \n",
       "3        S143    3  28.000000  \n",
       "4        S134    3  31.000000  \n",
       "6        S133    1  28.000000  \n",
       "...       ...  ...        ...  \n",
       "87013    S122    3  25.000000  \n",
       "87014    S122    3  33.000000  \n",
       "87015    S122    3  29.789688  \n",
       "87017    S122    3  43.000000  \n",
       "87018    S122    3  38.000000  \n",
       "\n",
       "[59294 rows x 24 columns]"
      ]
     },
     "execution_count": 114,
     "metadata": {},
     "output_type": "execute_result"
    }
   ],
   "source": [
    "#wyswietl wiersze dla ktorych EMI_Loan_Submitted is nan\n",
    "X.loc[X['EMI_Loan_Submitted'].isnull()]"
   ]
  },
  {
   "cell_type": "code",
   "execution_count": 115,
   "metadata": {},
   "outputs": [
    {
     "data": {
      "text/plain": [
       "count     27726.000000\n",
       "mean      10999.528377\n",
       "std        7512.323050\n",
       "min        1176.410000\n",
       "25%        6491.600000\n",
       "50%        9392.970000\n",
       "75%       12919.040000\n",
       "max      144748.280000\n",
       "Name: EMI_Loan_Submitted, dtype: float64"
      ]
     },
     "execution_count": 115,
     "metadata": {},
     "output_type": "execute_result"
    }
   ],
   "source": [
    "#statystyki dla zmiennej \n",
    "X['EMI_Loan_Submitted'].describe()"
   ]
  },
  {
   "cell_type": "code",
   "execution_count": 116,
   "metadata": {},
   "outputs": [
    {
     "data": {
      "text/plain": [
       "2.7549554106213368"
      ]
     },
     "execution_count": 116,
     "metadata": {},
     "output_type": "execute_result"
    }
   ],
   "source": [
    "X['EMI_Loan_Submitted'].skew()"
   ]
  },
  {
   "cell_type": "code",
   "execution_count": 117,
   "metadata": {},
   "outputs": [
    {
     "name": "stderr",
     "output_type": "stream",
     "text": [
      "C:\\Users\\darek\\Anaconda3\\lib\\site-packages\\numpy\\lib\\histograms.py:839: RuntimeWarning: invalid value encountered in greater_equal\n",
      "  keep = (tmp_a >= first_edge)\n",
      "C:\\Users\\darek\\Anaconda3\\lib\\site-packages\\numpy\\lib\\histograms.py:840: RuntimeWarning: invalid value encountered in less_equal\n",
      "  keep &= (tmp_a <= last_edge)\n"
     ]
    },
    {
     "data": {
      "text/plain": [
       "(array([2.737e+03, 4.730e+03, 7.425e+03, 5.652e+03, 2.706e+03, 1.454e+03,\n",
       "        7.840e+02, 5.970e+02, 4.320e+02, 3.330e+02, 1.720e+02, 2.230e+02,\n",
       "        1.090e+02, 1.530e+02, 8.000e+01, 3.500e+01, 3.800e+01, 2.200e+01,\n",
       "        7.000e+00, 9.000e+00, 7.000e+00, 5.000e+00, 9.000e+00, 1.000e+00,\n",
       "        0.000e+00, 0.000e+00, 0.000e+00, 1.000e+00, 0.000e+00, 0.000e+00,\n",
       "        1.000e+00, 0.000e+00, 0.000e+00, 1.000e+00, 0.000e+00, 0.000e+00,\n",
       "        0.000e+00, 0.000e+00, 0.000e+00, 0.000e+00, 0.000e+00, 0.000e+00,\n",
       "        0.000e+00, 0.000e+00, 0.000e+00, 0.000e+00, 2.000e+00, 0.000e+00,\n",
       "        0.000e+00, 1.000e+00]),\n",
       " array([  1176.41  ,   4047.8474,   6919.2848,   9790.7222,  12662.1596,\n",
       "         15533.597 ,  18405.0344,  21276.4718,  24147.9092,  27019.3466,\n",
       "         29890.784 ,  32762.2214,  35633.6588,  38505.0962,  41376.5336,\n",
       "         44247.971 ,  47119.4084,  49990.8458,  52862.2832,  55733.7206,\n",
       "         58605.158 ,  61476.5954,  64348.0328,  67219.4702,  70090.9076,\n",
       "         72962.345 ,  75833.7824,  78705.2198,  81576.6572,  84448.0946,\n",
       "         87319.532 ,  90190.9694,  93062.4068,  95933.8442,  98805.2816,\n",
       "        101676.719 , 104548.1564, 107419.5938, 110291.0312, 113162.4686,\n",
       "        116033.906 , 118905.3434, 121776.7808, 124648.2182, 127519.6556,\n",
       "        130391.093 , 133262.5304, 136133.9678, 139005.4052, 141876.8426,\n",
       "        144748.28  ]),\n",
       " <a list of 50 Patch objects>)"
      ]
     },
     "execution_count": 117,
     "metadata": {},
     "output_type": "execute_result"
    },
    {
     "data": {
      "image/png": "[encoded data removed]",
      "text/plain": [
       "<Figure size 720x720 with 1 Axes>"
      ]
     },
     "metadata": {
      "needs_background": "light"
     },
     "output_type": "display_data"
    }
   ],
   "source": [
    "#rozklad zmiennych\n",
    "plt.figure(figsize=(10,10))\n",
    "plt.hist(X['EMI_Loan_Submitted'],bins=50)\n",
    "#plt.yscale('log')\n",
    "#plt.xscale('log')"
   ]
  },
  {
   "cell_type": "code",
   "execution_count": 118,
   "metadata": {},
   "outputs": [],
   "source": [
    "#PROCESSING NAN\n",
    "#brakujace wartosci uzupelniamy wartoscia srednia\n",
    "X['EMI_Loan_Submitted'] = X['EMI_Loan_Submitted'].fillna((X['EMI_Loan_Submitted'].mean()))"
   ]
  },
  {
   "cell_type": "code",
   "execution_count": 119,
   "metadata": {},
   "outputs": [
    {
     "data": {
      "text/plain": [
       "N    67530\n",
       "Y    19490\n",
       "Name: Filled_Form, dtype: int64"
      ]
     },
     "execution_count": 119,
     "metadata": {},
     "output_type": "execute_result"
    }
   ],
   "source": [
    "#zmienna Filled_Form\n",
    "X['Filled_Form'].value_counts()"
   ]
  },
  {
   "cell_type": "code",
   "execution_count": 120,
   "metadata": {},
   "outputs": [
    {
     "name": "stdout",
     "output_type": "stream",
     "text": [
      "missing percentage: 0.0\n"
     ]
    }
   ],
   "source": [
    "#brakujace wartości\n",
    "calc_missing_values(X['Filled_Form'])"
   ]
  },
  {
   "cell_type": "code",
   "execution_count": 121,
   "metadata": {},
   "outputs": [
    {
     "data": {
      "text/plain": [
       "count     87020\n",
       "unique        2\n",
       "top           N\n",
       "freq      67530\n",
       "Name: Filled_Form, dtype: object"
      ]
     },
     "execution_count": 121,
     "metadata": {},
     "output_type": "execute_result"
    }
   ],
   "source": [
    "#statystyki dla zmiennej \n",
    "X['Filled_Form'].describe()"
   ]
  },
  {
   "cell_type": "code",
   "execution_count": 122,
   "metadata": {},
   "outputs": [
    {
     "data": {
      "text/plain": [
       "(array([67530.,     0.,     0.,     0.,     0.,     0.,     0.,     0.,\n",
       "            0.,     0.,     0.,     0.,     0.,     0.,     0.,     0.,\n",
       "            0.,     0.,     0.,     0.,     0.,     0.,     0.,     0.,\n",
       "            0.,     0.,     0.,     0.,     0.,     0.,     0.,     0.,\n",
       "            0.,     0.,     0.,     0.,     0.,     0.,     0.,     0.,\n",
       "            0.,     0.,     0.,     0.,     0.,     0.,     0.,     0.,\n",
       "            0., 19490.]),\n",
       " array([0.  , 0.02, 0.04, 0.06, 0.08, 0.1 , 0.12, 0.14, 0.16, 0.18, 0.2 ,\n",
       "        0.22, 0.24, 0.26, 0.28, 0.3 , 0.32, 0.34, 0.36, 0.38, 0.4 , 0.42,\n",
       "        0.44, 0.46, 0.48, 0.5 , 0.52, 0.54, 0.56, 0.58, 0.6 , 0.62, 0.64,\n",
       "        0.66, 0.68, 0.7 , 0.72, 0.74, 0.76, 0.78, 0.8 , 0.82, 0.84, 0.86,\n",
       "        0.88, 0.9 , 0.92, 0.94, 0.96, 0.98, 1.  ]),\n",
       " <a list of 50 Patch objects>)"
      ]
     },
     "execution_count": 122,
     "metadata": {},
     "output_type": "execute_result"
    },
    {
     "data": {
      "image/png": "[encoded data removed]",
      "text/plain": [
       "<Figure size 720x720 with 1 Axes>"
      ]
     },
     "metadata": {
      "needs_background": "light"
     },
     "output_type": "display_data"
    }
   ],
   "source": [
    "#rozklad zmiennych\n",
    "plt.figure(figsize=(10,10))\n",
    "plt.hist(X['Filled_Form'],bins=50)\n",
    "#plt.yscale('log')\n",
    "#plt.xscale('log')\n"
   ]
  },
  {
   "cell_type": "code",
   "execution_count": 123,
   "metadata": {},
   "outputs": [],
   "source": [
    "#Mobile_Verfied encodujemy na 1 - y 0 - n \n",
    "X['Filled_Form'] = X['Filled_Form'].replace({\"Y\":1, \"N\":0})"
   ]
  },
  {
   "cell_type": "code",
   "execution_count": 124,
   "metadata": {},
   "outputs": [
    {
     "data": {
      "text/plain": [
       "Web-browser    64316\n",
       "Mobile         22704\n",
       "Name: Device_Type, dtype: int64"
      ]
     },
     "execution_count": 124,
     "metadata": {},
     "output_type": "execute_result"
    }
   ],
   "source": [
    "#zmienna Device_Type\n",
    "X['Device_Type'].value_counts()"
   ]
  },
  {
   "cell_type": "code",
   "execution_count": 125,
   "metadata": {},
   "outputs": [
    {
     "name": "stdout",
     "output_type": "stream",
     "text": [
      "missing percentage: 0.0\n"
     ]
    }
   ],
   "source": [
    "#brakujace wartości\n",
    "calc_missing_values(X['Device_Type'])"
   ]
  },
  {
   "cell_type": "code",
   "execution_count": 126,
   "metadata": {},
   "outputs": [
    {
     "data": {
      "text/plain": [
       "count           87020\n",
       "unique              2\n",
       "top       Web-browser\n",
       "freq            64316\n",
       "Name: Device_Type, dtype: object"
      ]
     },
     "execution_count": 126,
     "metadata": {},
     "output_type": "execute_result"
    }
   ],
   "source": [
    "#statystyki dla zmiennej \n",
    "X['Device_Type'].describe()"
   ]
  },
  {
   "cell_type": "code",
   "execution_count": 127,
   "metadata": {},
   "outputs": [
    {
     "data": {
      "text/plain": [
       "(array([64316.,     0., 22704.]),\n",
       " array([0.        , 0.33333333, 0.66666667, 1.        ]),\n",
       " <a list of 3 Patch objects>)"
      ]
     },
     "execution_count": 127,
     "metadata": {},
     "output_type": "execute_result"
    },
    {
     "data": {
      "image/png": "[encoded data removed]",
      "text/plain": [
       "<Figure size 720x720 with 1 Axes>"
      ]
     },
     "metadata": {
      "needs_background": "light"
     },
     "output_type": "display_data"
    }
   ],
   "source": [
    "#rozklad zmiennych\n",
    "plt.figure(figsize=(10,10))\n",
    "plt.hist(X['Device_Type'],bins=3)\n",
    "#plt.yscale('log')\n",
    "#plt.xscale('log')"
   ]
  },
  {
   "cell_type": "code",
   "execution_count": 128,
   "metadata": {},
   "outputs": [],
   "source": [
    "#Mobile_Verfied encodujemy na 1 - y 0 - n \n",
    "X['Device_Type'] = X['Device_Type'].replace({\"Web-browser\":1, \"Mobile\":0})"
   ]
  },
  {
   "cell_type": "code",
   "execution_count": 129,
   "metadata": {},
   "outputs": [
    {
     "data": {
      "text/plain": [
       "B    37280\n",
       "G    33032\n",
       "C    14210\n",
       "E     1315\n",
       "D      634\n",
       "F      544\n",
       "A        5\n",
       "Name: Var2, dtype: int64"
      ]
     },
     "execution_count": 129,
     "metadata": {},
     "output_type": "execute_result"
    }
   ],
   "source": [
    "#zmienna Var2 - categorical multiple level\n",
    "X['Var2'].value_counts()"
   ]
  },
  {
   "cell_type": "code",
   "execution_count": 130,
   "metadata": {},
   "outputs": [
    {
     "name": "stdout",
     "output_type": "stream",
     "text": [
      "missing percentage: 0.0\n"
     ]
    }
   ],
   "source": [
    "#brakujace wartości\n",
    "calc_missing_values(X['Var2'])"
   ]
  },
  {
   "cell_type": "code",
   "execution_count": 131,
   "metadata": {},
   "outputs": [
    {
     "data": {
      "text/plain": [
       "count     87020\n",
       "unique        7\n",
       "top           B\n",
       "freq      37280\n",
       "Name: Var2, dtype: object"
      ]
     },
     "execution_count": 131,
     "metadata": {},
     "output_type": "execute_result"
    }
   ],
   "source": [
    "#statystyki dla zmiennej \n",
    "X['Var2'].describe()"
   ]
  },
  {
   "cell_type": "code",
   "execution_count": 132,
   "metadata": {},
   "outputs": [
    {
     "data": {
      "text/plain": [
       "(array([3.3032e+04, 3.7280e+04, 1.4210e+04, 0.0000e+00, 1.3150e+03,\n",
       "        5.4400e+02, 6.3400e+02, 5.0000e+00]),\n",
       " array([0.  , 0.75, 1.5 , 2.25, 3.  , 3.75, 4.5 , 5.25, 6.  ]),\n",
       " <a list of 8 Patch objects>)"
      ]
     },
     "execution_count": 132,
     "metadata": {},
     "output_type": "execute_result"
    },
    {
     "data": {
      "image/png": "[encoded data removed]",
      "text/plain": [
       "<Figure size 720x720 with 1 Axes>"
      ]
     },
     "metadata": {
      "needs_background": "light"
     },
     "output_type": "display_data"
    }
   ],
   "source": [
    "#rozklad zmiennych\n",
    "plt.figure(figsize=(10,10))\n",
    "plt.hist(X['Var2'],bins=8)\n",
    "#plt.yscale('log')\n",
    "#plt.xscale('log')"
   ]
  },
  {
   "cell_type": "code",
   "execution_count": null,
   "metadata": {},
   "outputs": [],
   "source": []
  },
  {
   "cell_type": "code",
   "execution_count": 133,
   "metadata": {},
   "outputs": [
    {
     "data": {
      "text/plain": [
       "S122    38567\n",
       "S133    29885\n",
       "S159     5599\n",
       "S143     4332\n",
       "S127     1931\n",
       "S137     1724\n",
       "S134     1301\n",
       "S161      769\n",
       "S151      720\n",
       "S157      650\n",
       "S153      494\n",
       "S156      308\n",
       "S144      299\n",
       "S158      208\n",
       "S123       73\n",
       "S141       57\n",
       "S162       36\n",
       "S124       24\n",
       "S160       11\n",
       "S150       10\n",
       "S155        4\n",
       "S129        3\n",
       "S136        3\n",
       "S139        3\n",
       "S138        3\n",
       "S135        2\n",
       "S154        1\n",
       "S140        1\n",
       "S125        1\n",
       "S130        1\n",
       "Name: Source, dtype: int64"
      ]
     },
     "execution_count": 133,
     "metadata": {},
     "output_type": "execute_result"
    }
   ],
   "source": [
    "#zmienna Source categorical multiple level\n",
    "X['Source'].value_counts()"
   ]
  },
  {
   "cell_type": "code",
   "execution_count": 134,
   "metadata": {},
   "outputs": [
    {
     "name": "stdout",
     "output_type": "stream",
     "text": [
      "missing percentage: 0.0\n"
     ]
    }
   ],
   "source": [
    "#brakujace wartości\n",
    "calc_missing_values(X['Source'])"
   ]
  },
  {
   "cell_type": "code",
   "execution_count": 135,
   "metadata": {},
   "outputs": [
    {
     "data": {
      "text/plain": [
       "count     87020\n",
       "unique       30\n",
       "top        S122\n",
       "freq      38567\n",
       "Name: Source, dtype: object"
      ]
     },
     "execution_count": 135,
     "metadata": {},
     "output_type": "execute_result"
    }
   ],
   "source": [
    "#statystyki dla zmiennej \n",
    "X['Source'].describe()"
   ]
  },
  {
   "cell_type": "code",
   "execution_count": 136,
   "metadata": {},
   "outputs": [
    {
     "data": {
      "text/plain": [
       "(array([3.8567e+04, 4.3320e+03, 1.3010e+03, 2.9885e+04, 5.5990e+03,\n",
       "        7.2000e+02, 1.7240e+03, 1.9310e+03, 2.9900e+02, 7.3000e+01,\n",
       "        3.0800e+02, 4.9400e+02, 2.4000e+01, 7.6900e+02, 3.0000e+00,\n",
       "        0.0000e+00, 1.0000e+00, 6.5000e+02, 3.0000e+00, 3.6000e+01,\n",
       "        5.7000e+01, 2.0800e+02, 1.0000e+00, 3.0000e+00, 3.0000e+00,\n",
       "        1.0000e+00, 4.0000e+00, 1.1000e+01, 1.0000e+01, 2.0000e+00,\n",
       "        1.0000e+00]),\n",
       " array([ 0.        ,  0.93548387,  1.87096774,  2.80645161,  3.74193548,\n",
       "         4.67741935,  5.61290323,  6.5483871 ,  7.48387097,  8.41935484,\n",
       "         9.35483871, 10.29032258, 11.22580645, 12.16129032, 13.09677419,\n",
       "        14.03225806, 14.96774194, 15.90322581, 16.83870968, 17.77419355,\n",
       "        18.70967742, 19.64516129, 20.58064516, 21.51612903, 22.4516129 ,\n",
       "        23.38709677, 24.32258065, 25.25806452, 26.19354839, 27.12903226,\n",
       "        28.06451613, 29.        ]),\n",
       " <a list of 31 Patch objects>)"
      ]
     },
     "execution_count": 136,
     "metadata": {},
     "output_type": "execute_result"
    },
    {
     "data": {
      "image/png": "[encoded data removed]",
      "text/plain": [
       "<Figure size 1440x720 with 1 Axes>"
      ]
     },
     "metadata": {
      "needs_background": "light"
     },
     "output_type": "display_data"
    }
   ],
   "source": [
    "#rozklad zmiennych\n",
    "plt.figure(figsize=(20,10))\n",
    "plt.hist(X['Source'],bins=31)\n",
    "#plt.yscale('log')\n",
    "#plt.xscale('log')"
   ]
  },
  {
   "cell_type": "code",
   "execution_count": null,
   "metadata": {},
   "outputs": [],
   "source": []
  },
  {
   "cell_type": "code",
   "execution_count": 137,
   "metadata": {},
   "outputs": [
    {
     "data": {
      "text/plain": [
       "3    25260\n",
       "1    23906\n",
       "5    20266\n",
       "4     6577\n",
       "2     5931\n",
       "0     2546\n",
       "7     2302\n",
       "6      232\n",
       "Name: Var4, dtype: int64"
      ]
     },
     "execution_count": 137,
     "metadata": {},
     "output_type": "execute_result"
    }
   ],
   "source": [
    "#zmienna Var4 categorical multiple level\n",
    "X['Var4'].value_counts()"
   ]
  },
  {
   "cell_type": "code",
   "execution_count": 138,
   "metadata": {},
   "outputs": [
    {
     "name": "stdout",
     "output_type": "stream",
     "text": [
      "missing percentage: 0.0\n"
     ]
    }
   ],
   "source": [
    "#brakujace wartości\n",
    "calc_missing_values(X['Var4'])"
   ]
  },
  {
   "cell_type": "code",
   "execution_count": 139,
   "metadata": {},
   "outputs": [
    {
     "data": {
      "text/plain": [
       "count    87020.000000\n",
       "mean         2.949805\n",
       "std          1.697720\n",
       "min          0.000000\n",
       "25%          1.000000\n",
       "50%          3.000000\n",
       "75%          5.000000\n",
       "max          7.000000\n",
       "Name: Var4, dtype: float64"
      ]
     },
     "execution_count": 139,
     "metadata": {},
     "output_type": "execute_result"
    }
   ],
   "source": [
    "#statystyki dla zmiennej \n",
    "X['Var4'].describe()"
   ]
  },
  {
   "cell_type": "code",
   "execution_count": 140,
   "metadata": {},
   "outputs": [
    {
     "data": {
      "text/plain": [
       "(array([ 2546.,     0.,     0.,     0., 23906.,     0.,     0.,     0.,\n",
       "         5931.,     0.,     0.,     0.,     0., 25260.,     0.,     0.,\n",
       "            0.,  6577.,     0.,     0.,     0.,     0., 20266.,     0.,\n",
       "            0.,     0.,   232.,     0.,     0.,     0.,  2302.]),\n",
       " array([0.        , 0.22580645, 0.4516129 , 0.67741935, 0.90322581,\n",
       "        1.12903226, 1.35483871, 1.58064516, 1.80645161, 2.03225806,\n",
       "        2.25806452, 2.48387097, 2.70967742, 2.93548387, 3.16129032,\n",
       "        3.38709677, 3.61290323, 3.83870968, 4.06451613, 4.29032258,\n",
       "        4.51612903, 4.74193548, 4.96774194, 5.19354839, 5.41935484,\n",
       "        5.64516129, 5.87096774, 6.09677419, 6.32258065, 6.5483871 ,\n",
       "        6.77419355, 7.        ]),\n",
       " <a list of 31 Patch objects>)"
      ]
     },
     "execution_count": 140,
     "metadata": {},
     "output_type": "execute_result"
    },
    {
     "data": {
      "image/png": "[encoded data removed]",
      "text/plain": [
       "<Figure size 720x720 with 1 Axes>"
      ]
     },
     "metadata": {
      "needs_background": "light"
     },
     "output_type": "display_data"
    }
   ],
   "source": [
    "#rozklad zmiennych\n",
    "plt.figure(figsize=(10,10))\n",
    "plt.hist(X['Var4'],bins=31)\n",
    "#plt.yscale('log')\n",
    "#plt.xscale('log')"
   ]
  },
  {
   "cell_type": "code",
   "execution_count": null,
   "metadata": {},
   "outputs": [],
   "source": []
  },
  {
   "cell_type": "markdown",
   "metadata": {},
   "source": [
    "## zaczynamy modelowanie"
   ]
  },
  {
   "cell_type": "code",
   "execution_count": 141,
   "metadata": {},
   "outputs": [],
   "source": [
    "#wstepne modeloweanie przy zalozeniu ze zmienne mamy oczyszczone, przygotowane w pierwszej czesci notebooka"
   ]
  },
  {
   "cell_type": "code",
   "execution_count": 159,
   "metadata": {},
   "outputs": [
    {
     "data": {
      "text/plain": [
       "(87020, 828)"
      ]
     },
     "execution_count": 159,
     "metadata": {},
     "output_type": "execute_result"
    }
   ],
   "source": [
    "X.shape"
   ]
  },
  {
   "cell_type": "code",
   "execution_count": 144,
   "metadata": {},
   "outputs": [],
   "source": [
    "#dane mamy pozbabione nan oczysczone itd, one-hot dla zmiennych kategorycznych\n",
    "#X = pd.get_dummies(X.drop([\"name\",\"ticket\",\"home.dest\", \"survived\"], \n",
    "#                            axis=1)\n",
    "#                  )\n",
    "X = pd.get_dummies(X.drop([\"DOB\", \"Lead_Creation_Date\"], axis=1)\n",
    "                  )"
   ]
  },
  {
   "cell_type": "code",
   "execution_count": 160,
   "metadata": {},
   "outputs": [
    {
     "data": {
      "text/plain": [
       "(87020, 828)"
      ]
     },
     "execution_count": 160,
     "metadata": {},
     "output_type": "execute_result"
    }
   ],
   "source": [
    "X.shape"
   ]
  },
  {
   "cell_type": "code",
   "execution_count": 146,
   "metadata": {},
   "outputs": [
    {
     "data": {
      "text/plain": [
       "Gender                   int64\n",
       "Monthly_Income           int64\n",
       "Loan_Amount_Applied    float64\n",
       "Loan_Tenure_Applied    float64\n",
       "Existing_EMI           float64\n",
       "                        ...   \n",
       "Source_S158              uint8\n",
       "Source_S159              uint8\n",
       "Source_S160              uint8\n",
       "Source_S161              uint8\n",
       "Source_S162              uint8\n",
       "Length: 828, dtype: object"
      ]
     },
     "execution_count": 146,
     "metadata": {},
     "output_type": "execute_result"
    }
   ],
   "source": [
    "pd.set_option('display.max_rows', 200)\n",
    "X.dtypes"
   ]
  },
  {
   "cell_type": "code",
   "execution_count": 161,
   "metadata": {},
   "outputs": [
    {
     "data": {
      "text/plain": [
       "True"
      ]
     },
     "execution_count": 161,
     "metadata": {},
     "output_type": "execute_result"
    }
   ],
   "source": [
    "np.all(np.isfinite(X))"
   ]
  },
  {
   "cell_type": "code",
   "execution_count": 163,
   "metadata": {},
   "outputs": [],
   "source": [
    "from sklearn.model_selection import StratifiedKFold\n",
    "\n",
    "seed=123\n",
    "kfold = StratifiedKFold(n_splits=5, random_state=seed)"
   ]
  },
  {
   "cell_type": "code",
   "execution_count": 164,
   "metadata": {},
   "outputs": [],
   "source": [
    "from sklearn.model_selection import train_test_split\n",
    "X_train, X_test, y_train, y_test = train_test_split(X, y, test_size=0.20, random_state=seed)"
   ]
  },
  {
   "cell_type": "code",
   "execution_count": 166,
   "metadata": {},
   "outputs": [
    {
     "name": "stderr",
     "output_type": "stream",
     "text": [
      "[Parallel(n_jobs=14)]: Using backend LokyBackend with 14 concurrent workers.\n",
      "[Parallel(n_jobs=14)]: Done   1 out of   1 | elapsed:   45.3s finished\n"
     ]
    },
    {
     "name": "stdout",
     "output_type": "stream",
     "text": [
      "0.9846012410940014\n"
     ]
    }
   ],
   "source": [
    "from sklearn.linear_model import LogisticRegression\n",
    "from sklearn.ensemble import RandomForestClassifier\n",
    "from sklearn.pipeline import Pipeline\n",
    "from sklearn.model_selection import GridSearchCV\n",
    "from sklearn.preprocessing import StandardScaler\n",
    "from sklearn.metrics import accuracy_score\n",
    "from sklearn.svm import SVC\n",
    "\n",
    "pipelines = [\n",
    "            Pipeline([\n",
    "    (\"scaler\", StandardScaler()),\n",
    "    (\"model\", LogisticRegression(max_iter=500, verbose=1,n_jobs=14))\n",
    "]),\n",
    "            Pipeline([\n",
    "    (\"scaler\", StandardScaler()),\n",
    "    (\"model\", SVC(verbose=1,n_jobs=14))\n",
    "])  \n",
    "      \n",
    "    #Pipeline([\n",
    "    #(\"model\", RandomForestClassifier(max_features=0.5,verbose=True,n_jobs=-1))\n",
    "#])\n",
    "    ]\n",
    "\n",
    "\n",
    "param_grids = [{\"model__penalty\": [\"l2\"],\n",
    "                \"model__C\": [0.01, 0.1, 1, 10, 100]},\n",
    "               \n",
    "               {'model__gamma': [0.001, 1],\n",
    "                'model__C': [0.001, 1]}\n",
    "               \n",
    "#          {\"model__n_estimators\" : [50, 100, 150],\n",
    "#                \"model__min_samples_leaf\": [1, 2, 5],\n",
    "#                \"model__min_samples_split\": [2, 4],\n",
    "#                \"model__max_depth\": [25, 50, 100]\n",
    "#               }\n",
    "              ]\n",
    "\n",
    "best_classifier = []\n",
    "\n",
    "for model, grid in zip(pipelines, param_grids):\n",
    "    gs = GridSearchCV(model, grid, cv = 10,n_jobs=-1)\n",
    "    gs.fit(X_train, y_train)\n",
    "    print(accuracy_score(y_test, gs.predict(X_test)))\n",
    "    best_classifier.append(gs)\n"
   ]
  },
  {
   "cell_type": "code",
   "execution_count": 167,
   "metadata": {},
   "outputs": [
    {
     "data": {
      "text/plain": [
       "{'model__C': 0.01, 'model__penalty': 'l2'}"
      ]
     },
     "execution_count": 167,
     "metadata": {},
     "output_type": "execute_result"
    }
   ],
   "source": [
    "gs.best_params_"
   ]
  },
  {
   "cell_type": "code",
   "execution_count": 154,
   "metadata": {},
   "outputs": [
    {
     "data": {
      "text/plain": [
       "[GridSearchCV(cv=10, error_score=nan,\n",
       "              estimator=Pipeline(memory=None,\n",
       "                                 steps=[('scaler',\n",
       "                                         StandardScaler(copy=True,\n",
       "                                                        with_mean=True,\n",
       "                                                        with_std=True)),\n",
       "                                        ('model',\n",
       "                                         LogisticRegression(C=1.0,\n",
       "                                                            class_weight=None,\n",
       "                                                            dual=False,\n",
       "                                                            fit_intercept=True,\n",
       "                                                            intercept_scaling=1,\n",
       "                                                            l1_ratio=None,\n",
       "                                                            max_iter=1000,\n",
       "                                                            multi_class='auto',\n",
       "                                                            n_jobs=-1,\n",
       "                                                            penalty='l2',\n",
       "                                                            random_state=None,\n",
       "                                                            solver='lbfgs',\n",
       "                                                            tol=0.0001,\n",
       "                                                            verbose=True,\n",
       "                                                            warm_start=False))],\n",
       "                                 verbose=False),\n",
       "              iid='deprecated', n_jobs=-1,\n",
       "              param_grid={'model__C': [0.01, 0.1, 1, 10, 100],\n",
       "                          'model__penalty': ['l2']},\n",
       "              pre_dispatch='2*n_jobs', refit=True, return_train_score=False,\n",
       "              scoring=None, verbose=0)]"
      ]
     },
     "execution_count": 154,
     "metadata": {},
     "output_type": "execute_result"
    }
   ],
   "source": [
    "best_classifier"
   ]
  },
  {
   "cell_type": "code",
   "execution_count": 181,
   "metadata": {},
   "outputs": [
    {
     "name": "stderr",
     "output_type": "stream",
     "text": [
      "[Parallel(n_jobs=14)]: Using backend LokyBackend with 14 concurrent workers.\n",
      "[Parallel(n_jobs=14)]: Done   1 out of   1 | elapsed:   26.8s finished\n",
      "[Parallel(n_jobs=14)]: Using backend LokyBackend with 14 concurrent workers.\n",
      "[Parallel(n_jobs=14)]: Done   1 out of   1 | elapsed:   26.5s finished\n",
      "[Parallel(n_jobs=14)]: Using backend LokyBackend with 14 concurrent workers.\n",
      "[Parallel(n_jobs=14)]: Done   1 out of   1 | elapsed:   22.1s finished\n"
     ]
    },
    {
     "data": {
      "text/plain": [
       "array([[68604,     7],\n",
       "       [ 1004,     1]], dtype=int64)"
      ]
     },
     "execution_count": 181,
     "metadata": {},
     "output_type": "execute_result"
    }
   ],
   "source": [
    "#cross_val_predict na zbiorze treningowym, narazie nie ruszamy zbioru testowego\n",
    "from sklearn.metrics import confusion_matrix\n",
    "from sklearn.model_selection import cross_val_predict\n",
    "\n",
    "y_train_pred = cross_val_predict(gs.best_estimator_, X_train, y_train, cv=3)\n",
    "confusion_matrix(y_train, y_train_pred)"
   ]
  },
  {
   "cell_type": "code",
   "execution_count": 182,
   "metadata": {},
   "outputs": [
    {
     "name": "stdout",
     "output_type": "stream",
     "text": [
      "0.125\n",
      "0.0009950248756218905\n"
     ]
    }
   ],
   "source": [
    "from sklearn.metrics import precision_score, recall_score\n",
    "print(precision_score(y_train, y_train_pred)) \n",
    "print(recall_score(y_train, y_train_pred)) "
   ]
  },
  {
   "cell_type": "code",
   "execution_count": 169,
   "metadata": {},
   "outputs": [
    {
     "name": "stdout",
     "output_type": "stream",
     "text": [
      "[0 0 0 ... 0 0 0]\n",
      "[-4.79284345 -5.31583895 -2.8456862  ... -2.61049321 -4.83490502\n",
      " -6.62976001]\n"
     ]
    }
   ],
   "source": [
    "#ROC curve\n",
    "y_pred = gs.best_estimator_.predict(X_test)\n",
    "print(y_pred)\n",
    "\n",
    "y_scores = gs.best_estimator_.decision_function(X_test)\n",
    "print(y_scores)"
   ]
  },
  {
   "cell_type": "code",
   "execution_count": 172,
   "metadata": {},
   "outputs": [
    {
     "data": {
      "image/png": "[encoded data removed]",
      "text/plain": [
       "<Figure size 576x432 with 1 Axes>"
      ]
     },
     "metadata": {
      "needs_background": "light"
     },
     "output_type": "display_data"
    }
   ],
   "source": [
    "from sklearn.metrics import roc_auc_score\n",
    "from sklearn.metrics import roc_curve\n",
    "\n",
    "def plot_roc_curve(fpr, tpr, label=None):\n",
    "    plt.plot(fpr, tpr, linewidth=2, label=label)\n",
    "    plt.plot([0, 1], [0, 1], 'k--')\n",
    "    plt.axis([0, 1, 0, 1])\n",
    "    plt.xlabel('False Positive Rate', fontsize=16)\n",
    "    plt.ylabel('True Positive Rate', fontsize=16)\n",
    "\n",
    "fpr_clf_1, tpr_clf_1, thresholds_clf_1 = roc_curve(y_test, y_scores)\n",
    "\n",
    "plt.figure(figsize=(8, 6))\n",
    "plot_roc_curve(fpr_clf_1, tpr_clf_1, \"logistic regression\")\n",
    "plt.legend(loc=\"lower right\", fontsize=16)\n",
    "plt.show()"
   ]
  },
  {
   "cell_type": "code",
   "execution_count": null,
   "metadata": {},
   "outputs": [],
   "source": [
    "#musimy zrobic imputery dla zmiennych numerycznych, kategroycznych i jak cos wymaga specjalnej operacji to funkcji do\n",
    "#tego, wszystko ma się liczyć automatycznie, z posprzataniem danych wlacznie"
   ]
  },
  {
   "cell_type": "code",
   "execution_count": null,
   "metadata": {},
   "outputs": [],
   "source": [
    "#selektor do wybierania kolumn\n",
    "from sklearn.base import BaseEstimator, TransformerMixin\n",
    "\n",
    "# A class to select numerical or categorical columns \n",
    "# since Scikit-Learn doesn't handle DataFrames yet\n",
    "class DataFrameSelector(BaseEstimator, TransformerMixin):\n",
    "    def __init__(self, attribute_names):\n",
    "        self.attribute_names = attribute_names\n",
    "    def fit(self, X, y=None):\n",
    "        return self\n",
    "    def transform(self, X):\n",
    "        return X[self.attribute_names]"
   ]
  },
  {
   "cell_type": "code",
   "execution_count": null,
   "metadata": {},
   "outputs": [],
   "source": [
    "#imputer do przetwarzania zmiennych o popsutym rozkładzie\n",
    "\n",
    "class NormalityImputer(BaseEstimator, TransformerMixin):\n",
    "    def __init__(self, attribute_names):\n",
    "        self.attribute_names = attribute_names\n",
    "        print('init')\n",
    "    def fit(self, X, y=None):\n",
    "        return self\n",
    "    def transform(self, X):\n",
    "        X_copy = X.copy()\n",
    "        for name in self.attribute_names:\n",
    "            print(name)\n",
    "            X_copy.loc[(X_copy[name] == 0), name ] = 0.000001\n",
    "            X_copy[name] = np.log(X_copy[name])\n",
    "        return X_copy"
   ]
  },
  {
   "cell_type": "code",
   "execution_count": null,
   "metadata": {},
   "outputs": [],
   "source": [
    "#imputer dla zmiennych numerycznych\n",
    "from sklearn.pipeline import Pipeline\n",
    "from sklearn.impute import SimpleImputer\n",
    "\n",
    "numeric_features = ['Monthly_Income','Loan_Amount_Applied']\n",
    "\n",
    "\n",
    "num_pipeline = Pipeline([\n",
    "        (\"select_numeric\", PowerImputer(numeric_features)),\n",
    "        #(\"imputer\", SimpleImputer(strategy=\"median\")),\n",
    "    ])"
   ]
  },
  {
   "cell_type": "code",
   "execution_count": null,
   "metadata": {},
   "outputs": [],
   "source": [
    "income_fixed = num_pipeline.fit_transform(X)\n",
    "#income_fixed['Monthly_Income'].describe()\n",
    "income_fixed['Monthly_Income'].describe()"
   ]
  },
  {
   "cell_type": "code",
   "execution_count": null,
   "metadata": {},
   "outputs": [],
   "source": [
    "np.log(0.00001)"
   ]
  },
  {
   "cell_type": "code",
   "execution_count": null,
   "metadata": {},
   "outputs": [],
   "source": [
    "income_fixed['Monthly_Income'].skew()\n",
    "income_fixed['Loan_Tenure_Applied'].skew()"
   ]
  },
  {
   "cell_type": "code",
   "execution_count": null,
   "metadata": {},
   "outputs": [],
   "source": [
    "#rozklad zmiennych\n",
    "plt.figure(figsize=(10,10))\n",
    "plt.hist(income_fixed['Monthly_Income'],bins=100)\n",
    "plt.yscale('log')\n",
    "#plt.xscale('log')"
   ]
  },
  {
   "cell_type": "code",
   "execution_count": null,
   "metadata": {},
   "outputs": [],
   "source": [
    "# Inspired from stackoverflow.com/questions/25239958\n",
    "class MostFrequentImputer(BaseEstimator, TransformerMixin):\n",
    "    def fit(self, X, y=None):\n",
    "        self.most_frequent_ = pd.Series([X[c].value_counts().index[0] for c in X],\n",
    "                                        index=X.columns)\n",
    "        return self\n",
    "    def transform(self, X, y=None):\n",
    "        return X.fillna(self.most_frequent_)"
   ]
  },
  {
   "cell_type": "code",
   "execution_count": null,
   "metadata": {},
   "outputs": [],
   "source": [
    "from sklearn.model_selection import train_test_split\n",
    "X_train, X_test, y_train, y_test = train_test_split(X, y, test_size=0.20, random_state=42)"
   ]
  },
  {
   "cell_type": "code",
   "execution_count": null,
   "metadata": {},
   "outputs": [],
   "source": [
    "from sklearn.model_selection import StratifiedKFold\n",
    "seed=123\n",
    "kfold = StratifiedKFold(n_splits=5, random_state=seed)"
   ]
  },
  {
   "cell_type": "code",
   "execution_count": null,
   "metadata": {},
   "outputs": [],
   "source": [
    "from sklearn.model_selection import GridSearchCV\n",
    "from sklearn.preprocessing import StandardScaler\n",
    "from sklearn.preprocessing import Imputer\n",
    "from sklearn.pipeline import Pipeline\n",
    "from sklearn.svm import SVC\n",
    "\n",
    "pipe = Pipeline([('imputer', Imputer(missing_values='NaN', strategy='mean', axis=0)), \n",
    "                 ('preprocessing', StandardScaler()), \n",
    "                 ('classifier', SVC())])\n",
    "\n",
    "param_grid = {\n",
    "            'imputer__strategy': ['mean', 'median', 'most_frequent'],\n",
    "            'preprocessing': [StandardScaler(), None],\n",
    "            'classifier__gamma': [0.001, 0.01, 0.1, 1, 10, 100],\n",
    "            'classifier__C': [0.001, 0.01, 0.1, 1, 10, 100]\n",
    "}\n",
    "\n",
    "grid_1 = GridSearchCV(pipe, param_grid, cv=kfold, return_train_score=True)\n",
    "\n",
    "grid_1.fit(X_train, y_train)\n",
    "grid_1.best_params_"
   ]
  },
  {
   "cell_type": "code",
   "execution_count": null,
   "metadata": {},
   "outputs": [],
   "source": []
  },
  {
   "cell_type": "code",
   "execution_count": 175,
   "metadata": {},
   "outputs": [
    {
     "data": {
      "text/plain": [
       "Pipeline(memory=None,\n",
       "         steps=[('scaler',\n",
       "                 StandardScaler(copy=True, with_mean=True, with_std=True)),\n",
       "                ('model',\n",
       "                 LogisticRegression(C=0.01, class_weight=None, dual=False,\n",
       "                                    fit_intercept=True, intercept_scaling=1,\n",
       "                                    l1_ratio=None, max_iter=500,\n",
       "                                    multi_class='auto', n_jobs=14, penalty='l2',\n",
       "                                    random_state=None, solver='lbfgs',\n",
       "                                    tol=0.0001, verbose=1, warm_start=False))],\n",
       "         verbose=False)"
      ]
     },
     "execution_count": 175,
     "metadata": {},
     "output_type": "execute_result"
    }
   ],
   "source": [
    "#moduelujemy najpierw bez automatycznego preprocessingu - imputerow\n",
    "gs.best_estimator_"
   ]
  },
  {
   "cell_type": "code",
   "execution_count": 179,
   "metadata": {},
   "outputs": [
    {
     "name": "stdout",
     "output_type": "stream",
     "text": [
      "Logistic Regression\n",
      "precision_score: 0.0\n"
     ]
    },
    {
     "name": "stderr",
     "output_type": "stream",
     "text": [
      "C:\\Users\\darek\\Anaconda3\\lib\\site-packages\\sklearn\\metrics\\_classification.py:1272: UndefinedMetricWarning: Precision is ill-defined and being set to 0.0 due to no predicted samples. Use `zero_division` parameter to control this behavior.\n",
      "  _warn_prf(average, modifier, msg_start, len(result))\n"
     ]
    },
    {
     "name": "stdout",
     "output_type": "stream",
     "text": [
      "recall_score: 0.0\n",
      "f1_score: 0.0\n",
      "accuracy_score: 0.9846012410940014\n",
      "auc_score: 0.5\n"
     ]
    },
    {
     "name": "stderr",
     "output_type": "stream",
     "text": [
      "C:\\Users\\darek\\Anaconda3\\lib\\site-packages\\sklearn\\metrics\\_classification.py:1272: UndefinedMetricWarning: Precision is ill-defined and being set to 0.0 due to no predicted samples. Use `zero_division` parameter to control this behavior.\n",
      "  _warn_prf(average, modifier, msg_start, len(result))\n"
     ]
    }
   ],
   "source": [
    "from sklearn import  metrics\n",
    "\n",
    "\n",
    "models = []\n",
    "models.append(('Logistic Regression', gs.best_estimator_))\n",
    "\n",
    "\n",
    "\n",
    "precision_score = []\n",
    "recall_score = []\n",
    "f1_score = []\n",
    "accuracy_score = []\n",
    "for name, model in models:\n",
    "    print(name)\n",
    "    print(\"precision_score: {}\".format(metrics.precision_score(y_test, model.predict(X_test)) ))\n",
    "    print(\"recall_score: {}\".format( metrics.recall_score(y_test, model.predict(X_test)) ))\n",
    "    print(\"f1_score: {}\".format( metrics.f1_score(y_test, model.predict(X_test)) ))\n",
    "    print(\"accuracy_score: {}\".format( metrics.accuracy_score(y_test, model.predict(X_test)) ))\n",
    "    print(\"auc_score: {}\".format( metrics.roc_auc_score(y_test, model.predict(X_test)) ))\n",
    "    precision_score.append(metrics.precision_score(y_test, model.predict(X_test)))\n",
    "    recall_score.append(metrics.recall_score(y_test, model.predict(X_test)))\n",
    "    f1_score.append( metrics.f1_score(y_test, model.predict(X_test)))\n",
    "    accuracy_score.append(metrics.accuracy_score(y_test, model.predict(X_test)))\n",
    "    accuracy_score.append(metrics.roc_auc_score(y_test, model.predict(X_test)))"
   ]
  },
  {
   "cell_type": "code",
   "execution_count": 174,
   "metadata": {},
   "outputs": [
    {
     "data": {
      "text/html": [
       "<div>\n",
       "<style scoped>\n",
       "    .dataframe tbody tr th:only-of-type {\n",
       "        vertical-align: middle;\n",
       "    }\n",
       "\n",
       "    .dataframe tbody tr th {\n",
       "        vertical-align: top;\n",
       "    }\n",
       "\n",
       "    .dataframe thead th {\n",
       "        text-align: right;\n",
       "    }\n",
       "</style>\n",
       "<table border=\"1\" class=\"dataframe\">\n",
       "  <thead>\n",
       "    <tr style=\"text-align: right;\">\n",
       "      <th></th>\n",
       "      <th>Method</th>\n",
       "      <th>precision_score</th>\n",
       "      <th>recall_score</th>\n",
       "      <th>f1_score</th>\n",
       "      <th>accuracy_score</th>\n",
       "    </tr>\n",
       "  </thead>\n",
       "  <tbody>\n",
       "    <tr>\n",
       "      <th>0</th>\n",
       "      <td>Logistic Regression</td>\n",
       "      <td>0.0</td>\n",
       "      <td>0.0</td>\n",
       "      <td>0.0</td>\n",
       "      <td>0.984601</td>\n",
       "    </tr>\n",
       "  </tbody>\n",
       "</table>\n",
       "</div>"
      ],
      "text/plain": [
       "                Method  precision_score  recall_score  f1_score  \\\n",
       "0  Logistic Regression              0.0           0.0       0.0   \n",
       "\n",
       "   accuracy_score  \n",
       "0        0.984601  "
      ]
     },
     "execution_count": 174,
     "metadata": {},
     "output_type": "execute_result"
    }
   ],
   "source": [
    "import pandas as pd\n",
    "d = {'precision_score': precision_score, \n",
    "     'recall_score': recall_score, \n",
    "     'f1_score': f1_score,\n",
    "     'accuracy_score' : accuracy_score\n",
    "    }\n",
    "df = pd.DataFrame(data=d)\n",
    "df.insert(loc=0, column='Method', value=['Logistic Regression'])\n",
    "df"
   ]
  },
  {
   "cell_type": "code",
   "execution_count": null,
   "metadata": {},
   "outputs": [],
   "source": []
  },
  {
   "cell_type": "code",
   "execution_count": null,
   "metadata": {},
   "outputs": [],
   "source": []
  },
  {
   "cell_type": "code",
   "execution_count": null,
   "metadata": {},
   "outputs": [],
   "source": []
  },
  {
   "cell_type": "code",
   "execution_count": null,
   "metadata": {},
   "outputs": [],
   "source": [
    "import seaborn_qqplot as sqp\n",
    "from scipy.stats import gamma\n",
    "sqp.qqplot(x,\n",
    "                   x='Processing_Fee',\n",
    "                   y=gamma,\n",
    "                   aspect=2.5,\n",
    "                   height = 4,\n",
    "                   display_kws={\"identity\":True} \n",
    "          )\n",
    "plt.title(\"QQ Plot\")\n",
    "plt.show()"
   ]
  },
  {
   "cell_type": "code",
   "execution_count": null,
   "metadata": {},
   "outputs": [],
   "source": [
    "import seaborn_qqplot as sqp\n",
    "from scipy.stats import gamma\n",
    "sqp.qqplot(X,\n",
    "                   x='EMI_Loan_Submitted',\n",
    "                   y=gamma,\n",
    "                   aspect=2.5,\n",
    "                   height = 4,\n",
    "                   display_kws={\"identity\":True} \n",
    "          )\n",
    "plt.title(\"QQ Plot\")\n",
    "plt.show()"
   ]
  },
  {
   "cell_type": "code",
   "execution_count": null,
   "metadata": {},
   "outputs": [],
   "source": [
    "import seaborn_qqplot as sqp\n",
    "from scipy.stats import gamma\n",
    "sqp.qqplot(X,\n",
    "                   x='Monthly_Income',\n",
    "                   y=gamma,\n",
    "                   aspect=2.5,\n",
    "                   height = 4,\n",
    "                   display_kws={\"identity\":True} \n",
    "          )\n",
    "plt.title(\"QQ Plot\")\n",
    "plt.show()"
   ]
  },
  {
   "cell_type": "code",
   "execution_count": null,
   "metadata": {},
   "outputs": [],
   "source": [
    "# Produce a scatter matrix for each pair of features in the data\n",
    "from pandas.plotting import scatter_matrix\n",
    "scatter_matrix(X, alpha = 0.3, figsize = (24,20), diagonal = 'kde');\n",
    "\n"
   ]
  },
  {
   "cell_type": "code",
   "execution_count": null,
   "metadata": {},
   "outputs": [],
   "source": [
    "import seaborn as sns\n",
    "indices = [52, 70, 77]\n",
    "percentiles_data = X.rank(pct=True)\n",
    "percentiles_samples = percentiles_data.iloc[indices]\n",
    "\n",
    "sns.heatmap(percentiles_samples, annot=True)"
   ]
  },
  {
   "cell_type": "code",
   "execution_count": null,
   "metadata": {},
   "outputs": [],
   "source": [
    "import seaborn as sns\n",
    "plt.figure(figsize=(20,15))\n",
    "dcorr = x.corr()\n",
    "sns.heatmap(dcorr, xticklabels=dcorr.columns,yticklabels=dcorr.columns, square=True, annot=True,cbar=False)"
   ]
  },
  {
   "cell_type": "code",
   "execution_count": null,
   "metadata": {},
   "outputs": [],
   "source": []
  }
 ],
 "metadata": {
  "kernelspec": {
   "display_name": "Python 3",
   "language": "python",
   "name": "python3"
  },
  "language_info": {
   "codemirror_mode": {
    "name": "ipython",
    "version": 3
   },
   "file_extension": ".py",
   "mimetype": "text/x-python",
   "name": "python",
   "nbconvert_exporter": "python",
   "pygments_lexer": "ipython3",
   "version": "3.7.7"
  }
 },
 "nbformat": 4,
 "nbformat_minor": 4
}
