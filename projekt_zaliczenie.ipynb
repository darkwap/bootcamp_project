{
 "cells": [
  {
   "cell_type": "code",
   "execution_count": 1,
   "metadata": {},
   "outputs": [],
   "source": [
    "import numpy as np\n",
    "import pandas as pd\n"
   ]
  },
  {
   "cell_type": "code",
   "execution_count": 2,
   "metadata": {},
   "outputs": [],
   "source": [
    "data = pd.read_csv('data/Train.csv',encoding='latin1',parse_dates=['DOB','Lead_Creation_Date'])"
   ]
  },
  {
   "cell_type": "code",
   "execution_count": 3,
   "metadata": {},
   "outputs": [],
   "source": [
    "#usuwamy kolumne LoggedIn\n",
    "data.drop(['LoggedIn'],axis=1,inplace=True)"
   ]
  },
  {
   "cell_type": "code",
   "execution_count": 4,
   "metadata": {},
   "outputs": [],
   "source": [
    "#kolumna ID to identyfikator klienta i usuwamy ja od razu\n",
    "data.drop(['ID'],axis=1,inplace=True)"
   ]
  },
  {
   "cell_type": "code",
   "execution_count": null,
   "metadata": {},
   "outputs": [],
   "source": []
  },
  {
   "cell_type": "code",
   "execution_count": 5,
   "metadata": {},
   "outputs": [],
   "source": [
    "y = data['Disbursed']\n",
    "X = data.drop(['Disbursed'],axis=1)"
   ]
  },
  {
   "cell_type": "code",
   "execution_count": 6,
   "metadata": {},
   "outputs": [
    {
     "data": {
      "text/plain": [
       "0    85747\n",
       "1     1273\n",
       "Name: Disbursed, dtype: int64"
      ]
     },
     "execution_count": 6,
     "metadata": {},
     "output_type": "execute_result"
    }
   ],
   "source": [
    "y.value_counts()"
   ]
  },
  {
   "cell_type": "code",
   "execution_count": 7,
   "metadata": {},
   "outputs": [
    {
     "data": {
      "text/plain": [
       "(array([85747.,     0.,     0.,     0.,     0.,     0.,     0.,     0.,\n",
       "            0.,  1273.]),\n",
       " array([0. , 0.1, 0.2, 0.3, 0.4, 0.5, 0.6, 0.7, 0.8, 0.9, 1. ]),\n",
       " <a list of 10 Patch objects>)"
      ]
     },
     "execution_count": 7,
     "metadata": {},
     "output_type": "execute_result"
    },
    {
     "data": {
      "image/png": "[encoded data removed]",
      "text/plain": [
       "<Figure size 432x288 with 1 Axes>"
      ]
     },
     "metadata": {
      "needs_background": "light"
     },
     "output_type": "display_data"
    }
   ],
   "source": [
    "import matplotlib.pyplot as plt\n",
    "%matplotlib inline\n",
    "plt.hist(y)"
   ]
  },
  {
   "cell_type": "code",
   "execution_count": 8,
   "metadata": {},
   "outputs": [
    {
     "data": {
      "text/plain": [
       "(87020,)"
      ]
     },
     "execution_count": 8,
     "metadata": {},
     "output_type": "execute_result"
    }
   ],
   "source": [
    "y.shape"
   ]
  },
  {
   "cell_type": "code",
   "execution_count": 9,
   "metadata": {},
   "outputs": [
    {
     "data": {
      "text/plain": [
       "98.53711790393012"
      ]
     },
     "execution_count": 9,
     "metadata": {},
     "output_type": "execute_result"
    }
   ],
   "source": [
    "100 - (np.count_nonzero(y)/y.shape[0])*100"
   ]
  },
  {
   "cell_type": "code",
   "execution_count": 10,
   "metadata": {},
   "outputs": [
    {
     "data": {
      "text/plain": [
       "68.35820895522389"
      ]
     },
     "execution_count": 10,
     "metadata": {},
     "output_type": "execute_result"
    }
   ],
   "source": [
    "y.shape[0]/np.count_nonzero(y)"
   ]
  },
  {
   "cell_type": "code",
   "execution_count": 11,
   "metadata": {},
   "outputs": [
    {
     "data": {
      "text/html": [
       "<div>\n",
       "<style scoped>\n",
       "    .dataframe tbody tr th:only-of-type {\n",
       "        vertical-align: middle;\n",
       "    }\n",
       "\n",
       "    .dataframe tbody tr th {\n",
       "        vertical-align: top;\n",
       "    }\n",
       "\n",
       "    .dataframe thead th {\n",
       "        text-align: right;\n",
       "    }\n",
       "</style>\n",
       "<table border=\"1\" class=\"dataframe\">\n",
       "  <thead>\n",
       "    <tr style=\"text-align: right;\">\n",
       "      <th></th>\n",
       "      <th>Gender</th>\n",
       "      <th>City</th>\n",
       "      <th>Monthly_Income</th>\n",
       "      <th>DOB</th>\n",
       "      <th>Lead_Creation_Date</th>\n",
       "      <th>Loan_Amount_Applied</th>\n",
       "      <th>Loan_Tenure_Applied</th>\n",
       "      <th>Existing_EMI</th>\n",
       "      <th>Employer_Name</th>\n",
       "      <th>Salary_Account</th>\n",
       "      <th>...</th>\n",
       "      <th>Loan_Tenure_Submitted</th>\n",
       "      <th>Interest_Rate</th>\n",
       "      <th>Processing_Fee</th>\n",
       "      <th>EMI_Loan_Submitted</th>\n",
       "      <th>Filled_Form</th>\n",
       "      <th>Device_Type</th>\n",
       "      <th>Var2</th>\n",
       "      <th>Source</th>\n",
       "      <th>Var4</th>\n",
       "      <th>Disbursed</th>\n",
       "    </tr>\n",
       "  </thead>\n",
       "  <tbody>\n",
       "    <tr>\n",
       "      <th>183</th>\n",
       "      <td>Male</td>\n",
       "      <td>Delhi</td>\n",
       "      <td>43000</td>\n",
       "      <td>1980-12-31</td>\n",
       "      <td>2015-05-01</td>\n",
       "      <td>200000.0</td>\n",
       "      <td>3.0</td>\n",
       "      <td>8902.0</td>\n",
       "      <td>INDIA INTERNATIONAL CENTER</td>\n",
       "      <td>Central Bank of India</td>\n",
       "      <td>...</td>\n",
       "      <td>3.0</td>\n",
       "      <td>NaN</td>\n",
       "      <td>NaN</td>\n",
       "      <td>NaN</td>\n",
       "      <td>N</td>\n",
       "      <td>Web-browser</td>\n",
       "      <td>B</td>\n",
       "      <td>S143</td>\n",
       "      <td>3</td>\n",
       "      <td>1</td>\n",
       "    </tr>\n",
       "    <tr>\n",
       "      <th>317</th>\n",
       "      <td>Male</td>\n",
       "      <td>Delhi</td>\n",
       "      <td>37200</td>\n",
       "      <td>1992-11-03</td>\n",
       "      <td>2015-05-01</td>\n",
       "      <td>400000.0</td>\n",
       "      <td>4.0</td>\n",
       "      <td>0.0</td>\n",
       "      <td>ZS ASSOCIATES INDIA PVT LTD</td>\n",
       "      <td>Citibank</td>\n",
       "      <td>...</td>\n",
       "      <td>4.0</td>\n",
       "      <td>15.35</td>\n",
       "      <td>2000.0</td>\n",
       "      <td>11203.4</td>\n",
       "      <td>N</td>\n",
       "      <td>Web-browser</td>\n",
       "      <td>B</td>\n",
       "      <td>S133</td>\n",
       "      <td>4</td>\n",
       "      <td>1</td>\n",
       "    </tr>\n",
       "    <tr>\n",
       "      <th>362</th>\n",
       "      <td>Female</td>\n",
       "      <td>Pune</td>\n",
       "      <td>500000</td>\n",
       "      <td>1980-02-05</td>\n",
       "      <td>2015-05-01</td>\n",
       "      <td>500000.0</td>\n",
       "      <td>5.0</td>\n",
       "      <td>20000.0</td>\n",
       "      <td>AMDOCS DEVELOPMENT CENTRE INDIA PVT LTD</td>\n",
       "      <td>ICICI Bank</td>\n",
       "      <td>...</td>\n",
       "      <td>NaN</td>\n",
       "      <td>NaN</td>\n",
       "      <td>NaN</td>\n",
       "      <td>NaN</td>\n",
       "      <td>N</td>\n",
       "      <td>Web-browser</td>\n",
       "      <td>B</td>\n",
       "      <td>S133</td>\n",
       "      <td>3</td>\n",
       "      <td>1</td>\n",
       "    </tr>\n",
       "    <tr>\n",
       "      <th>453</th>\n",
       "      <td>Female</td>\n",
       "      <td>Delhi</td>\n",
       "      <td>150000</td>\n",
       "      <td>1974-04-19</td>\n",
       "      <td>2015-05-01</td>\n",
       "      <td>1000000.0</td>\n",
       "      <td>3.0</td>\n",
       "      <td>11000.0</td>\n",
       "      <td>STRATEGIC ANALYSIS INDIA PVT LTD</td>\n",
       "      <td>HDFC Bank</td>\n",
       "      <td>...</td>\n",
       "      <td>NaN</td>\n",
       "      <td>NaN</td>\n",
       "      <td>NaN</td>\n",
       "      <td>NaN</td>\n",
       "      <td>N</td>\n",
       "      <td>Web-browser</td>\n",
       "      <td>B</td>\n",
       "      <td>S133</td>\n",
       "      <td>3</td>\n",
       "      <td>1</td>\n",
       "    </tr>\n",
       "    <tr>\n",
       "      <th>519</th>\n",
       "      <td>Male</td>\n",
       "      <td>Firozpur</td>\n",
       "      <td>27000</td>\n",
       "      <td>1979-11-16</td>\n",
       "      <td>2015-05-01</td>\n",
       "      <td>200000.0</td>\n",
       "      <td>5.0</td>\n",
       "      <td>0.0</td>\n",
       "      <td>DEPARTMENT OF POST</td>\n",
       "      <td>NaN</td>\n",
       "      <td>...</td>\n",
       "      <td>5.0</td>\n",
       "      <td>16.50</td>\n",
       "      <td>2500.0</td>\n",
       "      <td>4916.9</td>\n",
       "      <td>Y</td>\n",
       "      <td>Web-browser</td>\n",
       "      <td>B</td>\n",
       "      <td>S133</td>\n",
       "      <td>5</td>\n",
       "      <td>1</td>\n",
       "    </tr>\n",
       "    <tr>\n",
       "      <th>...</th>\n",
       "      <td>...</td>\n",
       "      <td>...</td>\n",
       "      <td>...</td>\n",
       "      <td>...</td>\n",
       "      <td>...</td>\n",
       "      <td>...</td>\n",
       "      <td>...</td>\n",
       "      <td>...</td>\n",
       "      <td>...</td>\n",
       "      <td>...</td>\n",
       "      <td>...</td>\n",
       "      <td>...</td>\n",
       "      <td>...</td>\n",
       "      <td>...</td>\n",
       "      <td>...</td>\n",
       "      <td>...</td>\n",
       "      <td>...</td>\n",
       "      <td>...</td>\n",
       "      <td>...</td>\n",
       "      <td>...</td>\n",
       "      <td>...</td>\n",
       "    </tr>\n",
       "    <tr>\n",
       "      <th>86818</th>\n",
       "      <td>Male</td>\n",
       "      <td>Delhi</td>\n",
       "      <td>160000</td>\n",
       "      <td>1985-01-25</td>\n",
       "      <td>2015-07-31</td>\n",
       "      <td>1000000.0</td>\n",
       "      <td>5.0</td>\n",
       "      <td>50000.0</td>\n",
       "      <td>ESCORT LTD</td>\n",
       "      <td>ICICI Bank</td>\n",
       "      <td>...</td>\n",
       "      <td>5.0</td>\n",
       "      <td>NaN</td>\n",
       "      <td>NaN</td>\n",
       "      <td>NaN</td>\n",
       "      <td>N</td>\n",
       "      <td>Web-browser</td>\n",
       "      <td>G</td>\n",
       "      <td>S122</td>\n",
       "      <td>3</td>\n",
       "      <td>1</td>\n",
       "    </tr>\n",
       "    <tr>\n",
       "      <th>86822</th>\n",
       "      <td>Male</td>\n",
       "      <td>Mumbai</td>\n",
       "      <td>64000</td>\n",
       "      <td>1985-05-12</td>\n",
       "      <td>2015-07-31</td>\n",
       "      <td>500000.0</td>\n",
       "      <td>5.0</td>\n",
       "      <td>12401.0</td>\n",
       "      <td>SANDESH BANDODE</td>\n",
       "      <td>ICICI Bank</td>\n",
       "      <td>...</td>\n",
       "      <td>5.0</td>\n",
       "      <td>NaN</td>\n",
       "      <td>NaN</td>\n",
       "      <td>NaN</td>\n",
       "      <td>N</td>\n",
       "      <td>Web-browser</td>\n",
       "      <td>G</td>\n",
       "      <td>S122</td>\n",
       "      <td>3</td>\n",
       "      <td>1</td>\n",
       "    </tr>\n",
       "    <tr>\n",
       "      <th>86872</th>\n",
       "      <td>Male</td>\n",
       "      <td>Jaipur</td>\n",
       "      <td>45000</td>\n",
       "      <td>1990-12-30</td>\n",
       "      <td>2015-07-31</td>\n",
       "      <td>0.0</td>\n",
       "      <td>0.0</td>\n",
       "      <td>0.0</td>\n",
       "      <td>MANKIND PHARMA LTD</td>\n",
       "      <td>State Bank of India</td>\n",
       "      <td>...</td>\n",
       "      <td>4.0</td>\n",
       "      <td>13.75</td>\n",
       "      <td>8100.0</td>\n",
       "      <td>22033.0</td>\n",
       "      <td>Y</td>\n",
       "      <td>Mobile</td>\n",
       "      <td>G</td>\n",
       "      <td>S122</td>\n",
       "      <td>5</td>\n",
       "      <td>1</td>\n",
       "    </tr>\n",
       "    <tr>\n",
       "      <th>86938</th>\n",
       "      <td>Female</td>\n",
       "      <td>Kolkata</td>\n",
       "      <td>105000</td>\n",
       "      <td>1982-11-23</td>\n",
       "      <td>2015-07-31</td>\n",
       "      <td>0.0</td>\n",
       "      <td>2.0</td>\n",
       "      <td>62418.0</td>\n",
       "      <td>IBM INDIA PVT LTD</td>\n",
       "      <td>Kotak Bank</td>\n",
       "      <td>...</td>\n",
       "      <td>NaN</td>\n",
       "      <td>NaN</td>\n",
       "      <td>NaN</td>\n",
       "      <td>NaN</td>\n",
       "      <td>N</td>\n",
       "      <td>Web-browser</td>\n",
       "      <td>G</td>\n",
       "      <td>S122</td>\n",
       "      <td>1</td>\n",
       "      <td>1</td>\n",
       "    </tr>\n",
       "    <tr>\n",
       "      <th>86959</th>\n",
       "      <td>Male</td>\n",
       "      <td>Bengaluru</td>\n",
       "      <td>55000</td>\n",
       "      <td>1985-11-05</td>\n",
       "      <td>2015-07-31</td>\n",
       "      <td>400000.0</td>\n",
       "      <td>5.0</td>\n",
       "      <td>0.0</td>\n",
       "      <td>TIRUPATI  NANDA</td>\n",
       "      <td>HDFC Bank</td>\n",
       "      <td>...</td>\n",
       "      <td>5.0</td>\n",
       "      <td>NaN</td>\n",
       "      <td>NaN</td>\n",
       "      <td>NaN</td>\n",
       "      <td>N</td>\n",
       "      <td>Web-browser</td>\n",
       "      <td>G</td>\n",
       "      <td>S122</td>\n",
       "      <td>3</td>\n",
       "      <td>1</td>\n",
       "    </tr>\n",
       "  </tbody>\n",
       "</table>\n",
       "<p>1273 rows × 24 columns</p>\n",
       "</div>"
      ],
      "text/plain": [
       "       Gender       City  Monthly_Income        DOB Lead_Creation_Date  \\\n",
       "183      Male      Delhi           43000 1980-12-31         2015-05-01   \n",
       "317      Male      Delhi           37200 1992-11-03         2015-05-01   \n",
       "362    Female       Pune          500000 1980-02-05         2015-05-01   \n",
       "453    Female      Delhi          150000 1974-04-19         2015-05-01   \n",
       "519      Male   Firozpur           27000 1979-11-16         2015-05-01   \n",
       "...       ...        ...             ...        ...                ...   \n",
       "86818    Male      Delhi          160000 1985-01-25         2015-07-31   \n",
       "86822    Male     Mumbai           64000 1985-05-12         2015-07-31   \n",
       "86872    Male     Jaipur           45000 1990-12-30         2015-07-31   \n",
       "86938  Female    Kolkata          105000 1982-11-23         2015-07-31   \n",
       "86959    Male  Bengaluru           55000 1985-11-05         2015-07-31   \n",
       "\n",
       "       Loan_Amount_Applied  Loan_Tenure_Applied  Existing_EMI  \\\n",
       "183               200000.0                  3.0        8902.0   \n",
       "317               400000.0                  4.0           0.0   \n",
       "362               500000.0                  5.0       20000.0   \n",
       "453              1000000.0                  3.0       11000.0   \n",
       "519               200000.0                  5.0           0.0   \n",
       "...                    ...                  ...           ...   \n",
       "86818            1000000.0                  5.0       50000.0   \n",
       "86822             500000.0                  5.0       12401.0   \n",
       "86872                  0.0                  0.0           0.0   \n",
       "86938                  0.0                  2.0       62418.0   \n",
       "86959             400000.0                  5.0           0.0   \n",
       "\n",
       "                                 Employer_Name         Salary_Account  ...  \\\n",
       "183                 INDIA INTERNATIONAL CENTER  Central Bank of India  ...   \n",
       "317                ZS ASSOCIATES INDIA PVT LTD               Citibank  ...   \n",
       "362    AMDOCS DEVELOPMENT CENTRE INDIA PVT LTD             ICICI Bank  ...   \n",
       "453           STRATEGIC ANALYSIS INDIA PVT LTD              HDFC Bank  ...   \n",
       "519                         DEPARTMENT OF POST                    NaN  ...   \n",
       "...                                        ...                    ...  ...   \n",
       "86818                               ESCORT LTD             ICICI Bank  ...   \n",
       "86822                          SANDESH BANDODE             ICICI Bank  ...   \n",
       "86872                      MANKIND PHARMA LTD     State Bank of India  ...   \n",
       "86938                        IBM INDIA PVT LTD             Kotak Bank  ...   \n",
       "86959                          TIRUPATI  NANDA              HDFC Bank  ...   \n",
       "\n",
       "      Loan_Tenure_Submitted  Interest_Rate Processing_Fee  EMI_Loan_Submitted  \\\n",
       "183                     3.0            NaN            NaN                 NaN   \n",
       "317                     4.0          15.35         2000.0             11203.4   \n",
       "362                     NaN            NaN            NaN                 NaN   \n",
       "453                     NaN            NaN            NaN                 NaN   \n",
       "519                     5.0          16.50         2500.0              4916.9   \n",
       "...                     ...            ...            ...                 ...   \n",
       "86818                   5.0            NaN            NaN                 NaN   \n",
       "86822                   5.0            NaN            NaN                 NaN   \n",
       "86872                   4.0          13.75         8100.0             22033.0   \n",
       "86938                   NaN            NaN            NaN                 NaN   \n",
       "86959                   5.0            NaN            NaN                 NaN   \n",
       "\n",
       "       Filled_Form  Device_Type  Var2  Source Var4 Disbursed  \n",
       "183              N  Web-browser     B    S143    3         1  \n",
       "317              N  Web-browser     B    S133    4         1  \n",
       "362              N  Web-browser     B    S133    3         1  \n",
       "453              N  Web-browser     B    S133    3         1  \n",
       "519              Y  Web-browser     B    S133    5         1  \n",
       "...            ...          ...   ...     ...  ...       ...  \n",
       "86818            N  Web-browser     G    S122    3         1  \n",
       "86822            N  Web-browser     G    S122    3         1  \n",
       "86872            Y       Mobile     G    S122    5         1  \n",
       "86938            N  Web-browser     G    S122    1         1  \n",
       "86959            N  Web-browser     G    S122    3         1  \n",
       "\n",
       "[1273 rows x 24 columns]"
      ]
     },
     "execution_count": 11,
     "metadata": {},
     "output_type": "execute_result"
    }
   ],
   "source": [
    "data[data['Disbursed'] > 0]"
   ]
  },
  {
   "cell_type": "markdown",
   "metadata": {},
   "source": [
    "## Analiza danych"
   ]
  },
  {
   "cell_type": "code",
   "execution_count": 12,
   "metadata": {},
   "outputs": [],
   "source": [
    "def plot_qq(X,column):\n",
    "    import seaborn_qqplot as sqp\n",
    "    from scipy.stats import gamma\n",
    "    sqp.qqplot(X,\n",
    "                x=column,\n",
    "                y=gamma,\n",
    "                aspect=2.5,\n",
    "                height = 4,\n",
    "                display_kws={\"identity\":True} \n",
    "          )\n",
    "    plt.title(\"QQ Plot \"+column)\n",
    "    plt.show()"
   ]
  },
  {
   "cell_type": "code",
   "execution_count": 13,
   "metadata": {},
   "outputs": [],
   "source": [
    "def calc_missing_values(column):\n",
    "    #liczba brakujacych danych\n",
    "    x_total = column.shape[0]\n",
    "    x_missing = column.isnull().sum()\n",
    "    print('missing percentage: '+str((x_missing/x_total)*100))"
   ]
  },
  {
   "cell_type": "code",
   "execution_count": 14,
   "metadata": {},
   "outputs": [],
   "source": [
    "def print_stats(data):\n",
    "    numerical_columns = []\n",
    "    categorical_columns = []\n",
    "    for column in data:\n",
    "        x_total = data[column].shape[0]\n",
    "        x_missing = data[column].isnull().sum()\n",
    "        missing_percentage = 100*(x_missing/x_total)\n",
    "        if data.dtypes[column] == np.int64 or data.dtypes[column]==np.float64:\n",
    "            #print(f\"{column}\\t{missing_percentage:.2f}\\t{data[column].mean():.2f}\\t{data[column].median():.2f}\")\n",
    "            numerical_columns.append([column,missing_percentage,data[column].mean(),data[column].median(),data[column].skew()])\n",
    "        elif data.dtypes[column] == np.object:\n",
    "            #print(f\"{column}\\t{missing_percentage:.2f}\\t{data[column].mode()[0]}\")\n",
    "            categorical_columns.append([column,missing_percentage,data[column].mode()[0]])\n",
    "    print(pd.DataFrame(numerical_columns,columns=['NAME','PERCENTAGE_MISSING','MEAN','MEDIAN','SKEW']))\n",
    "    print(pd.DataFrame(categorical_columns,columns=['NAME','PERCENTAGE_MISSING','MODE']))"
   ]
  },
  {
   "cell_type": "code",
   "execution_count": 15,
   "metadata": {},
   "outputs": [],
   "source": [
    "def outliers_detection(X,feature):\n",
    "        # Q1 25 percentyl\n",
    "        Q1 = np.percentile(X[feature],25)\n",
    "        print(r'Q1 {}',Q1)\n",
    "        # Q3 - 75 percentyl\n",
    "        Q3 = np.percentile(X[feature],75)\n",
    "        print(r'Q3 {}',Q3)\n",
    "        #IQR = Q3 - Q1\n",
    "        step = 1.5*(Q3 - Q1)\n",
    "\n",
    "        x_outliers = X[~((X[feature] >= Q1 - step) & (X[feature] <= Q3 + step))]\n",
    "    \n",
    "        display(x_outliers)\n",
    "        return x_outliers\n",
    "\n",
    "    \n",
    "# OPTIONAL: Select the indices for data points you wish to remove\n",
    "#outliers  = []\n",
    "\n",
    "# Remove the outliers, if any were specified\n",
    "#good_data = log_data.drop(log_data.index[outliers]).reset_index(drop = True)"
   ]
  },
  {
   "cell_type": "code",
   "execution_count": 16,
   "metadata": {},
   "outputs": [
    {
     "data": {
      "text/plain": [
       "<matplotlib.collections.PathCollection at 0x1e9c2db2388>"
      ]
     },
     "execution_count": 16,
     "metadata": {},
     "output_type": "execute_result"
    },
    {
     "data": {
      "image/png": "[encoded data removed]",
      "text/plain": [
       "<Figure size 720x720 with 1 Axes>"
      ]
     },
     "metadata": {
      "needs_background": "light"
     },
     "output_type": "display_data"
    }
   ],
   "source": [
    "#wyswietl wszystkie dla ktorych nan jest dla Processing_Fee a nie ma go dla Loan_Amout_sumbite\n",
    "#X[X['Processing_Fee'].isnull() & X['Loan_Amount_Submitted'].notnull() ]\n",
    "plt.figure(figsize=(10,10))\n",
    "plt.scatter(X['Loan_Amount_Submitted'],X['Processing_Fee'])\n",
    "#plt.yscale('log')"
   ]
  },
  {
   "cell_type": "code",
   "execution_count": 17,
   "metadata": {},
   "outputs": [
    {
     "data": {
      "text/plain": [
       "<matplotlib.collections.PathCollection at 0x1e9c2f44f48>"
      ]
     },
     "execution_count": 17,
     "metadata": {},
     "output_type": "execute_result"
    },
    {
     "data": {
      "image/png": "[encoded data removed]",
      "text/plain": [
       "<Figure size 720x720 with 1 Axes>"
      ]
     },
     "metadata": {
      "needs_background": "light"
     },
     "output_type": "display_data"
    }
   ],
   "source": [
    "#wyswietl wszystkie dla ktorych nan jest dla Processing_Fee a nie ma go dla Loan_Amout_sumbite\n",
    "#X[X['Processing_Fee'].isnull() & X['Loan_Amount_Submitted'].notnull() ]\n",
    "plt.figure(figsize=(10,10))\n",
    "plt.scatter(X['EMI_Loan_Submitted'],X['Processing_Fee'])\n",
    "#plt.yscale('log')"
   ]
  },
  {
   "cell_type": "code",
   "execution_count": 18,
   "metadata": {},
   "outputs": [
    {
     "name": "stdout",
     "output_type": "stream",
     "text": [
      "                     NAME  PERCENTAGE_MISSING           MEAN     MEDIAN        SKEW\n",
      "0          Monthly_Income            0.000000   58849.974351   25000.00  167.560526\n",
      "1     Loan_Amount_Applied            0.081590  230250.699928  100000.00    5.641871\n",
      "2     Loan_Tenure_Applied            0.081590       2.131399       2.00    0.264624\n",
      "3            Existing_EMI            0.081590    3696.227824       0.00  211.769351\n",
      "4                    Var5            0.000000       4.961503       2.00    0.760606\n",
      "5   Loan_Amount_Submitted           39.775914  395010.590188  300000.00    2.104984\n",
      "6   Loan_Tenure_Submitted           39.775914       3.891369       4.00   -0.843323\n",
      "7           Interest_Rate           68.138359      19.197474      18.00    1.430301\n",
      "8          Processing_Fee           68.490002    5131.150839    4000.00    2.680109\n",
      "9      EMI_Loan_Submitted           68.138359   10999.528377    9392.97    2.754955\n",
      "10                   Var4            0.000000       2.949805       3.00    0.221128\n",
      "              NAME  PERCENTAGE_MISSING         MODE\n",
      "0           Gender            0.000000         Male\n",
      "1             City            1.152609        Delhi\n",
      "2    Employer_Name            0.081590            0\n",
      "3   Salary_Account           13.518731    HDFC Bank\n",
      "4  Mobile_Verified            0.000000            Y\n",
      "5             Var1            0.000000         HBXX\n",
      "6      Filled_Form            0.000000            N\n",
      "7      Device_Type            0.000000  Web-browser\n",
      "8             Var2            0.000000            B\n",
      "9           Source            0.000000         S122\n"
     ]
    }
   ],
   "source": [
    "pd.set_option('expand_frame_repr', False)\n",
    "print_stats(X)"
   ]
  },
  {
   "cell_type": "code",
   "execution_count": 19,
   "metadata": {},
   "outputs": [
    {
     "data": {
      "text/plain": [
       "167.56052617705805"
      ]
     },
     "execution_count": 19,
     "metadata": {},
     "output_type": "execute_result"
    }
   ],
   "source": [
    "X['Monthly_Income'].skew()"
   ]
  },
  {
   "cell_type": "code",
   "execution_count": 20,
   "metadata": {},
   "outputs": [
    {
     "data": {
      "text/plain": [
       "Gender                           object\n",
       "City                             object\n",
       "Monthly_Income                    int64\n",
       "DOB                      datetime64[ns]\n",
       "Lead_Creation_Date       datetime64[ns]\n",
       "Loan_Amount_Applied             float64\n",
       "Loan_Tenure_Applied             float64\n",
       "Existing_EMI                    float64\n",
       "Employer_Name                    object\n",
       "Salary_Account                   object\n",
       "Mobile_Verified                  object\n",
       "Var5                              int64\n",
       "Var1                             object\n",
       "Loan_Amount_Submitted           float64\n",
       "Loan_Tenure_Submitted           float64\n",
       "Interest_Rate                   float64\n",
       "Processing_Fee                  float64\n",
       "EMI_Loan_Submitted              float64\n",
       "Filled_Form                      object\n",
       "Device_Type                      object\n",
       "Var2                             object\n",
       "Source                           object\n",
       "Var4                              int64\n",
       "dtype: object"
      ]
     },
     "execution_count": 20,
     "metadata": {},
     "output_type": "execute_result"
    }
   ],
   "source": [
    "#typy zmiennych\n",
    "X.dtypes"
   ]
  },
  {
   "cell_type": "code",
   "execution_count": 21,
   "metadata": {},
   "outputs": [
    {
     "data": {
      "text/plain": [
       "Gender                   False\n",
       "City                      True\n",
       "Monthly_Income           False\n",
       "DOB                      False\n",
       "Lead_Creation_Date       False\n",
       "Loan_Amount_Applied       True\n",
       "Loan_Tenure_Applied       True\n",
       "Existing_EMI              True\n",
       "Employer_Name             True\n",
       "Salary_Account            True\n",
       "Mobile_Verified          False\n",
       "Var5                     False\n",
       "Var1                     False\n",
       "Loan_Amount_Submitted     True\n",
       "Loan_Tenure_Submitted     True\n",
       "Interest_Rate             True\n",
       "Processing_Fee            True\n",
       "EMI_Loan_Submitted        True\n",
       "Filled_Form              False\n",
       "Device_Type              False\n",
       "Var2                     False\n",
       "Source                   False\n",
       "Var4                     False\n",
       "dtype: bool"
      ]
     },
     "execution_count": 21,
     "metadata": {},
     "output_type": "execute_result"
    }
   ],
   "source": [
    "#sprawdzenie ktore kolumny zawieraja NaN-y\n",
    "X.isna().any()"
   ]
  },
  {
   "cell_type": "code",
   "execution_count": 22,
   "metadata": {},
   "outputs": [
    {
     "data": {
      "text/plain": [
       "Gender                       0\n",
       "City                      1003\n",
       "Monthly_Income               0\n",
       "DOB                          0\n",
       "Lead_Creation_Date           0\n",
       "Loan_Amount_Applied         71\n",
       "Loan_Tenure_Applied         71\n",
       "Existing_EMI                71\n",
       "Employer_Name               71\n",
       "Salary_Account           11764\n",
       "Mobile_Verified              0\n",
       "Var5                         0\n",
       "Var1                         0\n",
       "Loan_Amount_Submitted    34613\n",
       "Loan_Tenure_Submitted    34613\n",
       "Interest_Rate            59294\n",
       "Processing_Fee           59600\n",
       "EMI_Loan_Submitted       59294\n",
       "Filled_Form                  0\n",
       "Device_Type                  0\n",
       "Var2                         0\n",
       "Source                       0\n",
       "Var4                         0\n",
       "dtype: int64"
      ]
     },
     "execution_count": 22,
     "metadata": {},
     "output_type": "execute_result"
    }
   ],
   "source": [
    "#sprawdzenie ile Nan-ow w kolumnach\n",
    "X.isna().sum()\n"
   ]
  },
  {
   "cell_type": "code",
   "execution_count": 23,
   "metadata": {},
   "outputs": [
    {
     "data": {
      "text/plain": [
       "Male      49848\n",
       "Female    37172\n",
       "Name: Gender, dtype: int64"
      ]
     },
     "execution_count": 23,
     "metadata": {},
     "output_type": "execute_result"
    }
   ],
   "source": [
    "#kolumna Gender - zmienna kategoryczna\n",
    "X['Gender'].value_counts()"
   ]
  },
  {
   "cell_type": "code",
   "execution_count": 24,
   "metadata": {},
   "outputs": [
    {
     "data": {
      "text/plain": [
       "(array([37172.,     0.,     0.,     0.,     0.,     0.,     0.,     0.,\n",
       "            0., 49848.]),\n",
       " array([0. , 0.1, 0.2, 0.3, 0.4, 0.5, 0.6, 0.7, 0.8, 0.9, 1. ]),\n",
       " <a list of 10 Patch objects>)"
      ]
     },
     "execution_count": 24,
     "metadata": {},
     "output_type": "execute_result"
    },
    {
     "data": {
      "image/png": "[encoded data removed]",
      "text/plain": [
       "<Figure size 432x288 with 1 Axes>"
      ]
     },
     "metadata": {
      "needs_background": "light"
     },
     "output_type": "display_data"
    }
   ],
   "source": [
    "#rozklad zmiennych\n",
    "import matplotlib.pyplot as plt\n",
    "%matplotlib inline\n",
    "plt.hist(X['Gender'],bins=10)"
   ]
  },
  {
   "cell_type": "code",
   "execution_count": 25,
   "metadata": {},
   "outputs": [],
   "source": [
    "#modyfikacje zmiennej\n",
    "#Mobile_Verfied encodujemy na 1 - y 0 - n \n",
    "X['Gender'] = X['Gender'].replace({\"Male\":1, \"Female\":0})"
   ]
  },
  {
   "cell_type": "code",
   "execution_count": 26,
   "metadata": {},
   "outputs": [
    {
     "data": {
      "text/plain": [
       "Delhi          12527\n",
       "Bengaluru      10824\n",
       "Mumbai         10795\n",
       "Hyderabad       7272\n",
       "Chennai         6916\n",
       "               ...  \n",
       "Narsinghpur        1\n",
       "Beawar             1\n",
       "IDAR               1\n",
       "Tonk               1\n",
       "CHOTILA            1\n",
       "Name: City, Length: 697, dtype: int64"
      ]
     },
     "execution_count": 26,
     "metadata": {},
     "output_type": "execute_result"
    }
   ],
   "source": [
    "#zmienna City - kategoryczna\n",
    "X['City'].value_counts()"
   ]
  },
  {
   "cell_type": "code",
   "execution_count": 27,
   "metadata": {},
   "outputs": [
    {
     "name": "stdout",
     "output_type": "stream",
     "text": [
      "missing percentage: 1.1526085957251206\n"
     ]
    }
   ],
   "source": [
    "#liczba brakujacych danych\n",
    "calc_missing_values(X['City'])"
   ]
  },
  {
   "cell_type": "code",
   "execution_count": 28,
   "metadata": {},
   "outputs": [
    {
     "data": {
      "text/plain": [
       "count     86017\n",
       "unique      697\n",
       "top       Delhi\n",
       "freq      12527\n",
       "Name: City, dtype: object"
      ]
     },
     "execution_count": 28,
     "metadata": {},
     "output_type": "execute_result"
    }
   ],
   "source": [
    "X['City'].describe()"
   ]
  },
  {
   "cell_type": "code",
   "execution_count": 29,
   "metadata": {},
   "outputs": [],
   "source": [
    "#brakujace wartosci mozna uzupelnic most frequent\n",
    "#rozklad zmiennych\n",
    "#plt.hist(X[X['City'] == 'Baksa'],bins=10)"
   ]
  },
  {
   "cell_type": "code",
   "execution_count": 30,
   "metadata": {},
   "outputs": [],
   "source": [
    "#PROCESSING NAN\n",
    "#wypełniamy najczęstszym miastem\n",
    "X['City'] = X['City'].fillna(X['City'].mode()[0])\n"
   ]
  },
  {
   "cell_type": "code",
   "execution_count": 31,
   "metadata": {},
   "outputs": [
    {
     "data": {
      "text/plain": [
       "25000    5823\n",
       "20000    4523\n",
       "15000    4246\n",
       "30000    3216\n",
       "50000    2392\n",
       "         ... \n",
       "21612       1\n",
       "58490       1\n",
       "15521       1\n",
       "33974       1\n",
       "36978       1\n",
       "Name: Monthly_Income, Length: 5825, dtype: int64"
      ]
     },
     "execution_count": 31,
     "metadata": {},
     "output_type": "execute_result"
    }
   ],
   "source": [
    "#kolumna Monthly income - zmienna numeryczna\n",
    "X['Monthly_Income'].value_counts()"
   ]
  },
  {
   "cell_type": "code",
   "execution_count": 32,
   "metadata": {},
   "outputs": [
    {
     "name": "stdout",
     "output_type": "stream",
     "text": [
      "missing percentage: 0.0\n"
     ]
    }
   ],
   "source": [
    "calc_missing_values(X['Monthly_Income'])"
   ]
  },
  {
   "cell_type": "code",
   "execution_count": 33,
   "metadata": {},
   "outputs": [
    {
     "data": {
      "text/plain": [
       "count    8.702000e+04\n",
       "mean     5.884997e+04\n",
       "std      2.177511e+06\n",
       "min      0.000000e+00\n",
       "25%      1.650000e+04\n",
       "50%      2.500000e+04\n",
       "75%      4.000000e+04\n",
       "max      4.445544e+08\n",
       "Name: Monthly_Income, dtype: float64"
      ]
     },
     "execution_count": 33,
     "metadata": {},
     "output_type": "execute_result"
    }
   ],
   "source": [
    "#statystyki dla zmiennej \n",
    "X['Monthly_Income'].describe()"
   ]
  },
  {
   "cell_type": "code",
   "execution_count": 34,
   "metadata": {},
   "outputs": [
    {
     "data": {
      "text/plain": [
       "167.56052617705805"
      ]
     },
     "execution_count": 34,
     "metadata": {},
     "output_type": "execute_result"
    }
   ],
   "source": [
    "X['Monthly_Income'].skew()"
   ]
  },
  {
   "cell_type": "code",
   "execution_count": 35,
   "metadata": {},
   "outputs": [
    {
     "data": {
      "image/png": "[encoded data removed]",
      "text/plain": [
       "<Figure size 720x288 with 1 Axes>"
      ]
     },
     "metadata": {
      "needs_background": "light"
     },
     "output_type": "display_data"
    }
   ],
   "source": [
    "plot_qq(X,'Monthly_Income')"
   ]
  },
  {
   "cell_type": "code",
   "execution_count": 36,
   "metadata": {},
   "outputs": [
    {
     "data": {
      "image/png": "[encoded data removed]",
      "text/plain": [
       "<Figure size 720x720 with 1 Axes>"
      ]
     },
     "metadata": {
      "needs_background": "light"
     },
     "output_type": "display_data"
    }
   ],
   "source": [
    "#rozklad zmiennych\n",
    "plt.figure(figsize=(10,10))\n",
    "plt.hist(X['Monthly_Income'],bins=100)\n",
    "plt.yscale('log')\n",
    "#plt.xscale('log')"
   ]
  },
  {
   "cell_type": "code",
   "execution_count": 37,
   "metadata": {},
   "outputs": [
    {
     "data": {
      "image/png": "[encoded data removed]",
      "text/plain": [
       "<Figure size 432x288 with 1 Axes>"
      ]
     },
     "metadata": {
      "needs_background": "light"
     },
     "output_type": "display_data"
    }
   ],
   "source": [
    "#rozklad zmiennych\n",
    "import seaborn as sns\n",
    "sns.distplot(X['Monthly_Income'])\n",
    "plt.yscale('log')\n",
    "plt.show()"
   ]
  },
  {
   "cell_type": "code",
   "execution_count": 38,
   "metadata": {},
   "outputs": [
    {
     "data": {
      "text/plain": [
       "<matplotlib.axes._subplots.AxesSubplot at 0x1e9c4766708>"
      ]
     },
     "execution_count": 38,
     "metadata": {},
     "output_type": "execute_result"
    },
    {
     "data": {
      "image/png": "[encoded data removed]",
      "text/plain": [
       "<Figure size 432x288 with 1 Axes>"
      ]
     },
     "metadata": {
      "needs_background": "light"
     },
     "output_type": "display_data"
    }
   ],
   "source": [
    "#boxplot outliers\n",
    "import seaborn as sns\n",
    "sns.boxplot(x=X['Monthly_Income'])"
   ]
  },
  {
   "cell_type": "code",
   "execution_count": 39,
   "metadata": {},
   "outputs": [],
   "source": [
    "#PROCESSING SKEWNEES\n",
    "#rozkład poprawiamy przez sqrt()\n",
    "X['Monthly_Income'] = np.log1p(X['Monthly_Income'])"
   ]
  },
  {
   "cell_type": "code",
   "execution_count": 40,
   "metadata": {},
   "outputs": [],
   "source": [
    "#rozklad zmiennych po konwersji log()\n",
    "#aby zrobic konwersje trzeba wartosc 0.0 zamienic na bardzo male 0.000001\n",
    "#rozklad zmiennych\n",
    "#x_tmp = x\n",
    "#x_tmp.loc[x_tmp['Monthly_Income'] == 0] = 0.000001\n",
    "#plt.figure(figsize=(10,10))\n",
    "#plt.hist(np.log(x_tmp['Monthly_Income']),bins=100)\n",
    "#plt.yscale('log')\n",
    "#plt.xscale('log')"
   ]
  },
  {
   "cell_type": "code",
   "execution_count": 41,
   "metadata": {},
   "outputs": [
    {
     "data": {
      "image/png": "[encoded data removed]",
      "text/plain": [
       "<Figure size 432x288 with 1 Axes>"
      ]
     },
     "metadata": {
      "needs_background": "light"
     },
     "output_type": "display_data"
    }
   ],
   "source": [
    "#rozklad zmiennych\n",
    "import seaborn as sns\n",
    "#sns.distplot(np.log(x_tmp['Monthly_Income']))\n",
    "plt.yscale('log')\n",
    "plt.show()"
   ]
  },
  {
   "cell_type": "code",
   "execution_count": 42,
   "metadata": {},
   "outputs": [
    {
     "data": {
      "text/plain": [
       "1980-11-11    306\n",
       "1970-01-02    226\n",
       "1970-01-01    148\n",
       "1990-01-01    131\n",
       "1980-01-01    111\n",
       "             ... \n",
       "1994-12-09      1\n",
       "2050-05-20      1\n",
       "2068-08-25      1\n",
       "2060-11-30      1\n",
       "2062-06-24      1\n",
       "Name: DOB, Length: 11345, dtype: int64"
      ]
     },
     "execution_count": 42,
     "metadata": {},
     "output_type": "execute_result"
    }
   ],
   "source": [
    "#zmienna DOB - data\n",
    "X['DOB'].value_counts()"
   ]
  },
  {
   "cell_type": "code",
   "execution_count": 43,
   "metadata": {},
   "outputs": [
    {
     "name": "stdout",
     "output_type": "stream",
     "text": [
      "missing percentage: 0.0\n"
     ]
    }
   ],
   "source": [
    "#brakujace wartosci\n",
    "calc_missing_values(X['DOB'])"
   ]
  },
  {
   "cell_type": "code",
   "execution_count": 44,
   "metadata": {},
   "outputs": [
    {
     "data": {
      "text/plain": [
       "0       1978-05-23\n",
       "1       1985-10-07\n",
       "2       1981-10-10\n",
       "3       1987-11-30\n",
       "4       1984-02-17\n",
       "           ...    \n",
       "87015   2069-11-27\n",
       "87016   1990-12-01\n",
       "87017   1972-01-28\n",
       "87018   1977-04-27\n",
       "87019   1988-10-31\n",
       "Name: DOB, Length: 87020, dtype: datetime64[ns]"
      ]
     },
     "execution_count": 44,
     "metadata": {},
     "output_type": "execute_result"
    }
   ],
   "source": [
    "X['DOB']"
   ]
  },
  {
   "cell_type": "code",
   "execution_count": 45,
   "metadata": {},
   "outputs": [
    {
     "data": {
      "text/html": [
       "<div>\n",
       "<style scoped>\n",
       "    .dataframe tbody tr th:only-of-type {\n",
       "        vertical-align: middle;\n",
       "    }\n",
       "\n",
       "    .dataframe tbody tr th {\n",
       "        vertical-align: top;\n",
       "    }\n",
       "\n",
       "    .dataframe thead th {\n",
       "        text-align: right;\n",
       "    }\n",
       "</style>\n",
       "<table border=\"1\" class=\"dataframe\">\n",
       "  <thead>\n",
       "    <tr style=\"text-align: right;\">\n",
       "      <th></th>\n",
       "      <th>Gender</th>\n",
       "      <th>City</th>\n",
       "      <th>Monthly_Income</th>\n",
       "      <th>DOB</th>\n",
       "      <th>Lead_Creation_Date</th>\n",
       "      <th>Loan_Amount_Applied</th>\n",
       "      <th>Loan_Tenure_Applied</th>\n",
       "      <th>Existing_EMI</th>\n",
       "      <th>Employer_Name</th>\n",
       "      <th>Salary_Account</th>\n",
       "      <th>...</th>\n",
       "      <th>Loan_Amount_Submitted</th>\n",
       "      <th>Loan_Tenure_Submitted</th>\n",
       "      <th>Interest_Rate</th>\n",
       "      <th>Processing_Fee</th>\n",
       "      <th>EMI_Loan_Submitted</th>\n",
       "      <th>Filled_Form</th>\n",
       "      <th>Device_Type</th>\n",
       "      <th>Var2</th>\n",
       "      <th>Source</th>\n",
       "      <th>Var4</th>\n",
       "    </tr>\n",
       "  </thead>\n",
       "  <tbody>\n",
       "    <tr>\n",
       "      <th>34</th>\n",
       "      <td>1</td>\n",
       "      <td>Mumbai</td>\n",
       "      <td>10.933125</td>\n",
       "      <td>2064-05-28</td>\n",
       "      <td>2015-05-01</td>\n",
       "      <td>500000.0</td>\n",
       "      <td>5.0</td>\n",
       "      <td>14500.0</td>\n",
       "      <td>TEJCONTROL SYSTEMS PVT LTD</td>\n",
       "      <td>HDFC Bank</td>\n",
       "      <td>...</td>\n",
       "      <td>500000.0</td>\n",
       "      <td>5.0</td>\n",
       "      <td>NaN</td>\n",
       "      <td>NaN</td>\n",
       "      <td>NaN</td>\n",
       "      <td>N</td>\n",
       "      <td>Web-browser</td>\n",
       "      <td>E</td>\n",
       "      <td>S133</td>\n",
       "      <td>3</td>\n",
       "    </tr>\n",
       "    <tr>\n",
       "      <th>58</th>\n",
       "      <td>1</td>\n",
       "      <td>Mumbai</td>\n",
       "      <td>10.714440</td>\n",
       "      <td>2050-05-20</td>\n",
       "      <td>2015-05-01</td>\n",
       "      <td>0.0</td>\n",
       "      <td>0.0</td>\n",
       "      <td>0.0</td>\n",
       "      <td>XHZ</td>\n",
       "      <td>ICICI Bank</td>\n",
       "      <td>...</td>\n",
       "      <td>940000.0</td>\n",
       "      <td>5.0</td>\n",
       "      <td>NaN</td>\n",
       "      <td>NaN</td>\n",
       "      <td>NaN</td>\n",
       "      <td>N</td>\n",
       "      <td>Web-browser</td>\n",
       "      <td>B</td>\n",
       "      <td>S133</td>\n",
       "      <td>2</td>\n",
       "    </tr>\n",
       "    <tr>\n",
       "      <th>89</th>\n",
       "      <td>1</td>\n",
       "      <td>Vijayawada</td>\n",
       "      <td>13.304687</td>\n",
       "      <td>2068-04-01</td>\n",
       "      <td>2015-05-01</td>\n",
       "      <td>1000000.0</td>\n",
       "      <td>5.0</td>\n",
       "      <td>15000.0</td>\n",
       "      <td>GOPALA KRISHNA</td>\n",
       "      <td>State Bank of India</td>\n",
       "      <td>...</td>\n",
       "      <td>1000000.0</td>\n",
       "      <td>5.0</td>\n",
       "      <td>NaN</td>\n",
       "      <td>NaN</td>\n",
       "      <td>NaN</td>\n",
       "      <td>N</td>\n",
       "      <td>Web-browser</td>\n",
       "      <td>B</td>\n",
       "      <td>S133</td>\n",
       "      <td>3</td>\n",
       "    </tr>\n",
       "    <tr>\n",
       "      <th>92</th>\n",
       "      <td>0</td>\n",
       "      <td>Dibrugarh</td>\n",
       "      <td>11.928348</td>\n",
       "      <td>2059-10-21</td>\n",
       "      <td>2015-05-01</td>\n",
       "      <td>2000000.0</td>\n",
       "      <td>5.0</td>\n",
       "      <td>37500.0</td>\n",
       "      <td>B.C.DAS</td>\n",
       "      <td>Allahabad Bank</td>\n",
       "      <td>...</td>\n",
       "      <td>NaN</td>\n",
       "      <td>NaN</td>\n",
       "      <td>NaN</td>\n",
       "      <td>NaN</td>\n",
       "      <td>NaN</td>\n",
       "      <td>N</td>\n",
       "      <td>Web-browser</td>\n",
       "      <td>B</td>\n",
       "      <td>S133</td>\n",
       "      <td>3</td>\n",
       "    </tr>\n",
       "    <tr>\n",
       "      <th>125</th>\n",
       "      <td>1</td>\n",
       "      <td>Hyderabad</td>\n",
       "      <td>11.002117</td>\n",
       "      <td>2066-03-04</td>\n",
       "      <td>2015-05-01</td>\n",
       "      <td>300000.0</td>\n",
       "      <td>3.0</td>\n",
       "      <td>17000.0</td>\n",
       "      <td>AIRINDIA</td>\n",
       "      <td>Vijaya Bank</td>\n",
       "      <td>...</td>\n",
       "      <td>300000.0</td>\n",
       "      <td>3.0</td>\n",
       "      <td>14.85</td>\n",
       "      <td>6000.0</td>\n",
       "      <td>10377.58</td>\n",
       "      <td>Y</td>\n",
       "      <td>Web-browser</td>\n",
       "      <td>B</td>\n",
       "      <td>S122</td>\n",
       "      <td>5</td>\n",
       "    </tr>\n",
       "    <tr>\n",
       "      <th>...</th>\n",
       "      <td>...</td>\n",
       "      <td>...</td>\n",
       "      <td>...</td>\n",
       "      <td>...</td>\n",
       "      <td>...</td>\n",
       "      <td>...</td>\n",
       "      <td>...</td>\n",
       "      <td>...</td>\n",
       "      <td>...</td>\n",
       "      <td>...</td>\n",
       "      <td>...</td>\n",
       "      <td>...</td>\n",
       "      <td>...</td>\n",
       "      <td>...</td>\n",
       "      <td>...</td>\n",
       "      <td>...</td>\n",
       "      <td>...</td>\n",
       "      <td>...</td>\n",
       "      <td>...</td>\n",
       "      <td>...</td>\n",
       "      <td>...</td>\n",
       "    </tr>\n",
       "    <tr>\n",
       "      <th>86998</th>\n",
       "      <td>1</td>\n",
       "      <td>Ahmedabad</td>\n",
       "      <td>10.714440</td>\n",
       "      <td>2056-08-31</td>\n",
       "      <td>2015-07-31</td>\n",
       "      <td>0.0</td>\n",
       "      <td>0.0</td>\n",
       "      <td>0.0</td>\n",
       "      <td>BHARAT SANCHAR NIGAM LTD (BSNL)</td>\n",
       "      <td>Corporation bank</td>\n",
       "      <td>...</td>\n",
       "      <td>810000.0</td>\n",
       "      <td>4.0</td>\n",
       "      <td>14.85</td>\n",
       "      <td>16200.0</td>\n",
       "      <td>22481.36</td>\n",
       "      <td>Y</td>\n",
       "      <td>Mobile</td>\n",
       "      <td>G</td>\n",
       "      <td>S122</td>\n",
       "      <td>5</td>\n",
       "    </tr>\n",
       "    <tr>\n",
       "      <th>87000</th>\n",
       "      <td>0</td>\n",
       "      <td>Palwal</td>\n",
       "      <td>10.849822</td>\n",
       "      <td>2062-11-01</td>\n",
       "      <td>2015-07-31</td>\n",
       "      <td>300000.0</td>\n",
       "      <td>5.0</td>\n",
       "      <td>23648.0</td>\n",
       "      <td>DHBVN</td>\n",
       "      <td>HDFC Bank</td>\n",
       "      <td>...</td>\n",
       "      <td>NaN</td>\n",
       "      <td>NaN</td>\n",
       "      <td>NaN</td>\n",
       "      <td>NaN</td>\n",
       "      <td>NaN</td>\n",
       "      <td>N</td>\n",
       "      <td>Web-browser</td>\n",
       "      <td>G</td>\n",
       "      <td>S122</td>\n",
       "      <td>1</td>\n",
       "    </tr>\n",
       "    <tr>\n",
       "      <th>87003</th>\n",
       "      <td>1</td>\n",
       "      <td>Rajkot</td>\n",
       "      <td>10.596660</td>\n",
       "      <td>2060-01-01</td>\n",
       "      <td>2015-07-31</td>\n",
       "      <td>700000.0</td>\n",
       "      <td>0.0</td>\n",
       "      <td>8450.0</td>\n",
       "      <td>KJO</td>\n",
       "      <td>Bank of India</td>\n",
       "      <td>...</td>\n",
       "      <td>570000.0</td>\n",
       "      <td>4.0</td>\n",
       "      <td>NaN</td>\n",
       "      <td>NaN</td>\n",
       "      <td>NaN</td>\n",
       "      <td>N</td>\n",
       "      <td>Web-browser</td>\n",
       "      <td>G</td>\n",
       "      <td>S122</td>\n",
       "      <td>3</td>\n",
       "    </tr>\n",
       "    <tr>\n",
       "      <th>87005</th>\n",
       "      <td>1</td>\n",
       "      <td>Nellore</td>\n",
       "      <td>11.661354</td>\n",
       "      <td>2069-02-21</td>\n",
       "      <td>2015-07-31</td>\n",
       "      <td>1000000.0</td>\n",
       "      <td>5.0</td>\n",
       "      <td>0.0</td>\n",
       "      <td>APTRANSCO</td>\n",
       "      <td>Axis Bank</td>\n",
       "      <td>...</td>\n",
       "      <td>1000000.0</td>\n",
       "      <td>5.0</td>\n",
       "      <td>15.75</td>\n",
       "      <td>15000.0</td>\n",
       "      <td>36278.14</td>\n",
       "      <td>N</td>\n",
       "      <td>Web-browser</td>\n",
       "      <td>G</td>\n",
       "      <td>S122</td>\n",
       "      <td>3</td>\n",
       "    </tr>\n",
       "    <tr>\n",
       "      <th>87015</th>\n",
       "      <td>0</td>\n",
       "      <td>Ajmer</td>\n",
       "      <td>11.183059</td>\n",
       "      <td>2069-11-27</td>\n",
       "      <td>2015-07-31</td>\n",
       "      <td>1000000.0</td>\n",
       "      <td>5.0</td>\n",
       "      <td>14500.0</td>\n",
       "      <td>MAYO COLLEGE</td>\n",
       "      <td>ICICI Bank</td>\n",
       "      <td>...</td>\n",
       "      <td>NaN</td>\n",
       "      <td>NaN</td>\n",
       "      <td>NaN</td>\n",
       "      <td>NaN</td>\n",
       "      <td>NaN</td>\n",
       "      <td>N</td>\n",
       "      <td>Web-browser</td>\n",
       "      <td>G</td>\n",
       "      <td>S122</td>\n",
       "      <td>3</td>\n",
       "    </tr>\n",
       "  </tbody>\n",
       "</table>\n",
       "<p>4433 rows × 23 columns</p>\n",
       "</div>"
      ],
      "text/plain": [
       "       Gender        City  Monthly_Income        DOB Lead_Creation_Date  Loan_Amount_Applied  Loan_Tenure_Applied  Existing_EMI                    Employer_Name       Salary_Account  ... Loan_Amount_Submitted  Loan_Tenure_Submitted Interest_Rate  Processing_Fee  EMI_Loan_Submitted  Filled_Form  Device_Type  Var2 Source Var4\n",
       "34          1      Mumbai       10.933125 2064-05-28         2015-05-01             500000.0                  5.0       14500.0       TEJCONTROL SYSTEMS PVT LTD            HDFC Bank  ...              500000.0                    5.0           NaN             NaN                 NaN            N  Web-browser     E   S133    3\n",
       "58          1      Mumbai       10.714440 2050-05-20         2015-05-01                  0.0                  0.0           0.0                              XHZ           ICICI Bank  ...              940000.0                    5.0           NaN             NaN                 NaN            N  Web-browser     B   S133    2\n",
       "89          1  Vijayawada       13.304687 2068-04-01         2015-05-01            1000000.0                  5.0       15000.0                   GOPALA KRISHNA  State Bank of India  ...             1000000.0                    5.0           NaN             NaN                 NaN            N  Web-browser     B   S133    3\n",
       "92          0   Dibrugarh       11.928348 2059-10-21         2015-05-01            2000000.0                  5.0       37500.0                          B.C.DAS       Allahabad Bank  ...                   NaN                    NaN           NaN             NaN                 NaN            N  Web-browser     B   S133    3\n",
       "125         1   Hyderabad       11.002117 2066-03-04         2015-05-01             300000.0                  3.0       17000.0                         AIRINDIA          Vijaya Bank  ...              300000.0                    3.0         14.85          6000.0            10377.58            Y  Web-browser     B   S122    5\n",
       "...       ...         ...             ...        ...                ...                  ...                  ...           ...                              ...                  ...  ...                   ...                    ...           ...             ...                 ...          ...          ...   ...    ...  ...\n",
       "86998       1   Ahmedabad       10.714440 2056-08-31         2015-07-31                  0.0                  0.0           0.0  BHARAT SANCHAR NIGAM LTD (BSNL)     Corporation bank  ...              810000.0                    4.0         14.85         16200.0            22481.36            Y       Mobile     G   S122    5\n",
       "87000       0      Palwal       10.849822 2062-11-01         2015-07-31             300000.0                  5.0       23648.0                            DHBVN            HDFC Bank  ...                   NaN                    NaN           NaN             NaN                 NaN            N  Web-browser     G   S122    1\n",
       "87003       1      Rajkot       10.596660 2060-01-01         2015-07-31             700000.0                  0.0        8450.0                              KJO        Bank of India  ...              570000.0                    4.0           NaN             NaN                 NaN            N  Web-browser     G   S122    3\n",
       "87005       1     Nellore       11.661354 2069-02-21         2015-07-31            1000000.0                  5.0           0.0                        APTRANSCO            Axis Bank  ...             1000000.0                    5.0         15.75         15000.0            36278.14            N  Web-browser     G   S122    3\n",
       "87015       0       Ajmer       11.183059 2069-11-27         2015-07-31            1000000.0                  5.0       14500.0                     MAYO COLLEGE           ICICI Bank  ...                   NaN                    NaN           NaN             NaN                 NaN            N  Web-browser     G   S122    3\n",
       "\n",
       "[4433 rows x 23 columns]"
      ]
     },
     "execution_count": 45,
     "metadata": {},
     "output_type": "execute_result"
    }
   ],
   "source": [
    "X.loc[X['DOB'] > pd.to_datetime('2015-01-01 00:00:00') ]"
   ]
  },
  {
   "cell_type": "code",
   "execution_count": 46,
   "metadata": {},
   "outputs": [],
   "source": [
    "#tworzymy nowa kolumne wiek 'AGE'\n",
    "def create_age_from_dob(data):\n",
    "    #z DOB robimy sobie Wiek aplikujacego o kredyt przyjmiemy rok 2015 jako rok bazowy\n",
    "    data['AGE'] = data['DOB'].apply(lambda xval: int((pd.to_datetime('2015-12-30 00:00:00') - xval)/np.timedelta64(1, 'Y')))\n",
    "    #dane z ujemnym wiekiem uzypelniamy wartoscia srednia z danych ktore sa prawidłow wypelnione czyli DOB < 2015\n",
    "    data.loc[ X['AGE'] <= 0, 'AGE' ] = data.loc[X['AGE'] > 0 ]['AGE'].mean()\n",
    "    "
   ]
  },
  {
   "cell_type": "code",
   "execution_count": 47,
   "metadata": {},
   "outputs": [],
   "source": [
    "create_age_from_dob(X)"
   ]
  },
  {
   "cell_type": "code",
   "execution_count": 48,
   "metadata": {},
   "outputs": [
    {
     "data": {
      "text/plain": [
       "count    87020.000000\n",
       "mean        29.789688\n",
       "std          5.154943\n",
       "min         18.000000\n",
       "25%         26.000000\n",
       "50%         29.000000\n",
       "75%         33.000000\n",
       "max         45.000000\n",
       "Name: AGE, dtype: float64"
      ]
     },
     "execution_count": 48,
     "metadata": {},
     "output_type": "execute_result"
    }
   ],
   "source": [
    "X['AGE'].describe()"
   ]
  },
  {
   "cell_type": "code",
   "execution_count": 49,
   "metadata": {},
   "outputs": [
    {
     "data": {
      "text/plain": [
       "0.7274690305792898"
      ]
     },
     "execution_count": 49,
     "metadata": {},
     "output_type": "execute_result"
    }
   ],
   "source": [
    "X['AGE'].skew()"
   ]
  },
  {
   "cell_type": "code",
   "execution_count": 50,
   "metadata": {},
   "outputs": [
    {
     "data": {
      "text/plain": [
       "(array([ 123.,  211.,    0.,  482.,    0.,  971.,    0., 1946.,    0.,\n",
       "        3410.,    0., 4541., 6216.,    0., 6646.,    0., 7118.,    0.,\n",
       "        6766.,    0., 6443., 4433., 5947.,    0., 5103., 4563.,    0.,\n",
       "        3933.,    0., 3126.,    0., 3353.,    0., 2130.,    0., 1809.,\n",
       "           0., 1455., 1241.,    0., 1151.,    0.,  910.,    0.,  773.,\n",
       "           0.,  705.,    0.,  571.,  944.]),\n",
       " array([18.  , 18.54, 19.08, 19.62, 20.16, 20.7 , 21.24, 21.78, 22.32,\n",
       "        22.86, 23.4 , 23.94, 24.48, 25.02, 25.56, 26.1 , 26.64, 27.18,\n",
       "        27.72, 28.26, 28.8 , 29.34, 29.88, 30.42, 30.96, 31.5 , 32.04,\n",
       "        32.58, 33.12, 33.66, 34.2 , 34.74, 35.28, 35.82, 36.36, 36.9 ,\n",
       "        37.44, 37.98, 38.52, 39.06, 39.6 , 40.14, 40.68, 41.22, 41.76,\n",
       "        42.3 , 42.84, 43.38, 43.92, 44.46, 45.  ]),\n",
       " <a list of 50 Patch objects>)"
      ]
     },
     "execution_count": 50,
     "metadata": {},
     "output_type": "execute_result"
    },
    {
     "data": {
      "image/png": "[encoded data removed]",
      "text/plain": [
       "<Figure size 720x720 with 1 Axes>"
      ]
     },
     "metadata": {
      "needs_background": "light"
     },
     "output_type": "display_data"
    }
   ],
   "source": [
    "#rozklad zmiennych\n",
    "plt.figure(figsize=(10,10))\n",
    "plt.hist(X['AGE'],bins=50)\n",
    "#plt.yscale('log')\n",
    "#plt.xscale('log')"
   ]
  },
  {
   "cell_type": "code",
   "execution_count": 51,
   "metadata": {},
   "outputs": [
    {
     "data": {
      "text/plain": [
       "2015-07-03    2315\n",
       "2015-07-23    1994\n",
       "2015-07-30    1297\n",
       "2015-07-27    1292\n",
       "2015-07-31    1268\n",
       "              ... \n",
       "2015-05-24     502\n",
       "2015-05-31     498\n",
       "2015-07-12     475\n",
       "2015-05-10     459\n",
       "2015-06-14     373\n",
       "Name: Lead_Creation_Date, Length: 92, dtype: int64"
      ]
     },
     "execution_count": 51,
     "metadata": {},
     "output_type": "execute_result"
    }
   ],
   "source": [
    "#zmienna Lead Creation Date\n",
    "X['Lead_Creation_Date'].value_counts()"
   ]
  },
  {
   "cell_type": "code",
   "execution_count": 52,
   "metadata": {},
   "outputs": [
    {
     "name": "stdout",
     "output_type": "stream",
     "text": [
      "missing percentage: 0.0\n"
     ]
    }
   ],
   "source": [
    "#brakujace wartosci\n",
    "calc_missing_values(X['Lead_Creation_Date'])"
   ]
  },
  {
   "cell_type": "code",
   "execution_count": 53,
   "metadata": {},
   "outputs": [
    {
     "data": {
      "text/plain": [
       "<Figure size 720x720 with 0 Axes>"
      ]
     },
     "execution_count": 53,
     "metadata": {},
     "output_type": "execute_result"
    },
    {
     "data": {
      "text/plain": [
       "<Figure size 720x720 with 0 Axes>"
      ]
     },
     "metadata": {},
     "output_type": "display_data"
    }
   ],
   "source": [
    "#daty trzeba przerobic\n",
    "#rozklad zmiennych\n",
    "plt.figure(figsize=(10,10))\n",
    "#plt.plot(X['Lead_Creation_Date'].year)\n",
    "#plt.yscale('log')\n",
    "#plt.xscale('log')"
   ]
  },
  {
   "cell_type": "code",
   "execution_count": 54,
   "metadata": {},
   "outputs": [],
   "source": [
    "#columna lead_creation_date rozbijamy na osobne kolumny\n",
    "X['LEAD_CREATION_YEAR'] = X['Lead_Creation_Date'].dt.year\n",
    "X['LEAD_CREATION_MONTH'] = X['Lead_Creation_Date'].dt.month\n",
    "X['LEAD_CREATION_DAY'] = X['Lead_Creation_Date'].dt.day"
   ]
  },
  {
   "cell_type": "code",
   "execution_count": 55,
   "metadata": {},
   "outputs": [
    {
     "data": {
      "text/plain": [
       "0.0          28853\n",
       "100000.0     14311\n",
       "200000.0     13058\n",
       "300000.0      9995\n",
       "500000.0      9762\n",
       "             ...  \n",
       "560000.0         1\n",
       "475000.0         1\n",
       "460000.0         1\n",
       "1405000.0        1\n",
       "204000.0         1\n",
       "Name: Loan_Amount_Applied, Length: 277, dtype: int64"
      ]
     },
     "execution_count": 55,
     "metadata": {},
     "output_type": "execute_result"
    }
   ],
   "source": [
    "# zmienna Loan_Amount_Applied numeryczna\n",
    "X['Loan_Amount_Applied'].value_counts()"
   ]
  },
  {
   "cell_type": "code",
   "execution_count": 56,
   "metadata": {},
   "outputs": [
    {
     "name": "stdout",
     "output_type": "stream",
     "text": [
      "missing percentage: 0.08159043897954493\n"
     ]
    }
   ],
   "source": [
    "#brakujace wartości\n",
    "calc_missing_values(X['Loan_Amount_Applied'])"
   ]
  },
  {
   "cell_type": "code",
   "execution_count": 57,
   "metadata": {},
   "outputs": [
    {
     "data": {
      "text/plain": [
       "count    8.694900e+04\n",
       "mean     2.302507e+05\n",
       "std      3.542068e+05\n",
       "min      0.000000e+00\n",
       "25%      0.000000e+00\n",
       "50%      1.000000e+05\n",
       "75%      3.000000e+05\n",
       "max      1.000000e+07\n",
       "Name: Loan_Amount_Applied, dtype: float64"
      ]
     },
     "execution_count": 57,
     "metadata": {},
     "output_type": "execute_result"
    }
   ],
   "source": [
    "#statystyki dla zmiennej \n",
    "X['Loan_Amount_Applied'].describe()"
   ]
  },
  {
   "cell_type": "code",
   "execution_count": 58,
   "metadata": {},
   "outputs": [
    {
     "data": {
      "text/plain": [
       "5.641871279754185"
      ]
     },
     "execution_count": 58,
     "metadata": {},
     "output_type": "execute_result"
    }
   ],
   "source": [
    "X['Loan_Amount_Applied'].skew()"
   ]
  },
  {
   "cell_type": "code",
   "execution_count": 59,
   "metadata": {},
   "outputs": [
    {
     "name": "stderr",
     "output_type": "stream",
     "text": [
      "C:\\Users\\darek\\Anaconda3\\lib\\site-packages\\numpy\\lib\\histograms.py:839: RuntimeWarning: invalid value encountered in greater_equal\n",
      "  keep = (tmp_a >= first_edge)\n",
      "C:\\Users\\darek\\Anaconda3\\lib\\site-packages\\numpy\\lib\\histograms.py:840: RuntimeWarning: invalid value encountered in less_equal\n",
      "  keep &= (tmp_a <= last_edge)\n"
     ]
    },
    {
     "data": {
      "image/png": "[encoded data removed]",
      "text/plain": [
       "<Figure size 720x720 with 1 Axes>"
      ]
     },
     "metadata": {
      "needs_background": "light"
     },
     "output_type": "display_data"
    }
   ],
   "source": [
    "#rozklad zmiennych\n",
    "plt.figure(figsize=(10,10))\n",
    "plt.hist(X['Loan_Amount_Applied'],bins=100)\n",
    "plt.yscale('log')\n",
    "#plt.xscale('log')"
   ]
  },
  {
   "cell_type": "code",
   "execution_count": 60,
   "metadata": {},
   "outputs": [],
   "source": [
    "#PROCESSING NAN\n",
    "#mediana\n",
    "X['Loan_Amount_Applied'] = X['Loan_Amount_Applied'].fillna((X['Loan_Amount_Applied'].median()))"
   ]
  },
  {
   "cell_type": "code",
   "execution_count": 61,
   "metadata": {},
   "outputs": [],
   "source": [
    "#PROCESSING SKEWNEES\n",
    "#rozkład poprawiamy przez sqrt()\n",
    "X['Loan_Amount_Applied'] = np.log1p(X['Loan_Amount_Applied'])"
   ]
  },
  {
   "cell_type": "code",
   "execution_count": 62,
   "metadata": {},
   "outputs": [
    {
     "data": {
      "text/plain": [
       "-0.667342607810897"
      ]
     },
     "execution_count": 62,
     "metadata": {},
     "output_type": "execute_result"
    }
   ],
   "source": [
    "X['Loan_Amount_Applied'].skew()"
   ]
  },
  {
   "cell_type": "code",
   "execution_count": 63,
   "metadata": {},
   "outputs": [
    {
     "data": {
      "image/png": "[encoded data removed]",
      "text/plain": [
       "<Figure size 432x288 with 1 Axes>"
      ]
     },
     "metadata": {
      "needs_background": "light"
     },
     "output_type": "display_data"
    }
   ],
   "source": [
    "#rozklad zmiennych\n",
    "import seaborn as sns\n",
    "sns.distplot(X['Loan_Amount_Applied'])\n",
    "plt.yscale('log')\n",
    "plt.show()"
   ]
  },
  {
   "cell_type": "code",
   "execution_count": null,
   "metadata": {},
   "outputs": [],
   "source": []
  },
  {
   "cell_type": "code",
   "execution_count": 64,
   "metadata": {},
   "outputs": [
    {
     "data": {
      "text/plain": [
       "0.0     33844\n",
       "5.0     19083\n",
       "3.0     13080\n",
       "2.0      9463\n",
       "4.0      6620\n",
       "1.0      4812\n",
       "10.0       40\n",
       "7.0         3\n",
       "6.0         2\n",
       "9.0         1\n",
       "8.0         1\n",
       "Name: Loan_Tenure_Applied, dtype: int64"
      ]
     },
     "execution_count": 64,
     "metadata": {},
     "output_type": "execute_result"
    }
   ],
   "source": [
    "# zmienna Loan_Amount_Applied numeryczna\n",
    "X['Loan_Tenure_Applied'].value_counts()"
   ]
  },
  {
   "cell_type": "code",
   "execution_count": 65,
   "metadata": {},
   "outputs": [
    {
     "name": "stdout",
     "output_type": "stream",
     "text": [
      "missing percentage: 0.08159043897954493\n"
     ]
    }
   ],
   "source": [
    "#brakujace wartości\n",
    "calc_missing_values(X['Loan_Tenure_Applied'])"
   ]
  },
  {
   "cell_type": "code",
   "execution_count": 66,
   "metadata": {},
   "outputs": [
    {
     "data": {
      "text/plain": [
       "count    86949.000000\n",
       "mean         2.131399\n",
       "std          2.014193\n",
       "min          0.000000\n",
       "25%          0.000000\n",
       "50%          2.000000\n",
       "75%          4.000000\n",
       "max         10.000000\n",
       "Name: Loan_Tenure_Applied, dtype: float64"
      ]
     },
     "execution_count": 66,
     "metadata": {},
     "output_type": "execute_result"
    }
   ],
   "source": [
    "#statystyki dla zmiennej \n",
    "X['Loan_Tenure_Applied'].describe()"
   ]
  },
  {
   "cell_type": "code",
   "execution_count": 67,
   "metadata": {},
   "outputs": [
    {
     "data": {
      "text/plain": [
       "0.26462404804244716"
      ]
     },
     "execution_count": 67,
     "metadata": {},
     "output_type": "execute_result"
    }
   ],
   "source": [
    "X['Loan_Tenure_Applied'].skew()"
   ]
  },
  {
   "cell_type": "code",
   "execution_count": 68,
   "metadata": {},
   "outputs": [
    {
     "name": "stderr",
     "output_type": "stream",
     "text": [
      "C:\\Users\\darek\\Anaconda3\\lib\\site-packages\\numpy\\lib\\histograms.py:839: RuntimeWarning: invalid value encountered in greater_equal\n",
      "  keep = (tmp_a >= first_edge)\n",
      "C:\\Users\\darek\\Anaconda3\\lib\\site-packages\\numpy\\lib\\histograms.py:840: RuntimeWarning: invalid value encountered in less_equal\n",
      "  keep &= (tmp_a <= last_edge)\n"
     ]
    },
    {
     "data": {
      "text/plain": [
       "(array([3.3844e+04, 0.0000e+00, 0.0000e+00, 0.0000e+00, 0.0000e+00,\n",
       "        0.0000e+00, 0.0000e+00, 0.0000e+00, 0.0000e+00, 0.0000e+00,\n",
       "        4.8120e+03, 0.0000e+00, 0.0000e+00, 0.0000e+00, 0.0000e+00,\n",
       "        0.0000e+00, 0.0000e+00, 0.0000e+00, 0.0000e+00, 0.0000e+00,\n",
       "        9.4630e+03, 0.0000e+00, 0.0000e+00, 0.0000e+00, 0.0000e+00,\n",
       "        0.0000e+00, 0.0000e+00, 0.0000e+00, 0.0000e+00, 0.0000e+00,\n",
       "        1.3080e+04, 0.0000e+00, 0.0000e+00, 0.0000e+00, 0.0000e+00,\n",
       "        0.0000e+00, 0.0000e+00, 0.0000e+00, 0.0000e+00, 0.0000e+00,\n",
       "        6.6200e+03, 0.0000e+00, 0.0000e+00, 0.0000e+00, 0.0000e+00,\n",
       "        0.0000e+00, 0.0000e+00, 0.0000e+00, 0.0000e+00, 0.0000e+00,\n",
       "        1.9083e+04, 0.0000e+00, 0.0000e+00, 0.0000e+00, 0.0000e+00,\n",
       "        0.0000e+00, 0.0000e+00, 0.0000e+00, 0.0000e+00, 0.0000e+00,\n",
       "        2.0000e+00, 0.0000e+00, 0.0000e+00, 0.0000e+00, 0.0000e+00,\n",
       "        0.0000e+00, 0.0000e+00, 0.0000e+00, 0.0000e+00, 0.0000e+00,\n",
       "        3.0000e+00, 0.0000e+00, 0.0000e+00, 0.0000e+00, 0.0000e+00,\n",
       "        0.0000e+00, 0.0000e+00, 0.0000e+00, 0.0000e+00, 0.0000e+00,\n",
       "        1.0000e+00, 0.0000e+00, 0.0000e+00, 0.0000e+00, 0.0000e+00,\n",
       "        0.0000e+00, 0.0000e+00, 0.0000e+00, 0.0000e+00, 0.0000e+00,\n",
       "        1.0000e+00, 0.0000e+00, 0.0000e+00, 0.0000e+00, 0.0000e+00,\n",
       "        0.0000e+00, 0.0000e+00, 0.0000e+00, 0.0000e+00, 4.0000e+01]),\n",
       " array([ 0. ,  0.1,  0.2,  0.3,  0.4,  0.5,  0.6,  0.7,  0.8,  0.9,  1. ,\n",
       "         1.1,  1.2,  1.3,  1.4,  1.5,  1.6,  1.7,  1.8,  1.9,  2. ,  2.1,\n",
       "         2.2,  2.3,  2.4,  2.5,  2.6,  2.7,  2.8,  2.9,  3. ,  3.1,  3.2,\n",
       "         3.3,  3.4,  3.5,  3.6,  3.7,  3.8,  3.9,  4. ,  4.1,  4.2,  4.3,\n",
       "         4.4,  4.5,  4.6,  4.7,  4.8,  4.9,  5. ,  5.1,  5.2,  5.3,  5.4,\n",
       "         5.5,  5.6,  5.7,  5.8,  5.9,  6. ,  6.1,  6.2,  6.3,  6.4,  6.5,\n",
       "         6.6,  6.7,  6.8,  6.9,  7. ,  7.1,  7.2,  7.3,  7.4,  7.5,  7.6,\n",
       "         7.7,  7.8,  7.9,  8. ,  8.1,  8.2,  8.3,  8.4,  8.5,  8.6,  8.7,\n",
       "         8.8,  8.9,  9. ,  9.1,  9.2,  9.3,  9.4,  9.5,  9.6,  9.7,  9.8,\n",
       "         9.9, 10. ]),\n",
       " <a list of 100 Patch objects>)"
      ]
     },
     "execution_count": 68,
     "metadata": {},
     "output_type": "execute_result"
    },
    {
     "data": {
      "image/png": "[encoded data removed]",
      "text/plain": [
       "<Figure size 720x720 with 1 Axes>"
      ]
     },
     "metadata": {
      "needs_background": "light"
     },
     "output_type": "display_data"
    }
   ],
   "source": [
    "#rozklad zmiennych\n",
    "plt.figure(figsize=(10,10))\n",
    "plt.hist(X['Loan_Tenure_Applied'],bins=100)\n",
    "#plt.yscale('log')\n",
    "#plt.xscale('log')"
   ]
  },
  {
   "cell_type": "code",
   "execution_count": 69,
   "metadata": {},
   "outputs": [
    {
     "data": {
      "image/png": "[encoded data removed]",
      "text/plain": [
       "<Figure size 432x288 with 1 Axes>"
      ]
     },
     "metadata": {
      "needs_background": "light"
     },
     "output_type": "display_data"
    }
   ],
   "source": [
    "#rozklad zmiennych\n",
    "import seaborn as sns\n",
    "sns.distplot(X['Loan_Tenure_Applied'])\n",
    "plt.yscale('log')\n",
    "plt.show()"
   ]
  },
  {
   "cell_type": "code",
   "execution_count": 70,
   "metadata": {},
   "outputs": [],
   "source": [
    "#PROCESSING NAN\n",
    "#brakujace wartosci uzupelniamy wartoscia srednia zaokraglonoa w gore\n",
    "X['Loan_Tenure_Applied'] = X['Loan_Tenure_Applied'].fillna((np.ceil(X['Loan_Tenure_Applied'].mean())))"
   ]
  },
  {
   "cell_type": "code",
   "execution_count": 71,
   "metadata": {},
   "outputs": [
    {
     "data": {
      "text/plain": [
       "0.0        58238\n",
       "5000.0      2695\n",
       "10000.0     1737\n",
       "3000.0      1581\n",
       "4000.0      1226\n",
       "           ...  \n",
       "11036.0        1\n",
       "1703.0         1\n",
       "2335.0         1\n",
       "2936.0         1\n",
       "1543.0         1\n",
       "Name: Existing_EMI, Length: 3753, dtype: int64"
      ]
     },
     "execution_count": 71,
     "metadata": {},
     "output_type": "execute_result"
    }
   ],
   "source": [
    "#zmienna Existing_EMI\n",
    "X['Existing_EMI'].value_counts()"
   ]
  },
  {
   "cell_type": "code",
   "execution_count": 72,
   "metadata": {},
   "outputs": [
    {
     "name": "stdout",
     "output_type": "stream",
     "text": [
      "missing percentage: 0.08159043897954493\n"
     ]
    }
   ],
   "source": [
    "#brakujace wartości\n",
    "calc_missing_values(X['Existing_EMI'])"
   ]
  },
  {
   "cell_type": "code",
   "execution_count": 73,
   "metadata": {},
   "outputs": [
    {
     "data": {
      "text/plain": [
       "count    8.694900e+04\n",
       "mean     3.696228e+03\n",
       "std      3.981021e+04\n",
       "min      0.000000e+00\n",
       "25%      0.000000e+00\n",
       "50%      0.000000e+00\n",
       "75%      3.500000e+03\n",
       "max      1.000000e+07\n",
       "Name: Existing_EMI, dtype: float64"
      ]
     },
     "execution_count": 73,
     "metadata": {},
     "output_type": "execute_result"
    }
   ],
   "source": [
    "#statystyki dla zmiennej \n",
    "X['Existing_EMI'].describe()"
   ]
  },
  {
   "cell_type": "code",
   "execution_count": 74,
   "metadata": {},
   "outputs": [
    {
     "data": {
      "text/plain": [
       "211.7693511145207"
      ]
     },
     "execution_count": 74,
     "metadata": {},
     "output_type": "execute_result"
    }
   ],
   "source": [
    "X['Existing_EMI'].skew()"
   ]
  },
  {
   "cell_type": "code",
   "execution_count": 75,
   "metadata": {},
   "outputs": [
    {
     "name": "stderr",
     "output_type": "stream",
     "text": [
      "C:\\Users\\darek\\Anaconda3\\lib\\site-packages\\numpy\\lib\\histograms.py:839: RuntimeWarning: invalid value encountered in greater_equal\n",
      "  keep = (tmp_a >= first_edge)\n",
      "C:\\Users\\darek\\Anaconda3\\lib\\site-packages\\numpy\\lib\\histograms.py:840: RuntimeWarning: invalid value encountered in less_equal\n",
      "  keep &= (tmp_a <= last_edge)\n"
     ]
    },
    {
     "data": {
      "image/png": "[encoded data removed]",
      "text/plain": [
       "<Figure size 720x720 with 1 Axes>"
      ]
     },
     "metadata": {
      "needs_background": "light"
     },
     "output_type": "display_data"
    }
   ],
   "source": [
    "#rozklad zmiennych\n",
    "plt.figure(figsize=(10,10))\n",
    "plt.hist(X['Existing_EMI'],bins=100)\n",
    "plt.yscale('log')\n",
    "#plt.xscale('log')"
   ]
  },
  {
   "cell_type": "code",
   "execution_count": 76,
   "metadata": {},
   "outputs": [
    {
     "data": {
      "image/png": "[encoded data removed]",
      "text/plain": [
       "<Figure size 432x288 with 1 Axes>"
      ]
     },
     "metadata": {
      "needs_background": "light"
     },
     "output_type": "display_data"
    }
   ],
   "source": [
    "#rozklad zmiennych\n",
    "import seaborn as sns\n",
    "sns.distplot(X['Existing_EMI'])\n",
    "plt.yscale('log')\n",
    "plt.show()"
   ]
  },
  {
   "cell_type": "code",
   "execution_count": 77,
   "metadata": {},
   "outputs": [],
   "source": [
    "#PROCESSING NAN\n",
    "#brakujace wartosci uzupelniamy wartoscia srednia zaokraglonoa w gore\n",
    "X['Existing_EMI'] = X['Existing_EMI'].fillna((X['Existing_EMI'].median()))"
   ]
  },
  {
   "cell_type": "code",
   "execution_count": 78,
   "metadata": {},
   "outputs": [],
   "source": [
    "#PROCESSING SKEWNEES\n",
    "#rozkład poprawiamy przez sqrt()\n",
    "X['Existing_EMI'] = np.log1p(X['Existing_EMI'])"
   ]
  },
  {
   "cell_type": "code",
   "execution_count": 79,
   "metadata": {},
   "outputs": [
    {
     "data": {
      "text/plain": [
       "0                                               4914\n",
       "TATA CONSULTANCY SERVICES LTD (TCS)              550\n",
       "COGNIZANT TECHNOLOGY SOLUTIONS INDIA PVT LTD     404\n",
       "ACCENTURE SERVICES PVT LTD                       324\n",
       "GOOGLE                                           301\n",
       "                                                ... \n",
       "GREEN PEARL ECCL                                   1\n",
       "INZ AXIS TECH SERVICES PVT LTD                     1\n",
       "JINDAL DRUGS LTD                                   1\n",
       "GENEVA SERVICES                                    1\n",
       "KRIZZ(UNIT OF KANISHK GOLD PVT LTD)                1\n",
       "Name: Employer_Name, Length: 43567, dtype: int64"
      ]
     },
     "execution_count": 79,
     "metadata": {},
     "output_type": "execute_result"
    }
   ],
   "source": [
    "#zmienna Employer_Name\n",
    "X['Employer_Name'].value_counts()"
   ]
  },
  {
   "cell_type": "code",
   "execution_count": 80,
   "metadata": {},
   "outputs": [
    {
     "name": "stdout",
     "output_type": "stream",
     "text": [
      "missing percentage: 0.08159043897954493\n"
     ]
    }
   ],
   "source": [
    "#brakujace wartości\n",
    "calc_missing_values(X['Employer_Name'])"
   ]
  },
  {
   "cell_type": "code",
   "execution_count": 81,
   "metadata": {},
   "outputs": [
    {
     "data": {
      "text/plain": [
       "count     86949\n",
       "unique    43567\n",
       "top           0\n",
       "freq       4914\n",
       "Name: Employer_Name, dtype: object"
      ]
     },
     "execution_count": 81,
     "metadata": {},
     "output_type": "execute_result"
    }
   ],
   "source": [
    "#statystyki dla zmiennej \n",
    "X['Employer_Name'].describe()"
   ]
  },
  {
   "cell_type": "code",
   "execution_count": 82,
   "metadata": {},
   "outputs": [
    {
     "data": {
      "text/plain": [
       "<Figure size 720x720 with 0 Axes>"
      ]
     },
     "execution_count": 82,
     "metadata": {},
     "output_type": "execute_result"
    },
    {
     "data": {
      "text/plain": [
       "<Figure size 720x720 with 0 Axes>"
      ]
     },
     "metadata": {},
     "output_type": "display_data"
    }
   ],
   "source": [
    "#rozklad zmiennych\n",
    "plt.figure(figsize=(10,10))\n",
    "#plt.hist(X['Employer_Name'],bins=43568)\n",
    "#plt.yscale('log')\n",
    "#plt.xscale('log')"
   ]
  },
  {
   "cell_type": "code",
   "execution_count": 83,
   "metadata": {},
   "outputs": [
    {
     "data": {
      "text/plain": [
       "count     85678\n",
       "unique    43179\n",
       "top           0\n",
       "freq       4909\n",
       "Name: Employer_Name, dtype: object"
      ]
     },
     "execution_count": 83,
     "metadata": {},
     "output_type": "execute_result"
    }
   ],
   "source": [
    "#Employer_Name - sprawdzmy czy dla ktorych z pracodawcow chetniej daja pozyczki.\n",
    "data[data['Disbursed'] == 0 ].Employer_Name.describe()"
   ]
  },
  {
   "cell_type": "code",
   "execution_count": 84,
   "metadata": {},
   "outputs": [],
   "source": [
    "#zmienna 'Employer_Name' zamieniamy na 1 gdy obecny 0 gdy nan, 1 ma zatrudnienie 0 - brak zatrudnienia\n",
    "def prepare_employer_name(data):\n",
    "    data['Employer_Name'] = np.where(data['Employer_Name'].isnull(), 0, 1)"
   ]
  },
  {
   "cell_type": "code",
   "execution_count": 85,
   "metadata": {},
   "outputs": [
    {
     "data": {
      "text/plain": [
       "Gender                            int64\n",
       "City                             object\n",
       "Monthly_Income                  float64\n",
       "DOB                      datetime64[ns]\n",
       "Lead_Creation_Date       datetime64[ns]\n",
       "Loan_Amount_Applied             float64\n",
       "Loan_Tenure_Applied             float64\n",
       "Existing_EMI                    float64\n",
       "Employer_Name                    object\n",
       "Salary_Account                   object\n",
       "Mobile_Verified                  object\n",
       "Var5                              int64\n",
       "Var1                             object\n",
       "Loan_Amount_Submitted           float64\n",
       "Loan_Tenure_Submitted           float64\n",
       "Interest_Rate                   float64\n",
       "Processing_Fee                  float64\n",
       "EMI_Loan_Submitted              float64\n",
       "Filled_Form                      object\n",
       "Device_Type                      object\n",
       "Var2                             object\n",
       "Source                           object\n",
       "Var4                              int64\n",
       "AGE                             float64\n",
       "LEAD_CREATION_YEAR                int64\n",
       "LEAD_CREATION_MONTH               int64\n",
       "LEAD_CREATION_DAY                 int64\n",
       "dtype: object"
      ]
     },
     "execution_count": 85,
     "metadata": {},
     "output_type": "execute_result"
    }
   ],
   "source": [
    "#prepare_employer_name(X)\n",
    "X['Employer_Name'] = X['Employer_Name'].fillna(X['Employer_Name'].mode()[0])\n",
    "X.dtypes"
   ]
  },
  {
   "cell_type": "code",
   "execution_count": 86,
   "metadata": {},
   "outputs": [
    {
     "data": {
      "text/plain": [
       "HDFC Bank                                          17695\n",
       "ICICI Bank                                         13636\n",
       "State Bank of India                                11843\n",
       "Axis Bank                                           8783\n",
       "Citibank                                            2376\n",
       "Kotak Bank                                          2067\n",
       "IDBI Bank                                           1550\n",
       "Punjab National Bank                                1201\n",
       "Bank of India                                       1170\n",
       "Bank of Baroda                                      1126\n",
       "Standard Chartered Bank                              995\n",
       "Canara Bank                                          990\n",
       "Union Bank of India                                  951\n",
       "Yes Bank                                             779\n",
       "ING Vysya                                            678\n",
       "Corporation bank                                     649\n",
       "Indian Overseas Bank                                 612\n",
       "State Bank of Hyderabad                              597\n",
       "Indian Bank                                          555\n",
       "Oriental Bank of Commerce                            524\n",
       "IndusInd Bank                                        503\n",
       "Andhra Bank                                          485\n",
       "Central Bank of India                                445\n",
       "Syndicate Bank                                       415\n",
       "Bank of Maharasthra                                  406\n",
       "State Bank of Bikaner & Jaipur                       331\n",
       "HSBC                                                 328\n",
       "Karur Vysya Bank                                     326\n",
       "State Bank of Mysore                                 255\n",
       "Federal Bank                                         253\n",
       "Vijaya Bank                                          252\n",
       "Allahabad Bank                                       238\n",
       "UCO Bank                                             237\n",
       "State Bank of Travancore                             227\n",
       "Karnataka Bank                                       200\n",
       "Saraswat Bank                                        195\n",
       "United Bank of India                                 183\n",
       "Dena Bank                                            182\n",
       "State Bank of Patiala                                177\n",
       "South Indian Bank                                    160\n",
       "Deutsche Bank                                        125\n",
       "Abhyuday Co-op Bank Ltd                              108\n",
       "The Ratnakar Bank Ltd                                 83\n",
       "Tamil Nadu Mercantile Bank                            71\n",
       "Punjab & Sind bank                                    66\n",
       "J&K Bank                                              59\n",
       "Lakshmi Vilas bank                                    50\n",
       "Dhanalakshmi Bank Ltd                                 42\n",
       "State Bank of Indore                                  18\n",
       "Catholic Syrian Bank                                  14\n",
       "India Bulls                                           11\n",
       "B N P Paribas                                          8\n",
       "GIC Housing Finance Ltd                                8\n",
       "Firstrand Bank Limited                                 7\n",
       "Bank of Rajasthan                                      5\n",
       "Kerala Gramin Bank                                     4\n",
       "Industrial And Commercial Bank Of China Limited        2\n",
       "Name: Salary_Account, dtype: int64"
      ]
     },
     "execution_count": 86,
     "metadata": {},
     "output_type": "execute_result"
    }
   ],
   "source": [
    "#zmienna Employer_Name\n",
    "X['Salary_Account'].value_counts()"
   ]
  },
  {
   "cell_type": "code",
   "execution_count": 87,
   "metadata": {},
   "outputs": [
    {
     "name": "stdout",
     "output_type": "stream",
     "text": [
      "missing percentage: 13.518731326131924\n"
     ]
    }
   ],
   "source": [
    "#brakujace wartości\n",
    "calc_missing_values(X['Salary_Account'])"
   ]
  },
  {
   "cell_type": "code",
   "execution_count": 88,
   "metadata": {},
   "outputs": [
    {
     "data": {
      "text/plain": [
       "count         75256\n",
       "unique           57\n",
       "top       HDFC Bank\n",
       "freq          17695\n",
       "Name: Salary_Account, dtype: object"
      ]
     },
     "execution_count": 88,
     "metadata": {},
     "output_type": "execute_result"
    }
   ],
   "source": [
    "#statystyki dla zmiennej \n",
    "X['Salary_Account'].describe()"
   ]
  },
  {
   "cell_type": "code",
   "execution_count": 89,
   "metadata": {},
   "outputs": [],
   "source": [
    "#PROCESSING NAN\n",
    "X['Salary_Account'] = X['Salary_Account'].fillna(X['Salary_Account'].mode()[0])"
   ]
  },
  {
   "cell_type": "code",
   "execution_count": 90,
   "metadata": {},
   "outputs": [
    {
     "data": {
      "text/plain": [
       "([0,\n",
       "  1,\n",
       "  2,\n",
       "  3,\n",
       "  4,\n",
       "  5,\n",
       "  6,\n",
       "  7,\n",
       "  8,\n",
       "  9,\n",
       "  10,\n",
       "  11,\n",
       "  12,\n",
       "  13,\n",
       "  14,\n",
       "  15,\n",
       "  16,\n",
       "  17,\n",
       "  18,\n",
       "  19,\n",
       "  20,\n",
       "  21,\n",
       "  22,\n",
       "  23,\n",
       "  24,\n",
       "  25,\n",
       "  26,\n",
       "  27,\n",
       "  28,\n",
       "  29,\n",
       "  30,\n",
       "  31,\n",
       "  32,\n",
       "  33,\n",
       "  34,\n",
       "  35,\n",
       "  36,\n",
       "  37,\n",
       "  38,\n",
       "  39,\n",
       "  40,\n",
       "  41,\n",
       "  42,\n",
       "  43,\n",
       "  44,\n",
       "  45,\n",
       "  46,\n",
       "  47,\n",
       "  48,\n",
       "  49,\n",
       "  50,\n",
       "  51,\n",
       "  52,\n",
       "  53,\n",
       "  54,\n",
       "  55,\n",
       "  56],\n",
       " <a list of 57 Text xticklabel objects>)"
      ]
     },
     "execution_count": 90,
     "metadata": {},
     "output_type": "execute_result"
    },
    {
     "data": {
      "image/png": "[encoded data removed]",
      "text/plain": [
       "<Figure size 1440x720 with 1 Axes>"
      ]
     },
     "metadata": {
      "needs_background": "light"
     },
     "output_type": "display_data"
    }
   ],
   "source": [
    "#rozklad zmiennych\n",
    "plt.figure(figsize=(20,10))\n",
    "plt.hist(X['Salary_Account'],bins=57)\n",
    "plt.xticks(rotation='vertical')\n",
    "#plt.yscale('log')\n",
    "#plt.xscale('log')"
   ]
  },
  {
   "cell_type": "code",
   "execution_count": null,
   "metadata": {},
   "outputs": [],
   "source": []
  },
  {
   "cell_type": "code",
   "execution_count": 91,
   "metadata": {
    "scrolled": true
   },
   "outputs": [
    {
     "data": {
      "text/plain": [
       "Y    56481\n",
       "N    30539\n",
       "Name: Mobile_Verified, dtype: int64"
      ]
     },
     "execution_count": 91,
     "metadata": {},
     "output_type": "execute_result"
    }
   ],
   "source": [
    "#zmienna Employer_Name\n",
    "X['Mobile_Verified'].value_counts()"
   ]
  },
  {
   "cell_type": "code",
   "execution_count": 92,
   "metadata": {},
   "outputs": [
    {
     "name": "stdout",
     "output_type": "stream",
     "text": [
      "missing percentage: 0.0\n"
     ]
    }
   ],
   "source": [
    "#brakujace wartości\n",
    "calc_missing_values(X['Mobile_Verified'])"
   ]
  },
  {
   "cell_type": "code",
   "execution_count": 93,
   "metadata": {},
   "outputs": [
    {
     "data": {
      "text/plain": [
       "count     87020\n",
       "unique        2\n",
       "top           Y\n",
       "freq      56481\n",
       "Name: Mobile_Verified, dtype: object"
      ]
     },
     "execution_count": 93,
     "metadata": {},
     "output_type": "execute_result"
    }
   ],
   "source": [
    "#statystyki dla zmiennej \n",
    "X['Mobile_Verified'].describe()"
   ]
  },
  {
   "cell_type": "code",
   "execution_count": 94,
   "metadata": {},
   "outputs": [
    {
     "data": {
      "text/plain": [
       "(array([30539.,     0.,     0.,     0.,     0.,     0.,     0.,     0.,\n",
       "            0., 56481.]),\n",
       " array([0. , 0.1, 0.2, 0.3, 0.4, 0.5, 0.6, 0.7, 0.8, 0.9, 1. ]),\n",
       " <a list of 10 Patch objects>)"
      ]
     },
     "execution_count": 94,
     "metadata": {},
     "output_type": "execute_result"
    },
    {
     "data": {
      "image/png": "[encoded data removed]",
      "text/plain": [
       "<Figure size 720x720 with 1 Axes>"
      ]
     },
     "metadata": {
      "needs_background": "light"
     },
     "output_type": "display_data"
    }
   ],
   "source": [
    "#rozklad zmiennych\n",
    "plt.figure(figsize=(10,10))\n",
    "plt.hist(X['Mobile_Verified'],bins=10)\n",
    "#plt.yscale('log')\n",
    "#plt.xscale('log')"
   ]
  },
  {
   "cell_type": "code",
   "execution_count": 95,
   "metadata": {},
   "outputs": [],
   "source": [
    "#Mobile_Verfied encodujemy na 1 - y 0 - n \n",
    "X['Mobile_Verified'] = X['Mobile_Verified'].replace({\"Y\":1, \"N\":0})"
   ]
  },
  {
   "cell_type": "code",
   "execution_count": 96,
   "metadata": {},
   "outputs": [
    {
     "data": {
      "text/plain": [
       "0     29087\n",
       "1     12236\n",
       "3      6759\n",
       "11     5204\n",
       "2      4485\n",
       "14     3662\n",
       "15     3509\n",
       "12     2989\n",
       "13     2622\n",
       "8      2515\n",
       "10     2427\n",
       "9      2281\n",
       "16     2097\n",
       "4      1815\n",
       "17     1691\n",
       "7      1489\n",
       "6       983\n",
       "5       975\n",
       "18      194\n",
       "Name: Var5, dtype: int64"
      ]
     },
     "execution_count": 96,
     "metadata": {},
     "output_type": "execute_result"
    }
   ],
   "source": [
    "#zmienna Var5 ciagla numerczna\n",
    "X['Var5'].value_counts()"
   ]
  },
  {
   "cell_type": "code",
   "execution_count": 97,
   "metadata": {},
   "outputs": [
    {
     "name": "stdout",
     "output_type": "stream",
     "text": [
      "missing percentage: 0.0\n"
     ]
    }
   ],
   "source": [
    "#brakujace wartości\n",
    "calc_missing_values(X['Var5'])"
   ]
  },
  {
   "cell_type": "code",
   "execution_count": 98,
   "metadata": {},
   "outputs": [
    {
     "data": {
      "text/plain": [
       "count    87020.000000\n",
       "mean         4.961503\n",
       "std          5.670385\n",
       "min          0.000000\n",
       "25%          0.000000\n",
       "50%          2.000000\n",
       "75%         11.000000\n",
       "max         18.000000\n",
       "Name: Var5, dtype: float64"
      ]
     },
     "execution_count": 98,
     "metadata": {},
     "output_type": "execute_result"
    }
   ],
   "source": [
    "#statystyki dla zmiennej \n",
    "X['Var5'].describe()"
   ]
  },
  {
   "cell_type": "code",
   "execution_count": 99,
   "metadata": {},
   "outputs": [
    {
     "data": {
      "text/plain": [
       "0.7606063211426869"
      ]
     },
     "execution_count": 99,
     "metadata": {},
     "output_type": "execute_result"
    }
   ],
   "source": [
    "X['Var5'].skew()"
   ]
  },
  {
   "cell_type": "code",
   "execution_count": 100,
   "metadata": {},
   "outputs": [
    {
     "data": {
      "text/plain": [
       "(array([29087., 12236.,  4485.,  6759.,  1815.,   975.,   983.,  1489.,\n",
       "         2515.,     0.,  2281.,  2427.,  5204.,  2989.,  2622.,  3662.,\n",
       "         3509.,  2097.,  1691.,   194.]),\n",
       " array([ 0. ,  0.9,  1.8,  2.7,  3.6,  4.5,  5.4,  6.3,  7.2,  8.1,  9. ,\n",
       "         9.9, 10.8, 11.7, 12.6, 13.5, 14.4, 15.3, 16.2, 17.1, 18. ]),\n",
       " <a list of 20 Patch objects>)"
      ]
     },
     "execution_count": 100,
     "metadata": {},
     "output_type": "execute_result"
    },
    {
     "data": {
      "image/png": "[encoded data removed]",
      "text/plain": [
       "<Figure size 720x720 with 1 Axes>"
      ]
     },
     "metadata": {
      "needs_background": "light"
     },
     "output_type": "display_data"
    }
   ],
   "source": [
    "#rozklad zmiennych\n",
    "plt.figure(figsize=(10,10))\n",
    "plt.hist(X['Var5'],bins=20)\n",
    "#plt.yscale('log')\n",
    "#plt.xscale('log')"
   ]
  },
  {
   "cell_type": "code",
   "execution_count": 101,
   "metadata": {},
   "outputs": [
    {
     "data": {
      "image/png": "[encoded data removed]",
      "text/plain": [
       "<Figure size 432x288 with 1 Axes>"
      ]
     },
     "metadata": {
      "needs_background": "light"
     },
     "output_type": "display_data"
    }
   ],
   "source": [
    "#rozklad zmiennych\n",
    "import seaborn as sns\n",
    "sns.distplot(X['Var5'])\n",
    "#plt.yscale('log')\n",
    "plt.show()"
   ]
  },
  {
   "cell_type": "code",
   "execution_count": null,
   "metadata": {},
   "outputs": [],
   "source": []
  },
  {
   "cell_type": "code",
   "execution_count": 102,
   "metadata": {},
   "outputs": [
    {
     "data": {
      "text/plain": [
       "HBXX    59294\n",
       "HBXC     9010\n",
       "HBXB     4479\n",
       "HAXA     2909\n",
       "HBXA     2123\n",
       "HAXB     2011\n",
       "HBXD     1964\n",
       "HAXC     1536\n",
       "HBXH      970\n",
       "HCXF      722\n",
       "HAYT      508\n",
       "HAVC      384\n",
       "HAXM      268\n",
       "HCXD      237\n",
       "HCYS      217\n",
       "HVYS      186\n",
       "HAZD      109\n",
       "HCXG       78\n",
       "HAXF       15\n",
       "Name: Var1, dtype: int64"
      ]
     },
     "execution_count": 102,
     "metadata": {},
     "output_type": "execute_result"
    }
   ],
   "source": [
    "#zmienna Var1 categorical multiple values\n",
    "X['Var1'].value_counts()"
   ]
  },
  {
   "cell_type": "code",
   "execution_count": 103,
   "metadata": {},
   "outputs": [
    {
     "name": "stdout",
     "output_type": "stream",
     "text": [
      "missing percentage: 0.0\n"
     ]
    }
   ],
   "source": [
    "#brakujace wartości\n",
    "calc_missing_values(X['Var1'])"
   ]
  },
  {
   "cell_type": "code",
   "execution_count": 104,
   "metadata": {},
   "outputs": [
    {
     "data": {
      "text/plain": [
       "count     87020\n",
       "unique       19\n",
       "top        HBXX\n",
       "freq      59294\n",
       "Name: Var1, dtype: object"
      ]
     },
     "execution_count": 104,
     "metadata": {},
     "output_type": "execute_result"
    }
   ],
   "source": [
    "#statystyki dla zmiennej \n",
    "X['Var1'].describe()"
   ]
  },
  {
   "cell_type": "code",
   "execution_count": 105,
   "metadata": {},
   "outputs": [
    {
     "data": {
      "text/plain": [
       "(array([61417.,  2279., 10974.,  3879.,  4479.,   745.,   570.,   187.,\n",
       "          939.,  1551.]),\n",
       " array([ 0. ,  1.8,  3.6,  5.4,  7.2,  9. , 10.8, 12.6, 14.4, 16.2, 18. ]),\n",
       " <a list of 10 Patch objects>)"
      ]
     },
     "execution_count": 105,
     "metadata": {},
     "output_type": "execute_result"
    },
    {
     "data": {
      "image/png": "[encoded data removed]",
      "text/plain": [
       "<Figure size 720x720 with 1 Axes>"
      ]
     },
     "metadata": {
      "needs_background": "light"
     },
     "output_type": "display_data"
    }
   ],
   "source": [
    "#rozklad zmiennych\n",
    "plt.figure(figsize=(10,10))\n",
    "plt.hist(X['Var1'],bins=10)\n",
    "#plt.yscale('log')\n",
    "#plt.xscale('log')"
   ]
  },
  {
   "cell_type": "code",
   "execution_count": 106,
   "metadata": {},
   "outputs": [
    {
     "data": {
      "text/plain": [
       "100000.0     6884\n",
       "200000.0     6583\n",
       "300000.0     5385\n",
       "500000.0     4849\n",
       "1000000.0    1644\n",
       "             ... \n",
       "2470000.0       1\n",
       "1660000.0       1\n",
       "1890000.0       1\n",
       "1990000.0       1\n",
       "1900000.0       1\n",
       "Name: Loan_Amount_Submitted, Length: 203, dtype: int64"
      ]
     },
     "execution_count": 106,
     "metadata": {},
     "output_type": "execute_result"
    }
   ],
   "source": [
    "#zmienna Loan_Amount_Submitted\n",
    "X['Loan_Amount_Submitted'].value_counts()"
   ]
  },
  {
   "cell_type": "code",
   "execution_count": 107,
   "metadata": {},
   "outputs": [
    {
     "name": "stdout",
     "output_type": "stream",
     "text": [
      "missing percentage: 39.775913583084346\n"
     ]
    }
   ],
   "source": [
    "#brakujace wartości\n",
    "calc_missing_values(X['Loan_Amount_Submitted'])"
   ]
  },
  {
   "cell_type": "code",
   "execution_count": 108,
   "metadata": {},
   "outputs": [
    {
     "data": {
      "text/plain": [
       "count    5.240700e+04\n",
       "mean     3.950106e+05\n",
       "std      3.082481e+05\n",
       "min      5.000000e+04\n",
       "25%      2.000000e+05\n",
       "50%      3.000000e+05\n",
       "75%      5.000000e+05\n",
       "max      3.000000e+06\n",
       "Name: Loan_Amount_Submitted, dtype: float64"
      ]
     },
     "execution_count": 108,
     "metadata": {},
     "output_type": "execute_result"
    }
   ],
   "source": [
    "#statystyki dla zmiennej \n",
    "X['Loan_Amount_Submitted'].describe()"
   ]
  },
  {
   "cell_type": "code",
   "execution_count": 109,
   "metadata": {},
   "outputs": [
    {
     "data": {
      "text/plain": [
       "2.104983545111099"
      ]
     },
     "execution_count": 109,
     "metadata": {},
     "output_type": "execute_result"
    }
   ],
   "source": [
    "X['Loan_Amount_Submitted'].skew()"
   ]
  },
  {
   "cell_type": "code",
   "execution_count": 110,
   "metadata": {},
   "outputs": [
    {
     "name": "stderr",
     "output_type": "stream",
     "text": [
      "C:\\Users\\darek\\Anaconda3\\lib\\site-packages\\numpy\\lib\\histograms.py:839: RuntimeWarning: invalid value encountered in greater_equal\n",
      "  keep = (tmp_a >= first_edge)\n",
      "C:\\Users\\darek\\Anaconda3\\lib\\site-packages\\numpy\\lib\\histograms.py:840: RuntimeWarning: invalid value encountered in less_equal\n",
      "  keep &= (tmp_a <= last_edge)\n"
     ]
    },
    {
     "data": {
      "text/plain": [
       "(array([8.013e+03, 1.728e+03, 8.448e+03, 2.382e+03, 8.926e+03, 4.353e+03,\n",
       "        2.718e+03, 6.246e+03, 1.206e+03, 9.280e+02, 8.530e+02, 9.060e+02,\n",
       "        6.700e+02, 4.850e+02, 4.150e+02, 2.510e+02, 1.815e+03, 1.450e+02,\n",
       "        1.160e+02, 5.630e+02, 9.700e+01, 5.100e+01, 8.600e+01, 5.100e+01,\n",
       "        6.850e+02, 1.000e+01, 1.900e+01, 1.300e+01, 9.000e+00, 5.500e+01,\n",
       "        4.000e+00, 6.000e+00, 6.000e+00, 7.200e+01, 3.000e+00, 1.000e+00,\n",
       "        0.000e+00, 3.000e+00, 5.000e+00, 3.000e+00, 2.000e+00, 4.900e+01,\n",
       "        1.000e+00, 1.000e+00, 0.000e+00, 0.000e+00, 0.000e+00, 1.000e+00,\n",
       "        0.000e+00, 7.000e+00]),\n",
       " array([  50000.,  109000.,  168000.,  227000.,  286000.,  345000.,\n",
       "         404000.,  463000.,  522000.,  581000.,  640000.,  699000.,\n",
       "         758000.,  817000.,  876000.,  935000.,  994000., 1053000.,\n",
       "        1112000., 1171000., 1230000., 1289000., 1348000., 1407000.,\n",
       "        1466000., 1525000., 1584000., 1643000., 1702000., 1761000.,\n",
       "        1820000., 1879000., 1938000., 1997000., 2056000., 2115000.,\n",
       "        2174000., 2233000., 2292000., 2351000., 2410000., 2469000.,\n",
       "        2528000., 2587000., 2646000., 2705000., 2764000., 2823000.,\n",
       "        2882000., 2941000., 3000000.]),\n",
       " <a list of 50 Patch objects>)"
      ]
     },
     "execution_count": 110,
     "metadata": {},
     "output_type": "execute_result"
    },
    {
     "data": {
      "image/png": "[encoded data removed]",
      "text/plain": [
       "<Figure size 720x720 with 1 Axes>"
      ]
     },
     "metadata": {
      "needs_background": "light"
     },
     "output_type": "display_data"
    }
   ],
   "source": [
    "#rozklad zmiennych\n",
    "plt.figure(figsize=(10,10))\n",
    "plt.hist(X['Loan_Amount_Submitted'],bins=50)\n",
    "#plt.yscale('log')\n",
    "#plt.xscale('log')"
   ]
  },
  {
   "cell_type": "code",
   "execution_count": 111,
   "metadata": {},
   "outputs": [
    {
     "data": {
      "image/png": "[encoded data removed]",
      "text/plain": [
       "<Figure size 432x288 with 1 Axes>"
      ]
     },
     "metadata": {
      "needs_background": "light"
     },
     "output_type": "display_data"
    }
   ],
   "source": [
    "#rozklad zmiennych\n",
    "import seaborn as sns\n",
    "sns.distplot(X['Loan_Amount_Submitted'])\n",
    "#plt.yscale('log')\n",
    "plt.show()"
   ]
  },
  {
   "cell_type": "code",
   "execution_count": 112,
   "metadata": {},
   "outputs": [],
   "source": [
    "#PROCESSING NAN\n",
    "X['Loan_Amount_Submitted'] = X['Loan_Amount_Submitted'].fillna(X['Loan_Amount_Submitted'].mean())"
   ]
  },
  {
   "cell_type": "code",
   "execution_count": 113,
   "metadata": {},
   "outputs": [],
   "source": [
    "#PROCESSING SKEWNEES\n",
    "#rozkład poprawiamy przez log\n",
    "X['Loan_Amount_Submitted'] = np.log1p(X['Loan_Amount_Submitted'])"
   ]
  },
  {
   "cell_type": "code",
   "execution_count": 114,
   "metadata": {},
   "outputs": [
    {
     "data": {
      "text/plain": [
       "5.0    20765\n",
       "4.0    15135\n",
       "3.0     8858\n",
       "2.0     5332\n",
       "1.0     2314\n",
       "6.0        3\n",
       "Name: Loan_Tenure_Submitted, dtype: int64"
      ]
     },
     "execution_count": 114,
     "metadata": {},
     "output_type": "execute_result"
    }
   ],
   "source": [
    "#zmienna Loan_Tenure_Submitted\n",
    "X['Loan_Tenure_Submitted'].value_counts()"
   ]
  },
  {
   "cell_type": "code",
   "execution_count": 115,
   "metadata": {},
   "outputs": [
    {
     "name": "stdout",
     "output_type": "stream",
     "text": [
      "missing percentage: 39.775913583084346\n"
     ]
    }
   ],
   "source": [
    "#brakujace wartości\n",
    "calc_missing_values(X['Loan_Tenure_Submitted'])"
   ]
  },
  {
   "cell_type": "code",
   "execution_count": 116,
   "metadata": {},
   "outputs": [
    {
     "data": {
      "text/plain": [
       "count    52407.000000\n",
       "mean         3.891369\n",
       "std          1.165359\n",
       "min          1.000000\n",
       "25%          3.000000\n",
       "50%          4.000000\n",
       "75%          5.000000\n",
       "max          6.000000\n",
       "Name: Loan_Tenure_Submitted, dtype: float64"
      ]
     },
     "execution_count": 116,
     "metadata": {},
     "output_type": "execute_result"
    }
   ],
   "source": [
    "#statystyki dla zmiennej \n",
    "X['Loan_Tenure_Submitted'].describe()"
   ]
  },
  {
   "cell_type": "code",
   "execution_count": 117,
   "metadata": {},
   "outputs": [
    {
     "data": {
      "text/plain": [
       "0    5.0\n",
       "dtype: float64"
      ]
     },
     "execution_count": 117,
     "metadata": {},
     "output_type": "execute_result"
    }
   ],
   "source": [
    "X['Loan_Tenure_Submitted'].mode()"
   ]
  },
  {
   "cell_type": "code",
   "execution_count": 118,
   "metadata": {},
   "outputs": [
    {
     "data": {
      "text/plain": [
       "-0.8433232334453925"
      ]
     },
     "execution_count": 118,
     "metadata": {},
     "output_type": "execute_result"
    }
   ],
   "source": [
    "X['Loan_Tenure_Submitted'].skew()"
   ]
  },
  {
   "cell_type": "code",
   "execution_count": 119,
   "metadata": {},
   "outputs": [
    {
     "name": "stderr",
     "output_type": "stream",
     "text": [
      "C:\\Users\\darek\\Anaconda3\\lib\\site-packages\\numpy\\lib\\histograms.py:839: RuntimeWarning: invalid value encountered in greater_equal\n",
      "  keep = (tmp_a >= first_edge)\n",
      "C:\\Users\\darek\\Anaconda3\\lib\\site-packages\\numpy\\lib\\histograms.py:840: RuntimeWarning: invalid value encountered in less_equal\n",
      "  keep &= (tmp_a <= last_edge)\n"
     ]
    },
    {
     "data": {
      "text/plain": [
       "(array([2.3140e+03, 0.0000e+00, 0.0000e+00, 0.0000e+00, 0.0000e+00,\n",
       "        0.0000e+00, 0.0000e+00, 0.0000e+00, 0.0000e+00, 0.0000e+00,\n",
       "        5.3320e+03, 0.0000e+00, 0.0000e+00, 0.0000e+00, 0.0000e+00,\n",
       "        0.0000e+00, 0.0000e+00, 0.0000e+00, 0.0000e+00, 0.0000e+00,\n",
       "        8.8580e+03, 0.0000e+00, 0.0000e+00, 0.0000e+00, 0.0000e+00,\n",
       "        0.0000e+00, 0.0000e+00, 0.0000e+00, 0.0000e+00, 0.0000e+00,\n",
       "        1.5135e+04, 0.0000e+00, 0.0000e+00, 0.0000e+00, 0.0000e+00,\n",
       "        0.0000e+00, 0.0000e+00, 0.0000e+00, 0.0000e+00, 0.0000e+00,\n",
       "        2.0765e+04, 0.0000e+00, 0.0000e+00, 0.0000e+00, 0.0000e+00,\n",
       "        0.0000e+00, 0.0000e+00, 0.0000e+00, 0.0000e+00, 3.0000e+00]),\n",
       " array([1. , 1.1, 1.2, 1.3, 1.4, 1.5, 1.6, 1.7, 1.8, 1.9, 2. , 2.1, 2.2,\n",
       "        2.3, 2.4, 2.5, 2.6, 2.7, 2.8, 2.9, 3. , 3.1, 3.2, 3.3, 3.4, 3.5,\n",
       "        3.6, 3.7, 3.8, 3.9, 4. , 4.1, 4.2, 4.3, 4.4, 4.5, 4.6, 4.7, 4.8,\n",
       "        4.9, 5. , 5.1, 5.2, 5.3, 5.4, 5.5, 5.6, 5.7, 5.8, 5.9, 6. ]),\n",
       " <a list of 50 Patch objects>)"
      ]
     },
     "execution_count": 119,
     "metadata": {},
     "output_type": "execute_result"
    },
    {
     "data": {
      "image/png": "[encoded data removed]",
      "text/plain": [
       "<Figure size 720x720 with 1 Axes>"
      ]
     },
     "metadata": {
      "needs_background": "light"
     },
     "output_type": "display_data"
    }
   ],
   "source": [
    "#rozklad zmiennych\n",
    "plt.figure(figsize=(10,10))\n",
    "plt.hist(X['Loan_Tenure_Submitted'],bins=50)\n",
    "#plt.yscale('log')\n",
    "#plt.xscale('log')"
   ]
  },
  {
   "cell_type": "code",
   "execution_count": 120,
   "metadata": {},
   "outputs": [],
   "source": [
    "#PROCESSING NAN\n",
    "#brakujace wartosci uzupelniamy wartoscia srednia zaokraglonoa w gore\n",
    "X['Loan_Tenure_Submitted'] = X['Loan_Tenure_Submitted'].fillna((np.ceil(X['Loan_Tenure_Submitted'].mean())))"
   ]
  },
  {
   "cell_type": "code",
   "execution_count": 121,
   "metadata": {},
   "outputs": [
    {
     "data": {
      "text/plain": [
       "20.00    4707\n",
       "14.85    2016\n",
       "13.99    1699\n",
       "31.50    1696\n",
       "15.25    1553\n",
       "         ... \n",
       "14.55       2\n",
       "20.50       2\n",
       "15.60       1\n",
       "14.29       1\n",
       "15.15       1\n",
       "Name: Interest_Rate, Length: 73, dtype: int64"
      ]
     },
     "execution_count": 121,
     "metadata": {},
     "output_type": "execute_result"
    }
   ],
   "source": [
    "#zmienna Intrest_Rate\n",
    "X['Interest_Rate'].value_counts()"
   ]
  },
  {
   "cell_type": "code",
   "execution_count": 122,
   "metadata": {},
   "outputs": [
    {
     "name": "stdout",
     "output_type": "stream",
     "text": [
      "missing percentage: 68.13835899793152\n"
     ]
    }
   ],
   "source": [
    "#brakujace wartości\n",
    "calc_missing_values(X['Interest_Rate'])"
   ]
  },
  {
   "cell_type": "code",
   "execution_count": 123,
   "metadata": {},
   "outputs": [
    {
     "data": {
      "text/plain": [
       "count    27726.000000\n",
       "mean        19.197474\n",
       "std          5.834213\n",
       "min         11.990000\n",
       "25%         15.250000\n",
       "50%         18.000000\n",
       "75%         20.000000\n",
       "max         37.000000\n",
       "Name: Interest_Rate, dtype: float64"
      ]
     },
     "execution_count": 123,
     "metadata": {},
     "output_type": "execute_result"
    }
   ],
   "source": [
    "#statystyki dla zmiennej \n",
    "X['Interest_Rate'].describe()"
   ]
  },
  {
   "cell_type": "code",
   "execution_count": 124,
   "metadata": {},
   "outputs": [
    {
     "data": {
      "text/plain": [
       "1.4303011883579213"
      ]
     },
     "execution_count": 124,
     "metadata": {},
     "output_type": "execute_result"
    }
   ],
   "source": [
    "X['Interest_Rate'].skew()"
   ]
  },
  {
   "cell_type": "code",
   "execution_count": 125,
   "metadata": {},
   "outputs": [
    {
     "data": {
      "text/plain": [
       "(array([9.000e+01, 1.910e+02, 1.022e+03, 2.475e+03, 5.650e+02, 2.381e+03,\n",
       "        1.808e+03, 1.868e+03, 7.940e+02, 1.633e+03, 4.160e+02, 4.300e+02,\n",
       "        3.092e+03, 3.150e+02, 6.430e+02, 1.860e+02, 4.707e+03, 2.000e+00,\n",
       "        0.000e+00, 2.100e+01, 6.600e+01, 0.000e+00, 1.500e+01, 8.400e+01,\n",
       "        6.490e+02, 1.100e+01, 0.000e+00, 6.500e+01, 0.000e+00, 1.600e+01,\n",
       "        1.970e+02, 2.600e+01, 6.000e+00, 9.500e+02, 4.600e+01, 2.600e+01,\n",
       "        0.000e+00, 1.300e+01, 5.600e+01, 1.696e+03, 0.000e+00, 2.120e+02,\n",
       "        1.580e+02, 0.000e+00, 0.000e+00, 0.000e+00, 0.000e+00, 4.930e+02,\n",
       "        0.000e+00, 3.020e+02]),\n",
       " array([11.99  , 12.4902, 12.9904, 13.4906, 13.9908, 14.491 , 14.9912,\n",
       "        15.4914, 15.9916, 16.4918, 16.992 , 17.4922, 17.9924, 18.4926,\n",
       "        18.9928, 19.493 , 19.9932, 20.4934, 20.9936, 21.4938, 21.994 ,\n",
       "        22.4942, 22.9944, 23.4946, 23.9948, 24.495 , 24.9952, 25.4954,\n",
       "        25.9956, 26.4958, 26.996 , 27.4962, 27.9964, 28.4966, 28.9968,\n",
       "        29.497 , 29.9972, 30.4974, 30.9976, 31.4978, 31.998 , 32.4982,\n",
       "        32.9984, 33.4986, 33.9988, 34.499 , 34.9992, 35.4994, 35.9996,\n",
       "        36.4998, 37.    ]),\n",
       " <a list of 50 Patch objects>)"
      ]
     },
     "execution_count": 125,
     "metadata": {},
     "output_type": "execute_result"
    },
    {
     "data": {
      "image/png": "[encoded data removed]",
      "text/plain": [
       "<Figure size 720x720 with 1 Axes>"
      ]
     },
     "metadata": {
      "needs_background": "light"
     },
     "output_type": "display_data"
    }
   ],
   "source": [
    "#rozklad zmiennych\n",
    "plt.figure(figsize=(10,10))\n",
    "plt.hist(X['Interest_Rate'],bins=50)\n",
    "#plt.yscale('log')\n",
    "#plt.xscale('log')"
   ]
  },
  {
   "cell_type": "code",
   "execution_count": 126,
   "metadata": {},
   "outputs": [],
   "source": [
    "#PROCESSING NAN\n",
    "#brakujace wartosci uzupelniamy wartoscia srednia\n",
    "X['Interest_Rate'] = X['Interest_Rate'].fillna((X['Interest_Rate'].mean()))"
   ]
  },
  {
   "cell_type": "code",
   "execution_count": 127,
   "metadata": {},
   "outputs": [
    {
     "data": {
      "text/plain": [
       "2000.0     3074\n",
       "1000.0     2067\n",
       "4000.0     2006\n",
       "3000.0     1286\n",
       "6000.0     1183\n",
       "           ... \n",
       "13464.0       1\n",
       "3969.0        1\n",
       "7326.0        1\n",
       "5920.0        1\n",
       "9120.0        1\n",
       "Name: Processing_Fee, Length: 571, dtype: int64"
      ]
     },
     "execution_count": 127,
     "metadata": {},
     "output_type": "execute_result"
    }
   ],
   "source": [
    "#zmienna Processing_Fee\n",
    "X['Processing_Fee'].value_counts()"
   ]
  },
  {
   "cell_type": "code",
   "execution_count": 128,
   "metadata": {},
   "outputs": [
    {
     "name": "stdout",
     "output_type": "stream",
     "text": [
      "missing percentage: 68.49000229832222\n"
     ]
    }
   ],
   "source": [
    "#brakujace wartości\n",
    "calc_missing_values(X['Processing_Fee'])"
   ]
  },
  {
   "cell_type": "code",
   "execution_count": 129,
   "metadata": {},
   "outputs": [
    {
     "data": {
      "text/plain": [
       "count    27420.000000\n",
       "mean      5131.150839\n",
       "std       4725.837644\n",
       "min        200.000000\n",
       "25%       2000.000000\n",
       "50%       4000.000000\n",
       "75%       6250.000000\n",
       "max      50000.000000\n",
       "Name: Processing_Fee, dtype: float64"
      ]
     },
     "execution_count": 129,
     "metadata": {},
     "output_type": "execute_result"
    }
   ],
   "source": [
    "#statystyki dla zmiennej \n",
    "X['Processing_Fee'].describe()"
   ]
  },
  {
   "cell_type": "code",
   "execution_count": 130,
   "metadata": {},
   "outputs": [
    {
     "data": {
      "text/plain": [
       "2.6801088555079806"
      ]
     },
     "execution_count": 130,
     "metadata": {},
     "output_type": "execute_result"
    }
   ],
   "source": [
    "X['Processing_Fee'].skew()"
   ]
  },
  {
   "cell_type": "code",
   "execution_count": 131,
   "metadata": {},
   "outputs": [
    {
     "data": {
      "text/plain": [
       "(array([1.000e+00, 0.000e+00, 1.900e+01, 6.000e+00, 1.000e+00, 9.000e+00,\n",
       "        1.500e+01, 4.000e+00, 1.960e+02, 9.000e+00, 1.300e+01, 5.500e+01,\n",
       "        2.800e+01, 2.200e+01, 2.260e+03, 8.400e+01, 3.420e+02, 1.860e+02,\n",
       "        9.210e+02, 2.970e+02, 3.305e+03, 4.360e+02, 9.010e+02, 5.650e+02,\n",
       "        1.883e+03, 1.076e+03, 1.047e+03, 2.931e+03, 1.044e+03, 1.127e+03,\n",
       "        1.639e+03, 9.740e+02, 8.040e+02, 8.220e+02, 4.890e+02, 1.520e+03,\n",
       "        3.690e+02, 5.180e+02, 3.130e+02, 2.980e+02, 1.570e+02, 3.220e+02,\n",
       "        8.000e+01, 9.300e+01, 2.200e+01, 1.560e+02, 1.000e+01, 4.700e+01,\n",
       "        0.000e+00, 4.000e+00]),\n",
       " array([ 5.29831737,  5.40874658,  5.5191758 ,  5.62960502,  5.74003424,\n",
       "         5.85046346,  5.96089268,  6.0713219 ,  6.18175111,  6.29218033,\n",
       "         6.40260955,  6.51303877,  6.62346799,  6.73389721,  6.84432642,\n",
       "         6.95475564,  7.06518486,  7.17561408,  7.2860433 ,  7.39647252,\n",
       "         7.50690173,  7.61733095,  7.72776017,  7.83818939,  7.94861861,\n",
       "         8.05904783,  8.16947704,  8.27990626,  8.39033548,  8.5007647 ,\n",
       "         8.61119392,  8.72162314,  8.83205235,  8.94248157,  9.05291079,\n",
       "         9.16334001,  9.27376923,  9.38419845,  9.49462766,  9.60505688,\n",
       "         9.7154861 ,  9.82591532,  9.93634454, 10.04677376, 10.15720297,\n",
       "        10.26763219, 10.37806141, 10.48849063, 10.59891985, 10.70934907,\n",
       "        10.81977828]),\n",
       " <a list of 50 Patch objects>)"
      ]
     },
     "execution_count": 131,
     "metadata": {},
     "output_type": "execute_result"
    },
    {
     "data": {
      "image/png": "[encoded data removed]",
      "text/plain": [
       "<Figure size 720x720 with 1 Axes>"
      ]
     },
     "metadata": {
      "needs_background": "light"
     },
     "output_type": "display_data"
    }
   ],
   "source": [
    "#rozklad zmiennych\n",
    "plt.figure(figsize=(10,10))\n",
    "plt.hist(np.log(X['Processing_Fee']),bins=50)\n",
    "#plt.yscale('log')\n",
    "#plt.xscale('log')"
   ]
  },
  {
   "cell_type": "code",
   "execution_count": 132,
   "metadata": {},
   "outputs": [],
   "source": [
    "#PROCESSING NAN\n",
    "#brakujace wartosci uzupelniamy wartoscia srednia\n",
    "X['Processing_Fee'] = X['Processing_Fee'].fillna((X['Processing_Fee'].mean()))"
   ]
  },
  {
   "cell_type": "code",
   "execution_count": 133,
   "metadata": {},
   "outputs": [],
   "source": [
    "#PROCESSING SKEWNEES\n",
    "#rozkład poprawiamy przez log\n",
    "X['Processing_Fee'] = np.log1p(X['Processing_Fee'])"
   ]
  },
  {
   "cell_type": "code",
   "execution_count": 134,
   "metadata": {},
   "outputs": [
    {
     "data": {
      "text/plain": [
       "3716.36     288\n",
       "7948.17     252\n",
       "5089.58     240\n",
       "5298.78     229\n",
       "8742.98     218\n",
       "           ... \n",
       "12558.05      1\n",
       "4530.63       1\n",
       "46168.22      1\n",
       "1674.50       1\n",
       "11463.79      1\n",
       "Name: EMI_Loan_Submitted, Length: 4530, dtype: int64"
      ]
     },
     "execution_count": 134,
     "metadata": {},
     "output_type": "execute_result"
    }
   ],
   "source": [
    "#zmienna EMI_Loan_Submitted\n",
    "X['EMI_Loan_Submitted'].value_counts()"
   ]
  },
  {
   "cell_type": "code",
   "execution_count": 135,
   "metadata": {},
   "outputs": [
    {
     "name": "stdout",
     "output_type": "stream",
     "text": [
      "missing percentage: 68.13835899793152\n"
     ]
    }
   ],
   "source": [
    "#brakujace wartości\n",
    "calc_missing_values(X['EMI_Loan_Submitted'])"
   ]
  },
  {
   "cell_type": "code",
   "execution_count": 136,
   "metadata": {},
   "outputs": [
    {
     "data": {
      "text/html": [
       "<div>\n",
       "<style scoped>\n",
       "    .dataframe tbody tr th:only-of-type {\n",
       "        vertical-align: middle;\n",
       "    }\n",
       "\n",
       "    .dataframe tbody tr th {\n",
       "        vertical-align: top;\n",
       "    }\n",
       "\n",
       "    .dataframe thead th {\n",
       "        text-align: right;\n",
       "    }\n",
       "</style>\n",
       "<table border=\"1\" class=\"dataframe\">\n",
       "  <thead>\n",
       "    <tr style=\"text-align: right;\">\n",
       "      <th></th>\n",
       "      <th>Gender</th>\n",
       "      <th>City</th>\n",
       "      <th>Monthly_Income</th>\n",
       "      <th>DOB</th>\n",
       "      <th>Lead_Creation_Date</th>\n",
       "      <th>Loan_Amount_Applied</th>\n",
       "      <th>Loan_Tenure_Applied</th>\n",
       "      <th>Existing_EMI</th>\n",
       "      <th>Employer_Name</th>\n",
       "      <th>Salary_Account</th>\n",
       "      <th>...</th>\n",
       "      <th>EMI_Loan_Submitted</th>\n",
       "      <th>Filled_Form</th>\n",
       "      <th>Device_Type</th>\n",
       "      <th>Var2</th>\n",
       "      <th>Source</th>\n",
       "      <th>Var4</th>\n",
       "      <th>AGE</th>\n",
       "      <th>LEAD_CREATION_YEAR</th>\n",
       "      <th>LEAD_CREATION_MONTH</th>\n",
       "      <th>LEAD_CREATION_DAY</th>\n",
       "    </tr>\n",
       "  </thead>\n",
       "  <tbody>\n",
       "    <tr>\n",
       "      <th>0</th>\n",
       "      <td>0</td>\n",
       "      <td>Delhi</td>\n",
       "      <td>9.903538</td>\n",
       "      <td>1978-05-23</td>\n",
       "      <td>2015-05-15</td>\n",
       "      <td>12.611541</td>\n",
       "      <td>5.0</td>\n",
       "      <td>0.000000</td>\n",
       "      <td>CYBOSOL</td>\n",
       "      <td>HDFC Bank</td>\n",
       "      <td>...</td>\n",
       "      <td>NaN</td>\n",
       "      <td>N</td>\n",
       "      <td>Web-browser</td>\n",
       "      <td>G</td>\n",
       "      <td>S122</td>\n",
       "      <td>1</td>\n",
       "      <td>37.000000</td>\n",
       "      <td>2015</td>\n",
       "      <td>5</td>\n",
       "      <td>15</td>\n",
       "    </tr>\n",
       "    <tr>\n",
       "      <th>2</th>\n",
       "      <td>1</td>\n",
       "      <td>Panchkula</td>\n",
       "      <td>10.021315</td>\n",
       "      <td>1981-10-10</td>\n",
       "      <td>2015-05-19</td>\n",
       "      <td>13.304687</td>\n",
       "      <td>4.0</td>\n",
       "      <td>0.000000</td>\n",
       "      <td>ALCHEMIST HOSPITALS LTD</td>\n",
       "      <td>State Bank of India</td>\n",
       "      <td>...</td>\n",
       "      <td>NaN</td>\n",
       "      <td>N</td>\n",
       "      <td>Web-browser</td>\n",
       "      <td>B</td>\n",
       "      <td>S143</td>\n",
       "      <td>1</td>\n",
       "      <td>34.000000</td>\n",
       "      <td>2015</td>\n",
       "      <td>5</td>\n",
       "      <td>19</td>\n",
       "    </tr>\n",
       "    <tr>\n",
       "      <th>3</th>\n",
       "      <td>1</td>\n",
       "      <td>Saharsa</td>\n",
       "      <td>10.463132</td>\n",
       "      <td>1987-11-30</td>\n",
       "      <td>2015-05-09</td>\n",
       "      <td>13.815512</td>\n",
       "      <td>5.0</td>\n",
       "      <td>0.000000</td>\n",
       "      <td>BIHAR GOVERNMENT</td>\n",
       "      <td>State Bank of India</td>\n",
       "      <td>...</td>\n",
       "      <td>NaN</td>\n",
       "      <td>N</td>\n",
       "      <td>Web-browser</td>\n",
       "      <td>B</td>\n",
       "      <td>S143</td>\n",
       "      <td>3</td>\n",
       "      <td>28.000000</td>\n",
       "      <td>2015</td>\n",
       "      <td>5</td>\n",
       "      <td>9</td>\n",
       "    </tr>\n",
       "    <tr>\n",
       "      <th>4</th>\n",
       "      <td>1</td>\n",
       "      <td>Bengaluru</td>\n",
       "      <td>11.512935</td>\n",
       "      <td>1984-02-17</td>\n",
       "      <td>2015-05-20</td>\n",
       "      <td>13.122365</td>\n",
       "      <td>2.0</td>\n",
       "      <td>10.126671</td>\n",
       "      <td>GLOBAL EDGE SOFTWARE</td>\n",
       "      <td>HDFC Bank</td>\n",
       "      <td>...</td>\n",
       "      <td>NaN</td>\n",
       "      <td>N</td>\n",
       "      <td>Web-browser</td>\n",
       "      <td>B</td>\n",
       "      <td>S134</td>\n",
       "      <td>3</td>\n",
       "      <td>31.000000</td>\n",
       "      <td>2015</td>\n",
       "      <td>5</td>\n",
       "      <td>20</td>\n",
       "    </tr>\n",
       "    <tr>\n",
       "      <th>6</th>\n",
       "      <td>0</td>\n",
       "      <td>Sindhudurg</td>\n",
       "      <td>11.156265</td>\n",
       "      <td>1987-10-23</td>\n",
       "      <td>2015-05-01</td>\n",
       "      <td>1.945910</td>\n",
       "      <td>5.0</td>\n",
       "      <td>0.000000</td>\n",
       "      <td>CARNIVAL CRUISE LINE</td>\n",
       "      <td>Yes Bank</td>\n",
       "      <td>...</td>\n",
       "      <td>NaN</td>\n",
       "      <td>N</td>\n",
       "      <td>Web-browser</td>\n",
       "      <td>B</td>\n",
       "      <td>S133</td>\n",
       "      <td>1</td>\n",
       "      <td>28.000000</td>\n",
       "      <td>2015</td>\n",
       "      <td>5</td>\n",
       "      <td>1</td>\n",
       "    </tr>\n",
       "    <tr>\n",
       "      <th>...</th>\n",
       "      <td>...</td>\n",
       "      <td>...</td>\n",
       "      <td>...</td>\n",
       "      <td>...</td>\n",
       "      <td>...</td>\n",
       "      <td>...</td>\n",
       "      <td>...</td>\n",
       "      <td>...</td>\n",
       "      <td>...</td>\n",
       "      <td>...</td>\n",
       "      <td>...</td>\n",
       "      <td>...</td>\n",
       "      <td>...</td>\n",
       "      <td>...</td>\n",
       "      <td>...</td>\n",
       "      <td>...</td>\n",
       "      <td>...</td>\n",
       "      <td>...</td>\n",
       "      <td>...</td>\n",
       "      <td>...</td>\n",
       "      <td>...</td>\n",
       "    </tr>\n",
       "    <tr>\n",
       "      <th>87013</th>\n",
       "      <td>1</td>\n",
       "      <td>Secunderabad</td>\n",
       "      <td>10.085851</td>\n",
       "      <td>1990-01-01</td>\n",
       "      <td>2015-07-31</td>\n",
       "      <td>12.611541</td>\n",
       "      <td>3.0</td>\n",
       "      <td>0.000000</td>\n",
       "      <td>INDIAN AIR FORCE</td>\n",
       "      <td>State Bank of India</td>\n",
       "      <td>...</td>\n",
       "      <td>NaN</td>\n",
       "      <td>N</td>\n",
       "      <td>Web-browser</td>\n",
       "      <td>G</td>\n",
       "      <td>S122</td>\n",
       "      <td>3</td>\n",
       "      <td>25.000000</td>\n",
       "      <td>2015</td>\n",
       "      <td>7</td>\n",
       "      <td>31</td>\n",
       "    </tr>\n",
       "    <tr>\n",
       "      <th>87014</th>\n",
       "      <td>0</td>\n",
       "      <td>Pune</td>\n",
       "      <td>10.799596</td>\n",
       "      <td>1982-05-31</td>\n",
       "      <td>2015-07-31</td>\n",
       "      <td>12.899222</td>\n",
       "      <td>5.0</td>\n",
       "      <td>0.000000</td>\n",
       "      <td>INFOSYS TECHNOLOGIES</td>\n",
       "      <td>ICICI Bank</td>\n",
       "      <td>...</td>\n",
       "      <td>NaN</td>\n",
       "      <td>N</td>\n",
       "      <td>Web-browser</td>\n",
       "      <td>G</td>\n",
       "      <td>S122</td>\n",
       "      <td>3</td>\n",
       "      <td>33.000000</td>\n",
       "      <td>2015</td>\n",
       "      <td>7</td>\n",
       "      <td>31</td>\n",
       "    </tr>\n",
       "    <tr>\n",
       "      <th>87015</th>\n",
       "      <td>0</td>\n",
       "      <td>Ajmer</td>\n",
       "      <td>11.183059</td>\n",
       "      <td>2069-11-27</td>\n",
       "      <td>2015-07-31</td>\n",
       "      <td>13.815512</td>\n",
       "      <td>5.0</td>\n",
       "      <td>9.581973</td>\n",
       "      <td>MAYO COLLEGE</td>\n",
       "      <td>ICICI Bank</td>\n",
       "      <td>...</td>\n",
       "      <td>NaN</td>\n",
       "      <td>N</td>\n",
       "      <td>Web-browser</td>\n",
       "      <td>G</td>\n",
       "      <td>S122</td>\n",
       "      <td>3</td>\n",
       "      <td>29.789688</td>\n",
       "      <td>2015</td>\n",
       "      <td>7</td>\n",
       "      <td>31</td>\n",
       "    </tr>\n",
       "    <tr>\n",
       "      <th>87017</th>\n",
       "      <td>1</td>\n",
       "      <td>Bengaluru</td>\n",
       "      <td>11.678448</td>\n",
       "      <td>1972-01-28</td>\n",
       "      <td>2015-07-31</td>\n",
       "      <td>0.000000</td>\n",
       "      <td>0.0</td>\n",
       "      <td>0.000000</td>\n",
       "      <td>BANGALORE INSTITUTE OF TECHNOLOGY</td>\n",
       "      <td>Syndicate Bank</td>\n",
       "      <td>...</td>\n",
       "      <td>NaN</td>\n",
       "      <td>N</td>\n",
       "      <td>Mobile</td>\n",
       "      <td>G</td>\n",
       "      <td>S122</td>\n",
       "      <td>3</td>\n",
       "      <td>43.000000</td>\n",
       "      <td>2015</td>\n",
       "      <td>7</td>\n",
       "      <td>31</td>\n",
       "    </tr>\n",
       "    <tr>\n",
       "      <th>87018</th>\n",
       "      <td>1</td>\n",
       "      <td>Bengaluru</td>\n",
       "      <td>11.502178</td>\n",
       "      <td>1977-04-27</td>\n",
       "      <td>2015-07-31</td>\n",
       "      <td>13.592368</td>\n",
       "      <td>5.0</td>\n",
       "      <td>9.522300</td>\n",
       "      <td>FIRSTSOURCE SOLUTION LTD</td>\n",
       "      <td>ICICI Bank</td>\n",
       "      <td>...</td>\n",
       "      <td>NaN</td>\n",
       "      <td>N</td>\n",
       "      <td>Web-browser</td>\n",
       "      <td>G</td>\n",
       "      <td>S122</td>\n",
       "      <td>3</td>\n",
       "      <td>38.000000</td>\n",
       "      <td>2015</td>\n",
       "      <td>7</td>\n",
       "      <td>31</td>\n",
       "    </tr>\n",
       "  </tbody>\n",
       "</table>\n",
       "<p>59294 rows × 27 columns</p>\n",
       "</div>"
      ],
      "text/plain": [
       "       Gender          City  Monthly_Income        DOB Lead_Creation_Date  Loan_Amount_Applied  Loan_Tenure_Applied  Existing_EMI                      Employer_Name       Salary_Account  ...  EMI_Loan_Submitted  Filled_Form  Device_Type  Var2  Source  Var4        AGE  LEAD_CREATION_YEAR LEAD_CREATION_MONTH LEAD_CREATION_DAY\n",
       "0           0         Delhi        9.903538 1978-05-23         2015-05-15            12.611541                  5.0      0.000000                            CYBOSOL            HDFC Bank  ...                 NaN            N  Web-browser     G    S122     1  37.000000                2015                   5                15\n",
       "2           1     Panchkula       10.021315 1981-10-10         2015-05-19            13.304687                  4.0      0.000000            ALCHEMIST HOSPITALS LTD  State Bank of India  ...                 NaN            N  Web-browser     B    S143     1  34.000000                2015                   5                19\n",
       "3           1       Saharsa       10.463132 1987-11-30         2015-05-09            13.815512                  5.0      0.000000                   BIHAR GOVERNMENT  State Bank of India  ...                 NaN            N  Web-browser     B    S143     3  28.000000                2015                   5                 9\n",
       "4           1     Bengaluru       11.512935 1984-02-17         2015-05-20            13.122365                  2.0     10.126671               GLOBAL EDGE SOFTWARE            HDFC Bank  ...                 NaN            N  Web-browser     B    S134     3  31.000000                2015                   5                20\n",
       "6           0    Sindhudurg       11.156265 1987-10-23         2015-05-01             1.945910                  5.0      0.000000               CARNIVAL CRUISE LINE             Yes Bank  ...                 NaN            N  Web-browser     B    S133     1  28.000000                2015                   5                 1\n",
       "...       ...           ...             ...        ...                ...                  ...                  ...           ...                                ...                  ...  ...                 ...          ...          ...   ...     ...   ...        ...                 ...                 ...               ...\n",
       "87013       1  Secunderabad       10.085851 1990-01-01         2015-07-31            12.611541                  3.0      0.000000                   INDIAN AIR FORCE  State Bank of India  ...                 NaN            N  Web-browser     G    S122     3  25.000000                2015                   7                31\n",
       "87014       0          Pune       10.799596 1982-05-31         2015-07-31            12.899222                  5.0      0.000000               INFOSYS TECHNOLOGIES           ICICI Bank  ...                 NaN            N  Web-browser     G    S122     3  33.000000                2015                   7                31\n",
       "87015       0         Ajmer       11.183059 2069-11-27         2015-07-31            13.815512                  5.0      9.581973                       MAYO COLLEGE           ICICI Bank  ...                 NaN            N  Web-browser     G    S122     3  29.789688                2015                   7                31\n",
       "87017       1     Bengaluru       11.678448 1972-01-28         2015-07-31             0.000000                  0.0      0.000000  BANGALORE INSTITUTE OF TECHNOLOGY       Syndicate Bank  ...                 NaN            N       Mobile     G    S122     3  43.000000                2015                   7                31\n",
       "87018       1     Bengaluru       11.502178 1977-04-27         2015-07-31            13.592368                  5.0      9.522300           FIRSTSOURCE SOLUTION LTD           ICICI Bank  ...                 NaN            N  Web-browser     G    S122     3  38.000000                2015                   7                31\n",
       "\n",
       "[59294 rows x 27 columns]"
      ]
     },
     "execution_count": 136,
     "metadata": {},
     "output_type": "execute_result"
    }
   ],
   "source": [
    "#wyswietl wiersze dla ktorych EMI_Loan_Submitted is nan\n",
    "X.loc[X['EMI_Loan_Submitted'].isnull()]"
   ]
  },
  {
   "cell_type": "code",
   "execution_count": 137,
   "metadata": {},
   "outputs": [
    {
     "data": {
      "text/plain": [
       "count     27726.000000\n",
       "mean      10999.528377\n",
       "std        7512.323050\n",
       "min        1176.410000\n",
       "25%        6491.600000\n",
       "50%        9392.970000\n",
       "75%       12919.040000\n",
       "max      144748.280000\n",
       "Name: EMI_Loan_Submitted, dtype: float64"
      ]
     },
     "execution_count": 137,
     "metadata": {},
     "output_type": "execute_result"
    }
   ],
   "source": [
    "#statystyki dla zmiennej \n",
    "X['EMI_Loan_Submitted'].describe()"
   ]
  },
  {
   "cell_type": "code",
   "execution_count": 138,
   "metadata": {},
   "outputs": [
    {
     "data": {
      "text/plain": [
       "2.7549554106213368"
      ]
     },
     "execution_count": 138,
     "metadata": {},
     "output_type": "execute_result"
    }
   ],
   "source": [
    "X['EMI_Loan_Submitted'].skew()"
   ]
  },
  {
   "cell_type": "code",
   "execution_count": 139,
   "metadata": {},
   "outputs": [
    {
     "name": "stderr",
     "output_type": "stream",
     "text": [
      "C:\\Users\\darek\\Anaconda3\\lib\\site-packages\\numpy\\lib\\histograms.py:839: RuntimeWarning: invalid value encountered in greater_equal\n",
      "  keep = (tmp_a >= first_edge)\n",
      "C:\\Users\\darek\\Anaconda3\\lib\\site-packages\\numpy\\lib\\histograms.py:840: RuntimeWarning: invalid value encountered in less_equal\n",
      "  keep &= (tmp_a <= last_edge)\n"
     ]
    },
    {
     "data": {
      "text/plain": [
       "(array([2.737e+03, 4.730e+03, 7.425e+03, 5.652e+03, 2.706e+03, 1.454e+03,\n",
       "        7.840e+02, 5.970e+02, 4.320e+02, 3.330e+02, 1.720e+02, 2.230e+02,\n",
       "        1.090e+02, 1.530e+02, 8.000e+01, 3.500e+01, 3.800e+01, 2.200e+01,\n",
       "        7.000e+00, 9.000e+00, 7.000e+00, 5.000e+00, 9.000e+00, 1.000e+00,\n",
       "        0.000e+00, 0.000e+00, 0.000e+00, 1.000e+00, 0.000e+00, 0.000e+00,\n",
       "        1.000e+00, 0.000e+00, 0.000e+00, 1.000e+00, 0.000e+00, 0.000e+00,\n",
       "        0.000e+00, 0.000e+00, 0.000e+00, 0.000e+00, 0.000e+00, 0.000e+00,\n",
       "        0.000e+00, 0.000e+00, 0.000e+00, 0.000e+00, 2.000e+00, 0.000e+00,\n",
       "        0.000e+00, 1.000e+00]),\n",
       " array([  1176.41  ,   4047.8474,   6919.2848,   9790.7222,  12662.1596,\n",
       "         15533.597 ,  18405.0344,  21276.4718,  24147.9092,  27019.3466,\n",
       "         29890.784 ,  32762.2214,  35633.6588,  38505.0962,  41376.5336,\n",
       "         44247.971 ,  47119.4084,  49990.8458,  52862.2832,  55733.7206,\n",
       "         58605.158 ,  61476.5954,  64348.0328,  67219.4702,  70090.9076,\n",
       "         72962.345 ,  75833.7824,  78705.2198,  81576.6572,  84448.0946,\n",
       "         87319.532 ,  90190.9694,  93062.4068,  95933.8442,  98805.2816,\n",
       "        101676.719 , 104548.1564, 107419.5938, 110291.0312, 113162.4686,\n",
       "        116033.906 , 118905.3434, 121776.7808, 124648.2182, 127519.6556,\n",
       "        130391.093 , 133262.5304, 136133.9678, 139005.4052, 141876.8426,\n",
       "        144748.28  ]),\n",
       " <a list of 50 Patch objects>)"
      ]
     },
     "execution_count": 139,
     "metadata": {},
     "output_type": "execute_result"
    },
    {
     "data": {
      "image/png": "[encoded data removed]",
      "text/plain": [
       "<Figure size 720x720 with 1 Axes>"
      ]
     },
     "metadata": {
      "needs_background": "light"
     },
     "output_type": "display_data"
    }
   ],
   "source": [
    "#rozklad zmiennych\n",
    "plt.figure(figsize=(10,10))\n",
    "plt.hist(X['EMI_Loan_Submitted'],bins=50)\n",
    "#plt.yscale('log')\n",
    "#plt.xscale('log')"
   ]
  },
  {
   "cell_type": "code",
   "execution_count": 140,
   "metadata": {},
   "outputs": [],
   "source": [
    "#PROCESSING NAN\n",
    "#brakujace wartosci uzupelniamy wartoscia srednia\n",
    "X['EMI_Loan_Submitted'] = X['EMI_Loan_Submitted'].fillna((X['EMI_Loan_Submitted'].mean()))"
   ]
  },
  {
   "cell_type": "code",
   "execution_count": 141,
   "metadata": {},
   "outputs": [],
   "source": [
    "#PROCESSING SKEWNEES\n",
    "#rozkład poprawiamy przez log\n",
    "X['EMI_Loan_Submitted'] = np.log1p(X['EMI_Loan_Submitted'])"
   ]
  },
  {
   "cell_type": "code",
   "execution_count": 142,
   "metadata": {},
   "outputs": [
    {
     "data": {
      "text/plain": [
       "N    67530\n",
       "Y    19490\n",
       "Name: Filled_Form, dtype: int64"
      ]
     },
     "execution_count": 142,
     "metadata": {},
     "output_type": "execute_result"
    }
   ],
   "source": [
    "#zmienna Filled_Form\n",
    "X['Filled_Form'].value_counts()"
   ]
  },
  {
   "cell_type": "code",
   "execution_count": 143,
   "metadata": {},
   "outputs": [
    {
     "name": "stdout",
     "output_type": "stream",
     "text": [
      "missing percentage: 0.0\n"
     ]
    }
   ],
   "source": [
    "#brakujace wartości\n",
    "calc_missing_values(X['Filled_Form'])"
   ]
  },
  {
   "cell_type": "code",
   "execution_count": 144,
   "metadata": {},
   "outputs": [
    {
     "data": {
      "text/plain": [
       "count     87020\n",
       "unique        2\n",
       "top           N\n",
       "freq      67530\n",
       "Name: Filled_Form, dtype: object"
      ]
     },
     "execution_count": 144,
     "metadata": {},
     "output_type": "execute_result"
    }
   ],
   "source": [
    "#statystyki dla zmiennej \n",
    "X['Filled_Form'].describe()"
   ]
  },
  {
   "cell_type": "code",
   "execution_count": 145,
   "metadata": {},
   "outputs": [
    {
     "data": {
      "text/plain": [
       "(array([67530.,     0.,     0.,     0.,     0.,     0.,     0.,     0.,\n",
       "            0.,     0.,     0.,     0.,     0.,     0.,     0.,     0.,\n",
       "            0.,     0.,     0.,     0.,     0.,     0.,     0.,     0.,\n",
       "            0.,     0.,     0.,     0.,     0.,     0.,     0.,     0.,\n",
       "            0.,     0.,     0.,     0.,     0.,     0.,     0.,     0.,\n",
       "            0.,     0.,     0.,     0.,     0.,     0.,     0.,     0.,\n",
       "            0., 19490.]),\n",
       " array([0.  , 0.02, 0.04, 0.06, 0.08, 0.1 , 0.12, 0.14, 0.16, 0.18, 0.2 ,\n",
       "        0.22, 0.24, 0.26, 0.28, 0.3 , 0.32, 0.34, 0.36, 0.38, 0.4 , 0.42,\n",
       "        0.44, 0.46, 0.48, 0.5 , 0.52, 0.54, 0.56, 0.58, 0.6 , 0.62, 0.64,\n",
       "        0.66, 0.68, 0.7 , 0.72, 0.74, 0.76, 0.78, 0.8 , 0.82, 0.84, 0.86,\n",
       "        0.88, 0.9 , 0.92, 0.94, 0.96, 0.98, 1.  ]),\n",
       " <a list of 50 Patch objects>)"
      ]
     },
     "execution_count": 145,
     "metadata": {},
     "output_type": "execute_result"
    },
    {
     "data": {
      "image/png": "[encoded data removed]",
      "text/plain": [
       "<Figure size 720x720 with 1 Axes>"
      ]
     },
     "metadata": {
      "needs_background": "light"
     },
     "output_type": "display_data"
    }
   ],
   "source": [
    "#rozklad zmiennych\n",
    "plt.figure(figsize=(10,10))\n",
    "plt.hist(X['Filled_Form'],bins=50)\n",
    "#plt.yscale('log')\n",
    "#plt.xscale('log')\n"
   ]
  },
  {
   "cell_type": "code",
   "execution_count": 146,
   "metadata": {},
   "outputs": [],
   "source": [
    "#Mobile_Verfied encodujemy na 1 - y 0 - n \n",
    "X['Filled_Form'] = X['Filled_Form'].replace({\"Y\":1, \"N\":0})"
   ]
  },
  {
   "cell_type": "code",
   "execution_count": 147,
   "metadata": {},
   "outputs": [
    {
     "data": {
      "text/plain": [
       "Web-browser    64316\n",
       "Mobile         22704\n",
       "Name: Device_Type, dtype: int64"
      ]
     },
     "execution_count": 147,
     "metadata": {},
     "output_type": "execute_result"
    }
   ],
   "source": [
    "#zmienna Device_Type\n",
    "X['Device_Type'].value_counts()"
   ]
  },
  {
   "cell_type": "code",
   "execution_count": 148,
   "metadata": {},
   "outputs": [
    {
     "name": "stdout",
     "output_type": "stream",
     "text": [
      "missing percentage: 0.0\n"
     ]
    }
   ],
   "source": [
    "#brakujace wartości\n",
    "calc_missing_values(X['Device_Type'])"
   ]
  },
  {
   "cell_type": "code",
   "execution_count": 149,
   "metadata": {},
   "outputs": [
    {
     "data": {
      "text/plain": [
       "count           87020\n",
       "unique              2\n",
       "top       Web-browser\n",
       "freq            64316\n",
       "Name: Device_Type, dtype: object"
      ]
     },
     "execution_count": 149,
     "metadata": {},
     "output_type": "execute_result"
    }
   ],
   "source": [
    "#statystyki dla zmiennej \n",
    "X['Device_Type'].describe()"
   ]
  },
  {
   "cell_type": "code",
   "execution_count": 150,
   "metadata": {},
   "outputs": [
    {
     "data": {
      "text/plain": [
       "(array([64316.,     0., 22704.]),\n",
       " array([0.        , 0.33333333, 0.66666667, 1.        ]),\n",
       " <a list of 3 Patch objects>)"
      ]
     },
     "execution_count": 150,
     "metadata": {},
     "output_type": "execute_result"
    },
    {
     "data": {
      "image/png": "[encoded data removed]",
      "text/plain": [
       "<Figure size 720x720 with 1 Axes>"
      ]
     },
     "metadata": {
      "needs_background": "light"
     },
     "output_type": "display_data"
    }
   ],
   "source": [
    "#rozklad zmiennych\n",
    "plt.figure(figsize=(10,10))\n",
    "plt.hist(X['Device_Type'],bins=3)\n",
    "#plt.yscale('log')\n",
    "#plt.xscale('log')"
   ]
  },
  {
   "cell_type": "code",
   "execution_count": 151,
   "metadata": {},
   "outputs": [],
   "source": [
    "#Mobile_Verfied encodujemy na 1 - y 0 - n \n",
    "X['Device_Type'] = X['Device_Type'].replace({\"Web-browser\":1, \"Mobile\":0})"
   ]
  },
  {
   "cell_type": "code",
   "execution_count": 152,
   "metadata": {},
   "outputs": [
    {
     "data": {
      "text/plain": [
       "B    37280\n",
       "G    33032\n",
       "C    14210\n",
       "E     1315\n",
       "D      634\n",
       "F      544\n",
       "A        5\n",
       "Name: Var2, dtype: int64"
      ]
     },
     "execution_count": 152,
     "metadata": {},
     "output_type": "execute_result"
    }
   ],
   "source": [
    "#zmienna Var2 - categorical multiple level\n",
    "X['Var2'].value_counts()"
   ]
  },
  {
   "cell_type": "code",
   "execution_count": 153,
   "metadata": {},
   "outputs": [
    {
     "name": "stdout",
     "output_type": "stream",
     "text": [
      "missing percentage: 0.0\n"
     ]
    }
   ],
   "source": [
    "#brakujace wartości\n",
    "calc_missing_values(X['Var2'])"
   ]
  },
  {
   "cell_type": "code",
   "execution_count": 154,
   "metadata": {},
   "outputs": [
    {
     "data": {
      "text/plain": [
       "count     87020\n",
       "unique        7\n",
       "top           B\n",
       "freq      37280\n",
       "Name: Var2, dtype: object"
      ]
     },
     "execution_count": 154,
     "metadata": {},
     "output_type": "execute_result"
    }
   ],
   "source": [
    "#statystyki dla zmiennej \n",
    "X['Var2'].describe()"
   ]
  },
  {
   "cell_type": "code",
   "execution_count": 155,
   "metadata": {},
   "outputs": [
    {
     "data": {
      "text/plain": [
       "(array([3.3032e+04, 3.7280e+04, 1.4210e+04, 0.0000e+00, 1.3150e+03,\n",
       "        5.4400e+02, 6.3400e+02, 5.0000e+00]),\n",
       " array([0.  , 0.75, 1.5 , 2.25, 3.  , 3.75, 4.5 , 5.25, 6.  ]),\n",
       " <a list of 8 Patch objects>)"
      ]
     },
     "execution_count": 155,
     "metadata": {},
     "output_type": "execute_result"
    },
    {
     "data": {
      "image/png": "[encoded data removed]",
      "text/plain": [
       "<Figure size 720x720 with 1 Axes>"
      ]
     },
     "metadata": {
      "needs_background": "light"
     },
     "output_type": "display_data"
    }
   ],
   "source": [
    "#rozklad zmiennych\n",
    "plt.figure(figsize=(10,10))\n",
    "plt.hist(X['Var2'],bins=8)\n",
    "#plt.yscale('log')\n",
    "#plt.xscale('log')"
   ]
  },
  {
   "cell_type": "code",
   "execution_count": null,
   "metadata": {},
   "outputs": [],
   "source": []
  },
  {
   "cell_type": "code",
   "execution_count": 156,
   "metadata": {},
   "outputs": [
    {
     "data": {
      "text/plain": [
       "S122    38567\n",
       "S133    29885\n",
       "S159     5599\n",
       "S143     4332\n",
       "S127     1931\n",
       "S137     1724\n",
       "S134     1301\n",
       "S161      769\n",
       "S151      720\n",
       "S157      650\n",
       "S153      494\n",
       "S156      308\n",
       "S144      299\n",
       "S158      208\n",
       "S123       73\n",
       "S141       57\n",
       "S162       36\n",
       "S124       24\n",
       "S160       11\n",
       "S150       10\n",
       "S155        4\n",
       "S138        3\n",
       "S139        3\n",
       "S129        3\n",
       "S136        3\n",
       "S135        2\n",
       "S154        1\n",
       "S125        1\n",
       "S130        1\n",
       "S140        1\n",
       "Name: Source, dtype: int64"
      ]
     },
     "execution_count": 156,
     "metadata": {},
     "output_type": "execute_result"
    }
   ],
   "source": [
    "#zmienna Source categorical multiple level\n",
    "X['Source'].value_counts()"
   ]
  },
  {
   "cell_type": "code",
   "execution_count": 157,
   "metadata": {},
   "outputs": [
    {
     "name": "stdout",
     "output_type": "stream",
     "text": [
      "missing percentage: 0.0\n"
     ]
    }
   ],
   "source": [
    "#brakujace wartości\n",
    "calc_missing_values(X['Source'])"
   ]
  },
  {
   "cell_type": "code",
   "execution_count": 158,
   "metadata": {},
   "outputs": [
    {
     "data": {
      "text/plain": [
       "count     87020\n",
       "unique       30\n",
       "top        S122\n",
       "freq      38567\n",
       "Name: Source, dtype: object"
      ]
     },
     "execution_count": 158,
     "metadata": {},
     "output_type": "execute_result"
    }
   ],
   "source": [
    "#statystyki dla zmiennej \n",
    "X['Source'].describe()"
   ]
  },
  {
   "cell_type": "code",
   "execution_count": 159,
   "metadata": {},
   "outputs": [
    {
     "data": {
      "text/plain": [
       "(array([3.8567e+04, 4.3320e+03, 1.3010e+03, 2.9885e+04, 5.5990e+03,\n",
       "        7.2000e+02, 1.7240e+03, 1.9310e+03, 2.9900e+02, 7.3000e+01,\n",
       "        3.0800e+02, 4.9400e+02, 2.4000e+01, 7.6900e+02, 3.0000e+00,\n",
       "        0.0000e+00, 1.0000e+00, 6.5000e+02, 3.0000e+00, 3.6000e+01,\n",
       "        5.7000e+01, 2.0800e+02, 1.0000e+00, 3.0000e+00, 3.0000e+00,\n",
       "        1.0000e+00, 4.0000e+00, 1.1000e+01, 1.0000e+01, 2.0000e+00,\n",
       "        1.0000e+00]),\n",
       " array([ 0.        ,  0.93548387,  1.87096774,  2.80645161,  3.74193548,\n",
       "         4.67741935,  5.61290323,  6.5483871 ,  7.48387097,  8.41935484,\n",
       "         9.35483871, 10.29032258, 11.22580645, 12.16129032, 13.09677419,\n",
       "        14.03225806, 14.96774194, 15.90322581, 16.83870968, 17.77419355,\n",
       "        18.70967742, 19.64516129, 20.58064516, 21.51612903, 22.4516129 ,\n",
       "        23.38709677, 24.32258065, 25.25806452, 26.19354839, 27.12903226,\n",
       "        28.06451613, 29.        ]),\n",
       " <a list of 31 Patch objects>)"
      ]
     },
     "execution_count": 159,
     "metadata": {},
     "output_type": "execute_result"
    },
    {
     "data": {
      "image/png": "[encoded data removed]",
      "text/plain": [
       "<Figure size 1440x720 with 1 Axes>"
      ]
     },
     "metadata": {
      "needs_background": "light"
     },
     "output_type": "display_data"
    }
   ],
   "source": [
    "#rozklad zmiennych\n",
    "plt.figure(figsize=(20,10))\n",
    "plt.hist(X['Source'],bins=31)\n",
    "#plt.yscale('log')\n",
    "#plt.xscale('log')"
   ]
  },
  {
   "cell_type": "code",
   "execution_count": null,
   "metadata": {},
   "outputs": [],
   "source": []
  },
  {
   "cell_type": "code",
   "execution_count": 160,
   "metadata": {},
   "outputs": [
    {
     "data": {
      "text/plain": [
       "3    25260\n",
       "1    23906\n",
       "5    20266\n",
       "4     6577\n",
       "2     5931\n",
       "0     2546\n",
       "7     2302\n",
       "6      232\n",
       "Name: Var4, dtype: int64"
      ]
     },
     "execution_count": 160,
     "metadata": {},
     "output_type": "execute_result"
    }
   ],
   "source": [
    "#zmienna Var4 categorical multiple level\n",
    "X['Var4'].value_counts()"
   ]
  },
  {
   "cell_type": "code",
   "execution_count": 161,
   "metadata": {},
   "outputs": [
    {
     "name": "stdout",
     "output_type": "stream",
     "text": [
      "missing percentage: 0.0\n"
     ]
    }
   ],
   "source": [
    "#brakujace wartości\n",
    "calc_missing_values(X['Var4'])"
   ]
  },
  {
   "cell_type": "code",
   "execution_count": 162,
   "metadata": {},
   "outputs": [
    {
     "data": {
      "text/plain": [
       "count    87020.000000\n",
       "mean         2.949805\n",
       "std          1.697720\n",
       "min          0.000000\n",
       "25%          1.000000\n",
       "50%          3.000000\n",
       "75%          5.000000\n",
       "max          7.000000\n",
       "Name: Var4, dtype: float64"
      ]
     },
     "execution_count": 162,
     "metadata": {},
     "output_type": "execute_result"
    }
   ],
   "source": [
    "#statystyki dla zmiennej \n",
    "X['Var4'].describe()"
   ]
  },
  {
   "cell_type": "code",
   "execution_count": 163,
   "metadata": {},
   "outputs": [
    {
     "data": {
      "text/plain": [
       "(array([ 2546.,     0.,     0.,     0., 23906.,     0.,     0.,     0.,\n",
       "         5931.,     0.,     0.,     0.,     0., 25260.,     0.,     0.,\n",
       "            0.,  6577.,     0.,     0.,     0.,     0., 20266.,     0.,\n",
       "            0.,     0.,   232.,     0.,     0.,     0.,  2302.]),\n",
       " array([0.        , 0.22580645, 0.4516129 , 0.67741935, 0.90322581,\n",
       "        1.12903226, 1.35483871, 1.58064516, 1.80645161, 2.03225806,\n",
       "        2.25806452, 2.48387097, 2.70967742, 2.93548387, 3.16129032,\n",
       "        3.38709677, 3.61290323, 3.83870968, 4.06451613, 4.29032258,\n",
       "        4.51612903, 4.74193548, 4.96774194, 5.19354839, 5.41935484,\n",
       "        5.64516129, 5.87096774, 6.09677419, 6.32258065, 6.5483871 ,\n",
       "        6.77419355, 7.        ]),\n",
       " <a list of 31 Patch objects>)"
      ]
     },
     "execution_count": 163,
     "metadata": {},
     "output_type": "execute_result"
    },
    {
     "data": {
      "image/png": "[encoded data removed]",
      "text/plain": [
       "<Figure size 720x720 with 1 Axes>"
      ]
     },
     "metadata": {
      "needs_background": "light"
     },
     "output_type": "display_data"
    }
   ],
   "source": [
    "#rozklad zmiennych\n",
    "plt.figure(figsize=(10,10))\n",
    "plt.hist(X['Var4'],bins=31)\n",
    "#plt.yscale('log')\n",
    "#plt.xscale('log')"
   ]
  },
  {
   "cell_type": "code",
   "execution_count": null,
   "metadata": {},
   "outputs": [],
   "source": []
  },
  {
   "cell_type": "markdown",
   "metadata": {},
   "source": [
    "## zaczynamy modelowanie"
   ]
  },
  {
   "cell_type": "code",
   "execution_count": 164,
   "metadata": {},
   "outputs": [],
   "source": [
    "#wstepne modeloweanie przy zalozeniu ze zmienne mamy oczyszczone, przygotowane w pierwszej czesci notebooka"
   ]
  },
  {
   "cell_type": "code",
   "execution_count": 165,
   "metadata": {},
   "outputs": [
    {
     "name": "stdout",
     "output_type": "stream",
     "text": [
      "Q1 {} 9.711176264112805\n",
      "Q3 {} 10.596659732783579\n"
     ]
    },
    {
     "data": {
      "text/html": [
       "<div>\n",
       "<style scoped>\n",
       "    .dataframe tbody tr th:only-of-type {\n",
       "        vertical-align: middle;\n",
       "    }\n",
       "\n",
       "    .dataframe tbody tr th {\n",
       "        vertical-align: top;\n",
       "    }\n",
       "\n",
       "    .dataframe thead th {\n",
       "        text-align: right;\n",
       "    }\n",
       "</style>\n",
       "<table border=\"1\" class=\"dataframe\">\n",
       "  <thead>\n",
       "    <tr style=\"text-align: right;\">\n",
       "      <th></th>\n",
       "      <th>Gender</th>\n",
       "      <th>City</th>\n",
       "      <th>Monthly_Income</th>\n",
       "      <th>DOB</th>\n",
       "      <th>Lead_Creation_Date</th>\n",
       "      <th>Loan_Amount_Applied</th>\n",
       "      <th>Loan_Tenure_Applied</th>\n",
       "      <th>Existing_EMI</th>\n",
       "      <th>Employer_Name</th>\n",
       "      <th>Salary_Account</th>\n",
       "      <th>...</th>\n",
       "      <th>EMI_Loan_Submitted</th>\n",
       "      <th>Filled_Form</th>\n",
       "      <th>Device_Type</th>\n",
       "      <th>Var2</th>\n",
       "      <th>Source</th>\n",
       "      <th>Var4</th>\n",
       "      <th>AGE</th>\n",
       "      <th>LEAD_CREATION_YEAR</th>\n",
       "      <th>LEAD_CREATION_MONTH</th>\n",
       "      <th>LEAD_CREATION_DAY</th>\n",
       "    </tr>\n",
       "  </thead>\n",
       "  <tbody>\n",
       "    <tr>\n",
       "      <th>27</th>\n",
       "      <td>0</td>\n",
       "      <td>Delhi</td>\n",
       "      <td>7.972811</td>\n",
       "      <td>1982-07-22</td>\n",
       "      <td>2015-05-01</td>\n",
       "      <td>0.000000</td>\n",
       "      <td>0.0</td>\n",
       "      <td>0.000000</td>\n",
       "      <td>INVENTIV INTERNATIONAL PHARMA SERVICES P LTD</td>\n",
       "      <td>Standard Chartered Bank</td>\n",
       "      <td>...</td>\n",
       "      <td>9.305699</td>\n",
       "      <td>0</td>\n",
       "      <td>0</td>\n",
       "      <td>C</td>\n",
       "      <td>S133</td>\n",
       "      <td>1</td>\n",
       "      <td>33.000000</td>\n",
       "      <td>2015</td>\n",
       "      <td>5</td>\n",
       "      <td>1</td>\n",
       "    </tr>\n",
       "    <tr>\n",
       "      <th>29</th>\n",
       "      <td>1</td>\n",
       "      <td>Mumbai</td>\n",
       "      <td>12.206078</td>\n",
       "      <td>1985-02-05</td>\n",
       "      <td>2015-05-01</td>\n",
       "      <td>13.815512</td>\n",
       "      <td>0.0</td>\n",
       "      <td>0.000000</td>\n",
       "      <td>APT BUSINESS SERVICES LLP</td>\n",
       "      <td>State Bank of India</td>\n",
       "      <td>...</td>\n",
       "      <td>9.305699</td>\n",
       "      <td>0</td>\n",
       "      <td>1</td>\n",
       "      <td>B</td>\n",
       "      <td>S159</td>\n",
       "      <td>2</td>\n",
       "      <td>30.000000</td>\n",
       "      <td>2015</td>\n",
       "      <td>5</td>\n",
       "      <td>1</td>\n",
       "    </tr>\n",
       "    <tr>\n",
       "      <th>89</th>\n",
       "      <td>1</td>\n",
       "      <td>Vijayawada</td>\n",
       "      <td>13.304687</td>\n",
       "      <td>2068-04-01</td>\n",
       "      <td>2015-05-01</td>\n",
       "      <td>13.815512</td>\n",
       "      <td>5.0</td>\n",
       "      <td>9.615872</td>\n",
       "      <td>GOPALA KRISHNA</td>\n",
       "      <td>State Bank of India</td>\n",
       "      <td>...</td>\n",
       "      <td>9.305699</td>\n",
       "      <td>0</td>\n",
       "      <td>1</td>\n",
       "      <td>B</td>\n",
       "      <td>S133</td>\n",
       "      <td>3</td>\n",
       "      <td>29.789688</td>\n",
       "      <td>2015</td>\n",
       "      <td>5</td>\n",
       "      <td>1</td>\n",
       "    </tr>\n",
       "    <tr>\n",
       "      <th>92</th>\n",
       "      <td>0</td>\n",
       "      <td>Dibrugarh</td>\n",
       "      <td>11.928348</td>\n",
       "      <td>2059-10-21</td>\n",
       "      <td>2015-05-01</td>\n",
       "      <td>14.508658</td>\n",
       "      <td>5.0</td>\n",
       "      <td>10.532123</td>\n",
       "      <td>B.C.DAS</td>\n",
       "      <td>Allahabad Bank</td>\n",
       "      <td>...</td>\n",
       "      <td>9.305699</td>\n",
       "      <td>0</td>\n",
       "      <td>1</td>\n",
       "      <td>B</td>\n",
       "      <td>S133</td>\n",
       "      <td>3</td>\n",
       "      <td>29.789688</td>\n",
       "      <td>2015</td>\n",
       "      <td>5</td>\n",
       "      <td>1</td>\n",
       "    </tr>\n",
       "    <tr>\n",
       "      <th>107</th>\n",
       "      <td>0</td>\n",
       "      <td>Vadodara</td>\n",
       "      <td>12.078245</td>\n",
       "      <td>1995-12-26</td>\n",
       "      <td>2015-05-01</td>\n",
       "      <td>11.082158</td>\n",
       "      <td>1.0</td>\n",
       "      <td>0.000000</td>\n",
       "      <td>TYPE SLOWLY FOR AUTO FILL</td>\n",
       "      <td>ICICI Bank</td>\n",
       "      <td>...</td>\n",
       "      <td>9.305699</td>\n",
       "      <td>0</td>\n",
       "      <td>1</td>\n",
       "      <td>B</td>\n",
       "      <td>S122</td>\n",
       "      <td>1</td>\n",
       "      <td>20.000000</td>\n",
       "      <td>2015</td>\n",
       "      <td>5</td>\n",
       "      <td>1</td>\n",
       "    </tr>\n",
       "    <tr>\n",
       "      <th>...</th>\n",
       "      <td>...</td>\n",
       "      <td>...</td>\n",
       "      <td>...</td>\n",
       "      <td>...</td>\n",
       "      <td>...</td>\n",
       "      <td>...</td>\n",
       "      <td>...</td>\n",
       "      <td>...</td>\n",
       "      <td>...</td>\n",
       "      <td>...</td>\n",
       "      <td>...</td>\n",
       "      <td>...</td>\n",
       "      <td>...</td>\n",
       "      <td>...</td>\n",
       "      <td>...</td>\n",
       "      <td>...</td>\n",
       "      <td>...</td>\n",
       "      <td>...</td>\n",
       "      <td>...</td>\n",
       "      <td>...</td>\n",
       "      <td>...</td>\n",
       "    </tr>\n",
       "    <tr>\n",
       "      <th>86818</th>\n",
       "      <td>1</td>\n",
       "      <td>Delhi</td>\n",
       "      <td>11.982935</td>\n",
       "      <td>1985-01-25</td>\n",
       "      <td>2015-07-31</td>\n",
       "      <td>13.815512</td>\n",
       "      <td>5.0</td>\n",
       "      <td>10.819798</td>\n",
       "      <td>ESCORT LTD</td>\n",
       "      <td>ICICI Bank</td>\n",
       "      <td>...</td>\n",
       "      <td>9.305699</td>\n",
       "      <td>0</td>\n",
       "      <td>1</td>\n",
       "      <td>G</td>\n",
       "      <td>S122</td>\n",
       "      <td>3</td>\n",
       "      <td>30.000000</td>\n",
       "      <td>2015</td>\n",
       "      <td>7</td>\n",
       "      <td>31</td>\n",
       "    </tr>\n",
       "    <tr>\n",
       "      <th>86824</th>\n",
       "      <td>0</td>\n",
       "      <td>Mumbai</td>\n",
       "      <td>12.858400</td>\n",
       "      <td>1983-07-08</td>\n",
       "      <td>2015-07-31</td>\n",
       "      <td>14.731802</td>\n",
       "      <td>0.0</td>\n",
       "      <td>0.000000</td>\n",
       "      <td>BHAKTIVEDANTA SWAMI MISSION SCHOOL</td>\n",
       "      <td>ICICI Bank</td>\n",
       "      <td>...</td>\n",
       "      <td>9.305699</td>\n",
       "      <td>0</td>\n",
       "      <td>1</td>\n",
       "      <td>G</td>\n",
       "      <td>S122</td>\n",
       "      <td>3</td>\n",
       "      <td>32.000000</td>\n",
       "      <td>2015</td>\n",
       "      <td>7</td>\n",
       "      <td>31</td>\n",
       "    </tr>\n",
       "    <tr>\n",
       "      <th>86858</th>\n",
       "      <td>0</td>\n",
       "      <td>Bengaluru</td>\n",
       "      <td>7.378384</td>\n",
       "      <td>1991-08-05</td>\n",
       "      <td>2015-07-31</td>\n",
       "      <td>12.611541</td>\n",
       "      <td>3.0</td>\n",
       "      <td>0.000000</td>\n",
       "      <td>P P MERCHANTSING SERVICE PVT LTD</td>\n",
       "      <td>Syndicate Bank</td>\n",
       "      <td>...</td>\n",
       "      <td>9.305699</td>\n",
       "      <td>0</td>\n",
       "      <td>1</td>\n",
       "      <td>G</td>\n",
       "      <td>S122</td>\n",
       "      <td>1</td>\n",
       "      <td>24.000000</td>\n",
       "      <td>2015</td>\n",
       "      <td>7</td>\n",
       "      <td>31</td>\n",
       "    </tr>\n",
       "    <tr>\n",
       "      <th>86879</th>\n",
       "      <td>1</td>\n",
       "      <td>Delhi</td>\n",
       "      <td>13.399997</td>\n",
       "      <td>1986-10-23</td>\n",
       "      <td>2015-07-31</td>\n",
       "      <td>0.000000</td>\n",
       "      <td>0.0</td>\n",
       "      <td>0.000000</td>\n",
       "      <td>CROMPTON GREAVES LIMITED</td>\n",
       "      <td>Axis Bank</td>\n",
       "      <td>...</td>\n",
       "      <td>9.305699</td>\n",
       "      <td>0</td>\n",
       "      <td>0</td>\n",
       "      <td>G</td>\n",
       "      <td>S122</td>\n",
       "      <td>3</td>\n",
       "      <td>29.000000</td>\n",
       "      <td>2015</td>\n",
       "      <td>7</td>\n",
       "      <td>31</td>\n",
       "    </tr>\n",
       "    <tr>\n",
       "      <th>86890</th>\n",
       "      <td>1</td>\n",
       "      <td>Hyderabad</td>\n",
       "      <td>12.611541</td>\n",
       "      <td>1986-10-29</td>\n",
       "      <td>2015-07-31</td>\n",
       "      <td>0.000000</td>\n",
       "      <td>0.0</td>\n",
       "      <td>0.000000</td>\n",
       "      <td>LOUIS DREYFUS COMMODITIES</td>\n",
       "      <td>State Bank of India</td>\n",
       "      <td>...</td>\n",
       "      <td>10.620917</td>\n",
       "      <td>1</td>\n",
       "      <td>0</td>\n",
       "      <td>G</td>\n",
       "      <td>S122</td>\n",
       "      <td>5</td>\n",
       "      <td>29.000000</td>\n",
       "      <td>2015</td>\n",
       "      <td>7</td>\n",
       "      <td>31</td>\n",
       "    </tr>\n",
       "  </tbody>\n",
       "</table>\n",
       "<p>2814 rows × 27 columns</p>\n",
       "</div>"
      ],
      "text/plain": [
       "       Gender        City  Monthly_Income        DOB Lead_Creation_Date  Loan_Amount_Applied  Loan_Tenure_Applied  Existing_EMI                                 Employer_Name           Salary_Account  ...  EMI_Loan_Submitted  Filled_Form Device_Type  Var2  Source  Var4        AGE  LEAD_CREATION_YEAR  LEAD_CREATION_MONTH  LEAD_CREATION_DAY\n",
       "27          0       Delhi        7.972811 1982-07-22         2015-05-01             0.000000                  0.0      0.000000  INVENTIV INTERNATIONAL PHARMA SERVICES P LTD  Standard Chartered Bank  ...            9.305699            0           0     C    S133     1  33.000000                2015                    5                  1\n",
       "29          1      Mumbai       12.206078 1985-02-05         2015-05-01            13.815512                  0.0      0.000000                     APT BUSINESS SERVICES LLP      State Bank of India  ...            9.305699            0           1     B    S159     2  30.000000                2015                    5                  1\n",
       "89          1  Vijayawada       13.304687 2068-04-01         2015-05-01            13.815512                  5.0      9.615872                                GOPALA KRISHNA      State Bank of India  ...            9.305699            0           1     B    S133     3  29.789688                2015                    5                  1\n",
       "92          0   Dibrugarh       11.928348 2059-10-21         2015-05-01            14.508658                  5.0     10.532123                                       B.C.DAS           Allahabad Bank  ...            9.305699            0           1     B    S133     3  29.789688                2015                    5                  1\n",
       "107         0    Vadodara       12.078245 1995-12-26         2015-05-01            11.082158                  1.0      0.000000                     TYPE SLOWLY FOR AUTO FILL               ICICI Bank  ...            9.305699            0           1     B    S122     1  20.000000                2015                    5                  1\n",
       "...       ...         ...             ...        ...                ...                  ...                  ...           ...                                           ...                      ...  ...                 ...          ...         ...   ...     ...   ...        ...                 ...                  ...                ...\n",
       "86818       1       Delhi       11.982935 1985-01-25         2015-07-31            13.815512                  5.0     10.819798                                    ESCORT LTD               ICICI Bank  ...            9.305699            0           1     G    S122     3  30.000000                2015                    7                 31\n",
       "86824       0      Mumbai       12.858400 1983-07-08         2015-07-31            14.731802                  0.0      0.000000            BHAKTIVEDANTA SWAMI MISSION SCHOOL               ICICI Bank  ...            9.305699            0           1     G    S122     3  32.000000                2015                    7                 31\n",
       "86858       0   Bengaluru        7.378384 1991-08-05         2015-07-31            12.611541                  3.0      0.000000              P P MERCHANTSING SERVICE PVT LTD           Syndicate Bank  ...            9.305699            0           1     G    S122     1  24.000000                2015                    7                 31\n",
       "86879       1       Delhi       13.399997 1986-10-23         2015-07-31             0.000000                  0.0      0.000000                      CROMPTON GREAVES LIMITED                Axis Bank  ...            9.305699            0           0     G    S122     3  29.000000                2015                    7                 31\n",
       "86890       1   Hyderabad       12.611541 1986-10-29         2015-07-31             0.000000                  0.0      0.000000                    LOUIS DREYFUS COMMODITIES       State Bank of India  ...           10.620917            1           0     G    S122     5  29.000000                2015                    7                 31\n",
       "\n",
       "[2814 rows x 27 columns]"
      ]
     },
     "metadata": {},
     "output_type": "display_data"
    },
    {
     "data": {
      "text/html": [
       "<div>\n",
       "<style scoped>\n",
       "    .dataframe tbody tr th:only-of-type {\n",
       "        vertical-align: middle;\n",
       "    }\n",
       "\n",
       "    .dataframe tbody tr th {\n",
       "        vertical-align: top;\n",
       "    }\n",
       "\n",
       "    .dataframe thead th {\n",
       "        text-align: right;\n",
       "    }\n",
       "</style>\n",
       "<table border=\"1\" class=\"dataframe\">\n",
       "  <thead>\n",
       "    <tr style=\"text-align: right;\">\n",
       "      <th></th>\n",
       "      <th>Gender</th>\n",
       "      <th>City</th>\n",
       "      <th>Monthly_Income</th>\n",
       "      <th>DOB</th>\n",
       "      <th>Lead_Creation_Date</th>\n",
       "      <th>Loan_Amount_Applied</th>\n",
       "      <th>Loan_Tenure_Applied</th>\n",
       "      <th>Existing_EMI</th>\n",
       "      <th>Employer_Name</th>\n",
       "      <th>Salary_Account</th>\n",
       "      <th>...</th>\n",
       "      <th>EMI_Loan_Submitted</th>\n",
       "      <th>Filled_Form</th>\n",
       "      <th>Device_Type</th>\n",
       "      <th>Var2</th>\n",
       "      <th>Source</th>\n",
       "      <th>Var4</th>\n",
       "      <th>AGE</th>\n",
       "      <th>LEAD_CREATION_YEAR</th>\n",
       "      <th>LEAD_CREATION_MONTH</th>\n",
       "      <th>LEAD_CREATION_DAY</th>\n",
       "    </tr>\n",
       "  </thead>\n",
       "  <tbody>\n",
       "    <tr>\n",
       "      <th>27</th>\n",
       "      <td>0</td>\n",
       "      <td>Delhi</td>\n",
       "      <td>7.972811</td>\n",
       "      <td>1982-07-22</td>\n",
       "      <td>2015-05-01</td>\n",
       "      <td>0.000000</td>\n",
       "      <td>0.0</td>\n",
       "      <td>0.000000</td>\n",
       "      <td>INVENTIV INTERNATIONAL PHARMA SERVICES P LTD</td>\n",
       "      <td>Standard Chartered Bank</td>\n",
       "      <td>...</td>\n",
       "      <td>9.305699</td>\n",
       "      <td>0</td>\n",
       "      <td>0</td>\n",
       "      <td>C</td>\n",
       "      <td>S133</td>\n",
       "      <td>1</td>\n",
       "      <td>33.000000</td>\n",
       "      <td>2015</td>\n",
       "      <td>5</td>\n",
       "      <td>1</td>\n",
       "    </tr>\n",
       "    <tr>\n",
       "      <th>29</th>\n",
       "      <td>1</td>\n",
       "      <td>Mumbai</td>\n",
       "      <td>12.206078</td>\n",
       "      <td>1985-02-05</td>\n",
       "      <td>2015-05-01</td>\n",
       "      <td>13.815512</td>\n",
       "      <td>0.0</td>\n",
       "      <td>0.000000</td>\n",
       "      <td>APT BUSINESS SERVICES LLP</td>\n",
       "      <td>State Bank of India</td>\n",
       "      <td>...</td>\n",
       "      <td>9.305699</td>\n",
       "      <td>0</td>\n",
       "      <td>1</td>\n",
       "      <td>B</td>\n",
       "      <td>S159</td>\n",
       "      <td>2</td>\n",
       "      <td>30.000000</td>\n",
       "      <td>2015</td>\n",
       "      <td>5</td>\n",
       "      <td>1</td>\n",
       "    </tr>\n",
       "    <tr>\n",
       "      <th>89</th>\n",
       "      <td>1</td>\n",
       "      <td>Vijayawada</td>\n",
       "      <td>13.304687</td>\n",
       "      <td>2068-04-01</td>\n",
       "      <td>2015-05-01</td>\n",
       "      <td>13.815512</td>\n",
       "      <td>5.0</td>\n",
       "      <td>9.615872</td>\n",
       "      <td>GOPALA KRISHNA</td>\n",
       "      <td>State Bank of India</td>\n",
       "      <td>...</td>\n",
       "      <td>9.305699</td>\n",
       "      <td>0</td>\n",
       "      <td>1</td>\n",
       "      <td>B</td>\n",
       "      <td>S133</td>\n",
       "      <td>3</td>\n",
       "      <td>29.789688</td>\n",
       "      <td>2015</td>\n",
       "      <td>5</td>\n",
       "      <td>1</td>\n",
       "    </tr>\n",
       "    <tr>\n",
       "      <th>92</th>\n",
       "      <td>0</td>\n",
       "      <td>Dibrugarh</td>\n",
       "      <td>11.928348</td>\n",
       "      <td>2059-10-21</td>\n",
       "      <td>2015-05-01</td>\n",
       "      <td>14.508658</td>\n",
       "      <td>5.0</td>\n",
       "      <td>10.532123</td>\n",
       "      <td>B.C.DAS</td>\n",
       "      <td>Allahabad Bank</td>\n",
       "      <td>...</td>\n",
       "      <td>9.305699</td>\n",
       "      <td>0</td>\n",
       "      <td>1</td>\n",
       "      <td>B</td>\n",
       "      <td>S133</td>\n",
       "      <td>3</td>\n",
       "      <td>29.789688</td>\n",
       "      <td>2015</td>\n",
       "      <td>5</td>\n",
       "      <td>1</td>\n",
       "    </tr>\n",
       "    <tr>\n",
       "      <th>107</th>\n",
       "      <td>0</td>\n",
       "      <td>Vadodara</td>\n",
       "      <td>12.078245</td>\n",
       "      <td>1995-12-26</td>\n",
       "      <td>2015-05-01</td>\n",
       "      <td>11.082158</td>\n",
       "      <td>1.0</td>\n",
       "      <td>0.000000</td>\n",
       "      <td>TYPE SLOWLY FOR AUTO FILL</td>\n",
       "      <td>ICICI Bank</td>\n",
       "      <td>...</td>\n",
       "      <td>9.305699</td>\n",
       "      <td>0</td>\n",
       "      <td>1</td>\n",
       "      <td>B</td>\n",
       "      <td>S122</td>\n",
       "      <td>1</td>\n",
       "      <td>20.000000</td>\n",
       "      <td>2015</td>\n",
       "      <td>5</td>\n",
       "      <td>1</td>\n",
       "    </tr>\n",
       "    <tr>\n",
       "      <th>...</th>\n",
       "      <td>...</td>\n",
       "      <td>...</td>\n",
       "      <td>...</td>\n",
       "      <td>...</td>\n",
       "      <td>...</td>\n",
       "      <td>...</td>\n",
       "      <td>...</td>\n",
       "      <td>...</td>\n",
       "      <td>...</td>\n",
       "      <td>...</td>\n",
       "      <td>...</td>\n",
       "      <td>...</td>\n",
       "      <td>...</td>\n",
       "      <td>...</td>\n",
       "      <td>...</td>\n",
       "      <td>...</td>\n",
       "      <td>...</td>\n",
       "      <td>...</td>\n",
       "      <td>...</td>\n",
       "      <td>...</td>\n",
       "      <td>...</td>\n",
       "    </tr>\n",
       "    <tr>\n",
       "      <th>86818</th>\n",
       "      <td>1</td>\n",
       "      <td>Delhi</td>\n",
       "      <td>11.982935</td>\n",
       "      <td>1985-01-25</td>\n",
       "      <td>2015-07-31</td>\n",
       "      <td>13.815512</td>\n",
       "      <td>5.0</td>\n",
       "      <td>10.819798</td>\n",
       "      <td>ESCORT LTD</td>\n",
       "      <td>ICICI Bank</td>\n",
       "      <td>...</td>\n",
       "      <td>9.305699</td>\n",
       "      <td>0</td>\n",
       "      <td>1</td>\n",
       "      <td>G</td>\n",
       "      <td>S122</td>\n",
       "      <td>3</td>\n",
       "      <td>30.000000</td>\n",
       "      <td>2015</td>\n",
       "      <td>7</td>\n",
       "      <td>31</td>\n",
       "    </tr>\n",
       "    <tr>\n",
       "      <th>86824</th>\n",
       "      <td>0</td>\n",
       "      <td>Mumbai</td>\n",
       "      <td>12.858400</td>\n",
       "      <td>1983-07-08</td>\n",
       "      <td>2015-07-31</td>\n",
       "      <td>14.731802</td>\n",
       "      <td>0.0</td>\n",
       "      <td>0.000000</td>\n",
       "      <td>BHAKTIVEDANTA SWAMI MISSION SCHOOL</td>\n",
       "      <td>ICICI Bank</td>\n",
       "      <td>...</td>\n",
       "      <td>9.305699</td>\n",
       "      <td>0</td>\n",
       "      <td>1</td>\n",
       "      <td>G</td>\n",
       "      <td>S122</td>\n",
       "      <td>3</td>\n",
       "      <td>32.000000</td>\n",
       "      <td>2015</td>\n",
       "      <td>7</td>\n",
       "      <td>31</td>\n",
       "    </tr>\n",
       "    <tr>\n",
       "      <th>86858</th>\n",
       "      <td>0</td>\n",
       "      <td>Bengaluru</td>\n",
       "      <td>7.378384</td>\n",
       "      <td>1991-08-05</td>\n",
       "      <td>2015-07-31</td>\n",
       "      <td>12.611541</td>\n",
       "      <td>3.0</td>\n",
       "      <td>0.000000</td>\n",
       "      <td>P P MERCHANTSING SERVICE PVT LTD</td>\n",
       "      <td>Syndicate Bank</td>\n",
       "      <td>...</td>\n",
       "      <td>9.305699</td>\n",
       "      <td>0</td>\n",
       "      <td>1</td>\n",
       "      <td>G</td>\n",
       "      <td>S122</td>\n",
       "      <td>1</td>\n",
       "      <td>24.000000</td>\n",
       "      <td>2015</td>\n",
       "      <td>7</td>\n",
       "      <td>31</td>\n",
       "    </tr>\n",
       "    <tr>\n",
       "      <th>86879</th>\n",
       "      <td>1</td>\n",
       "      <td>Delhi</td>\n",
       "      <td>13.399997</td>\n",
       "      <td>1986-10-23</td>\n",
       "      <td>2015-07-31</td>\n",
       "      <td>0.000000</td>\n",
       "      <td>0.0</td>\n",
       "      <td>0.000000</td>\n",
       "      <td>CROMPTON GREAVES LIMITED</td>\n",
       "      <td>Axis Bank</td>\n",
       "      <td>...</td>\n",
       "      <td>9.305699</td>\n",
       "      <td>0</td>\n",
       "      <td>0</td>\n",
       "      <td>G</td>\n",
       "      <td>S122</td>\n",
       "      <td>3</td>\n",
       "      <td>29.000000</td>\n",
       "      <td>2015</td>\n",
       "      <td>7</td>\n",
       "      <td>31</td>\n",
       "    </tr>\n",
       "    <tr>\n",
       "      <th>86890</th>\n",
       "      <td>1</td>\n",
       "      <td>Hyderabad</td>\n",
       "      <td>12.611541</td>\n",
       "      <td>1986-10-29</td>\n",
       "      <td>2015-07-31</td>\n",
       "      <td>0.000000</td>\n",
       "      <td>0.0</td>\n",
       "      <td>0.000000</td>\n",
       "      <td>LOUIS DREYFUS COMMODITIES</td>\n",
       "      <td>State Bank of India</td>\n",
       "      <td>...</td>\n",
       "      <td>10.620917</td>\n",
       "      <td>1</td>\n",
       "      <td>0</td>\n",
       "      <td>G</td>\n",
       "      <td>S122</td>\n",
       "      <td>5</td>\n",
       "      <td>29.000000</td>\n",
       "      <td>2015</td>\n",
       "      <td>7</td>\n",
       "      <td>31</td>\n",
       "    </tr>\n",
       "  </tbody>\n",
       "</table>\n",
       "<p>2814 rows × 27 columns</p>\n",
       "</div>"
      ],
      "text/plain": [
       "       Gender        City  Monthly_Income        DOB Lead_Creation_Date  Loan_Amount_Applied  Loan_Tenure_Applied  Existing_EMI                                 Employer_Name           Salary_Account  ...  EMI_Loan_Submitted  Filled_Form Device_Type  Var2  Source  Var4        AGE  LEAD_CREATION_YEAR  LEAD_CREATION_MONTH  LEAD_CREATION_DAY\n",
       "27          0       Delhi        7.972811 1982-07-22         2015-05-01             0.000000                  0.0      0.000000  INVENTIV INTERNATIONAL PHARMA SERVICES P LTD  Standard Chartered Bank  ...            9.305699            0           0     C    S133     1  33.000000                2015                    5                  1\n",
       "29          1      Mumbai       12.206078 1985-02-05         2015-05-01            13.815512                  0.0      0.000000                     APT BUSINESS SERVICES LLP      State Bank of India  ...            9.305699            0           1     B    S159     2  30.000000                2015                    5                  1\n",
       "89          1  Vijayawada       13.304687 2068-04-01         2015-05-01            13.815512                  5.0      9.615872                                GOPALA KRISHNA      State Bank of India  ...            9.305699            0           1     B    S133     3  29.789688                2015                    5                  1\n",
       "92          0   Dibrugarh       11.928348 2059-10-21         2015-05-01            14.508658                  5.0     10.532123                                       B.C.DAS           Allahabad Bank  ...            9.305699            0           1     B    S133     3  29.789688                2015                    5                  1\n",
       "107         0    Vadodara       12.078245 1995-12-26         2015-05-01            11.082158                  1.0      0.000000                     TYPE SLOWLY FOR AUTO FILL               ICICI Bank  ...            9.305699            0           1     B    S122     1  20.000000                2015                    5                  1\n",
       "...       ...         ...             ...        ...                ...                  ...                  ...           ...                                           ...                      ...  ...                 ...          ...         ...   ...     ...   ...        ...                 ...                  ...                ...\n",
       "86818       1       Delhi       11.982935 1985-01-25         2015-07-31            13.815512                  5.0     10.819798                                    ESCORT LTD               ICICI Bank  ...            9.305699            0           1     G    S122     3  30.000000                2015                    7                 31\n",
       "86824       0      Mumbai       12.858400 1983-07-08         2015-07-31            14.731802                  0.0      0.000000            BHAKTIVEDANTA SWAMI MISSION SCHOOL               ICICI Bank  ...            9.305699            0           1     G    S122     3  32.000000                2015                    7                 31\n",
       "86858       0   Bengaluru        7.378384 1991-08-05         2015-07-31            12.611541                  3.0      0.000000              P P MERCHANTSING SERVICE PVT LTD           Syndicate Bank  ...            9.305699            0           1     G    S122     1  24.000000                2015                    7                 31\n",
       "86879       1       Delhi       13.399997 1986-10-23         2015-07-31             0.000000                  0.0      0.000000                      CROMPTON GREAVES LIMITED                Axis Bank  ...            9.305699            0           0     G    S122     3  29.000000                2015                    7                 31\n",
       "86890       1   Hyderabad       12.611541 1986-10-29         2015-07-31             0.000000                  0.0      0.000000                    LOUIS DREYFUS COMMODITIES       State Bank of India  ...           10.620917            1           0     G    S122     5  29.000000                2015                    7                 31\n",
       "\n",
       "[2814 rows x 27 columns]"
      ]
     },
     "execution_count": 165,
     "metadata": {},
     "output_type": "execute_result"
    }
   ],
   "source": [
    "outliers_detection(X,'Monthly_Income')"
   ]
  },
  {
   "cell_type": "code",
   "execution_count": null,
   "metadata": {},
   "outputs": [],
   "source": []
  },
  {
   "cell_type": "code",
   "execution_count": 166,
   "metadata": {},
   "outputs": [],
   "source": [
    "#zobaczmy co jeszcze mozna by robić  pod kątem PCA\n",
    "#zależności pair plot\n",
    "#import seaborn as sns\n",
    "#plt.figure(figsize=(100,100))\n",
    "#sns.set(rc={'figure.figsize':(100,100)})\n",
    "#sns.pairplot(data=X, height=5,aspect=1)\n",
    "#plt.show()"
   ]
  },
  {
   "cell_type": "code",
   "execution_count": 167,
   "metadata": {},
   "outputs": [
    {
     "data": {
      "image/png": "[encoded data removed]",
      "text/plain": [
       "<Figure size 1440x1440 with 1 Axes>"
      ]
     },
     "metadata": {
      "needs_background": "light"
     },
     "output_type": "display_data"
    }
   ],
   "source": [
    "#heatmap\n",
    "import seaborn as sns\n",
    "plt.figure(figsize=(20,20))\n",
    "dcorr = X.corr()\n",
    "sns.heatmap(dcorr, xticklabels=dcorr.columns,yticklabels=dcorr.columns, square=True, annot=True,cbar=False);\n",
    "\n"
   ]
  },
  {
   "cell_type": "code",
   "execution_count": 168,
   "metadata": {},
   "outputs": [
    {
     "data": {
      "text/html": [
       "<div>\n",
       "<style scoped>\n",
       "    .dataframe tbody tr th:only-of-type {\n",
       "        vertical-align: middle;\n",
       "    }\n",
       "\n",
       "    .dataframe tbody tr th {\n",
       "        vertical-align: top;\n",
       "    }\n",
       "\n",
       "    .dataframe thead th {\n",
       "        text-align: right;\n",
       "    }\n",
       "</style>\n",
       "<table border=\"1\" class=\"dataframe\">\n",
       "  <thead>\n",
       "    <tr style=\"text-align: right;\">\n",
       "      <th></th>\n",
       "      <th>Gender</th>\n",
       "      <th>Monthly_Income</th>\n",
       "      <th>Loan_Amount_Applied</th>\n",
       "      <th>Loan_Tenure_Applied</th>\n",
       "      <th>Existing_EMI</th>\n",
       "      <th>Mobile_Verified</th>\n",
       "      <th>Var5</th>\n",
       "      <th>Loan_Amount_Submitted</th>\n",
       "      <th>Loan_Tenure_Submitted</th>\n",
       "      <th>Interest_Rate</th>\n",
       "      <th>Processing_Fee</th>\n",
       "      <th>EMI_Loan_Submitted</th>\n",
       "      <th>Filled_Form</th>\n",
       "      <th>Device_Type</th>\n",
       "      <th>Var4</th>\n",
       "      <th>AGE</th>\n",
       "      <th>LEAD_CREATION_YEAR</th>\n",
       "      <th>LEAD_CREATION_MONTH</th>\n",
       "      <th>LEAD_CREATION_DAY</th>\n",
       "    </tr>\n",
       "  </thead>\n",
       "  <tbody>\n",
       "    <tr>\n",
       "      <th>Gender</th>\n",
       "      <td>1.000000</td>\n",
       "      <td>0.196988</td>\n",
       "      <td>-0.170526</td>\n",
       "      <td>-0.099423</td>\n",
       "      <td>-0.158706</td>\n",
       "      <td>8.515146e-01</td>\n",
       "      <td>0.345375</td>\n",
       "      <td>-0.160956</td>\n",
       "      <td>-0.022255</td>\n",
       "      <td>-5.286707e-03</td>\n",
       "      <td>-0.138845</td>\n",
       "      <td>-0.113823</td>\n",
       "      <td>0.322160</td>\n",
       "      <td>-0.129208</td>\n",
       "      <td>0.433722</td>\n",
       "      <td>0.108988</td>\n",
       "      <td>NaN</td>\n",
       "      <td>0.023422</td>\n",
       "      <td>-0.019285</td>\n",
       "    </tr>\n",
       "    <tr>\n",
       "      <th>Monthly_Income</th>\n",
       "      <td>0.196988</td>\n",
       "      <td>1.000000</td>\n",
       "      <td>0.163451</td>\n",
       "      <td>0.137443</td>\n",
       "      <td>0.136766</td>\n",
       "      <td>2.361212e-01</td>\n",
       "      <td>0.508358</td>\n",
       "      <td>0.158439</td>\n",
       "      <td>-0.024701</td>\n",
       "      <td>-1.846007e-01</td>\n",
       "      <td>0.067162</td>\n",
       "      <td>0.126761</td>\n",
       "      <td>0.091688</td>\n",
       "      <td>0.096592</td>\n",
       "      <td>0.160884</td>\n",
       "      <td>0.177150</td>\n",
       "      <td>NaN</td>\n",
       "      <td>-0.043103</td>\n",
       "      <td>0.027169</td>\n",
       "    </tr>\n",
       "    <tr>\n",
       "      <th>Loan_Amount_Applied</th>\n",
       "      <td>-0.170526</td>\n",
       "      <td>0.163451</td>\n",
       "      <td>1.000000</td>\n",
       "      <td>0.751951</td>\n",
       "      <td>0.459644</td>\n",
       "      <td>-1.748851e-01</td>\n",
       "      <td>0.271116</td>\n",
       "      <td>-0.226220</td>\n",
       "      <td>-0.201150</td>\n",
       "      <td>-5.715075e-02</td>\n",
       "      <td>-0.160948</td>\n",
       "      <td>-0.179164</td>\n",
       "      <td>-0.195160</td>\n",
       "      <td>0.833625</td>\n",
       "      <td>-0.071803</td>\n",
       "      <td>0.092533</td>\n",
       "      <td>NaN</td>\n",
       "      <td>-0.069330</td>\n",
       "      <td>0.026938</td>\n",
       "    </tr>\n",
       "    <tr>\n",
       "      <th>Loan_Tenure_Applied</th>\n",
       "      <td>-0.099423</td>\n",
       "      <td>0.137443</td>\n",
       "      <td>0.751951</td>\n",
       "      <td>1.000000</td>\n",
       "      <td>0.359312</td>\n",
       "      <td>-1.040076e-01</td>\n",
       "      <td>0.240437</td>\n",
       "      <td>-0.044046</td>\n",
       "      <td>0.106999</td>\n",
       "      <td>-7.659933e-02</td>\n",
       "      <td>-0.055357</td>\n",
       "      <td>-0.119759</td>\n",
       "      <td>-0.146462</td>\n",
       "      <td>0.626565</td>\n",
       "      <td>-0.108153</td>\n",
       "      <td>0.109865</td>\n",
       "      <td>NaN</td>\n",
       "      <td>-0.070801</td>\n",
       "      <td>0.018295</td>\n",
       "    </tr>\n",
       "    <tr>\n",
       "      <th>Existing_EMI</th>\n",
       "      <td>-0.158706</td>\n",
       "      <td>0.136766</td>\n",
       "      <td>0.459644</td>\n",
       "      <td>0.359312</td>\n",
       "      <td>1.000000</td>\n",
       "      <td>-2.002121e-01</td>\n",
       "      <td>0.054786</td>\n",
       "      <td>-0.144186</td>\n",
       "      <td>-0.064234</td>\n",
       "      <td>-1.986066e-02</td>\n",
       "      <td>-0.096945</td>\n",
       "      <td>-0.134568</td>\n",
       "      <td>-0.132901</td>\n",
       "      <td>0.411501</td>\n",
       "      <td>-0.152106</td>\n",
       "      <td>0.107329</td>\n",
       "      <td>NaN</td>\n",
       "      <td>-0.041127</td>\n",
       "      <td>0.006885</td>\n",
       "    </tr>\n",
       "    <tr>\n",
       "      <th>Mobile_Verified</th>\n",
       "      <td>0.851515</td>\n",
       "      <td>0.236121</td>\n",
       "      <td>-0.174885</td>\n",
       "      <td>-0.104008</td>\n",
       "      <td>-0.200212</td>\n",
       "      <td>1.000000e+00</td>\n",
       "      <td>0.424420</td>\n",
       "      <td>-0.197489</td>\n",
       "      <td>-0.053102</td>\n",
       "      <td>1.256666e-14</td>\n",
       "      <td>-0.157292</td>\n",
       "      <td>-0.122054</td>\n",
       "      <td>0.394109</td>\n",
       "      <td>-0.153188</td>\n",
       "      <td>0.526703</td>\n",
       "      <td>0.116421</td>\n",
       "      <td>NaN</td>\n",
       "      <td>0.011642</td>\n",
       "      <td>-0.008731</td>\n",
       "    </tr>\n",
       "    <tr>\n",
       "      <th>Var5</th>\n",
       "      <td>0.345375</td>\n",
       "      <td>0.508358</td>\n",
       "      <td>0.271116</td>\n",
       "      <td>0.240437</td>\n",
       "      <td>0.054786</td>\n",
       "      <td>4.244198e-01</td>\n",
       "      <td>1.000000</td>\n",
       "      <td>0.088215</td>\n",
       "      <td>-0.090929</td>\n",
       "      <td>-2.860519e-01</td>\n",
       "      <td>0.013590</td>\n",
       "      <td>0.077192</td>\n",
       "      <td>0.137279</td>\n",
       "      <td>0.177597</td>\n",
       "      <td>0.357712</td>\n",
       "      <td>0.186953</td>\n",
       "      <td>NaN</td>\n",
       "      <td>-0.131040</td>\n",
       "      <td>0.009326</td>\n",
       "    </tr>\n",
       "    <tr>\n",
       "      <th>Loan_Amount_Submitted</th>\n",
       "      <td>-0.160956</td>\n",
       "      <td>0.158439</td>\n",
       "      <td>-0.226220</td>\n",
       "      <td>-0.044046</td>\n",
       "      <td>-0.144186</td>\n",
       "      <td>-1.974893e-01</td>\n",
       "      <td>0.088215</td>\n",
       "      <td>1.000000</td>\n",
       "      <td>0.517460</td>\n",
       "      <td>-2.337851e-01</td>\n",
       "      <td>0.574254</td>\n",
       "      <td>0.660319</td>\n",
       "      <td>-0.082239</td>\n",
       "      <td>-0.259906</td>\n",
       "      <td>-0.140680</td>\n",
       "      <td>0.060474</td>\n",
       "      <td>NaN</td>\n",
       "      <td>-0.008768</td>\n",
       "      <td>-0.008404</td>\n",
       "    </tr>\n",
       "    <tr>\n",
       "      <th>Loan_Tenure_Submitted</th>\n",
       "      <td>-0.022255</td>\n",
       "      <td>-0.024701</td>\n",
       "      <td>-0.201150</td>\n",
       "      <td>0.106999</td>\n",
       "      <td>-0.064234</td>\n",
       "      <td>-5.310170e-02</td>\n",
       "      <td>-0.090929</td>\n",
       "      <td>0.517460</td>\n",
       "      <td>1.000000</td>\n",
       "      <td>-6.788884e-02</td>\n",
       "      <td>0.289798</td>\n",
       "      <td>0.093039</td>\n",
       "      <td>0.033472</td>\n",
       "      <td>-0.238210</td>\n",
       "      <td>-0.017071</td>\n",
       "      <td>0.038113</td>\n",
       "      <td>NaN</td>\n",
       "      <td>-0.092569</td>\n",
       "      <td>-0.041036</td>\n",
       "    </tr>\n",
       "    <tr>\n",
       "      <th>Interest_Rate</th>\n",
       "      <td>-0.005287</td>\n",
       "      <td>-0.184601</td>\n",
       "      <td>-0.057151</td>\n",
       "      <td>-0.076599</td>\n",
       "      <td>-0.019861</td>\n",
       "      <td>1.256666e-14</td>\n",
       "      <td>-0.286052</td>\n",
       "      <td>-0.233785</td>\n",
       "      <td>-0.067889</td>\n",
       "      <td>1.000000e+00</td>\n",
       "      <td>-0.034641</td>\n",
       "      <td>-0.219349</td>\n",
       "      <td>0.027084</td>\n",
       "      <td>-0.052949</td>\n",
       "      <td>0.012378</td>\n",
       "      <td>-0.055634</td>\n",
       "      <td>NaN</td>\n",
       "      <td>0.101423</td>\n",
       "      <td>0.039095</td>\n",
       "    </tr>\n",
       "    <tr>\n",
       "      <th>Processing_Fee</th>\n",
       "      <td>-0.138845</td>\n",
       "      <td>0.067162</td>\n",
       "      <td>-0.160948</td>\n",
       "      <td>-0.055357</td>\n",
       "      <td>-0.096945</td>\n",
       "      <td>-1.572922e-01</td>\n",
       "      <td>0.013590</td>\n",
       "      <td>0.574254</td>\n",
       "      <td>0.289798</td>\n",
       "      <td>-3.464069e-02</td>\n",
       "      <td>1.000000</td>\n",
       "      <td>0.731993</td>\n",
       "      <td>-0.159680</td>\n",
       "      <td>-0.166688</td>\n",
       "      <td>-0.187449</td>\n",
       "      <td>0.024198</td>\n",
       "      <td>NaN</td>\n",
       "      <td>0.001243</td>\n",
       "      <td>0.002743</td>\n",
       "    </tr>\n",
       "    <tr>\n",
       "      <th>EMI_Loan_Submitted</th>\n",
       "      <td>-0.113823</td>\n",
       "      <td>0.126761</td>\n",
       "      <td>-0.179164</td>\n",
       "      <td>-0.119759</td>\n",
       "      <td>-0.134568</td>\n",
       "      <td>-1.220539e-01</td>\n",
       "      <td>0.077192</td>\n",
       "      <td>0.660319</td>\n",
       "      <td>0.093039</td>\n",
       "      <td>-2.193485e-01</td>\n",
       "      <td>0.731993</td>\n",
       "      <td>1.000000</td>\n",
       "      <td>-0.088918</td>\n",
       "      <td>-0.199195</td>\n",
       "      <td>-0.132038</td>\n",
       "      <td>0.020803</td>\n",
       "      <td>NaN</td>\n",
       "      <td>0.023591</td>\n",
       "      <td>0.010914</td>\n",
       "    </tr>\n",
       "    <tr>\n",
       "      <th>Filled_Form</th>\n",
       "      <td>0.322160</td>\n",
       "      <td>0.091688</td>\n",
       "      <td>-0.195160</td>\n",
       "      <td>-0.146462</td>\n",
       "      <td>-0.132901</td>\n",
       "      <td>3.941093e-01</td>\n",
       "      <td>0.137279</td>\n",
       "      <td>-0.082239</td>\n",
       "      <td>0.033472</td>\n",
       "      <td>2.708410e-02</td>\n",
       "      <td>-0.159680</td>\n",
       "      <td>-0.088918</td>\n",
       "      <td>1.000000</td>\n",
       "      <td>-0.278634</td>\n",
       "      <td>0.648768</td>\n",
       "      <td>0.012804</td>\n",
       "      <td>NaN</td>\n",
       "      <td>-0.078667</td>\n",
       "      <td>0.024807</td>\n",
       "    </tr>\n",
       "    <tr>\n",
       "      <th>Device_Type</th>\n",
       "      <td>-0.129208</td>\n",
       "      <td>0.096592</td>\n",
       "      <td>0.833625</td>\n",
       "      <td>0.626565</td>\n",
       "      <td>0.411501</td>\n",
       "      <td>-1.531878e-01</td>\n",
       "      <td>0.177597</td>\n",
       "      <td>-0.259906</td>\n",
       "      <td>-0.238210</td>\n",
       "      <td>-5.294870e-02</td>\n",
       "      <td>-0.166688</td>\n",
       "      <td>-0.199195</td>\n",
       "      <td>-0.278634</td>\n",
       "      <td>1.000000</td>\n",
       "      <td>-0.123217</td>\n",
       "      <td>0.103648</td>\n",
       "      <td>NaN</td>\n",
       "      <td>0.031782</td>\n",
       "      <td>-0.031416</td>\n",
       "    </tr>\n",
       "    <tr>\n",
       "      <th>Var4</th>\n",
       "      <td>0.433722</td>\n",
       "      <td>0.160884</td>\n",
       "      <td>-0.071803</td>\n",
       "      <td>-0.108153</td>\n",
       "      <td>-0.152106</td>\n",
       "      <td>5.267029e-01</td>\n",
       "      <td>0.357712</td>\n",
       "      <td>-0.140680</td>\n",
       "      <td>-0.017071</td>\n",
       "      <td>1.237818e-02</td>\n",
       "      <td>-0.187449</td>\n",
       "      <td>-0.132038</td>\n",
       "      <td>0.648768</td>\n",
       "      <td>-0.123217</td>\n",
       "      <td>1.000000</td>\n",
       "      <td>0.083749</td>\n",
       "      <td>NaN</td>\n",
       "      <td>0.001227</td>\n",
       "      <td>0.054481</td>\n",
       "    </tr>\n",
       "    <tr>\n",
       "      <th>AGE</th>\n",
       "      <td>0.108988</td>\n",
       "      <td>0.177150</td>\n",
       "      <td>0.092533</td>\n",
       "      <td>0.109865</td>\n",
       "      <td>0.107329</td>\n",
       "      <td>1.164210e-01</td>\n",
       "      <td>0.186953</td>\n",
       "      <td>0.060474</td>\n",
       "      <td>0.038113</td>\n",
       "      <td>-5.563402e-02</td>\n",
       "      <td>0.024198</td>\n",
       "      <td>0.020803</td>\n",
       "      <td>0.012804</td>\n",
       "      <td>0.103648</td>\n",
       "      <td>0.083749</td>\n",
       "      <td>1.000000</td>\n",
       "      <td>NaN</td>\n",
       "      <td>-0.001108</td>\n",
       "      <td>-0.005746</td>\n",
       "    </tr>\n",
       "    <tr>\n",
       "      <th>LEAD_CREATION_YEAR</th>\n",
       "      <td>NaN</td>\n",
       "      <td>NaN</td>\n",
       "      <td>NaN</td>\n",
       "      <td>NaN</td>\n",
       "      <td>NaN</td>\n",
       "      <td>NaN</td>\n",
       "      <td>NaN</td>\n",
       "      <td>NaN</td>\n",
       "      <td>NaN</td>\n",
       "      <td>NaN</td>\n",
       "      <td>NaN</td>\n",
       "      <td>NaN</td>\n",
       "      <td>NaN</td>\n",
       "      <td>NaN</td>\n",
       "      <td>NaN</td>\n",
       "      <td>NaN</td>\n",
       "      <td>NaN</td>\n",
       "      <td>NaN</td>\n",
       "      <td>NaN</td>\n",
       "    </tr>\n",
       "    <tr>\n",
       "      <th>LEAD_CREATION_MONTH</th>\n",
       "      <td>0.023422</td>\n",
       "      <td>-0.043103</td>\n",
       "      <td>-0.069330</td>\n",
       "      <td>-0.070801</td>\n",
       "      <td>-0.041127</td>\n",
       "      <td>1.164189e-02</td>\n",
       "      <td>-0.131040</td>\n",
       "      <td>-0.008768</td>\n",
       "      <td>-0.092569</td>\n",
       "      <td>1.014226e-01</td>\n",
       "      <td>0.001243</td>\n",
       "      <td>0.023591</td>\n",
       "      <td>-0.078667</td>\n",
       "      <td>0.031782</td>\n",
       "      <td>0.001227</td>\n",
       "      <td>-0.001108</td>\n",
       "      <td>NaN</td>\n",
       "      <td>1.000000</td>\n",
       "      <td>0.019532</td>\n",
       "    </tr>\n",
       "    <tr>\n",
       "      <th>LEAD_CREATION_DAY</th>\n",
       "      <td>-0.019285</td>\n",
       "      <td>0.027169</td>\n",
       "      <td>0.026938</td>\n",
       "      <td>0.018295</td>\n",
       "      <td>0.006885</td>\n",
       "      <td>-8.730922e-03</td>\n",
       "      <td>0.009326</td>\n",
       "      <td>-0.008404</td>\n",
       "      <td>-0.041036</td>\n",
       "      <td>3.909548e-02</td>\n",
       "      <td>0.002743</td>\n",
       "      <td>0.010914</td>\n",
       "      <td>0.024807</td>\n",
       "      <td>-0.031416</td>\n",
       "      <td>0.054481</td>\n",
       "      <td>-0.005746</td>\n",
       "      <td>NaN</td>\n",
       "      <td>0.019532</td>\n",
       "      <td>1.000000</td>\n",
       "    </tr>\n",
       "  </tbody>\n",
       "</table>\n",
       "</div>"
      ],
      "text/plain": [
       "                         Gender  Monthly_Income  Loan_Amount_Applied  Loan_Tenure_Applied  Existing_EMI  Mobile_Verified      Var5  Loan_Amount_Submitted  Loan_Tenure_Submitted  Interest_Rate  Processing_Fee  EMI_Loan_Submitted  Filled_Form  Device_Type      Var4       AGE  LEAD_CREATION_YEAR  LEAD_CREATION_MONTH  LEAD_CREATION_DAY\n",
       "Gender                 1.000000        0.196988            -0.170526            -0.099423     -0.158706     8.515146e-01  0.345375              -0.160956              -0.022255  -5.286707e-03       -0.138845           -0.113823     0.322160    -0.129208  0.433722  0.108988                 NaN             0.023422          -0.019285\n",
       "Monthly_Income         0.196988        1.000000             0.163451             0.137443      0.136766     2.361212e-01  0.508358               0.158439              -0.024701  -1.846007e-01        0.067162            0.126761     0.091688     0.096592  0.160884  0.177150                 NaN            -0.043103           0.027169\n",
       "Loan_Amount_Applied   -0.170526        0.163451             1.000000             0.751951      0.459644    -1.748851e-01  0.271116              -0.226220              -0.201150  -5.715075e-02       -0.160948           -0.179164    -0.195160     0.833625 -0.071803  0.092533                 NaN            -0.069330           0.026938\n",
       "Loan_Tenure_Applied   -0.099423        0.137443             0.751951             1.000000      0.359312    -1.040076e-01  0.240437              -0.044046               0.106999  -7.659933e-02       -0.055357           -0.119759    -0.146462     0.626565 -0.108153  0.109865                 NaN            -0.070801           0.018295\n",
       "Existing_EMI          -0.158706        0.136766             0.459644             0.359312      1.000000    -2.002121e-01  0.054786              -0.144186              -0.064234  -1.986066e-02       -0.096945           -0.134568    -0.132901     0.411501 -0.152106  0.107329                 NaN            -0.041127           0.006885\n",
       "Mobile_Verified        0.851515        0.236121            -0.174885            -0.104008     -0.200212     1.000000e+00  0.424420              -0.197489              -0.053102   1.256666e-14       -0.157292           -0.122054     0.394109    -0.153188  0.526703  0.116421                 NaN             0.011642          -0.008731\n",
       "Var5                   0.345375        0.508358             0.271116             0.240437      0.054786     4.244198e-01  1.000000               0.088215              -0.090929  -2.860519e-01        0.013590            0.077192     0.137279     0.177597  0.357712  0.186953                 NaN            -0.131040           0.009326\n",
       "Loan_Amount_Submitted -0.160956        0.158439            -0.226220            -0.044046     -0.144186    -1.974893e-01  0.088215               1.000000               0.517460  -2.337851e-01        0.574254            0.660319    -0.082239    -0.259906 -0.140680  0.060474                 NaN            -0.008768          -0.008404\n",
       "Loan_Tenure_Submitted -0.022255       -0.024701            -0.201150             0.106999     -0.064234    -5.310170e-02 -0.090929               0.517460               1.000000  -6.788884e-02        0.289798            0.093039     0.033472    -0.238210 -0.017071  0.038113                 NaN            -0.092569          -0.041036\n",
       "Interest_Rate         -0.005287       -0.184601            -0.057151            -0.076599     -0.019861     1.256666e-14 -0.286052              -0.233785              -0.067889   1.000000e+00       -0.034641           -0.219349     0.027084    -0.052949  0.012378 -0.055634                 NaN             0.101423           0.039095\n",
       "Processing_Fee        -0.138845        0.067162            -0.160948            -0.055357     -0.096945    -1.572922e-01  0.013590               0.574254               0.289798  -3.464069e-02        1.000000            0.731993    -0.159680    -0.166688 -0.187449  0.024198                 NaN             0.001243           0.002743\n",
       "EMI_Loan_Submitted    -0.113823        0.126761            -0.179164            -0.119759     -0.134568    -1.220539e-01  0.077192               0.660319               0.093039  -2.193485e-01        0.731993            1.000000    -0.088918    -0.199195 -0.132038  0.020803                 NaN             0.023591           0.010914\n",
       "Filled_Form            0.322160        0.091688            -0.195160            -0.146462     -0.132901     3.941093e-01  0.137279              -0.082239               0.033472   2.708410e-02       -0.159680           -0.088918     1.000000    -0.278634  0.648768  0.012804                 NaN            -0.078667           0.024807\n",
       "Device_Type           -0.129208        0.096592             0.833625             0.626565      0.411501    -1.531878e-01  0.177597              -0.259906              -0.238210  -5.294870e-02       -0.166688           -0.199195    -0.278634     1.000000 -0.123217  0.103648                 NaN             0.031782          -0.031416\n",
       "Var4                   0.433722        0.160884            -0.071803            -0.108153     -0.152106     5.267029e-01  0.357712              -0.140680              -0.017071   1.237818e-02       -0.187449           -0.132038     0.648768    -0.123217  1.000000  0.083749                 NaN             0.001227           0.054481\n",
       "AGE                    0.108988        0.177150             0.092533             0.109865      0.107329     1.164210e-01  0.186953               0.060474               0.038113  -5.563402e-02        0.024198            0.020803     0.012804     0.103648  0.083749  1.000000                 NaN            -0.001108          -0.005746\n",
       "LEAD_CREATION_YEAR          NaN             NaN                  NaN                  NaN           NaN              NaN       NaN                    NaN                    NaN            NaN             NaN                 NaN          NaN          NaN       NaN       NaN                 NaN                  NaN                NaN\n",
       "LEAD_CREATION_MONTH    0.023422       -0.043103            -0.069330            -0.070801     -0.041127     1.164189e-02 -0.131040              -0.008768              -0.092569   1.014226e-01        0.001243            0.023591    -0.078667     0.031782  0.001227 -0.001108                 NaN             1.000000           0.019532\n",
       "LEAD_CREATION_DAY     -0.019285        0.027169             0.026938             0.018295      0.006885    -8.730922e-03  0.009326              -0.008404              -0.041036   3.909548e-02        0.002743            0.010914     0.024807    -0.031416  0.054481 -0.005746                 NaN             0.019532           1.000000"
      ]
     },
     "execution_count": 168,
     "metadata": {},
     "output_type": "execute_result"
    }
   ],
   "source": [
    "#heatmap\n",
    "pd.set_option('display.max_rows', 200)\n",
    "import seaborn as sns\n",
    "#plt.figure(figsize=(100,100))\n",
    "X.corr(method ='pearson')\n",
    "#print(dcorr)\n",
    "#sns.heatmap(dcorr, xticklabels=dcorr.columns,yticklabels=dcorr.columns, square=True, annot=True,cbar=False);"
   ]
  },
  {
   "cell_type": "code",
   "execution_count": 169,
   "metadata": {},
   "outputs": [
    {
     "ename": "NameError",
     "evalue": "name 'break_dupa' is not defined",
     "output_type": "error",
     "traceback": [
      "\u001b[1;31m---------------------------------------------------------------------------\u001b[0m",
      "\u001b[1;31mNameError\u001b[0m                                 Traceback (most recent call last)",
      "\u001b[1;32m<ipython-input-169-22a26e8d65d4>\u001b[0m in \u001b[0;36m<module>\u001b[1;34m\u001b[0m\n\u001b[1;32m----> 1\u001b[1;33m \u001b[0mbreak_dupa\u001b[0m\u001b[1;33m(\u001b[0m\u001b[1;36m1\u001b[0m\u001b[1;33m)\u001b[0m\u001b[1;33m\u001b[0m\u001b[1;33m\u001b[0m\u001b[0m\n\u001b[0m",
      "\u001b[1;31mNameError\u001b[0m: name 'break_dupa' is not defined"
     ]
    }
   ],
   "source": [
    "break_dupa(1)"
   ]
  },
  {
   "cell_type": "code",
   "execution_count": 170,
   "metadata": {},
   "outputs": [],
   "source": [
    "#dane mamy pozbabione nan oczysczone itd, one-hot dla zmiennych kategorycznych\n",
    "#X = pd.get_dummies(X.drop([\"name\",\"ticket\",\"home.dest\", \"survived\"], \n",
    "#                            axis=1)\n",
    "#                  )\n",
    "#\"City\",\"Employer_Name\",\"Salary_Account\"\n",
    "X = pd.get_dummies(X.drop([\"DOB\", \"Lead_Creation_Date\",\"Employer_Name\"], axis=1)\n",
    "                  )"
   ]
  },
  {
   "cell_type": "code",
   "execution_count": null,
   "metadata": {},
   "outputs": [],
   "source": [
    "from sklearn.decomposition import PCA\n",
    "from sklearn.preprocessing import scale\n",
    "\n",
    "pca = PCA()\n",
    "pca.fit(scale(X))\n",
    "plt.bar(range(1,1+pca.n_components_),pca.explained_variance_ratio_)\n",
    "plt.show()"
   ]
  },
  {
   "cell_type": "code",
   "execution_count": null,
   "metadata": {},
   "outputs": [],
   "source": [
    "n_components=10\n",
    "plt.bar(range(1,1+pca.n_components_),pca.explained_variance_ratio_)\n",
    "plt.show()"
   ]
  },
  {
   "cell_type": "code",
   "execution_count": null,
   "metadata": {},
   "outputs": [],
   "source": [
    "X.shape"
   ]
  },
  {
   "cell_type": "code",
   "execution_count": null,
   "metadata": {},
   "outputs": [],
   "source": [
    "import matplotlib.pyplot as plt\n",
    "%matplotlib inline\n",
    "plt.hist(y)"
   ]
  },
  {
   "cell_type": "code",
   "execution_count": null,
   "metadata": {},
   "outputs": [],
   "source": [
    "#unbalance ratio\n",
    "class_ratio =int((y.shape[0]-np.count_nonzero(y))/np.count_nonzero(y))\n",
    "print(class_ratio)"
   ]
  },
  {
   "cell_type": "code",
   "execution_count": null,
   "metadata": {},
   "outputs": [],
   "source": [
    "#undersampling\n",
    "X_smaller = X.values\n",
    "y_smaller = y\n",
    "\n",
    "X_smaller_0 = X_smaller[y_smaller == 0, :]\n",
    "X_smaller_1 = X_smaller[y_smaller == 1, :]\n",
    "\n",
    "print(X_smaller_0.shape, X_smaller_1.shape)\n",
    "\n",
    "indices_0_undersampled = np.random.choice(X_smaller_0.shape[0], size=X_smaller_1.shape[0], replace=False)\n",
    "\n",
    "X_undersampled_0 = X_smaller_0[indices_0_undersampled]\n",
    "\n",
    "X_undersampled = np.vstack([X_undersampled_0, X_smaller_1])\n",
    "\n",
    "y_undersampled = np.array([0]*X_undersampled_0.shape[0] + [1]*X_smaller_1.shape[0]) \n",
    "\n",
    "print(X_undersampled.shape, y_undersampled.shape)"
   ]
  },
  {
   "cell_type": "code",
   "execution_count": null,
   "metadata": {},
   "outputs": [],
   "source": [
    "X.shape"
   ]
  },
  {
   "cell_type": "code",
   "execution_count": null,
   "metadata": {},
   "outputs": [],
   "source": [
    "X_smaller_0.shape[0] + X_smaller_1.shape[0]"
   ]
  },
  {
   "cell_type": "code",
   "execution_count": 172,
   "metadata": {},
   "outputs": [],
   "source": [
    "#dzielimy na train test\n",
    "seed=123\n",
    "from sklearn.model_selection import train_test_split\n",
    "X_train, X_test, y_train, y_test = train_test_split(X, y, test_size=0.33, random_state=seed)"
   ]
  },
  {
   "cell_type": "code",
   "execution_count": 173,
   "metadata": {},
   "outputs": [
    {
     "name": "stdout",
     "output_type": "stream",
     "text": [
      "(114650, 829) (114650,)\n"
     ]
    }
   ],
   "source": [
    "#train oversampling\n",
    "#oversampling\n",
    "X_smaller = X_train.values\n",
    "y_smaller = y_train\n",
    "\n",
    "X_smaller_0 = X_smaller[y_smaller == 0, :]\n",
    "X_smaller_1 = X_smaller[y_smaller == 1, :]\n",
    "\n",
    "ratio = int(X_smaller_0.shape[0]/X_smaller_1.shape[0])\n",
    "X_oversampled_1 = np.vstack([X_smaller_1]*ratio)\n",
    "X_oversampled = np.vstack([X_smaller_0, X_oversampled_1])\n",
    "\n",
    "y_oversampled = np.array([0]*X_smaller_0.shape[0] + [1]*X_oversampled_1.shape[0]) \n",
    "\n",
    "print(X_oversampled.shape, y_oversampled.shape)\n",
    "\n",
    "#przypisz do X,y\n",
    "X_train = X_oversampled\n",
    "y_train = y_oversampled"
   ]
  },
  {
   "cell_type": "code",
   "execution_count": null,
   "metadata": {},
   "outputs": [],
   "source": [
    "ratio = X_smaller_0.shape[0]/X_smaller_1.shape[0]\n",
    "print(int(ratio))\n",
    "ratio*X_smaller_1.shape[0]"
   ]
  },
  {
   "cell_type": "code",
   "execution_count": null,
   "metadata": {},
   "outputs": [],
   "source": [
    "ratio = y.shape[0]/np.count_nonzero(y)\n",
    "print(ratio)"
   ]
  },
  {
   "cell_type": "code",
   "execution_count": null,
   "metadata": {},
   "outputs": [],
   "source": [
    "import matplotlib.pyplot as plt\n",
    "%matplotlib inline\n",
    "plt.hist(y_undersampled)"
   ]
  },
  {
   "cell_type": "code",
   "execution_count": null,
   "metadata": {},
   "outputs": [],
   "source": [
    "x_undersampled.shape"
   ]
  },
  {
   "cell_type": "code",
   "execution_count": null,
   "metadata": {},
   "outputs": [],
   "source": []
  },
  {
   "cell_type": "code",
   "execution_count": null,
   "metadata": {},
   "outputs": [],
   "source": [
    "pd.set_option('display.max_rows', 200)\n",
    "X.dtypes"
   ]
  },
  {
   "cell_type": "code",
   "execution_count": null,
   "metadata": {},
   "outputs": [],
   "source": [
    "np.all(np.isfinite(X))"
   ]
  },
  {
   "cell_type": "code",
   "execution_count": 174,
   "metadata": {},
   "outputs": [],
   "source": [
    "from sklearn.model_selection import StratifiedKFold\n",
    "kfold = StratifiedKFold(n_splits=5, shuffle=True, random_state=seed)"
   ]
  },
  {
   "cell_type": "code",
   "execution_count": null,
   "metadata": {},
   "outputs": [],
   "source": [
    "#from sklearn.model_selection import train_test_split\n",
    "#X_train, X_test, y_train, y_test = train_test_split(X, y, test_size=0.33, random_state=seed)"
   ]
  },
  {
   "cell_type": "code",
   "execution_count": 175,
   "metadata": {
    "scrolled": true
   },
   "outputs": [
    {
     "name": "stdout",
     "output_type": "stream",
     "text": [
      "Fitting 5 folds for each of 8 candidates, totalling 40 fits\n"
     ]
    },
    {
     "name": "stderr",
     "output_type": "stream",
     "text": [
      "[Parallel(n_jobs=-1)]: Using backend LokyBackend with 16 concurrent workers.\n",
      "[Parallel(n_jobs=-1)]: Done  18 out of  40 | elapsed:   54.5s remaining:  1.1min\n",
      "[Parallel(n_jobs=-1)]: Done  27 out of  40 | elapsed:  1.2min remaining:   34.5s\n",
      "[Parallel(n_jobs=-1)]: Done  36 out of  40 | elapsed:  1.5min remaining:   10.2s\n",
      "[Parallel(n_jobs=-1)]: Done  40 out of  40 | elapsed:  1.6min finished\n",
      "[Parallel(n_jobs=12)]: Using backend LokyBackend with 12 concurrent workers.\n",
      "[Parallel(n_jobs=12)]: Done   1 out of   1 | elapsed:  1.7min finished\n"
     ]
    },
    {
     "name": "stdout",
     "output_type": "stream",
     "text": [
      " accuracy_score: 0.761987672807048\n",
      " precision_score: 0.04478885255225366\n",
      " recall_score: 0.7291666666666666\n",
      " f1_score: 0.08439383791024783\n",
      " roc_auc_score: 0.7458278092039361\n",
      "Fitting 5 folds for each of 18 candidates, totalling 90 fits\n"
     ]
    },
    {
     "name": "stderr",
     "output_type": "stream",
     "text": [
      "[Parallel(n_jobs=-1)]: Using backend LokyBackend with 16 concurrent workers.\n",
      "[Parallel(n_jobs=-1)]: Done  40 tasks      | elapsed:   51.0s\n",
      "[Parallel(n_jobs=-1)]: Done  78 out of  90 | elapsed:  1.5min remaining:   13.7s\n",
      "[Parallel(n_jobs=-1)]: Done  90 out of  90 | elapsed:  1.6min finished\n"
     ]
    },
    {
     "name": "stdout",
     "output_type": "stream",
     "text": [
      " accuracy_score: 0.8169725249852005\n",
      " precision_score: 0.03382296095863935\n",
      " recall_score: 0.4050925925925926\n",
      " f1_score: 0.0624331073849447\n",
      " roc_auc_score: 0.6141779031550554\n",
      "Fitting 5 folds for each of 36 candidates, totalling 180 fits\n"
     ]
    },
    {
     "name": "stderr",
     "output_type": "stream",
     "text": [
      "[Parallel(n_jobs=-1)]: Using backend LokyBackend with 16 concurrent workers.\n"
     ]
    },
    {
     "ename": "KeyboardInterrupt",
     "evalue": "",
     "output_type": "error",
     "traceback": [
      "\u001b[1;31m---------------------------------------------------------------------------\u001b[0m",
      "\u001b[1;31mKeyboardInterrupt\u001b[0m                         Traceback (most recent call last)",
      "\u001b[1;32m<ipython-input-175-8bcaf93c8f26>\u001b[0m in \u001b[0;36m<module>\u001b[1;34m\u001b[0m\n\u001b[0;32m     87\u001b[0m \u001b[1;32mfor\u001b[0m \u001b[0mmodel\u001b[0m\u001b[1;33m,\u001b[0m \u001b[0mgrid\u001b[0m \u001b[1;32min\u001b[0m \u001b[0mzip\u001b[0m\u001b[1;33m(\u001b[0m\u001b[0mpipelines\u001b[0m\u001b[1;33m,\u001b[0m \u001b[0mparam_grids\u001b[0m\u001b[1;33m)\u001b[0m\u001b[1;33m:\u001b[0m\u001b[1;33m\u001b[0m\u001b[1;33m\u001b[0m\u001b[0m\n\u001b[0;32m     88\u001b[0m     \u001b[0mgs\u001b[0m \u001b[1;33m=\u001b[0m \u001b[0mGridSearchCV\u001b[0m\u001b[1;33m(\u001b[0m\u001b[0mmodel\u001b[0m\u001b[1;33m,\u001b[0m \u001b[0mgrid\u001b[0m\u001b[1;33m,\u001b[0m \u001b[0mcv\u001b[0m \u001b[1;33m=\u001b[0m \u001b[0mkfold\u001b[0m\u001b[1;33m,\u001b[0m\u001b[0mn_jobs\u001b[0m\u001b[1;33m=\u001b[0m\u001b[1;33m-\u001b[0m\u001b[1;36m1\u001b[0m\u001b[1;33m,\u001b[0m \u001b[0mverbose\u001b[0m\u001b[1;33m=\u001b[0m\u001b[1;36m5\u001b[0m\u001b[1;33m,\u001b[0m\u001b[0mscoring\u001b[0m\u001b[1;33m=\u001b[0m\u001b[1;34m\"roc_auc\"\u001b[0m\u001b[1;33m,\u001b[0m\u001b[0mreturn_train_score\u001b[0m\u001b[1;33m=\u001b[0m\u001b[1;32mTrue\u001b[0m\u001b[1;33m)\u001b[0m\u001b[1;33m\u001b[0m\u001b[1;33m\u001b[0m\u001b[0m\n\u001b[1;32m---> 89\u001b[1;33m     \u001b[0mgs\u001b[0m\u001b[1;33m.\u001b[0m\u001b[0mfit\u001b[0m\u001b[1;33m(\u001b[0m\u001b[0mX_train\u001b[0m\u001b[1;33m,\u001b[0m \u001b[0my_train\u001b[0m\u001b[1;33m)\u001b[0m\u001b[1;33m\u001b[0m\u001b[1;33m\u001b[0m\u001b[0m\n\u001b[0m\u001b[0;32m     90\u001b[0m     \u001b[0my_pred\u001b[0m \u001b[1;33m=\u001b[0m \u001b[0mgs\u001b[0m\u001b[1;33m.\u001b[0m\u001b[0mpredict\u001b[0m\u001b[1;33m(\u001b[0m\u001b[0mX_test\u001b[0m\u001b[1;33m)\u001b[0m\u001b[1;33m\u001b[0m\u001b[1;33m\u001b[0m\u001b[0m\n\u001b[0;32m     91\u001b[0m     \u001b[0mprint\u001b[0m\u001b[1;33m(\u001b[0m\u001b[1;34m\" accuracy_score: {}\"\u001b[0m\u001b[1;33m.\u001b[0m\u001b[0mformat\u001b[0m\u001b[1;33m(\u001b[0m\u001b[0maccuracy_score\u001b[0m\u001b[1;33m(\u001b[0m\u001b[0my_test\u001b[0m\u001b[1;33m,\u001b[0m \u001b[0my_pred\u001b[0m\u001b[1;33m)\u001b[0m\u001b[1;33m)\u001b[0m\u001b[1;33m)\u001b[0m\u001b[1;33m\u001b[0m\u001b[1;33m\u001b[0m\u001b[0m\n",
      "\u001b[1;32m~\\Anaconda3\\lib\\site-packages\\sklearn\\model_selection\\_search.py\u001b[0m in \u001b[0;36mfit\u001b[1;34m(self, X, y, groups, **fit_params)\u001b[0m\n\u001b[0;32m    708\u001b[0m                 \u001b[1;32mreturn\u001b[0m \u001b[0mresults\u001b[0m\u001b[1;33m\u001b[0m\u001b[1;33m\u001b[0m\u001b[0m\n\u001b[0;32m    709\u001b[0m \u001b[1;33m\u001b[0m\u001b[0m\n\u001b[1;32m--> 710\u001b[1;33m             \u001b[0mself\u001b[0m\u001b[1;33m.\u001b[0m\u001b[0m_run_search\u001b[0m\u001b[1;33m(\u001b[0m\u001b[0mevaluate_candidates\u001b[0m\u001b[1;33m)\u001b[0m\u001b[1;33m\u001b[0m\u001b[1;33m\u001b[0m\u001b[0m\n\u001b[0m\u001b[0;32m    711\u001b[0m \u001b[1;33m\u001b[0m\u001b[0m\n\u001b[0;32m    712\u001b[0m         \u001b[1;31m# For multi-metric evaluation, store the best_index_, best_params_ and\u001b[0m\u001b[1;33m\u001b[0m\u001b[1;33m\u001b[0m\u001b[1;33m\u001b[0m\u001b[0m\n",
      "\u001b[1;32m~\\Anaconda3\\lib\\site-packages\\sklearn\\model_selection\\_search.py\u001b[0m in \u001b[0;36m_run_search\u001b[1;34m(self, evaluate_candidates)\u001b[0m\n\u001b[0;32m   1149\u001b[0m     \u001b[1;32mdef\u001b[0m \u001b[0m_run_search\u001b[0m\u001b[1;33m(\u001b[0m\u001b[0mself\u001b[0m\u001b[1;33m,\u001b[0m \u001b[0mevaluate_candidates\u001b[0m\u001b[1;33m)\u001b[0m\u001b[1;33m:\u001b[0m\u001b[1;33m\u001b[0m\u001b[1;33m\u001b[0m\u001b[0m\n\u001b[0;32m   1150\u001b[0m         \u001b[1;34m\"\"\"Search all candidates in param_grid\"\"\"\u001b[0m\u001b[1;33m\u001b[0m\u001b[1;33m\u001b[0m\u001b[0m\n\u001b[1;32m-> 1151\u001b[1;33m         \u001b[0mevaluate_candidates\u001b[0m\u001b[1;33m(\u001b[0m\u001b[0mParameterGrid\u001b[0m\u001b[1;33m(\u001b[0m\u001b[0mself\u001b[0m\u001b[1;33m.\u001b[0m\u001b[0mparam_grid\u001b[0m\u001b[1;33m)\u001b[0m\u001b[1;33m)\u001b[0m\u001b[1;33m\u001b[0m\u001b[1;33m\u001b[0m\u001b[0m\n\u001b[0m\u001b[0;32m   1152\u001b[0m \u001b[1;33m\u001b[0m\u001b[0m\n\u001b[0;32m   1153\u001b[0m \u001b[1;33m\u001b[0m\u001b[0m\n",
      "\u001b[1;32m~\\Anaconda3\\lib\\site-packages\\sklearn\\model_selection\\_search.py\u001b[0m in \u001b[0;36mevaluate_candidates\u001b[1;34m(candidate_params)\u001b[0m\n\u001b[0;32m    687\u001b[0m                                \u001b[1;32mfor\u001b[0m \u001b[0mparameters\u001b[0m\u001b[1;33m,\u001b[0m \u001b[1;33m(\u001b[0m\u001b[0mtrain\u001b[0m\u001b[1;33m,\u001b[0m \u001b[0mtest\u001b[0m\u001b[1;33m)\u001b[0m\u001b[1;33m\u001b[0m\u001b[1;33m\u001b[0m\u001b[0m\n\u001b[0;32m    688\u001b[0m                                in product(candidate_params,\n\u001b[1;32m--> 689\u001b[1;33m                                           cv.split(X, y, groups)))\n\u001b[0m\u001b[0;32m    690\u001b[0m \u001b[1;33m\u001b[0m\u001b[0m\n\u001b[0;32m    691\u001b[0m                 \u001b[1;32mif\u001b[0m \u001b[0mlen\u001b[0m\u001b[1;33m(\u001b[0m\u001b[0mout\u001b[0m\u001b[1;33m)\u001b[0m \u001b[1;33m<\u001b[0m \u001b[1;36m1\u001b[0m\u001b[1;33m:\u001b[0m\u001b[1;33m\u001b[0m\u001b[1;33m\u001b[0m\u001b[0m\n",
      "\u001b[1;32m~\\Anaconda3\\lib\\site-packages\\joblib\\parallel.py\u001b[0m in \u001b[0;36m__call__\u001b[1;34m(self, iterable)\u001b[0m\n\u001b[0;32m   1040\u001b[0m \u001b[1;33m\u001b[0m\u001b[0m\n\u001b[0;32m   1041\u001b[0m             \u001b[1;32mwith\u001b[0m \u001b[0mself\u001b[0m\u001b[1;33m.\u001b[0m\u001b[0m_backend\u001b[0m\u001b[1;33m.\u001b[0m\u001b[0mretrieval_context\u001b[0m\u001b[1;33m(\u001b[0m\u001b[1;33m)\u001b[0m\u001b[1;33m:\u001b[0m\u001b[1;33m\u001b[0m\u001b[1;33m\u001b[0m\u001b[0m\n\u001b[1;32m-> 1042\u001b[1;33m                 \u001b[0mself\u001b[0m\u001b[1;33m.\u001b[0m\u001b[0mretrieve\u001b[0m\u001b[1;33m(\u001b[0m\u001b[1;33m)\u001b[0m\u001b[1;33m\u001b[0m\u001b[1;33m\u001b[0m\u001b[0m\n\u001b[0m\u001b[0;32m   1043\u001b[0m             \u001b[1;31m# Make sure that we get a last message telling us we are done\u001b[0m\u001b[1;33m\u001b[0m\u001b[1;33m\u001b[0m\u001b[1;33m\u001b[0m\u001b[0m\n\u001b[0;32m   1044\u001b[0m             \u001b[0melapsed_time\u001b[0m \u001b[1;33m=\u001b[0m \u001b[0mtime\u001b[0m\u001b[1;33m.\u001b[0m\u001b[0mtime\u001b[0m\u001b[1;33m(\u001b[0m\u001b[1;33m)\u001b[0m \u001b[1;33m-\u001b[0m \u001b[0mself\u001b[0m\u001b[1;33m.\u001b[0m\u001b[0m_start_time\u001b[0m\u001b[1;33m\u001b[0m\u001b[1;33m\u001b[0m\u001b[0m\n",
      "\u001b[1;32m~\\Anaconda3\\lib\\site-packages\\joblib\\parallel.py\u001b[0m in \u001b[0;36mretrieve\u001b[1;34m(self)\u001b[0m\n\u001b[0;32m    919\u001b[0m             \u001b[1;32mtry\u001b[0m\u001b[1;33m:\u001b[0m\u001b[1;33m\u001b[0m\u001b[1;33m\u001b[0m\u001b[0m\n\u001b[0;32m    920\u001b[0m                 \u001b[1;32mif\u001b[0m \u001b[0mgetattr\u001b[0m\u001b[1;33m(\u001b[0m\u001b[0mself\u001b[0m\u001b[1;33m.\u001b[0m\u001b[0m_backend\u001b[0m\u001b[1;33m,\u001b[0m \u001b[1;34m'supports_timeout'\u001b[0m\u001b[1;33m,\u001b[0m \u001b[1;32mFalse\u001b[0m\u001b[1;33m)\u001b[0m\u001b[1;33m:\u001b[0m\u001b[1;33m\u001b[0m\u001b[1;33m\u001b[0m\u001b[0m\n\u001b[1;32m--> 921\u001b[1;33m                     \u001b[0mself\u001b[0m\u001b[1;33m.\u001b[0m\u001b[0m_output\u001b[0m\u001b[1;33m.\u001b[0m\u001b[0mextend\u001b[0m\u001b[1;33m(\u001b[0m\u001b[0mjob\u001b[0m\u001b[1;33m.\u001b[0m\u001b[0mget\u001b[0m\u001b[1;33m(\u001b[0m\u001b[0mtimeout\u001b[0m\u001b[1;33m=\u001b[0m\u001b[0mself\u001b[0m\u001b[1;33m.\u001b[0m\u001b[0mtimeout\u001b[0m\u001b[1;33m)\u001b[0m\u001b[1;33m)\u001b[0m\u001b[1;33m\u001b[0m\u001b[1;33m\u001b[0m\u001b[0m\n\u001b[0m\u001b[0;32m    922\u001b[0m                 \u001b[1;32melse\u001b[0m\u001b[1;33m:\u001b[0m\u001b[1;33m\u001b[0m\u001b[1;33m\u001b[0m\u001b[0m\n\u001b[0;32m    923\u001b[0m                     \u001b[0mself\u001b[0m\u001b[1;33m.\u001b[0m\u001b[0m_output\u001b[0m\u001b[1;33m.\u001b[0m\u001b[0mextend\u001b[0m\u001b[1;33m(\u001b[0m\u001b[0mjob\u001b[0m\u001b[1;33m.\u001b[0m\u001b[0mget\u001b[0m\u001b[1;33m(\u001b[0m\u001b[1;33m)\u001b[0m\u001b[1;33m)\u001b[0m\u001b[1;33m\u001b[0m\u001b[1;33m\u001b[0m\u001b[0m\n",
      "\u001b[1;32m~\\Anaconda3\\lib\\site-packages\\joblib\\_parallel_backends.py\u001b[0m in \u001b[0;36mwrap_future_result\u001b[1;34m(future, timeout)\u001b[0m\n\u001b[0;32m    538\u001b[0m         AsyncResults.get from multiprocessing.\"\"\"\n\u001b[0;32m    539\u001b[0m         \u001b[1;32mtry\u001b[0m\u001b[1;33m:\u001b[0m\u001b[1;33m\u001b[0m\u001b[1;33m\u001b[0m\u001b[0m\n\u001b[1;32m--> 540\u001b[1;33m             \u001b[1;32mreturn\u001b[0m \u001b[0mfuture\u001b[0m\u001b[1;33m.\u001b[0m\u001b[0mresult\u001b[0m\u001b[1;33m(\u001b[0m\u001b[0mtimeout\u001b[0m\u001b[1;33m=\u001b[0m\u001b[0mtimeout\u001b[0m\u001b[1;33m)\u001b[0m\u001b[1;33m\u001b[0m\u001b[1;33m\u001b[0m\u001b[0m\n\u001b[0m\u001b[0;32m    541\u001b[0m         \u001b[1;32mexcept\u001b[0m \u001b[0mCfTimeoutError\u001b[0m\u001b[1;33m:\u001b[0m\u001b[1;33m\u001b[0m\u001b[1;33m\u001b[0m\u001b[0m\n\u001b[0;32m    542\u001b[0m             \u001b[1;32mraise\u001b[0m \u001b[0mTimeoutError\u001b[0m\u001b[1;33m(\u001b[0m\u001b[1;33m)\u001b[0m\u001b[1;33m\u001b[0m\u001b[1;33m\u001b[0m\u001b[0m\n",
      "\u001b[1;32m~\\Anaconda3\\lib\\concurrent\\futures\\_base.py\u001b[0m in \u001b[0;36mresult\u001b[1;34m(self, timeout)\u001b[0m\n\u001b[0;32m    428\u001b[0m                 \u001b[1;32mreturn\u001b[0m \u001b[0mself\u001b[0m\u001b[1;33m.\u001b[0m\u001b[0m__get_result\u001b[0m\u001b[1;33m(\u001b[0m\u001b[1;33m)\u001b[0m\u001b[1;33m\u001b[0m\u001b[1;33m\u001b[0m\u001b[0m\n\u001b[0;32m    429\u001b[0m \u001b[1;33m\u001b[0m\u001b[0m\n\u001b[1;32m--> 430\u001b[1;33m             \u001b[0mself\u001b[0m\u001b[1;33m.\u001b[0m\u001b[0m_condition\u001b[0m\u001b[1;33m.\u001b[0m\u001b[0mwait\u001b[0m\u001b[1;33m(\u001b[0m\u001b[0mtimeout\u001b[0m\u001b[1;33m)\u001b[0m\u001b[1;33m\u001b[0m\u001b[1;33m\u001b[0m\u001b[0m\n\u001b[0m\u001b[0;32m    431\u001b[0m \u001b[1;33m\u001b[0m\u001b[0m\n\u001b[0;32m    432\u001b[0m             \u001b[1;32mif\u001b[0m \u001b[0mself\u001b[0m\u001b[1;33m.\u001b[0m\u001b[0m_state\u001b[0m \u001b[1;32min\u001b[0m \u001b[1;33m[\u001b[0m\u001b[0mCANCELLED\u001b[0m\u001b[1;33m,\u001b[0m \u001b[0mCANCELLED_AND_NOTIFIED\u001b[0m\u001b[1;33m]\u001b[0m\u001b[1;33m:\u001b[0m\u001b[1;33m\u001b[0m\u001b[1;33m\u001b[0m\u001b[0m\n",
      "\u001b[1;32m~\\Anaconda3\\lib\\threading.py\u001b[0m in \u001b[0;36mwait\u001b[1;34m(self, timeout)\u001b[0m\n\u001b[0;32m    294\u001b[0m         \u001b[1;32mtry\u001b[0m\u001b[1;33m:\u001b[0m    \u001b[1;31m# restore state no matter what (e.g., KeyboardInterrupt)\u001b[0m\u001b[1;33m\u001b[0m\u001b[1;33m\u001b[0m\u001b[0m\n\u001b[0;32m    295\u001b[0m             \u001b[1;32mif\u001b[0m \u001b[0mtimeout\u001b[0m \u001b[1;32mis\u001b[0m \u001b[1;32mNone\u001b[0m\u001b[1;33m:\u001b[0m\u001b[1;33m\u001b[0m\u001b[1;33m\u001b[0m\u001b[0m\n\u001b[1;32m--> 296\u001b[1;33m                 \u001b[0mwaiter\u001b[0m\u001b[1;33m.\u001b[0m\u001b[0macquire\u001b[0m\u001b[1;33m(\u001b[0m\u001b[1;33m)\u001b[0m\u001b[1;33m\u001b[0m\u001b[1;33m\u001b[0m\u001b[0m\n\u001b[0m\u001b[0;32m    297\u001b[0m                 \u001b[0mgotit\u001b[0m \u001b[1;33m=\u001b[0m \u001b[1;32mTrue\u001b[0m\u001b[1;33m\u001b[0m\u001b[1;33m\u001b[0m\u001b[0m\n\u001b[0;32m    298\u001b[0m             \u001b[1;32melse\u001b[0m\u001b[1;33m:\u001b[0m\u001b[1;33m\u001b[0m\u001b[1;33m\u001b[0m\u001b[0m\n",
      "\u001b[1;31mKeyboardInterrupt\u001b[0m: "
     ]
    }
   ],
   "source": [
    "from sklearn.linear_model import LogisticRegression\n",
    "from sklearn.tree import DecisionTreeClassifier\n",
    "from sklearn.ensemble import RandomForestClassifier\n",
    "from sklearn.pipeline import Pipeline\n",
    "from sklearn.model_selection import GridSearchCV\n",
    "from sklearn.preprocessing import StandardScaler\n",
    "from sklearn.metrics import accuracy_score\n",
    "from sklearn.metrics import roc_auc_score\n",
    "from sklearn.metrics import precision_score\n",
    "from sklearn.metrics import recall_score\n",
    "from sklearn.metrics import f1_score\n",
    "from sklearn.svm import SVC\n",
    "\n",
    "pipelines = [\n",
    "    \n",
    "#Logistic Regression\n",
    "            Pipeline([\n",
    "    (\"scaler\", StandardScaler()),\n",
    "    (\"model\", LogisticRegression(verbose=1,n_jobs=12,random_state=seed,class_weight='balanced'))\n",
    "]),\n",
    "\n",
    "#Linear SVC\n",
    "#            Pipeline([\n",
    "#    (\"scaler\", StandardScaler()),\n",
    "#    (\"model\", SVC(verbose=True,kernel='linear',random_state=seed,probability=False,class_weight='balanced'))\n",
    "#])\n",
    "\n",
    "#RBF SVC\n",
    " #           Pipeline([\n",
    " #   (\"scaler\", StandardScaler()),\n",
    " #   (\"model\", SVC(verbose=True,random_state=seed,probability=False,class_weight='balanced'))\n",
    "#]),  \n",
    "\n",
    "#Decission Tree\n",
    "    Pipeline([\n",
    "    (\"scaler\", StandardScaler()),\n",
    "    (\"model\", DecisionTreeClassifier(class_weight='balanced',random_state=seed))\n",
    "]),\n",
    "    \n",
    "#Random Forrest\n",
    "    Pipeline([\n",
    "    (\"scaler\", StandardScaler()),\n",
    "    (\"model\", RandomForestClassifier(verbose=True,n_jobs=-1,random_state=seed, class_weight='balanced'))\n",
    "])\n",
    "    ]\n",
    "\n",
    "\n",
    "param_grids = [\n",
    "            { 'model__penalty': ['None','l2'],\n",
    "                'model__C': [0.1,1,10, 100]\n",
    "            },\n",
    "    \n",
    "#            { \n",
    "#              'model__C': [0.001,0.01,0.1,1,10,100]\n",
    "#            },\n",
    "    \n",
    "#            {'model__gamma': [0.001,0.01,0.1,1,10,100],\n",
    "#                'model__C': [0.001,0.01,0.1,1,10,100]},\n",
    "\n",
    "           { \n",
    "                'model__min_samples_leaf': [2, 5, 10],\n",
    "                'model__min_samples_split': [2, 4, 10],\n",
    "                'model__max_depth': [20, 50],\n",
    "                'model__max_features': ['sqrt']\n",
    "           },\n",
    "    \n",
    "            { \n",
    "               'model__n_estimators' : [ 20, 50],\n",
    "                'model__min_samples_leaf': [2, 5, 10],\n",
    "                'model__min_samples_split': [2, 4, 10],\n",
    "                'model__max_depth': [20, 50],\n",
    "                'model__max_features': ['sqrt']\n",
    "               }\n",
    "\n",
    "    \n",
    "    \n",
    "#           { 'model__n_estimators' : [ 100, 150, 200],\n",
    "#                'model__min_samples_leaf': [1, 2, 3, 5],\n",
    "#                'model__min_samples_split': [2, 3, 5],\n",
    "#                'model__max_depth': [5, 10, 20, 30, 50],\n",
    "#                'model__max_features': ['sqrt',0.5]\n",
    "#               }\n",
    "              ]\n",
    "\n",
    "best_classifier = []\n",
    "\n",
    "for model, grid in zip(pipelines, param_grids):\n",
    "    gs = GridSearchCV(model, grid, cv = kfold,n_jobs=-1, verbose=5,scoring=\"roc_auc\",return_train_score=True)\n",
    "    gs.fit(X_train, y_train)\n",
    "    y_pred = gs.predict(X_test)\n",
    "    print(\" accuracy_score: {}\".format(accuracy_score(y_test, y_pred)))\n",
    "    print(\" precision_score: {}\".format(precision_score(y_test, y_pred)))\n",
    "    print(\" recall_score: {}\".format(recall_score(y_test, y_pred)))\n",
    "    print(\" f1_score: {}\".format(f1_score(y_test, y_pred)))\n",
    "    print(\" roc_auc_score: {}\".format(roc_auc_score(y_test, y_pred)))\n",
    "    best_classifier.append(gs)\n"
   ]
  },
  {
   "cell_type": "code",
   "execution_count": null,
   "metadata": {},
   "outputs": [],
   "source": []
  },
  {
   "cell_type": "code",
   "execution_count": null,
   "metadata": {},
   "outputs": [],
   "source": [
    "gs"
   ]
  },
  {
   "cell_type": "code",
   "execution_count": null,
   "metadata": {},
   "outputs": [],
   "source": [
    "gs.cv_results_"
   ]
  },
  {
   "cell_type": "code",
   "execution_count": null,
   "metadata": {},
   "outputs": [],
   "source": [
    "import time;\n",
    "from joblib import dump, load\n",
    "for model in best_classifier:\n",
    "    print(model.best_params_)\n",
    "    ts = time.time()\n",
    "    dump(model, f'model_{ts}_.joblib') "
   ]
  },
  {
   "cell_type": "code",
   "execution_count": null,
   "metadata": {},
   "outputs": [],
   "source": [
    "#cross_val_predict na zbiorze treningowym, narazie nie ruszamy zbioru testowego\n",
    "from sklearn.metrics import confusion_matrix\n",
    "from sklearn.model_selection import cross_val_predict\n",
    "\n",
    "y_train_pred = cross_val_predict(gs.best_estimator_, X_train, y_train, cv=kfold)\n",
    "confusion_matrix(y_train, y_train_pred)"
   ]
  },
  {
   "cell_type": "code",
   "execution_count": null,
   "metadata": {},
   "outputs": [],
   "source": [
    "tn, fp, fn, tp = confusion_matrix(y_train, y_train_pred).ravel()\n",
    "(tn, fp, fn, tp)"
   ]
  },
  {
   "cell_type": "code",
   "execution_count": null,
   "metadata": {},
   "outputs": [],
   "source": [
    "y_pred = gs.best_estimator_.predict(X_test)\n",
    "confusion_matrix(y_test, y_pred)"
   ]
  },
  {
   "cell_type": "code",
   "execution_count": null,
   "metadata": {},
   "outputs": [],
   "source": [
    "tn, fp, fn, tp = confusion_matrix(y_test, y_pred).ravel()"
   ]
  },
  {
   "cell_type": "code",
   "execution_count": null,
   "metadata": {},
   "outputs": [],
   "source": [
    "(tn, fp, fn, tp)"
   ]
  },
  {
   "cell_type": "code",
   "execution_count": null,
   "metadata": {},
   "outputs": [],
   "source": [
    "np.count_nonzero(y_pred==np.array(y_test))"
   ]
  },
  {
   "cell_type": "code",
   "execution_count": null,
   "metadata": {},
   "outputs": [],
   "source": [
    "from sklearn.metrics import precision_score, recall_score\n",
    "print(precision_score(y_train, y_train_pred)) \n",
    "print(recall_score(y_train, y_train_pred)) "
   ]
  },
  {
   "cell_type": "code",
   "execution_count": null,
   "metadata": {},
   "outputs": [],
   "source": [
    "from sklearn.metrics import precision_score, recall_score\n",
    "print(precision_score(y_test, y_pred)) \n",
    "print(recall_score(y_test, y_pred)) "
   ]
  },
  {
   "cell_type": "code",
   "execution_count": null,
   "metadata": {},
   "outputs": [],
   "source": [
    "#random forrest classifer has not decision function\n",
    "#SCV without probablity=True use decision_function\n",
    "#logistic regression use \n",
    "#ROC curve\n",
    "y_pred = gs.best_estimator_.predict(X_test)\n",
    "\n",
    "print(y_pred)\n",
    "\n",
    "#y_scores = gs.best_estimator_.decision_function(X_test)\n",
    "y_scores = gs.best_estimator_.predict_proba(X_test).T[1]\n",
    "print(y_scores)"
   ]
  },
  {
   "cell_type": "code",
   "execution_count": null,
   "metadata": {},
   "outputs": [],
   "source": [
    "y_pred_0 = best_classifier[0].best_estimator_.predict(X_test)\n",
    "y_scores_0 = best_classifier[0].best_estimator_.decision_function(X_test)\n",
    "#y_scores = gs.best_estimator_.predict_proba(X_test).T[1]"
   ]
  },
  {
   "cell_type": "code",
   "execution_count": null,
   "metadata": {},
   "outputs": [],
   "source": [
    "y_pred_1 = best_classifier[1].best_estimator_.predict(X_test)\n",
    "y_scores_1 = best_classifier[1].best_estimator_.predict_proba(X_test).T[1]"
   ]
  },
  {
   "cell_type": "code",
   "execution_count": null,
   "metadata": {},
   "outputs": [],
   "source": [
    "y_pred_2 = best_classifier[2].best_estimator_.predict(X_test)\n",
    "y_scores_2 = best_classifier[2].best_estimator_.predict_proba(X_test).T[1]"
   ]
  },
  {
   "cell_type": "code",
   "execution_count": null,
   "metadata": {},
   "outputs": [],
   "source": [
    "from sklearn.metrics import roc_auc_score\n",
    "from sklearn.metrics import roc_curve\n",
    "\n",
    "def plot_roc_curve(fpr, tpr, label=None):\n",
    "    plt.plot(fpr, tpr, linewidth=2, label=label)\n",
    "    plt.plot([0, 1], [0, 1], 'k--')\n",
    "    plt.axis([-0.1, 1.1, 0.0, 1.1])\n",
    "    plt.xlabel('False Positive Rate', fontsize=16)\n",
    "    plt.ylabel('True Positive Rate', fontsize=16)\n",
    "    plt.hlines(1,-0.1,1.1,colors='r', linestyles='dashed')\n",
    "    plt.vlines(0,0.0,1.1,colors='r', linestyles='dashed')\n",
    "    \n",
    "    \n",
    "\n",
    "fpr_clf_0, tpr_clf_0, thresholds_clf_0 = roc_curve(y_test, y_scores_0)\n",
    "fpr_clf_1, tpr_clf_1, thresholds_clf_1 = roc_curve(y_test, y_scores_1)\n",
    "fpr_clf_2, tpr_clf_2, thresholds_clf_2 = roc_curve(y_test, y_scores_2)\n",
    "plt.figure(figsize=(8, 6))\n",
    "plot_roc_curve(fpr_clf_0, tpr_clf_0, \"LR\")\n",
    "plot_roc_curve(fpr_clf_1, tpr_clf_1, \"Decission Tree\")\n",
    "plot_roc_curve(fpr_clf_2, tpr_clf_2, \"Random Forrest\")\n",
    "plt.legend(loc=\"lower right\", fontsize=16)\n",
    "plt.show()"
   ]
  },
  {
   "cell_type": "code",
   "execution_count": null,
   "metadata": {},
   "outputs": [],
   "source": [
    "#gs.best_estimator_.fit(X_train, y_train)\n",
    "plt.plot(X_test, gs.best_estimator_.predict_proba(X_test).T[1])\n",
    "\n",
    "plt.show()"
   ]
  },
  {
   "cell_type": "code",
   "execution_count": null,
   "metadata": {},
   "outputs": [],
   "source": [
    "#musimy zrobic imputery dla zmiennych numerycznych, kategroycznych i jak cos wymaga specjalnej operacji to funkcji do\n",
    "#tego, wszystko ma się liczyć automatycznie, z posprzataniem danych wlacznie"
   ]
  },
  {
   "cell_type": "code",
   "execution_count": null,
   "metadata": {},
   "outputs": [],
   "source": [
    "#selektor do wybierania kolumn\n",
    "from sklearn.base import BaseEstimator, TransformerMixin\n",
    "\n",
    "# A class to select numerical or categorical columns \n",
    "# since Scikit-Learn doesn't handle DataFrames yet\n",
    "class DataFrameSelector(BaseEstimator, TransformerMixin):\n",
    "    def __init__(self, attribute_names):\n",
    "        self.attribute_names = attribute_names\n",
    "    def fit(self, X, y=None):\n",
    "        return self\n",
    "    def transform(self, X):\n",
    "        return X[self.attribute_names]"
   ]
  },
  {
   "cell_type": "code",
   "execution_count": null,
   "metadata": {},
   "outputs": [],
   "source": [
    "#imputer do przetwarzania zmiennych o popsutym rozkładzie\n",
    "\n",
    "class NormalityImputer(BaseEstimator, TransformerMixin):\n",
    "    def __init__(self, attribute_names):\n",
    "        self.attribute_names = attribute_names\n",
    "        print('init')\n",
    "    def fit(self, X, y=None):\n",
    "        return self\n",
    "    def transform(self, X):\n",
    "        X_copy = X.copy()\n",
    "        for name in self.attribute_names:\n",
    "            print(name)\n",
    "            X_copy.loc[(X_copy[name] == 0), name ] = 0.000001\n",
    "            X_copy[name] = np.log(X_copy[name])\n",
    "        return X_copy"
   ]
  },
  {
   "cell_type": "code",
   "execution_count": null,
   "metadata": {},
   "outputs": [],
   "source": [
    "#imputer dla zmiennych numerycznych\n",
    "from sklearn.pipeline import Pipeline\n",
    "from sklearn.impute import SimpleImputer\n",
    "\n",
    "numeric_features = ['Monthly_Income','Loan_Amount_Applied']\n",
    "\n",
    "\n",
    "num_pipeline = Pipeline([\n",
    "        (\"select_numeric\", PowerImputer(numeric_features)),\n",
    "        #(\"imputer\", SimpleImputer(strategy=\"median\")),\n",
    "    ])"
   ]
  },
  {
   "cell_type": "code",
   "execution_count": null,
   "metadata": {},
   "outputs": [],
   "source": [
    "income_fixed = num_pipeline.fit_transform(X)\n",
    "#income_fixed['Monthly_Income'].describe()\n",
    "income_fixed['Monthly_Income'].describe()"
   ]
  },
  {
   "cell_type": "code",
   "execution_count": null,
   "metadata": {},
   "outputs": [],
   "source": [
    "np.log(0.00001)"
   ]
  },
  {
   "cell_type": "code",
   "execution_count": null,
   "metadata": {},
   "outputs": [],
   "source": [
    "income_fixed['Monthly_Income'].skew()\n",
    "income_fixed['Loan_Tenure_Applied'].skew()"
   ]
  },
  {
   "cell_type": "code",
   "execution_count": null,
   "metadata": {},
   "outputs": [],
   "source": [
    "#rozklad zmiennych\n",
    "plt.figure(figsize=(10,10))\n",
    "plt.hist(income_fixed['Monthly_Income'],bins=100)\n",
    "plt.yscale('log')\n",
    "#plt.xscale('log')"
   ]
  },
  {
   "cell_type": "code",
   "execution_count": null,
   "metadata": {},
   "outputs": [],
   "source": [
    "# Inspired from stackoverflow.com/questions/25239958\n",
    "class MostFrequentImputer(BaseEstimator, TransformerMixin):\n",
    "    def fit(self, X, y=None):\n",
    "        self.most_frequent_ = pd.Series([X[c].value_counts().index[0] for c in X],\n",
    "                                        index=X.columns)\n",
    "        return self\n",
    "    def transform(self, X, y=None):\n",
    "        return X.fillna(self.most_frequent_)"
   ]
  },
  {
   "cell_type": "code",
   "execution_count": null,
   "metadata": {},
   "outputs": [],
   "source": [
    "from sklearn.model_selection import train_test_split\n",
    "X_train, X_test, y_train, y_test = train_test_split(X, y, test_size=0.20, random_state=42)"
   ]
  },
  {
   "cell_type": "code",
   "execution_count": null,
   "metadata": {},
   "outputs": [],
   "source": [
    "from sklearn.model_selection import StratifiedKFold\n",
    "seed=123\n",
    "kfold = StratifiedKFold(n_splits=5, random_state=seed)"
   ]
  },
  {
   "cell_type": "code",
   "execution_count": null,
   "metadata": {},
   "outputs": [],
   "source": [
    "from sklearn.model_selection import GridSearchCV\n",
    "from sklearn.preprocessing import StandardScaler\n",
    "from sklearn.preprocessing import Imputer\n",
    "from sklearn.pipeline import Pipeline\n",
    "from sklearn.svm import SVC\n",
    "\n",
    "pipe = Pipeline([('imputer', Imputer(missing_values='NaN', strategy='mean', axis=0)), \n",
    "                 ('preprocessing', StandardScaler()), \n",
    "                 ('classifier', SVC())])\n",
    "\n",
    "param_grid = {\n",
    "            'imputer__strategy': ['mean', 'median', 'most_frequent'],\n",
    "            'preprocessing': [StandardScaler(), None],\n",
    "            'classifier__gamma': [0.001, 0.01, 0.1, 1, 10, 100],\n",
    "            'classifier__C': [0.001, 0.01, 0.1, 1, 10, 100]\n",
    "}\n",
    "\n",
    "grid_1 = GridSearchCV(pipe, param_grid, cv=kfold, return_train_score=True)\n",
    "\n",
    "grid_1.fit(X_train, y_train)\n",
    "grid_1.best_params_"
   ]
  },
  {
   "cell_type": "code",
   "execution_count": null,
   "metadata": {},
   "outputs": [],
   "source": []
  },
  {
   "cell_type": "code",
   "execution_count": null,
   "metadata": {},
   "outputs": [],
   "source": [
    "#moduelujemy najpierw bez automatycznego preprocessingu - imputerow\n",
    "gs.best_estimator_"
   ]
  },
  {
   "cell_type": "code",
   "execution_count": null,
   "metadata": {},
   "outputs": [],
   "source": [
    "from sklearn import  metrics\n",
    "\n",
    "\n",
    "models = []\n",
    "models.append(('Logistic Regression', best_classifier[0].best_estimator_))\n",
    "models.append(('Random Forrest', best_classifier[1].best_estimator_))\n",
    "#models.append(('SVC RBF', best_classifier[2].best_estimator_))\n",
    "\n",
    "\n",
    "precision_score = []\n",
    "recall_score = []\n",
    "f1_score = []\n",
    "accuracy_score = []\n",
    "roc_auc_score = []\n",
    "for name, model in models:\n",
    "    print(name)\n",
    "    print(\"precision_score: {}\".format(metrics.precision_score(y_test, model.predict(X_test)) ))\n",
    "    print(\"recall_score: {}\".format( metrics.recall_score(y_test, model.predict(X_test)) ))\n",
    "    print(\"f1_score: {}\".format( metrics.f1_score(y_test, model.predict(X_test)) ))\n",
    "    print(\"accuracy_score: {}\".format( metrics.accuracy_score(y_test, model.predict(X_test)) ))\n",
    "    print(\"auc_score: {}\".format( metrics.roc_auc_score(y_test, model.predict(X_test)) ))\n",
    "    precision_score.append(metrics.precision_score(y_test, model.predict(X_test)))\n",
    "    recall_score.append(metrics.recall_score(y_test, model.predict(X_test)))\n",
    "    f1_score.append( metrics.f1_score(y_test, model.predict(X_test)))\n",
    "    accuracy_score.append(metrics.accuracy_score(y_test, model.predict(X_test)))\n",
    "    roc_auc_score.append(metrics.roc_auc_score(y_test, model.predict(X_test)))"
   ]
  },
  {
   "cell_type": "code",
   "execution_count": null,
   "metadata": {},
   "outputs": [],
   "source": [
    "\n",
    "import pandas as pd\n",
    "d = {'precision_score': precision_score, \n",
    "     'recall_score': recall_score, \n",
    "     'f1_score': f1_score,\n",
    "     'accuracy_score' : accuracy_score,\n",
    "     'roc_auc_score' : roc_auc_score\n",
    "    }\n",
    "df = pd.DataFrame(data=d)\n",
    "df.insert(loc=0, column='Method', value=['Logistic Regression','Random Forrest'])\n",
    "df"
   ]
  },
  {
   "cell_type": "code",
   "execution_count": null,
   "metadata": {},
   "outputs": [],
   "source": []
  },
  {
   "cell_type": "code",
   "execution_count": null,
   "metadata": {},
   "outputs": [],
   "source": [
    "# Produce a scatter matrix for each pair of features in the data\n",
    "from pandas.plotting import scatter_matrix\n",
    "scatter_matrix(X, alpha = 0.3, figsize = (50,50), diagonal = 'kde');\n",
    "\n"
   ]
  },
  {
   "cell_type": "code",
   "execution_count": null,
   "metadata": {},
   "outputs": [],
   "source": [
    "import seaborn as sns\n",
    "indices = [52, 70, 77]\n",
    "percentiles_data = X.rank(pct=True)\n",
    "percentiles_samples = percentiles_data.iloc[indices]\n",
    "\n",
    "sns.heatmap(percentiles_samples, annot=True)"
   ]
  },
  {
   "cell_type": "code",
   "execution_count": null,
   "metadata": {},
   "outputs": [],
   "source": [
    "import seaborn as sns\n",
    "plt.figure(figsize=(20,20))\n",
    "dcorr = X.corr()\n",
    "sns.heatmap(dcorr, xticklabels=dcorr.columns,yticklabels=dcorr.columns, square=True, annot=True,cbar=False)"
   ]
  },
  {
   "cell_type": "code",
   "execution_count": null,
   "metadata": {},
   "outputs": [],
   "source": [
    "from joblib import dump, load\n",
    "dt_clf = load('model_1592240498.3423219_.joblib')"
   ]
  },
  {
   "cell_type": "code",
   "execution_count": null,
   "metadata": {},
   "outputs": [],
   "source": [
    "dt_clf.best_estimator_.steps[1][1]"
   ]
  },
  {
   "cell_type": "code",
   "execution_count": null,
   "metadata": {},
   "outputs": [],
   "source": [
    "#feature importance for random forrest\n",
    "def plot_feature_importances(model, data):\n",
    "    n_features = data.shape[1]\n",
    "    plt.barh(range(n_features), model.feature_importances_, align='center')\n",
    "    plt.yticks(np.arange(n_features), X.columns)\n",
    "    plt.xlabel(\"Feature importance\")\n",
    "    plt.ylabel(\"Feature\")\n",
    "    plt.ylim(-1, n_features)\n",
    "\n",
    "plt.figure(figsize=(20, 200))\n",
    "plot_feature_importances(best_classifier[1].best_estimator_.steps[1][1], X)\n",
    "plt.show()"
   ]
  },
  {
   "cell_type": "code",
   "execution_count": null,
   "metadata": {},
   "outputs": [],
   "source": [
    "X.columns"
   ]
  },
  {
   "cell_type": "code",
   "execution_count": null,
   "metadata": {},
   "outputs": [],
   "source": []
  }
 ],
 "metadata": {
  "kernelspec": {
   "display_name": "Python 3",
   "language": "python",
   "name": "python3"
  },
  "language_info": {
   "codemirror_mode": {
    "name": "ipython",
    "version": 3
   },
   "file_extension": ".py",
   "mimetype": "text/x-python",
   "name": "python",
   "nbconvert_exporter": "python",
   "pygments_lexer": "ipython3",
   "version": "3.7.7"
  }
 },
 "nbformat": 4,
 "nbformat_minor": 4
}
